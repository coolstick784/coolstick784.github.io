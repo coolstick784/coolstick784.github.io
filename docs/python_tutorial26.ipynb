{
 "cells": [
  {
   "cell_type": "markdown",
   "id": "7139fae8",
   "metadata": {},
   "source": [
    "## Machine Learning Project"
   ]
  },
  {
   "cell_type": "markdown",
   "id": "8ad59c95",
   "metadata": {},
   "source": [
    "For this project, we'll be taking an online data set and trying to predict whether or not a person is biologically male or female given certain facial features. This data set is available at https://www.kaggle.com/datasets/elakiricoder/gender-classification-dataset "
   ]
  },
  {
   "cell_type": "markdown",
   "id": "239f34cf",
   "metadata": {},
   "source": [
    "First, you'll want to download this data set and save it to your working directory as 'gender_classification_v7.csv'. Then, we can read it in as a pandas data frame called gender_df through the following command:"
   ]
  },
  {
   "cell_type": "code",
   "execution_count": 1,
   "id": "88b5a305",
   "metadata": {},
   "outputs": [],
   "source": [
    "import pandas as pd"
   ]
  },
  {
   "cell_type": "code",
   "execution_count": 186,
   "id": "b0ebd21c",
   "metadata": {},
   "outputs": [],
   "source": [
    "gender_df = pd.read_csv('gender_classification_v7.csv')"
   ]
  },
  {
   "cell_type": "code",
   "execution_count": 187,
   "id": "ecdc9dce",
   "metadata": {},
   "outputs": [
    {
     "data": {
      "text/html": [
       "<div>\n",
       "<style scoped>\n",
       "    .dataframe tbody tr th:only-of-type {\n",
       "        vertical-align: middle;\n",
       "    }\n",
       "\n",
       "    .dataframe tbody tr th {\n",
       "        vertical-align: top;\n",
       "    }\n",
       "\n",
       "    .dataframe thead th {\n",
       "        text-align: right;\n",
       "    }\n",
       "</style>\n",
       "<table border=\"1\" class=\"dataframe\">\n",
       "  <thead>\n",
       "    <tr style=\"text-align: right;\">\n",
       "      <th></th>\n",
       "      <th>long_hair</th>\n",
       "      <th>forehead_width_cm</th>\n",
       "      <th>forehead_height_cm</th>\n",
       "      <th>nose_wide</th>\n",
       "      <th>nose_long</th>\n",
       "      <th>lips_thin</th>\n",
       "      <th>distance_nose_to_lip_long</th>\n",
       "      <th>gender</th>\n",
       "    </tr>\n",
       "  </thead>\n",
       "  <tbody>\n",
       "    <tr>\n",
       "      <th>0</th>\n",
       "      <td>1</td>\n",
       "      <td>11.8</td>\n",
       "      <td>6.1</td>\n",
       "      <td>1</td>\n",
       "      <td>0</td>\n",
       "      <td>1</td>\n",
       "      <td>1</td>\n",
       "      <td>Male</td>\n",
       "    </tr>\n",
       "    <tr>\n",
       "      <th>1</th>\n",
       "      <td>0</td>\n",
       "      <td>14.0</td>\n",
       "      <td>5.4</td>\n",
       "      <td>0</td>\n",
       "      <td>0</td>\n",
       "      <td>1</td>\n",
       "      <td>0</td>\n",
       "      <td>Female</td>\n",
       "    </tr>\n",
       "    <tr>\n",
       "      <th>2</th>\n",
       "      <td>0</td>\n",
       "      <td>11.8</td>\n",
       "      <td>6.3</td>\n",
       "      <td>1</td>\n",
       "      <td>1</td>\n",
       "      <td>1</td>\n",
       "      <td>1</td>\n",
       "      <td>Male</td>\n",
       "    </tr>\n",
       "    <tr>\n",
       "      <th>3</th>\n",
       "      <td>0</td>\n",
       "      <td>14.4</td>\n",
       "      <td>6.1</td>\n",
       "      <td>0</td>\n",
       "      <td>1</td>\n",
       "      <td>1</td>\n",
       "      <td>1</td>\n",
       "      <td>Male</td>\n",
       "    </tr>\n",
       "    <tr>\n",
       "      <th>4</th>\n",
       "      <td>1</td>\n",
       "      <td>13.5</td>\n",
       "      <td>5.9</td>\n",
       "      <td>0</td>\n",
       "      <td>0</td>\n",
       "      <td>0</td>\n",
       "      <td>0</td>\n",
       "      <td>Female</td>\n",
       "    </tr>\n",
       "    <tr>\n",
       "      <th>...</th>\n",
       "      <td>...</td>\n",
       "      <td>...</td>\n",
       "      <td>...</td>\n",
       "      <td>...</td>\n",
       "      <td>...</td>\n",
       "      <td>...</td>\n",
       "      <td>...</td>\n",
       "      <td>...</td>\n",
       "    </tr>\n",
       "    <tr>\n",
       "      <th>4996</th>\n",
       "      <td>1</td>\n",
       "      <td>13.6</td>\n",
       "      <td>5.1</td>\n",
       "      <td>0</td>\n",
       "      <td>0</td>\n",
       "      <td>0</td>\n",
       "      <td>0</td>\n",
       "      <td>Female</td>\n",
       "    </tr>\n",
       "    <tr>\n",
       "      <th>4997</th>\n",
       "      <td>1</td>\n",
       "      <td>11.9</td>\n",
       "      <td>5.4</td>\n",
       "      <td>0</td>\n",
       "      <td>0</td>\n",
       "      <td>0</td>\n",
       "      <td>0</td>\n",
       "      <td>Female</td>\n",
       "    </tr>\n",
       "    <tr>\n",
       "      <th>4998</th>\n",
       "      <td>1</td>\n",
       "      <td>12.9</td>\n",
       "      <td>5.7</td>\n",
       "      <td>0</td>\n",
       "      <td>0</td>\n",
       "      <td>0</td>\n",
       "      <td>0</td>\n",
       "      <td>Female</td>\n",
       "    </tr>\n",
       "    <tr>\n",
       "      <th>4999</th>\n",
       "      <td>1</td>\n",
       "      <td>13.2</td>\n",
       "      <td>6.2</td>\n",
       "      <td>0</td>\n",
       "      <td>0</td>\n",
       "      <td>0</td>\n",
       "      <td>0</td>\n",
       "      <td>Female</td>\n",
       "    </tr>\n",
       "    <tr>\n",
       "      <th>5000</th>\n",
       "      <td>1</td>\n",
       "      <td>15.4</td>\n",
       "      <td>5.4</td>\n",
       "      <td>1</td>\n",
       "      <td>1</td>\n",
       "      <td>1</td>\n",
       "      <td>1</td>\n",
       "      <td>Male</td>\n",
       "    </tr>\n",
       "  </tbody>\n",
       "</table>\n",
       "<p>5001 rows × 8 columns</p>\n",
       "</div>"
      ],
      "text/plain": [
       "      long_hair  forehead_width_cm  forehead_height_cm  nose_wide  nose_long  \\\n",
       "0             1               11.8                 6.1          1          0   \n",
       "1             0               14.0                 5.4          0          0   \n",
       "2             0               11.8                 6.3          1          1   \n",
       "3             0               14.4                 6.1          0          1   \n",
       "4             1               13.5                 5.9          0          0   \n",
       "...         ...                ...                 ...        ...        ...   \n",
       "4996          1               13.6                 5.1          0          0   \n",
       "4997          1               11.9                 5.4          0          0   \n",
       "4998          1               12.9                 5.7          0          0   \n",
       "4999          1               13.2                 6.2          0          0   \n",
       "5000          1               15.4                 5.4          1          1   \n",
       "\n",
       "      lips_thin  distance_nose_to_lip_long  gender  \n",
       "0             1                          1    Male  \n",
       "1             1                          0  Female  \n",
       "2             1                          1    Male  \n",
       "3             1                          1    Male  \n",
       "4             0                          0  Female  \n",
       "...         ...                        ...     ...  \n",
       "4996          0                          0  Female  \n",
       "4997          0                          0  Female  \n",
       "4998          0                          0  Female  \n",
       "4999          0                          0  Female  \n",
       "5000          1                          1    Male  \n",
       "\n",
       "[5001 rows x 8 columns]"
      ]
     },
     "execution_count": 187,
     "metadata": {},
     "output_type": "execute_result"
    }
   ],
   "source": [
    "gender_df"
   ]
  },
  {
   "cell_type": "markdown",
   "id": "2519bc98",
   "metadata": {},
   "source": [
    "Great! Now, in order for Python to be able to read this a little easier, we can convert gender to a number. To do this, we can enter the following command:"
   ]
  },
  {
   "cell_type": "code",
   "execution_count": 188,
   "id": "fc85a04d",
   "metadata": {},
   "outputs": [],
   "source": [
    "gender_df['gender_num'] = [0 if gender == \"Female\" else 1 for gender in gender_df['gender']]"
   ]
  },
  {
   "cell_type": "markdown",
   "id": "244047b5",
   "metadata": {},
   "source": [
    "What this does is first assigns the output to a column in gender_df called gender_num.\n",
    "\n",
    "Next, it states that for each gender in gender_df\\['gender'], if it is female, we assign the corresponding value in gender_num to be 0. Otherwise, we assign it to be 1 (the \"else 1\" does this)"
   ]
  },
  {
   "cell_type": "code",
   "execution_count": 189,
   "id": "d6c9f9d6",
   "metadata": {
    "scrolled": true
   },
   "outputs": [
    {
     "data": {
      "text/html": [
       "<div>\n",
       "<style scoped>\n",
       "    .dataframe tbody tr th:only-of-type {\n",
       "        vertical-align: middle;\n",
       "    }\n",
       "\n",
       "    .dataframe tbody tr th {\n",
       "        vertical-align: top;\n",
       "    }\n",
       "\n",
       "    .dataframe thead th {\n",
       "        text-align: right;\n",
       "    }\n",
       "</style>\n",
       "<table border=\"1\" class=\"dataframe\">\n",
       "  <thead>\n",
       "    <tr style=\"text-align: right;\">\n",
       "      <th></th>\n",
       "      <th>long_hair</th>\n",
       "      <th>forehead_width_cm</th>\n",
       "      <th>forehead_height_cm</th>\n",
       "      <th>nose_wide</th>\n",
       "      <th>nose_long</th>\n",
       "      <th>lips_thin</th>\n",
       "      <th>distance_nose_to_lip_long</th>\n",
       "      <th>gender</th>\n",
       "      <th>gender_num</th>\n",
       "    </tr>\n",
       "  </thead>\n",
       "  <tbody>\n",
       "    <tr>\n",
       "      <th>0</th>\n",
       "      <td>1</td>\n",
       "      <td>11.8</td>\n",
       "      <td>6.1</td>\n",
       "      <td>1</td>\n",
       "      <td>0</td>\n",
       "      <td>1</td>\n",
       "      <td>1</td>\n",
       "      <td>Male</td>\n",
       "      <td>1</td>\n",
       "    </tr>\n",
       "    <tr>\n",
       "      <th>1</th>\n",
       "      <td>0</td>\n",
       "      <td>14.0</td>\n",
       "      <td>5.4</td>\n",
       "      <td>0</td>\n",
       "      <td>0</td>\n",
       "      <td>1</td>\n",
       "      <td>0</td>\n",
       "      <td>Female</td>\n",
       "      <td>0</td>\n",
       "    </tr>\n",
       "    <tr>\n",
       "      <th>2</th>\n",
       "      <td>0</td>\n",
       "      <td>11.8</td>\n",
       "      <td>6.3</td>\n",
       "      <td>1</td>\n",
       "      <td>1</td>\n",
       "      <td>1</td>\n",
       "      <td>1</td>\n",
       "      <td>Male</td>\n",
       "      <td>1</td>\n",
       "    </tr>\n",
       "    <tr>\n",
       "      <th>3</th>\n",
       "      <td>0</td>\n",
       "      <td>14.4</td>\n",
       "      <td>6.1</td>\n",
       "      <td>0</td>\n",
       "      <td>1</td>\n",
       "      <td>1</td>\n",
       "      <td>1</td>\n",
       "      <td>Male</td>\n",
       "      <td>1</td>\n",
       "    </tr>\n",
       "    <tr>\n",
       "      <th>4</th>\n",
       "      <td>1</td>\n",
       "      <td>13.5</td>\n",
       "      <td>5.9</td>\n",
       "      <td>0</td>\n",
       "      <td>0</td>\n",
       "      <td>0</td>\n",
       "      <td>0</td>\n",
       "      <td>Female</td>\n",
       "      <td>0</td>\n",
       "    </tr>\n",
       "    <tr>\n",
       "      <th>...</th>\n",
       "      <td>...</td>\n",
       "      <td>...</td>\n",
       "      <td>...</td>\n",
       "      <td>...</td>\n",
       "      <td>...</td>\n",
       "      <td>...</td>\n",
       "      <td>...</td>\n",
       "      <td>...</td>\n",
       "      <td>...</td>\n",
       "    </tr>\n",
       "    <tr>\n",
       "      <th>4996</th>\n",
       "      <td>1</td>\n",
       "      <td>13.6</td>\n",
       "      <td>5.1</td>\n",
       "      <td>0</td>\n",
       "      <td>0</td>\n",
       "      <td>0</td>\n",
       "      <td>0</td>\n",
       "      <td>Female</td>\n",
       "      <td>0</td>\n",
       "    </tr>\n",
       "    <tr>\n",
       "      <th>4997</th>\n",
       "      <td>1</td>\n",
       "      <td>11.9</td>\n",
       "      <td>5.4</td>\n",
       "      <td>0</td>\n",
       "      <td>0</td>\n",
       "      <td>0</td>\n",
       "      <td>0</td>\n",
       "      <td>Female</td>\n",
       "      <td>0</td>\n",
       "    </tr>\n",
       "    <tr>\n",
       "      <th>4998</th>\n",
       "      <td>1</td>\n",
       "      <td>12.9</td>\n",
       "      <td>5.7</td>\n",
       "      <td>0</td>\n",
       "      <td>0</td>\n",
       "      <td>0</td>\n",
       "      <td>0</td>\n",
       "      <td>Female</td>\n",
       "      <td>0</td>\n",
       "    </tr>\n",
       "    <tr>\n",
       "      <th>4999</th>\n",
       "      <td>1</td>\n",
       "      <td>13.2</td>\n",
       "      <td>6.2</td>\n",
       "      <td>0</td>\n",
       "      <td>0</td>\n",
       "      <td>0</td>\n",
       "      <td>0</td>\n",
       "      <td>Female</td>\n",
       "      <td>0</td>\n",
       "    </tr>\n",
       "    <tr>\n",
       "      <th>5000</th>\n",
       "      <td>1</td>\n",
       "      <td>15.4</td>\n",
       "      <td>5.4</td>\n",
       "      <td>1</td>\n",
       "      <td>1</td>\n",
       "      <td>1</td>\n",
       "      <td>1</td>\n",
       "      <td>Male</td>\n",
       "      <td>1</td>\n",
       "    </tr>\n",
       "  </tbody>\n",
       "</table>\n",
       "<p>5001 rows × 9 columns</p>\n",
       "</div>"
      ],
      "text/plain": [
       "      long_hair  forehead_width_cm  forehead_height_cm  nose_wide  nose_long  \\\n",
       "0             1               11.8                 6.1          1          0   \n",
       "1             0               14.0                 5.4          0          0   \n",
       "2             0               11.8                 6.3          1          1   \n",
       "3             0               14.4                 6.1          0          1   \n",
       "4             1               13.5                 5.9          0          0   \n",
       "...         ...                ...                 ...        ...        ...   \n",
       "4996          1               13.6                 5.1          0          0   \n",
       "4997          1               11.9                 5.4          0          0   \n",
       "4998          1               12.9                 5.7          0          0   \n",
       "4999          1               13.2                 6.2          0          0   \n",
       "5000          1               15.4                 5.4          1          1   \n",
       "\n",
       "      lips_thin  distance_nose_to_lip_long  gender  gender_num  \n",
       "0             1                          1    Male           1  \n",
       "1             1                          0  Female           0  \n",
       "2             1                          1    Male           1  \n",
       "3             1                          1    Male           1  \n",
       "4             0                          0  Female           0  \n",
       "...         ...                        ...     ...         ...  \n",
       "4996          0                          0  Female           0  \n",
       "4997          0                          0  Female           0  \n",
       "4998          0                          0  Female           0  \n",
       "4999          0                          0  Female           0  \n",
       "5000          1                          1    Male           1  \n",
       "\n",
       "[5001 rows x 9 columns]"
      ]
     },
     "execution_count": 189,
     "metadata": {},
     "output_type": "execute_result"
    }
   ],
   "source": [
    "gender_df"
   ]
  },
  {
   "cell_type": "markdown",
   "id": "19140c28",
   "metadata": {},
   "source": [
    "Next, to train the model, we'll want to install and import the following two packages and modules."
   ]
  },
  {
   "cell_type": "code",
   "execution_count": 190,
   "id": "afc3de4a",
   "metadata": {},
   "outputs": [
    {
     "name": "stdout",
     "output_type": "stream",
     "text": [
      "Requirement already satisfied: numpy in ./opt/anaconda3/lib/python3.9/site-packages (1.21.5)\n",
      "Requirement already satisfied: scikit-learn in ./opt/anaconda3/lib/python3.9/site-packages (1.0.2)\n",
      "Requirement already satisfied: threadpoolctl>=2.0.0 in ./opt/anaconda3/lib/python3.9/site-packages (from scikit-learn) (2.2.0)\n",
      "Requirement already satisfied: scipy>=1.1.0 in ./opt/anaconda3/lib/python3.9/site-packages (from scikit-learn) (1.7.3)\n",
      "Requirement already satisfied: numpy>=1.14.6 in ./opt/anaconda3/lib/python3.9/site-packages (from scikit-learn) (1.21.5)\n",
      "Requirement already satisfied: joblib>=0.11 in ./opt/anaconda3/lib/python3.9/site-packages (from scikit-learn) (1.1.0)\n"
     ]
    }
   ],
   "source": [
    "!pip install numpy\n",
    "!pip install scikit-learn"
   ]
  },
  {
   "cell_type": "markdown",
   "id": "e1807f57",
   "metadata": {},
   "source": [
    "We'll use numpy to convert our data set into an array, and train_test_split to split our data into training and testing sets. This is important because we are utilizing a process called supervised learning.\n",
    "\n",
    "Supervised learning is giving the computer data that tells it what's right and what's wrong, and based on that data, it asks it to predict new data. Training data is the data that tells the computer what to do, and testing data contains the computer's predictions. Based on its predictions, we can tell how accurate the model is, and deem whether or not it is good enough to predict new data not in the data set."
   ]
  },
  {
   "cell_type": "code",
   "execution_count": 191,
   "id": "5e7e1f04",
   "metadata": {},
   "outputs": [],
   "source": [
    "import numpy as np\n",
    "from sklearn.model_selection import train_test_split"
   ]
  },
  {
   "cell_type": "code",
   "execution_count": 192,
   "id": "3e738438",
   "metadata": {},
   "outputs": [
    {
     "data": {
      "text/html": [
       "<div>\n",
       "<style scoped>\n",
       "    .dataframe tbody tr th:only-of-type {\n",
       "        vertical-align: middle;\n",
       "    }\n",
       "\n",
       "    .dataframe tbody tr th {\n",
       "        vertical-align: top;\n",
       "    }\n",
       "\n",
       "    .dataframe thead th {\n",
       "        text-align: right;\n",
       "    }\n",
       "</style>\n",
       "<table border=\"1\" class=\"dataframe\">\n",
       "  <thead>\n",
       "    <tr style=\"text-align: right;\">\n",
       "      <th></th>\n",
       "      <th>long_hair</th>\n",
       "      <th>forehead_width_cm</th>\n",
       "      <th>forehead_height_cm</th>\n",
       "      <th>nose_wide</th>\n",
       "      <th>nose_long</th>\n",
       "      <th>lips_thin</th>\n",
       "      <th>distance_nose_to_lip_long</th>\n",
       "      <th>gender</th>\n",
       "      <th>gender_num</th>\n",
       "    </tr>\n",
       "  </thead>\n",
       "  <tbody>\n",
       "    <tr>\n",
       "      <th>0</th>\n",
       "      <td>1</td>\n",
       "      <td>11.8</td>\n",
       "      <td>6.1</td>\n",
       "      <td>1</td>\n",
       "      <td>0</td>\n",
       "      <td>1</td>\n",
       "      <td>1</td>\n",
       "      <td>Male</td>\n",
       "      <td>1</td>\n",
       "    </tr>\n",
       "    <tr>\n",
       "      <th>1</th>\n",
       "      <td>0</td>\n",
       "      <td>14.0</td>\n",
       "      <td>5.4</td>\n",
       "      <td>0</td>\n",
       "      <td>0</td>\n",
       "      <td>1</td>\n",
       "      <td>0</td>\n",
       "      <td>Female</td>\n",
       "      <td>0</td>\n",
       "    </tr>\n",
       "    <tr>\n",
       "      <th>2</th>\n",
       "      <td>0</td>\n",
       "      <td>11.8</td>\n",
       "      <td>6.3</td>\n",
       "      <td>1</td>\n",
       "      <td>1</td>\n",
       "      <td>1</td>\n",
       "      <td>1</td>\n",
       "      <td>Male</td>\n",
       "      <td>1</td>\n",
       "    </tr>\n",
       "    <tr>\n",
       "      <th>3</th>\n",
       "      <td>0</td>\n",
       "      <td>14.4</td>\n",
       "      <td>6.1</td>\n",
       "      <td>0</td>\n",
       "      <td>1</td>\n",
       "      <td>1</td>\n",
       "      <td>1</td>\n",
       "      <td>Male</td>\n",
       "      <td>1</td>\n",
       "    </tr>\n",
       "    <tr>\n",
       "      <th>4</th>\n",
       "      <td>1</td>\n",
       "      <td>13.5</td>\n",
       "      <td>5.9</td>\n",
       "      <td>0</td>\n",
       "      <td>0</td>\n",
       "      <td>0</td>\n",
       "      <td>0</td>\n",
       "      <td>Female</td>\n",
       "      <td>0</td>\n",
       "    </tr>\n",
       "    <tr>\n",
       "      <th>...</th>\n",
       "      <td>...</td>\n",
       "      <td>...</td>\n",
       "      <td>...</td>\n",
       "      <td>...</td>\n",
       "      <td>...</td>\n",
       "      <td>...</td>\n",
       "      <td>...</td>\n",
       "      <td>...</td>\n",
       "      <td>...</td>\n",
       "    </tr>\n",
       "    <tr>\n",
       "      <th>4996</th>\n",
       "      <td>1</td>\n",
       "      <td>13.6</td>\n",
       "      <td>5.1</td>\n",
       "      <td>0</td>\n",
       "      <td>0</td>\n",
       "      <td>0</td>\n",
       "      <td>0</td>\n",
       "      <td>Female</td>\n",
       "      <td>0</td>\n",
       "    </tr>\n",
       "    <tr>\n",
       "      <th>4997</th>\n",
       "      <td>1</td>\n",
       "      <td>11.9</td>\n",
       "      <td>5.4</td>\n",
       "      <td>0</td>\n",
       "      <td>0</td>\n",
       "      <td>0</td>\n",
       "      <td>0</td>\n",
       "      <td>Female</td>\n",
       "      <td>0</td>\n",
       "    </tr>\n",
       "    <tr>\n",
       "      <th>4998</th>\n",
       "      <td>1</td>\n",
       "      <td>12.9</td>\n",
       "      <td>5.7</td>\n",
       "      <td>0</td>\n",
       "      <td>0</td>\n",
       "      <td>0</td>\n",
       "      <td>0</td>\n",
       "      <td>Female</td>\n",
       "      <td>0</td>\n",
       "    </tr>\n",
       "    <tr>\n",
       "      <th>4999</th>\n",
       "      <td>1</td>\n",
       "      <td>13.2</td>\n",
       "      <td>6.2</td>\n",
       "      <td>0</td>\n",
       "      <td>0</td>\n",
       "      <td>0</td>\n",
       "      <td>0</td>\n",
       "      <td>Female</td>\n",
       "      <td>0</td>\n",
       "    </tr>\n",
       "    <tr>\n",
       "      <th>5000</th>\n",
       "      <td>1</td>\n",
       "      <td>15.4</td>\n",
       "      <td>5.4</td>\n",
       "      <td>1</td>\n",
       "      <td>1</td>\n",
       "      <td>1</td>\n",
       "      <td>1</td>\n",
       "      <td>Male</td>\n",
       "      <td>1</td>\n",
       "    </tr>\n",
       "  </tbody>\n",
       "</table>\n",
       "<p>5001 rows × 9 columns</p>\n",
       "</div>"
      ],
      "text/plain": [
       "      long_hair  forehead_width_cm  forehead_height_cm  nose_wide  nose_long  \\\n",
       "0             1               11.8                 6.1          1          0   \n",
       "1             0               14.0                 5.4          0          0   \n",
       "2             0               11.8                 6.3          1          1   \n",
       "3             0               14.4                 6.1          0          1   \n",
       "4             1               13.5                 5.9          0          0   \n",
       "...         ...                ...                 ...        ...        ...   \n",
       "4996          1               13.6                 5.1          0          0   \n",
       "4997          1               11.9                 5.4          0          0   \n",
       "4998          1               12.9                 5.7          0          0   \n",
       "4999          1               13.2                 6.2          0          0   \n",
       "5000          1               15.4                 5.4          1          1   \n",
       "\n",
       "      lips_thin  distance_nose_to_lip_long  gender  gender_num  \n",
       "0             1                          1    Male           1  \n",
       "1             1                          0  Female           0  \n",
       "2             1                          1    Male           1  \n",
       "3             1                          1    Male           1  \n",
       "4             0                          0  Female           0  \n",
       "...         ...                        ...     ...         ...  \n",
       "4996          0                          0  Female           0  \n",
       "4997          0                          0  Female           0  \n",
       "4998          0                          0  Female           0  \n",
       "4999          0                          0  Female           0  \n",
       "5000          1                          1    Male           1  \n",
       "\n",
       "[5001 rows x 9 columns]"
      ]
     },
     "execution_count": 192,
     "metadata": {},
     "output_type": "execute_result"
    }
   ],
   "source": [
    "gender_df"
   ]
  },
  {
   "cell_type": "markdown",
   "id": "c38af752",
   "metadata": {},
   "source": [
    "First, we'll want to split our data set into predictors and response. Our response is gender_num and our predictors are everything except gender and gender_num\n",
    "\n",
    "We can convert our predictors and responses to arrays with the np.array command. Note that when we are selecting multiple columns from a data frame, we'll want to include double brackets."
   ]
  },
  {
   "cell_type": "code",
   "execution_count": 193,
   "id": "c3f41ae8",
   "metadata": {},
   "outputs": [],
   "source": [
    "x = np.array(gender_df[['long_hair', 'forehead_width_cm', 'forehead_height_cm', 'nose_wide', 'nose_long',\n",
    "                 'lips_thin', 'distance_nose_to_lip_long']])"
   ]
  },
  {
   "cell_type": "code",
   "execution_count": 194,
   "id": "a605f17e",
   "metadata": {},
   "outputs": [],
   "source": [
    "y = np.array(gender_df['gender_num'])"
   ]
  },
  {
   "cell_type": "markdown",
   "id": "5195d44a",
   "metadata": {},
   "source": [
    "Next, we can use the train_test_split function to split our data set up. Based on the x and y arrays, this splits it up into 4 variables. X_train and y_train contain the training set, and X_test and y_test contain the testing test. The test_size is 0.2, or 20% of our data, and random_state=42 just means that we have a different seed for randomization, enabling more consistent results."
   ]
  },
  {
   "cell_type": "code",
   "execution_count": 195,
   "id": "c670f656",
   "metadata": {},
   "outputs": [],
   "source": [
    "X_train, X_test, y_train, y_test = train_test_split(x, y, test_size=0.2, random_state=42)"
   ]
  },
  {
   "cell_type": "markdown",
   "id": "5f91c726",
   "metadata": {},
   "source": [
    "After that, we'll want to import tree from sklearn to train a decision tree. \n",
    "\n",
    "A decision tree uses a tree structure to determine the response. For example, it could say \"if someone has long hair and brown eyes, they are a woman\". We will visualize this later, so don't worry if you don't fully understand it now!"
   ]
  },
  {
   "cell_type": "code",
   "execution_count": 196,
   "id": "b210b114",
   "metadata": {},
   "outputs": [],
   "source": [
    "from sklearn import tree"
   ]
  },
  {
   "cell_type": "markdown",
   "id": "bb78147d",
   "metadata": {},
   "source": [
    "We will want to set a variable with a name of our choice (in this case, clf) to a decision tree classifier to tell Python we want to use a decision tree. A decision tree is made up of a bunch of if statements -- for example, from our previous example of \"if someone has long hair and brown eyes, they are a woman\", there are 2 conditions for being a woman, with a depth of 2. Here, we can specify max_depth to be 3 to make this easier to visualize. \n",
    "\n",
    "We then fit this model on our training data"
   ]
  },
  {
   "cell_type": "code",
   "execution_count": 197,
   "id": "3440ed05",
   "metadata": {},
   "outputs": [],
   "source": [
    "clf = tree.DecisionTreeClassifier(max_depth = 3, random_state=42)\n",
    "clf = clf.fit(X_train, y_train)"
   ]
  },
  {
   "cell_type": "markdown",
   "id": "7a821583",
   "metadata": {},
   "source": [
    "Next, we can define the feature names (predictors) and class names (responses) to tell Python the names of the predictors and responses. Note that for class names, they are the names of each group of the response (male and female), not the name of the response itself (gender_num)"
   ]
  },
  {
   "cell_type": "code",
   "execution_count": 198,
   "id": "02cd4ab6",
   "metadata": {},
   "outputs": [],
   "source": [
    "feature_names = ['long_hair', 'forehead_width_cm', 'forehead_height_cm', 'nose_wide', 'nose_long',\n",
    "                 'lips_thin', 'distance_nose_to_lip_long']\n",
    "class_names = ['Female', 'Male']"
   ]
  },
  {
   "cell_type": "markdown",
   "id": "41a1e800",
   "metadata": {},
   "source": [
    "Using the export_text function imported from sklearn.tree, we can print our the tree rules. We can see, for example, that if distance_nose_to_lip_long <= 0.5 (meaning that if the distance from the subject's nose to lip is short), nose_wide <= 0.5 (the subject's nose is not wide), and forehead_width_cm <= 14.35 (the width of the subject's forehead, in cm, is <= 14.35), we predict that the subject is a woman."
   ]
  },
  {
   "cell_type": "code",
   "execution_count": 199,
   "id": "8a20a09a",
   "metadata": {},
   "outputs": [
    {
     "name": "stdout",
     "output_type": "stream",
     "text": [
      "|--- distance_nose_to_lip_long <= 0.50\n",
      "|   |--- nose_wide <= 0.50\n",
      "|   |   |--- forehead_width_cm <= 14.35\n",
      "|   |   |   |--- class: 0\n",
      "|   |   |--- forehead_width_cm >  14.35\n",
      "|   |   |   |--- class: 1\n",
      "|   |--- nose_wide >  0.50\n",
      "|   |   |--- nose_long <= 0.50\n",
      "|   |   |   |--- class: 0\n",
      "|   |   |--- nose_long >  0.50\n",
      "|   |   |   |--- class: 1\n",
      "|--- distance_nose_to_lip_long >  0.50\n",
      "|   |--- nose_wide <= 0.50\n",
      "|   |   |--- lips_thin <= 0.50\n",
      "|   |   |   |--- class: 0\n",
      "|   |   |--- lips_thin >  0.50\n",
      "|   |   |   |--- class: 1\n",
      "|   |--- nose_wide >  0.50\n",
      "|   |   |--- nose_long <= 0.50\n",
      "|   |   |   |--- class: 1\n",
      "|   |   |--- nose_long >  0.50\n",
      "|   |   |   |--- class: 1\n",
      "\n"
     ]
    }
   ],
   "source": [
    "#import relevant functions\n",
    "from sklearn.tree import export_text\n",
    "#export the decision rules\n",
    "tree_rules = export_text(clf,\n",
    "                        feature_names = list(feature_names),\n",
    "                        )\n",
    "#print the result\n",
    "print(tree_rules)"
   ]
  },
  {
   "cell_type": "markdown",
   "id": "28003d06",
   "metadata": {},
   "source": [
    "To visualize this as a graph, we can import the graphviz package"
   ]
  },
  {
   "cell_type": "code",
   "execution_count": 200,
   "id": "b46783db",
   "metadata": {},
   "outputs": [],
   "source": [
    "import graphviz "
   ]
  },
  {
   "cell_type": "markdown",
   "id": "a1b807ec",
   "metadata": {},
   "source": [
    "First, we'll want to define the data. We are using the clf model, with no file to save the graph to. The feature and class names have been defined. filled=True colors the boxed in and rounded=True makes the corners of the boxes round, "
   ]
  },
  {
   "cell_type": "code",
   "execution_count": 201,
   "id": "a97b1c4e",
   "metadata": {},
   "outputs": [
    {
     "data": {
      "image/svg+xml": [
       "<?xml version=\"1.0\" encoding=\"UTF-8\" standalone=\"no\"?>\n",
       "<!DOCTYPE svg PUBLIC \"-//W3C//DTD SVG 1.1//EN\"\n",
       " \"http://www.w3.org/Graphics/SVG/1.1/DTD/svg11.dtd\">\n",
       "<!-- Generated by graphviz version 7.1.0 (20230121.1956)\n",
       " -->\n",
       "<!-- Title: Tree Pages: 1 -->\n",
       "<svg width=\"1064pt\" height=\"433pt\"\n",
       " viewBox=\"0.00 0.00 1064.00 433.00\" xmlns=\"http://www.w3.org/2000/svg\" xmlns:xlink=\"http://www.w3.org/1999/xlink\">\n",
       "<g id=\"graph0\" class=\"graph\" transform=\"scale(1 1) rotate(0) translate(4 429)\">\n",
       "<title>Tree</title>\n",
       "<polygon fill=\"white\" stroke=\"none\" points=\"-4,4 -4,-429 1060,-429 1060,4 -4,4\"/>\n",
       "<!-- 0 -->\n",
       "<g id=\"node1\" class=\"node\">\n",
       "<title>0</title>\n",
       "<path fill=\"#ffffff\" stroke=\"black\" d=\"M614,-425C614,-425 419,-425 419,-425 413,-425 407,-419 407,-413 407,-413 407,-354 407,-354 407,-348 413,-342 419,-342 419,-342 614,-342 614,-342 620,-342 626,-348 626,-354 626,-354 626,-413 626,-413 626,-419 620,-425 614,-425\"/>\n",
       "<text text-anchor=\"middle\" x=\"516.5\" y=\"-409.8\" font-family=\"Helvetica,sans-Serif\" font-size=\"14.00\">distance_nose_to_lip_long &lt;= 0.5</text>\n",
       "<text text-anchor=\"middle\" x=\"516.5\" y=\"-394.8\" font-family=\"Helvetica,sans-Serif\" font-size=\"14.00\">gini = 0.5</text>\n",
       "<text text-anchor=\"middle\" x=\"516.5\" y=\"-379.8\" font-family=\"Helvetica,sans-Serif\" font-size=\"14.00\">samples = 4000</text>\n",
       "<text text-anchor=\"middle\" x=\"516.5\" y=\"-364.8\" font-family=\"Helvetica,sans-Serif\" font-size=\"14.00\">value = [1999, 2001]</text>\n",
       "<text text-anchor=\"middle\" x=\"516.5\" y=\"-349.8\" font-family=\"Helvetica,sans-Serif\" font-size=\"14.00\">class = Male</text>\n",
       "</g>\n",
       "<!-- 1 -->\n",
       "<g id=\"node2\" class=\"node\">\n",
       "<title>1</title>\n",
       "<path fill=\"#e89153\" stroke=\"black\" d=\"M460.5,-306C460.5,-306 352.5,-306 352.5,-306 346.5,-306 340.5,-300 340.5,-294 340.5,-294 340.5,-235 340.5,-235 340.5,-229 346.5,-223 352.5,-223 352.5,-223 460.5,-223 460.5,-223 466.5,-223 472.5,-229 472.5,-235 472.5,-235 472.5,-294 472.5,-294 472.5,-300 466.5,-306 460.5,-306\"/>\n",
       "<text text-anchor=\"middle\" x=\"406.5\" y=\"-290.8\" font-family=\"Helvetica,sans-Serif\" font-size=\"14.00\">nose_wide &lt;= 0.5</text>\n",
       "<text text-anchor=\"middle\" x=\"406.5\" y=\"-275.8\" font-family=\"Helvetica,sans-Serif\" font-size=\"14.00\">gini = 0.203</text>\n",
       "<text text-anchor=\"middle\" x=\"406.5\" y=\"-260.8\" font-family=\"Helvetica,sans-Serif\" font-size=\"14.00\">samples = 1993</text>\n",
       "<text text-anchor=\"middle\" x=\"406.5\" y=\"-245.8\" font-family=\"Helvetica,sans-Serif\" font-size=\"14.00\">value = [1764, 229]</text>\n",
       "<text text-anchor=\"middle\" x=\"406.5\" y=\"-230.8\" font-family=\"Helvetica,sans-Serif\" font-size=\"14.00\">class = Female</text>\n",
       "</g>\n",
       "<!-- 0&#45;&gt;1 -->\n",
       "<g id=\"edge1\" class=\"edge\">\n",
       "<title>0&#45;&gt;1</title>\n",
       "<path fill=\"none\" stroke=\"black\" d=\"M478.03,-341.58C469.77,-332.8 460.97,-323.44 452.47,-314.39\"/>\n",
       "<polygon fill=\"black\" stroke=\"black\" points=\"455.2,-312.19 445.8,-307.3 450.1,-316.99 455.2,-312.19\"/>\n",
       "<text text-anchor=\"middle\" x=\"443.99\" y=\"-327.49\" font-family=\"Helvetica,sans-Serif\" font-size=\"14.00\">True</text>\n",
       "</g>\n",
       "<!-- 8 -->\n",
       "<g id=\"node9\" class=\"node\">\n",
       "<title>8</title>\n",
       "<path fill=\"#53aae8\" stroke=\"black\" d=\"M709.5,-306C709.5,-306 601.5,-306 601.5,-306 595.5,-306 589.5,-300 589.5,-294 589.5,-294 589.5,-235 589.5,-235 589.5,-229 595.5,-223 601.5,-223 601.5,-223 709.5,-223 709.5,-223 715.5,-223 721.5,-229 721.5,-235 721.5,-235 721.5,-294 721.5,-294 721.5,-300 715.5,-306 709.5,-306\"/>\n",
       "<text text-anchor=\"middle\" x=\"655.5\" y=\"-290.8\" font-family=\"Helvetica,sans-Serif\" font-size=\"14.00\">nose_wide &lt;= 0.5</text>\n",
       "<text text-anchor=\"middle\" x=\"655.5\" y=\"-275.8\" font-family=\"Helvetica,sans-Serif\" font-size=\"14.00\">gini = 0.207</text>\n",
       "<text text-anchor=\"middle\" x=\"655.5\" y=\"-260.8\" font-family=\"Helvetica,sans-Serif\" font-size=\"14.00\">samples = 2007</text>\n",
       "<text text-anchor=\"middle\" x=\"655.5\" y=\"-245.8\" font-family=\"Helvetica,sans-Serif\" font-size=\"14.00\">value = [235, 1772]</text>\n",
       "<text text-anchor=\"middle\" x=\"655.5\" y=\"-230.8\" font-family=\"Helvetica,sans-Serif\" font-size=\"14.00\">class = Male</text>\n",
       "</g>\n",
       "<!-- 0&#45;&gt;8 -->\n",
       "<g id=\"edge8\" class=\"edge\">\n",
       "<title>0&#45;&gt;8</title>\n",
       "<path fill=\"none\" stroke=\"black\" d=\"M565.12,-341.58C575.86,-332.53 587.35,-322.87 598.4,-313.56\"/>\n",
       "<polygon fill=\"black\" stroke=\"black\" points=\"600.59,-316.29 605.99,-307.17 596.08,-310.94 600.59,-316.29\"/>\n",
       "<text text-anchor=\"middle\" x=\"605.01\" y=\"-327.41\" font-family=\"Helvetica,sans-Serif\" font-size=\"14.00\">False</text>\n",
       "</g>\n",
       "<!-- 2 -->\n",
       "<g id=\"node3\" class=\"node\">\n",
       "<title>2</title>\n",
       "<path fill=\"#e5833d\" stroke=\"black\" d=\"M279,-187C279,-187 110,-187 110,-187 104,-187 98,-181 98,-175 98,-175 98,-116 98,-116 98,-110 104,-104 110,-104 110,-104 279,-104 279,-104 285,-104 291,-110 291,-116 291,-116 291,-175 291,-175 291,-181 285,-187 279,-187\"/>\n",
       "<text text-anchor=\"middle\" x=\"194.5\" y=\"-171.8\" font-family=\"Helvetica,sans-Serif\" font-size=\"14.00\">forehead_width_cm &lt;= 14.35</text>\n",
       "<text text-anchor=\"middle\" x=\"194.5\" y=\"-156.8\" font-family=\"Helvetica,sans-Serif\" font-size=\"14.00\">gini = 0.036</text>\n",
       "<text text-anchor=\"middle\" x=\"194.5\" y=\"-141.8\" font-family=\"Helvetica,sans-Serif\" font-size=\"14.00\">samples = 1585</text>\n",
       "<text text-anchor=\"middle\" x=\"194.5\" y=\"-126.8\" font-family=\"Helvetica,sans-Serif\" font-size=\"14.00\">value = [1556, 29]</text>\n",
       "<text text-anchor=\"middle\" x=\"194.5\" y=\"-111.8\" font-family=\"Helvetica,sans-Serif\" font-size=\"14.00\">class = Female</text>\n",
       "</g>\n",
       "<!-- 1&#45;&gt;2 -->\n",
       "<g id=\"edge2\" class=\"edge\">\n",
       "<title>1&#45;&gt;2</title>\n",
       "<path fill=\"none\" stroke=\"black\" d=\"M340,-226.8C320.49,-216.03 298.89,-204.11 278.44,-192.82\"/>\n",
       "<polygon fill=\"black\" stroke=\"black\" points=\"280.28,-189.84 269.83,-188.07 276.89,-195.97 280.28,-189.84\"/>\n",
       "</g>\n",
       "<!-- 5 -->\n",
       "<g id=\"node6\" class=\"node\">\n",
       "<title>5</title>\n",
       "<path fill=\"#fefaf7\" stroke=\"black\" d=\"M457,-187C457,-187 356,-187 356,-187 350,-187 344,-181 344,-175 344,-175 344,-116 344,-116 344,-110 350,-104 356,-104 356,-104 457,-104 457,-104 463,-104 469,-110 469,-116 469,-116 469,-175 469,-175 469,-181 463,-187 457,-187\"/>\n",
       "<text text-anchor=\"middle\" x=\"406.5\" y=\"-171.8\" font-family=\"Helvetica,sans-Serif\" font-size=\"14.00\">nose_long &lt;= 0.5</text>\n",
       "<text text-anchor=\"middle\" x=\"406.5\" y=\"-156.8\" font-family=\"Helvetica,sans-Serif\" font-size=\"14.00\">gini = 0.5</text>\n",
       "<text text-anchor=\"middle\" x=\"406.5\" y=\"-141.8\" font-family=\"Helvetica,sans-Serif\" font-size=\"14.00\">samples = 408</text>\n",
       "<text text-anchor=\"middle\" x=\"406.5\" y=\"-126.8\" font-family=\"Helvetica,sans-Serif\" font-size=\"14.00\">value = [208, 200]</text>\n",
       "<text text-anchor=\"middle\" x=\"406.5\" y=\"-111.8\" font-family=\"Helvetica,sans-Serif\" font-size=\"14.00\">class = Female</text>\n",
       "</g>\n",
       "<!-- 1&#45;&gt;5 -->\n",
       "<g id=\"edge5\" class=\"edge\">\n",
       "<title>1&#45;&gt;5</title>\n",
       "<path fill=\"none\" stroke=\"black\" d=\"M406.5,-222.58C406.5,-214.79 406.5,-206.53 406.5,-198.45\"/>\n",
       "<polygon fill=\"black\" stroke=\"black\" points=\"410,-198.71 406.5,-188.71 403,-198.71 410,-198.71\"/>\n",
       "</g>\n",
       "<!-- 3 -->\n",
       "<g id=\"node4\" class=\"node\">\n",
       "<title>3</title>\n",
       "<path fill=\"#e5823b\" stroke=\"black\" d=\"M113,-68C113,-68 12,-68 12,-68 6,-68 0,-62 0,-56 0,-56 0,-12 0,-12 0,-6 6,0 12,0 12,0 113,0 113,0 119,0 125,-6 125,-12 125,-12 125,-56 125,-56 125,-62 119,-68 113,-68\"/>\n",
       "<text text-anchor=\"middle\" x=\"62.5\" y=\"-52.8\" font-family=\"Helvetica,sans-Serif\" font-size=\"14.00\">gini = 0.021</text>\n",
       "<text text-anchor=\"middle\" x=\"62.5\" y=\"-37.8\" font-family=\"Helvetica,sans-Serif\" font-size=\"14.00\">samples = 1573</text>\n",
       "<text text-anchor=\"middle\" x=\"62.5\" y=\"-22.8\" font-family=\"Helvetica,sans-Serif\" font-size=\"14.00\">value = [1556, 17]</text>\n",
       "<text text-anchor=\"middle\" x=\"62.5\" y=\"-7.8\" font-family=\"Helvetica,sans-Serif\" font-size=\"14.00\">class = Female</text>\n",
       "</g>\n",
       "<!-- 2&#45;&gt;3 -->\n",
       "<g id=\"edge3\" class=\"edge\">\n",
       "<title>2&#45;&gt;3</title>\n",
       "<path fill=\"none\" stroke=\"black\" d=\"M145.35,-103.73C134.24,-94.51 122.46,-84.74 111.36,-75.53\"/>\n",
       "<polygon fill=\"black\" stroke=\"black\" points=\"113.74,-72.96 103.81,-69.27 109.27,-78.34 113.74,-72.96\"/>\n",
       "</g>\n",
       "<!-- 4 -->\n",
       "<g id=\"node5\" class=\"node\">\n",
       "<title>4</title>\n",
       "<path fill=\"#399de5\" stroke=\"black\" d=\"M233.5,-68C233.5,-68 155.5,-68 155.5,-68 149.5,-68 143.5,-62 143.5,-56 143.5,-56 143.5,-12 143.5,-12 143.5,-6 149.5,0 155.5,0 155.5,0 233.5,0 233.5,0 239.5,0 245.5,-6 245.5,-12 245.5,-12 245.5,-56 245.5,-56 245.5,-62 239.5,-68 233.5,-68\"/>\n",
       "<text text-anchor=\"middle\" x=\"194.5\" y=\"-52.8\" font-family=\"Helvetica,sans-Serif\" font-size=\"14.00\">gini = 0.0</text>\n",
       "<text text-anchor=\"middle\" x=\"194.5\" y=\"-37.8\" font-family=\"Helvetica,sans-Serif\" font-size=\"14.00\">samples = 12</text>\n",
       "<text text-anchor=\"middle\" x=\"194.5\" y=\"-22.8\" font-family=\"Helvetica,sans-Serif\" font-size=\"14.00\">value = [0, 12]</text>\n",
       "<text text-anchor=\"middle\" x=\"194.5\" y=\"-7.8\" font-family=\"Helvetica,sans-Serif\" font-size=\"14.00\">class = Male</text>\n",
       "</g>\n",
       "<!-- 2&#45;&gt;4 -->\n",
       "<g id=\"edge4\" class=\"edge\">\n",
       "<title>2&#45;&gt;4</title>\n",
       "<path fill=\"none\" stroke=\"black\" d=\"M194.5,-103.73C194.5,-95.88 194.5,-87.63 194.5,-79.67\"/>\n",
       "<polygon fill=\"black\" stroke=\"black\" points=\"198,-79.81 194.5,-69.81 191,-79.81 198,-79.81\"/>\n",
       "</g>\n",
       "<!-- 6 -->\n",
       "<g id=\"node7\" class=\"node\">\n",
       "<title>6</title>\n",
       "<path fill=\"#e89153\" stroke=\"black\" d=\"M369,-68C369,-68 276,-68 276,-68 270,-68 264,-62 264,-56 264,-56 264,-12 264,-12 264,-6 270,0 276,0 276,0 369,0 369,0 375,0 381,-6 381,-12 381,-12 381,-56 381,-56 381,-62 375,-68 369,-68\"/>\n",
       "<text text-anchor=\"middle\" x=\"322.5\" y=\"-52.8\" font-family=\"Helvetica,sans-Serif\" font-size=\"14.00\">gini = 0.202</text>\n",
       "<text text-anchor=\"middle\" x=\"322.5\" y=\"-37.8\" font-family=\"Helvetica,sans-Serif\" font-size=\"14.00\">samples = 210</text>\n",
       "<text text-anchor=\"middle\" x=\"322.5\" y=\"-22.8\" font-family=\"Helvetica,sans-Serif\" font-size=\"14.00\">value = [186, 24]</text>\n",
       "<text text-anchor=\"middle\" x=\"322.5\" y=\"-7.8\" font-family=\"Helvetica,sans-Serif\" font-size=\"14.00\">class = Female</text>\n",
       "</g>\n",
       "<!-- 5&#45;&gt;6 -->\n",
       "<g id=\"edge6\" class=\"edge\">\n",
       "<title>5&#45;&gt;6</title>\n",
       "<path fill=\"none\" stroke=\"black\" d=\"M375.22,-103.73C368.57,-95.06 361.54,-85.9 354.86,-77.18\"/>\n",
       "<polygon fill=\"black\" stroke=\"black\" points=\"357.83,-75.3 348.97,-69.5 352.28,-79.57 357.83,-75.3\"/>\n",
       "</g>\n",
       "<!-- 7 -->\n",
       "<g id=\"node8\" class=\"node\">\n",
       "<title>7</title>\n",
       "<path fill=\"#52a9e8\" stroke=\"black\" d=\"M504,-68C504,-68 411,-68 411,-68 405,-68 399,-62 399,-56 399,-56 399,-12 399,-12 399,-6 405,0 411,0 411,0 504,0 504,0 510,0 516,-6 516,-12 516,-12 516,-56 516,-56 516,-62 510,-68 504,-68\"/>\n",
       "<text text-anchor=\"middle\" x=\"457.5\" y=\"-52.8\" font-family=\"Helvetica,sans-Serif\" font-size=\"14.00\">gini = 0.198</text>\n",
       "<text text-anchor=\"middle\" x=\"457.5\" y=\"-37.8\" font-family=\"Helvetica,sans-Serif\" font-size=\"14.00\">samples = 198</text>\n",
       "<text text-anchor=\"middle\" x=\"457.5\" y=\"-22.8\" font-family=\"Helvetica,sans-Serif\" font-size=\"14.00\">value = [22, 176]</text>\n",
       "<text text-anchor=\"middle\" x=\"457.5\" y=\"-7.8\" font-family=\"Helvetica,sans-Serif\" font-size=\"14.00\">class = Male</text>\n",
       "</g>\n",
       "<!-- 5&#45;&gt;7 -->\n",
       "<g id=\"edge7\" class=\"edge\">\n",
       "<title>5&#45;&gt;7</title>\n",
       "<path fill=\"none\" stroke=\"black\" d=\"M425.49,-103.73C429.31,-95.52 433.35,-86.86 437.21,-78.56\"/>\n",
       "<polygon fill=\"black\" stroke=\"black\" points=\"440.3,-80.21 441.35,-69.67 433.96,-77.26 440.3,-80.21\"/>\n",
       "</g>\n",
       "<!-- 9 -->\n",
       "<g id=\"node10\" class=\"node\">\n",
       "<title>9</title>\n",
       "<path fill=\"#f7fbfe\" stroke=\"black\" d=\"M706,-187C706,-187 605,-187 605,-187 599,-187 593,-181 593,-175 593,-175 593,-116 593,-116 593,-110 599,-104 605,-104 605,-104 706,-104 706,-104 712,-104 718,-110 718,-116 718,-116 718,-175 718,-175 718,-181 712,-187 706,-187\"/>\n",
       "<text text-anchor=\"middle\" x=\"655.5\" y=\"-171.8\" font-family=\"Helvetica,sans-Serif\" font-size=\"14.00\">lips_thin &lt;= 0.5</text>\n",
       "<text text-anchor=\"middle\" x=\"655.5\" y=\"-156.8\" font-family=\"Helvetica,sans-Serif\" font-size=\"14.00\">gini = 0.5</text>\n",
       "<text text-anchor=\"middle\" x=\"655.5\" y=\"-141.8\" font-family=\"Helvetica,sans-Serif\" font-size=\"14.00\">samples = 439</text>\n",
       "<text text-anchor=\"middle\" x=\"655.5\" y=\"-126.8\" font-family=\"Helvetica,sans-Serif\" font-size=\"14.00\">value = [215, 224]</text>\n",
       "<text text-anchor=\"middle\" x=\"655.5\" y=\"-111.8\" font-family=\"Helvetica,sans-Serif\" font-size=\"14.00\">class = Male</text>\n",
       "</g>\n",
       "<!-- 8&#45;&gt;9 -->\n",
       "<g id=\"edge9\" class=\"edge\">\n",
       "<title>8&#45;&gt;9</title>\n",
       "<path fill=\"none\" stroke=\"black\" d=\"M655.5,-222.58C655.5,-214.79 655.5,-206.53 655.5,-198.45\"/>\n",
       "<polygon fill=\"black\" stroke=\"black\" points=\"659,-198.71 655.5,-188.71 652,-198.71 659,-198.71\"/>\n",
       "</g>\n",
       "<!-- 12 -->\n",
       "<g id=\"node13\" class=\"node\">\n",
       "<title>12</title>\n",
       "<path fill=\"#3c9ee5\" stroke=\"black\" d=\"M913,-187C913,-187 812,-187 812,-187 806,-187 800,-181 800,-175 800,-175 800,-116 800,-116 800,-110 806,-104 812,-104 812,-104 913,-104 913,-104 919,-104 925,-110 925,-116 925,-116 925,-175 925,-175 925,-181 919,-187 913,-187\"/>\n",
       "<text text-anchor=\"middle\" x=\"862.5\" y=\"-171.8\" font-family=\"Helvetica,sans-Serif\" font-size=\"14.00\">nose_long &lt;= 0.5</text>\n",
       "<text text-anchor=\"middle\" x=\"862.5\" y=\"-156.8\" font-family=\"Helvetica,sans-Serif\" font-size=\"14.00\">gini = 0.025</text>\n",
       "<text text-anchor=\"middle\" x=\"862.5\" y=\"-141.8\" font-family=\"Helvetica,sans-Serif\" font-size=\"14.00\">samples = 1568</text>\n",
       "<text text-anchor=\"middle\" x=\"862.5\" y=\"-126.8\" font-family=\"Helvetica,sans-Serif\" font-size=\"14.00\">value = [20, 1548]</text>\n",
       "<text text-anchor=\"middle\" x=\"862.5\" y=\"-111.8\" font-family=\"Helvetica,sans-Serif\" font-size=\"14.00\">class = Male</text>\n",
       "</g>\n",
       "<!-- 8&#45;&gt;12 -->\n",
       "<g id=\"edge12\" class=\"edge\">\n",
       "<title>8&#45;&gt;12</title>\n",
       "<path fill=\"none\" stroke=\"black\" d=\"M721.85,-226C743.49,-213.77 767.62,-200.13 789.71,-187.64\"/>\n",
       "<polygon fill=\"black\" stroke=\"black\" points=\"791.39,-190.71 798.38,-182.74 787.95,-184.62 791.39,-190.71\"/>\n",
       "</g>\n",
       "<!-- 10 -->\n",
       "<g id=\"node11\" class=\"node\">\n",
       "<title>10</title>\n",
       "<path fill=\"#e9975b\" stroke=\"black\" d=\"M639,-68C639,-68 546,-68 546,-68 540,-68 534,-62 534,-56 534,-56 534,-12 534,-12 534,-6 540,0 546,0 546,0 639,0 639,0 645,0 651,-6 651,-12 651,-12 651,-56 651,-56 651,-62 645,-68 639,-68\"/>\n",
       "<text text-anchor=\"middle\" x=\"592.5\" y=\"-52.8\" font-family=\"Helvetica,sans-Serif\" font-size=\"14.00\">gini = 0.25</text>\n",
       "<text text-anchor=\"middle\" x=\"592.5\" y=\"-37.8\" font-family=\"Helvetica,sans-Serif\" font-size=\"14.00\">samples = 219</text>\n",
       "<text text-anchor=\"middle\" x=\"592.5\" y=\"-22.8\" font-family=\"Helvetica,sans-Serif\" font-size=\"14.00\">value = [187, 32]</text>\n",
       "<text text-anchor=\"middle\" x=\"592.5\" y=\"-7.8\" font-family=\"Helvetica,sans-Serif\" font-size=\"14.00\">class = Female</text>\n",
       "</g>\n",
       "<!-- 9&#45;&gt;10 -->\n",
       "<g id=\"edge10\" class=\"edge\">\n",
       "<title>9&#45;&gt;10</title>\n",
       "<path fill=\"none\" stroke=\"black\" d=\"M632.04,-103.73C627.21,-95.34 622.12,-86.47 617.24,-78.01\"/>\n",
       "<polygon fill=\"black\" stroke=\"black\" points=\"620.43,-76.53 612.41,-69.61 614.37,-80.02 620.43,-76.53\"/>\n",
       "</g>\n",
       "<!-- 11 -->\n",
       "<g id=\"node12\" class=\"node\">\n",
       "<title>11</title>\n",
       "<path fill=\"#56abe9\" stroke=\"black\" d=\"M774,-68C774,-68 681,-68 681,-68 675,-68 669,-62 669,-56 669,-56 669,-12 669,-12 669,-6 675,0 681,0 681,0 774,0 774,0 780,0 786,-6 786,-12 786,-12 786,-56 786,-56 786,-62 780,-68 774,-68\"/>\n",
       "<text text-anchor=\"middle\" x=\"727.5\" y=\"-52.8\" font-family=\"Helvetica,sans-Serif\" font-size=\"14.00\">gini = 0.222</text>\n",
       "<text text-anchor=\"middle\" x=\"727.5\" y=\"-37.8\" font-family=\"Helvetica,sans-Serif\" font-size=\"14.00\">samples = 220</text>\n",
       "<text text-anchor=\"middle\" x=\"727.5\" y=\"-22.8\" font-family=\"Helvetica,sans-Serif\" font-size=\"14.00\">value = [28, 192]</text>\n",
       "<text text-anchor=\"middle\" x=\"727.5\" y=\"-7.8\" font-family=\"Helvetica,sans-Serif\" font-size=\"14.00\">class = Male</text>\n",
       "</g>\n",
       "<!-- 9&#45;&gt;11 -->\n",
       "<g id=\"edge11\" class=\"edge\">\n",
       "<title>9&#45;&gt;11</title>\n",
       "<path fill=\"none\" stroke=\"black\" d=\"M682.31,-103.73C687.89,-95.24 693.78,-86.28 699.4,-77.73\"/>\n",
       "<polygon fill=\"black\" stroke=\"black\" points=\"702.2,-79.84 704.77,-69.56 696.35,-76 702.2,-79.84\"/>\n",
       "</g>\n",
       "<!-- 13 -->\n",
       "<g id=\"node14\" class=\"node\">\n",
       "<title>13</title>\n",
       "<path fill=\"#4ea7e8\" stroke=\"black\" d=\"M909,-68C909,-68 816,-68 816,-68 810,-68 804,-62 804,-56 804,-56 804,-12 804,-12 804,-6 810,0 816,0 816,0 909,0 909,0 915,0 921,-6 921,-12 921,-12 921,-56 921,-56 921,-62 915,-68 909,-68\"/>\n",
       "<text text-anchor=\"middle\" x=\"862.5\" y=\"-52.8\" font-family=\"Helvetica,sans-Serif\" font-size=\"14.00\">gini = 0.172</text>\n",
       "<text text-anchor=\"middle\" x=\"862.5\" y=\"-37.8\" font-family=\"Helvetica,sans-Serif\" font-size=\"14.00\">samples = 200</text>\n",
       "<text text-anchor=\"middle\" x=\"862.5\" y=\"-22.8\" font-family=\"Helvetica,sans-Serif\" font-size=\"14.00\">value = [19, 181]</text>\n",
       "<text text-anchor=\"middle\" x=\"862.5\" y=\"-7.8\" font-family=\"Helvetica,sans-Serif\" font-size=\"14.00\">class = Male</text>\n",
       "</g>\n",
       "<!-- 12&#45;&gt;13 -->\n",
       "<g id=\"edge13\" class=\"edge\">\n",
       "<title>12&#45;&gt;13</title>\n",
       "<path fill=\"none\" stroke=\"black\" d=\"M862.5,-103.73C862.5,-95.88 862.5,-87.63 862.5,-79.67\"/>\n",
       "<polygon fill=\"black\" stroke=\"black\" points=\"866,-79.81 862.5,-69.81 859,-79.81 866,-79.81\"/>\n",
       "</g>\n",
       "<!-- 14 -->\n",
       "<g id=\"node15\" class=\"node\">\n",
       "<title>14</title>\n",
       "<path fill=\"#399de5\" stroke=\"black\" d=\"M1044,-68C1044,-68 951,-68 951,-68 945,-68 939,-62 939,-56 939,-56 939,-12 939,-12 939,-6 945,0 951,0 951,0 1044,0 1044,0 1050,0 1056,-6 1056,-12 1056,-12 1056,-56 1056,-56 1056,-62 1050,-68 1044,-68\"/>\n",
       "<text text-anchor=\"middle\" x=\"997.5\" y=\"-52.8\" font-family=\"Helvetica,sans-Serif\" font-size=\"14.00\">gini = 0.001</text>\n",
       "<text text-anchor=\"middle\" x=\"997.5\" y=\"-37.8\" font-family=\"Helvetica,sans-Serif\" font-size=\"14.00\">samples = 1368</text>\n",
       "<text text-anchor=\"middle\" x=\"997.5\" y=\"-22.8\" font-family=\"Helvetica,sans-Serif\" font-size=\"14.00\">value = [1, 1367]</text>\n",
       "<text text-anchor=\"middle\" x=\"997.5\" y=\"-7.8\" font-family=\"Helvetica,sans-Serif\" font-size=\"14.00\">class = Male</text>\n",
       "</g>\n",
       "<!-- 12&#45;&gt;14 -->\n",
       "<g id=\"edge14\" class=\"edge\">\n",
       "<title>12&#45;&gt;14</title>\n",
       "<path fill=\"none\" stroke=\"black\" d=\"M912.77,-103.73C924.13,-94.51 936.18,-84.74 947.53,-75.53\"/>\n",
       "<polygon fill=\"black\" stroke=\"black\" points=\"949.71,-78.27 955.27,-69.25 945.3,-72.83 949.71,-78.27\"/>\n",
       "</g>\n",
       "</g>\n",
       "</svg>\n"
      ],
      "text/plain": [
       "<graphviz.sources.Source at 0x7fc83c122c70>"
      ]
     },
     "execution_count": 201,
     "metadata": {},
     "output_type": "execute_result"
    }
   ],
   "source": [
    "dot_data = tree.export_graphviz(clf, out_file=None, \n",
    "                     feature_names=feature_names,\n",
    "                     class_names = class_names,\n",
    "                     filled=True, rounded=True)  \n",
    "graph = graphviz.Source(dot_data)  \n",
    "graph "
   ]
  },
  {
   "cell_type": "markdown",
   "id": "10ac682a",
   "metadata": {},
   "source": [
    "For each box, we are given a prediction. For example, if no information is given (the top box), we predict the subject to be male. However, the actual predictions given all the data come at the bottom row. Moving from the top down and to the left, if distance_nose_lip_long <= 0.5, nose_wide <= 0.5 and forehead_width_cm <= 14.35, we predict the subject to be female (as shown by class=Female). Moving to the right, if distance_nose_lip_long is not <= 14.35 (so distance_nose_lip_long > 14.35), nose_wide > 0.5, and nose_long > 0.5, we predict the subject to be male."
   ]
  },
  {
   "cell_type": "markdown",
   "id": "5cd99b58",
   "metadata": {},
   "source": [
    "To find the accuracy of these predictions, we can use the testing data. First, we set y_pred to the predicted values based on the X_test data using the predict() function. Next, we can obtain an accuracy score based on said predictions"
   ]
  },
  {
   "cell_type": "code",
   "execution_count": 202,
   "id": "6860c6bd",
   "metadata": {},
   "outputs": [],
   "source": [
    "from sklearn.metrics import accuracy_score"
   ]
  },
  {
   "cell_type": "code",
   "execution_count": 203,
   "id": "eac788ca",
   "metadata": {},
   "outputs": [
    {
     "data": {
      "text/plain": [
       "0.962037962037962"
      ]
     },
     "execution_count": 203,
     "metadata": {},
     "output_type": "execute_result"
    }
   ],
   "source": [
    "y_pred = clf.predict(X_test)\n",
    "accuracy_score(y_test, y_pred)"
   ]
  },
  {
   "cell_type": "markdown",
   "id": "5220ff63",
   "metadata": {},
   "source": [
    "This means that we were correct on approximately 96.2% of our model's guesses, which is pretty good!"
   ]
  },
  {
   "cell_type": "markdown",
   "id": "847a4e4c",
   "metadata": {},
   "source": [
    "Another form of machine learning is linear regression. Thinking of y=mx+b, this is essentially plotting a line of best fit, but for a lot more variables in this case."
   ]
  },
  {
   "cell_type": "markdown",
   "id": "32b69e30",
   "metadata": {},
   "source": [
    "First, we'll want to import the LinearRegression module, fit the model on the training data, and predict based on the testing inputs."
   ]
  },
  {
   "cell_type": "code",
   "execution_count": 204,
   "id": "11719ae0",
   "metadata": {},
   "outputs": [],
   "source": [
    "from sklearn.linear_model import LinearRegression\n",
    "reg = LinearRegression().fit(X_train, y_train)\n",
    "y_pred_lr = reg.predict(X_test)"
   ]
  },
  {
   "cell_type": "markdown",
   "id": "8deab28b",
   "metadata": {},
   "source": [
    "Next, we'll want to clean the data. Since the responses are either 0 or 1, it wouldn't make sense to have guesses outside of that range. Therefore, if the guess (i) is < 0, it is set to 0, otherwise it is kept. Next, if it is >1, it is set to 1 -- otherwise, it stays the same"
   ]
  },
  {
   "cell_type": "code",
   "execution_count": 205,
   "id": "6741f1f4",
   "metadata": {},
   "outputs": [],
   "source": [
    "y_pred_lr = [0 if i < 0 else i for i in y_pred_lr]\n",
    "y_pred_lr = [1 if i > 1 else i for i in y_pred_lr]"
   ]
  },
  {
   "cell_type": "code",
   "execution_count": 206,
   "id": "01872256",
   "metadata": {},
   "outputs": [
    {
     "name": "stdout",
     "output_type": "stream",
     "text": [
      "[1, 0, 0.23657445504473162, 1, 1, 0.7894454269214858, 1, 0.7582110815230724, 0.7086266542171241, 0]\n"
     ]
    }
   ],
   "source": [
    "print(y_pred_lr[:10])"
   ]
  },
  {
   "cell_type": "markdown",
   "id": "e2f0f81b",
   "metadata": {},
   "source": [
    "To analyze our results, we can't use the accuracy_score function as our guesses are continuous -- they don't always fall on 0 or 1. Thus, we will want to find the mean absolute error. For example, if the value is 1 and our guess is 0.95, our mean absolute error is abs(1-0.95) = 0.05. This is the same calculation as our accuracy score. If we subtract our mean absolute error from 1, we can get our approximate value for how many predictions we got right."
   ]
  },
  {
   "cell_type": "code",
   "execution_count": 207,
   "id": "a4b367b2",
   "metadata": {},
   "outputs": [],
   "source": [
    "from sklearn.metrics import mean_absolute_error"
   ]
  },
  {
   "cell_type": "code",
   "execution_count": 208,
   "id": "29668b01",
   "metadata": {},
   "outputs": [
    {
     "data": {
      "text/plain": [
       "0.8824289995408384"
      ]
     },
     "execution_count": 208,
     "metadata": {},
     "output_type": "execute_result"
    }
   ],
   "source": [
    "1-mean_absolute_error(y_test, y_pred_lr)"
   ]
  },
  {
   "cell_type": "code",
   "execution_count": 209,
   "id": "5f11624e",
   "metadata": {
    "scrolled": true
   },
   "outputs": [
    {
     "data": {
      "text/plain": [
       "0.962037962037962"
      ]
     },
     "execution_count": 209,
     "metadata": {},
     "output_type": "execute_result"
    }
   ],
   "source": [
    "1-mean_absolute_error(y_test, y_pred)"
   ]
  },
  {
   "cell_type": "markdown",
   "id": "bf1940d6",
   "metadata": {},
   "source": [
    "The linear regression model only has an accuracy of about 88.2%, so our decision tree model seems to fit better."
   ]
  },
  {
   "cell_type": "code",
   "execution_count": null,
   "id": "f2f4c2e4",
   "metadata": {},
   "outputs": [],
   "source": []
  }
 ],
 "metadata": {
  "kernelspec": {
   "display_name": "Python 3 (ipykernel)",
   "language": "python",
   "name": "python3"
  },
  "language_info": {
   "codemirror_mode": {
    "name": "ipython",
    "version": 3
   },
   "file_extension": ".py",
   "mimetype": "text/x-python",
   "name": "python",
   "nbconvert_exporter": "python",
   "pygments_lexer": "ipython3",
   "version": "3.9.12"
  }
 },
 "nbformat": 4,
 "nbformat_minor": 5
}
