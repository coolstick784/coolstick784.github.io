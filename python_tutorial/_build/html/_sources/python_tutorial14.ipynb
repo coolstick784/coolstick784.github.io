{
 "cells": [
  {
   "cell_type": "markdown",
   "id": "4e421e31",
   "metadata": {},
   "source": [
    "## Exercise 4\n",
    "\n",
    "Try to make a function called permutation that takes two numbers, n and r, and returns\n",
    "\n",
    "n!/(n-r)! (! is the factorial symbol)"
   ]
  },
  {
   "cell_type": "markdown",
   "id": "ec1c43fa",
   "metadata": {},
   "source": [
    "```{admonition} Click to show solution\n",
    ":class: dropdown\n",
    "        def permutation(n, r):\n",
    "            n_factorial = factorial(n)\n",
    "            n_r_factorial = factorial(n-r)\n",
    "            return (n_factorial/(n_r_factorial))\n",
    "```"
   ]
  },
  {
   "cell_type": "markdown",
   "id": "1e404a36",
   "metadata": {},
   "source": [
    "Here is a function with no inputs, but still does something. This is useful if, for example, you want to print a lot of text every time something happens."
   ]
  },
  {
   "cell_type": "code",
   "execution_count": 110,
   "id": "65551ae5",
   "metadata": {},
   "outputs": [],
   "source": [
    "def HelloWorld():\n",
    "    print(\"Hello World!\")"
   ]
  },
  {
   "cell_type": "code",
   "execution_count": 111,
   "id": "7f0952e5",
   "metadata": {},
   "outputs": [
    {
     "name": "stdout",
     "output_type": "stream",
     "text": [
      "Hello World!\n"
     ]
    }
   ],
   "source": [
    "HelloWorld()"
   ]
  },
  {
   "cell_type": "markdown",
   "id": "62791a80",
   "metadata": {},
   "source": [
    "Let's say we want the factorials returned when we call the combination function. Although Python only allows one value to be returned from a function, we can bypass that by combining all the elements into a list"
   ]
  },
  {
   "cell_type": "code",
   "execution_count": 112,
   "id": "992a7848",
   "metadata": {},
   "outputs": [],
   "source": [
    "def combination(n, r):\n",
    "    n_factorial = factorial(n)\n",
    "    r_factorial = factorial(r)\n",
    "    n_r_factorial = factorial(n-r)\n",
    "    return [n_factorial,r_factorial,(n_factorial/(r_factorial * n_r_factorial))]"
   ]
  },
  {
   "cell_type": "code",
   "execution_count": 113,
   "id": "dac8d57f",
   "metadata": {},
   "outputs": [
    {
     "data": {
      "text/plain": [
       "[87178291200, 6, 364.0]"
      ]
     },
     "execution_count": 113,
     "metadata": {},
     "output_type": "execute_result"
    }
   ],
   "source": [
    "combination(14, 3)"
   ]
  }
 ],
 "metadata": {
  "kernelspec": {
   "display_name": "Python 3 (ipykernel)",
   "language": "python",
   "name": "python3"
  },
  "language_info": {
   "codemirror_mode": {
    "name": "ipython",
    "version": 3
   },
   "file_extension": ".py",
   "mimetype": "text/x-python",
   "name": "python",
   "nbconvert_exporter": "python",
   "pygments_lexer": "ipython3",
   "version": "3.9.12"
  }
 },
 "nbformat": 4,
 "nbformat_minor": 5
}
