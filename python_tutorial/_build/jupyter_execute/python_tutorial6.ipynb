{
 "cells": [
  {
   "cell_type": "markdown",
   "id": "776c4ac8",
   "metadata": {},
   "source": [
    "## Lists and Sets"
   ]
  },
  {
   "cell_type": "markdown",
   "id": "cfe4f73c",
   "metadata": {},
   "source": [
    "Going back to our lists of names and values, we'll reinitialize them as shown:"
   ]
  },
  {
   "cell_type": "code",
   "execution_count": 1,
   "id": "62f2297d",
   "metadata": {},
   "outputs": [],
   "source": [
    "names = ['Daucus', 'Pastinaca', 'Curucma', 'Nelumbo', 'Artemisia', 'Zingiber']\n",
    "vals = [34, 18, 16, 20, 29, 19]"
   ]
  },
  {
   "cell_type": "markdown",
   "id": "55fb1eec",
   "metadata": {},
   "source": [
    "If we make vals a set, this would essentially make it an ordered list that cannot be altered with only unique values"
   ]
  },
  {
   "cell_type": "code",
   "execution_count": 2,
   "id": "4721b5c6",
   "metadata": {},
   "outputs": [
    {
     "data": {
      "text/plain": [
       "{16, 18, 19, 20, 29, 34}"
      ]
     },
     "execution_count": 2,
     "metadata": {},
     "output_type": "execute_result"
    }
   ],
   "source": [
    "set(vals)"
   ]
  },
  {
   "cell_type": "code",
   "execution_count": 3,
   "id": "c8770683",
   "metadata": {},
   "outputs": [
    {
     "data": {
      "text/plain": [
       "{16, 17, 18, 19, 20}"
      ]
     },
     "execution_count": 3,
     "metadata": {},
     "output_type": "execute_result"
    }
   ],
   "source": [
    "set([16, 17, 17, 18, 20, 19, 19, 19, 19, 19])"
   ]
  },
  {
   "cell_type": "markdown",
   "id": "0a65151a",
   "metadata": {},
   "source": [
    "To sort a list, we can use the .sort() function"
   ]
  },
  {
   "cell_type": "code",
   "execution_count": 4,
   "id": "f4b7d6f0",
   "metadata": {},
   "outputs": [],
   "source": [
    "vals.sort()"
   ]
  },
  {
   "cell_type": "code",
   "execution_count": 5,
   "id": "a12afcdc",
   "metadata": {},
   "outputs": [
    {
     "data": {
      "text/plain": [
       "[16, 18, 19, 20, 29, 34]"
      ]
     },
     "execution_count": 5,
     "metadata": {},
     "output_type": "execute_result"
    }
   ],
   "source": [
    "vals"
   ]
  },
  {
   "cell_type": "markdown",
   "id": "0858cf7f",
   "metadata": {},
   "source": [
    "To get the maximum, minimum, and sum of a list of numbers, we can use the following commands:"
   ]
  },
  {
   "cell_type": "code",
   "execution_count": 6,
   "id": "ca6801e9",
   "metadata": {},
   "outputs": [
    {
     "name": "stdout",
     "output_type": "stream",
     "text": [
      "max: 34\n",
      "min 16\n",
      "sum: 136\n"
     ]
    }
   ],
   "source": [
    "print(\"max:\", max(vals))\n",
    "print(\"min\", min(vals))\n",
    "print(\"sum:\", sum(vals))"
   ]
  },
  {
   "cell_type": "markdown",
   "id": "7eb52106",
   "metadata": {},
   "source": [
    "To get a description of a list of numbers all at once, we can convert the list to a Series object and then apply the describe command, as shown:"
   ]
  },
  {
   "cell_type": "code",
   "execution_count": 7,
   "id": "a0b3e805",
   "metadata": {
    "scrolled": true
   },
   "outputs": [
    {
     "ename": "NameError",
     "evalue": "name 'pd' is not defined",
     "output_type": "error",
     "traceback": [
      "\u001b[0;31m---------------------------------------------------------------------------\u001b[0m",
      "\u001b[0;31mNameError\u001b[0m                                 Traceback (most recent call last)",
      "Input \u001b[0;32mIn [7]\u001b[0m, in \u001b[0;36m<cell line: 1>\u001b[0;34m()\u001b[0m\n\u001b[0;32m----> 1\u001b[0m \u001b[43mpd\u001b[49m\u001b[38;5;241m.\u001b[39mSeries(vals)\u001b[38;5;241m.\u001b[39mdescribe()\n",
      "\u001b[0;31mNameError\u001b[0m: name 'pd' is not defined"
     ]
    }
   ],
   "source": [
    "pd.Series(vals).describe()"
   ]
  },
  {
   "cell_type": "markdown",
   "id": "0f5ea446",
   "metadata": {},
   "source": [
    "In python, lists are 0-indexed. This means that the index of the 1st element will be 0, so to access the 1st element of a list, we will want to type \\<name of list>\\[0]. Similarly, for the second item, it will have an index of 1"
   ]
  },
  {
   "cell_type": "code",
   "execution_count": 39,
   "id": "63727119",
   "metadata": {
    "scrolled": false
   },
   "outputs": [
    {
     "data": {
      "text/plain": [
       "18"
      ]
     },
     "execution_count": 39,
     "metadata": {},
     "output_type": "execute_result"
    }
   ],
   "source": [
    "vals[1]"
   ]
  },
  {
   "cell_type": "code",
   "execution_count": 40,
   "id": "4de8f743",
   "metadata": {},
   "outputs": [
    {
     "data": {
      "text/plain": [
       "'Daucus'"
      ]
     },
     "execution_count": 40,
     "metadata": {},
     "output_type": "execute_result"
    }
   ],
   "source": [
    "names[0]"
   ]
  },
  {
   "cell_type": "markdown",
   "id": "bf7aacc5",
   "metadata": {},
   "source": [
    "The last element of the list also has an index of -1, the second last element has an index of -2, etc."
   ]
  },
  {
   "cell_type": "code",
   "execution_count": 41,
   "id": "72ca1164",
   "metadata": {
    "scrolled": true
   },
   "outputs": [
    {
     "data": {
      "text/plain": [
       "'Zingiber'"
      ]
     },
     "execution_count": 41,
     "metadata": {},
     "output_type": "execute_result"
    }
   ],
   "source": [
    "names[-1]"
   ]
  },
  {
   "cell_type": "code",
   "execution_count": 42,
   "id": "113c091e",
   "metadata": {},
   "outputs": [],
   "source": [
    "numbers = [20, 5, 4, 6, 2]"
   ]
  },
  {
   "cell_type": "markdown",
   "id": "f26f8261",
   "metadata": {},
   "source": [
    "To add an item to a list, we can use the .append() commamd"
   ]
  },
  {
   "cell_type": "code",
   "execution_count": 43,
   "id": "2c4e68a7",
   "metadata": {},
   "outputs": [
    {
     "data": {
      "text/plain": [
       "[20, 5, 4, 6, 2, 44]"
      ]
     },
     "execution_count": 43,
     "metadata": {},
     "output_type": "execute_result"
    }
   ],
   "source": [
    "numbers.append(44)\n",
    "numbers"
   ]
  },
  {
   "cell_type": "markdown",
   "id": "683db690",
   "metadata": {},
   "source": [
    "To insert a value into a specific index, we can use the .insert() command, which takes two arguments. The first one is the index to put the value and the second is the value itself"
   ]
  },
  {
   "cell_type": "code",
   "execution_count": 44,
   "id": "3a73bbc7",
   "metadata": {},
   "outputs": [],
   "source": [
    "numbers.insert(2, 100)"
   ]
  },
  {
   "cell_type": "code",
   "execution_count": 45,
   "id": "e11fc9f2",
   "metadata": {},
   "outputs": [
    {
     "data": {
      "text/plain": [
       "[20, 5, 100, 4, 6, 2, 44]"
      ]
     },
     "execution_count": 45,
     "metadata": {},
     "output_type": "execute_result"
    }
   ],
   "source": [
    "numbers"
   ]
  },
  {
   "cell_type": "markdown",
   "id": "83a519a7",
   "metadata": {},
   "source": [
    "To find the index of a value, we can use the .index() function"
   ]
  },
  {
   "cell_type": "code",
   "execution_count": 46,
   "id": "006ff6a6",
   "metadata": {},
   "outputs": [
    {
     "data": {
      "text/plain": [
       "0"
      ]
     },
     "execution_count": 46,
     "metadata": {},
     "output_type": "execute_result"
    }
   ],
   "source": [
    "numbers.index(20)"
   ]
  },
  {
   "cell_type": "markdown",
   "id": "7020be7f",
   "metadata": {},
   "source": [
    "To remove a value based on the value and not the index of the value, we can use the .remove() command. Note that this only removes the first instance of the value and not all of them"
   ]
  },
  {
   "cell_type": "code",
   "execution_count": 47,
   "id": "7d6acdc6",
   "metadata": {},
   "outputs": [
    {
     "data": {
      "text/plain": [
       "[20, 5, 100, 4, 6, 2, 44, 4, 4]"
      ]
     },
     "execution_count": 47,
     "metadata": {},
     "output_type": "execute_result"
    }
   ],
   "source": [
    "numbers.append(4)\n",
    "numbers.append(4)\n",
    "numbers"
   ]
  },
  {
   "cell_type": "code",
   "execution_count": 48,
   "id": "32409547",
   "metadata": {},
   "outputs": [
    {
     "data": {
      "text/plain": [
       "[20, 5, 100, 6, 2, 44, 4, 4]"
      ]
     },
     "execution_count": 48,
     "metadata": {},
     "output_type": "execute_result"
    }
   ],
   "source": [
    "numbers.remove(4)\n",
    "numbers"
   ]
  },
  {
   "cell_type": "code",
   "execution_count": 49,
   "id": "4eb050ee",
   "metadata": {},
   "outputs": [
    {
     "data": {
      "text/plain": [
       "[20, 5, 100, 6, 2, 44, 4, 4]"
      ]
     },
     "execution_count": 49,
     "metadata": {},
     "output_type": "execute_result"
    }
   ],
   "source": [
    "numbers"
   ]
  },
  {
   "cell_type": "markdown",
   "id": "0b64ba31",
   "metadata": {},
   "source": [
    "To remove a value based on the index, we can use the \"del\" function"
   ]
  },
  {
   "cell_type": "code",
   "execution_count": 50,
   "id": "73915b49",
   "metadata": {},
   "outputs": [],
   "source": [
    "del numbers[2]"
   ]
  },
  {
   "cell_type": "code",
   "execution_count": 51,
   "id": "98fa7208",
   "metadata": {
    "scrolled": true
   },
   "outputs": [
    {
     "data": {
      "text/plain": [
       "[20, 5, 6, 2, 44, 4, 4]"
      ]
     },
     "execution_count": 51,
     "metadata": {},
     "output_type": "execute_result"
    }
   ],
   "source": [
    "numbers"
   ]
  },
  {
   "cell_type": "markdown",
   "id": "953b4315",
   "metadata": {},
   "source": [
    "To remove the value based on the index and print the removed number, we can use the pop command"
   ]
  },
  {
   "cell_type": "code",
   "execution_count": 52,
   "id": "92da6e06",
   "metadata": {},
   "outputs": [
    {
     "data": {
      "text/plain": [
       "2"
      ]
     },
     "execution_count": 52,
     "metadata": {},
     "output_type": "execute_result"
    }
   ],
   "source": [
    "numbers.pop(3)"
   ]
  },
  {
   "cell_type": "code",
   "execution_count": 53,
   "id": "bd68293f",
   "metadata": {
    "scrolled": true
   },
   "outputs": [
    {
     "data": {
      "text/plain": [
       "[20, 5, 6, 44, 4, 4]"
      ]
     },
     "execution_count": 53,
     "metadata": {},
     "output_type": "execute_result"
    }
   ],
   "source": [
    "numbers"
   ]
  },
  {
   "cell_type": "markdown",
   "id": "74b04cae",
   "metadata": {},
   "source": [
    "To obtsin a subset of values based on their indexes, we can use the following command:\n",
    "    \n",
    "\\<list of values>\\[\\<start of subset>:\\<end of subset>]"
   ]
  },
  {
   "cell_type": "code",
   "execution_count": 54,
   "id": "78608c71",
   "metadata": {},
   "outputs": [
    {
     "data": {
      "text/plain": [
       "[20, 5, 6]"
      ]
     },
     "execution_count": 54,
     "metadata": {},
     "output_type": "execute_result"
    }
   ],
   "source": [
    "numbers[0:3]"
   ]
  },
  {
   "cell_type": "markdown",
   "id": "463c0109",
   "metadata": {},
   "source": [
    "If we want to copy a list, make sure to use the .copy() command. Here, we can see what happens if we copy numbers to numbers3"
   ]
  },
  {
   "cell_type": "code",
   "execution_count": 55,
   "id": "cf3bb55a",
   "metadata": {},
   "outputs": [],
   "source": [
    "numbers3 = numbers"
   ]
  },
  {
   "cell_type": "code",
   "execution_count": 56,
   "id": "dd3e5efb",
   "metadata": {},
   "outputs": [
    {
     "data": {
      "text/plain": [
       "[20, 5, 6, 44, 4, 4]"
      ]
     },
     "execution_count": 56,
     "metadata": {},
     "output_type": "execute_result"
    }
   ],
   "source": [
    "numbers3"
   ]
  },
  {
   "cell_type": "markdown",
   "id": "11fd801a",
   "metadata": {},
   "source": [
    "Notice that if we add 5 to the end of numbers3, it also gets added to numbers!"
   ]
  },
  {
   "cell_type": "code",
   "execution_count": 57,
   "id": "59c1274c",
   "metadata": {},
   "outputs": [],
   "source": [
    "numbers3.append(5)"
   ]
  },
  {
   "cell_type": "code",
   "execution_count": 58,
   "id": "02e0a98d",
   "metadata": {
    "scrolled": true
   },
   "outputs": [
    {
     "name": "stdout",
     "output_type": "stream",
     "text": [
      "[20, 5, 6, 44, 4, 4, 5]\n",
      "[20, 5, 6, 44, 4, 4, 5]\n"
     ]
    }
   ],
   "source": [
    "print(numbers3)\n",
    "print(numbers)"
   ]
  },
  {
   "cell_type": "markdown",
   "id": "30525d48",
   "metadata": {},
   "source": [
    "As you can see, although we only changed numbers3, numbers got changed as well"
   ]
  },
  {
   "cell_type": "code",
   "execution_count": 59,
   "id": "6ba3f7d6",
   "metadata": {},
   "outputs": [
    {
     "name": "stdout",
     "output_type": "stream",
     "text": [
      "[20, 5, 6, 44, 4, 4, 5, 6]\n",
      "[20, 5, 6, 44, 4, 4, 5]\n"
     ]
    }
   ],
   "source": [
    "numbers4=numbers.copy()\n",
    "numbers4.append(6)\n",
    "print(numbers4)\n",
    "print(numbers)"
   ]
  },
  {
   "cell_type": "markdown",
   "id": "bb695623",
   "metadata": {},
   "source": [
    "To get the unique values of a list in a new, ordered, list, we can take a list of the set of the list"
   ]
  },
  {
   "cell_type": "code",
   "execution_count": 60,
   "id": "becef622",
   "metadata": {},
   "outputs": [],
   "source": [
    "numbers = [1, 2, 3, 4, 5, 6, 1, 2, 3, 4, 5, 6, 5, 5, 4, 3, 6, 5, 2, 0 , 1, 44]"
   ]
  },
  {
   "cell_type": "code",
   "execution_count": 61,
   "id": "89c86eff",
   "metadata": {},
   "outputs": [
    {
     "data": {
      "text/plain": [
       "[0, 1, 2, 3, 4, 5, 6, 44]"
      ]
     },
     "execution_count": 61,
     "metadata": {},
     "output_type": "execute_result"
    }
   ],
   "source": [
    "list(set(numbers))"
   ]
  },
  {
   "cell_type": "markdown",
   "id": "fb0a9156",
   "metadata": {},
   "source": [
    "To get the length of a list, we can use the len() function"
   ]
  },
  {
   "cell_type": "code",
   "execution_count": 62,
   "id": "afc014f8",
   "metadata": {},
   "outputs": [
    {
     "data": {
      "text/plain": [
       "[1, 2, 3, 4, 5, 6, 1, 2, 3, 4, 5, 6, 5, 5, 4, 3, 6, 5, 2, 0, 1, 44]"
      ]
     },
     "execution_count": 62,
     "metadata": {},
     "output_type": "execute_result"
    }
   ],
   "source": [
    "numbers"
   ]
  },
  {
   "cell_type": "code",
   "execution_count": 63,
   "id": "361cda20",
   "metadata": {},
   "outputs": [
    {
     "data": {
      "text/plain": [
       "22"
      ]
     },
     "execution_count": 63,
     "metadata": {},
     "output_type": "execute_result"
    }
   ],
   "source": [
    "len(numbers)"
   ]
  },
  {
   "cell_type": "markdown",
   "id": "0f8b4e01",
   "metadata": {},
   "source": [
    "To join elements in a list, we can use the join() function"
   ]
  },
  {
   "cell_type": "code",
   "execution_count": 64,
   "id": "5815cf44",
   "metadata": {},
   "outputs": [
    {
     "name": "stdout",
     "output_type": "stream",
     "text": [
      "With no spaces: Apple\n",
      "With a space in between: A p p l e\n"
     ]
    }
   ],
   "source": [
    "apple = ['A', 'p', 'p', 'l', 'e']\n",
    "print(\"With no spaces:\", \"\".join(apple))\n",
    "print(\"With a space in between:\", \" \".join(apple))"
   ]
  }
 ],
 "metadata": {
  "kernelspec": {
   "display_name": "Python 3 (ipykernel)",
   "language": "python",
   "name": "python3"
  },
  "language_info": {
   "codemirror_mode": {
    "name": "ipython",
    "version": 3
   },
   "file_extension": ".py",
   "mimetype": "text/x-python",
   "name": "python",
   "nbconvert_exporter": "python",
   "pygments_lexer": "ipython3",
   "version": "3.9.12"
  }
 },
 "nbformat": 4,
 "nbformat_minor": 5
}