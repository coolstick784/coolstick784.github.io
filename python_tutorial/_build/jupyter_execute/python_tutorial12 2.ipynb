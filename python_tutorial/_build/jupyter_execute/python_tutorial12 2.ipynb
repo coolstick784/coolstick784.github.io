{
 "cells": [
  {
   "cell_type": "markdown",
   "id": "0594f2b9",
   "metadata": {},
   "source": [
    "## Exercise 3"
   ]
  },
  {
   "cell_type": "markdown",
   "id": "6b072dfd",
   "metadata": {},
   "source": [
    "Let's make a game! Let's say FSU is playing a football game, and is starting the ball at their opponent's \n",
    "49 yard line. The user will enter an input to pass or run. For each pass, they gain 10 yards, and for \n",
    "each run, they gain 5 yards. However, there is a 10% chance of a turnover each play. The game either ends \n",
    "with a turnover or when FSU reaches the endzone (the opponent 0).\n",
    "If the user enters an invalid response, prompt them to enter another.\n",
    "After each iteration, print the current yardline/if the ball has been turned over.\n",
    "\n",
    "Hint: If random.random() is less than 0.1, there should be a turnover. If not, there should not be"
   ]
  },
  {
   "cell_type": "markdown",
   "id": "b00adac9",
   "metadata": {},
   "source": [
    "```{admonition} Click to show solution\n",
    ":class: dropdown\n",
    "\n",
    "        cur_ydline = 49\n",
    "        turned_over = False\n",
    "        while cur_ydline > 0 and turned_over == False:\n",
    "            invalid = True\n",
    "            while invalid == True:\n",
    "                choice = input(\"Pass or run? P for pass and R for run: \").upper()\n",
    "                if choice == 'P' or choice == 'R':\n",
    "                    invalid = False\n",
    "            if random.random() < 0.1:\n",
    "                print(\"The ball has been turned over. Game over\")\n",
    "                turned_over = True\n",
    "            elif choice == 'P':\n",
    "                cur_ydline -= 10\n",
    "                print(\"The pass went for 10 yards! The ball is now at the \", cur_ydline)\n",
    "            elif choice == 'R':\n",
    "                cur_ydline -= 5\n",
    "                print(\"The run went for 5 yards! The ball is now at the \", cur_ydline)\n",
    "            if cur_ydline <= 0:\n",
    "                print(\"Congrats! You won\")\n",
    "```"
   ]
  }
 ],
 "metadata": {
  "kernelspec": {
   "display_name": "Python 3 (ipykernel)",
   "language": "python",
   "name": "python3"
  },
  "language_info": {
   "codemirror_mode": {
    "name": "ipython",
    "version": 3
   },
   "file_extension": ".py",
   "mimetype": "text/x-python",
   "name": "python",
   "nbconvert_exporter": "python",
   "pygments_lexer": "ipython3",
   "version": "3.9.12"
  }
 },
 "nbformat": 4,
 "nbformat_minor": 5
}