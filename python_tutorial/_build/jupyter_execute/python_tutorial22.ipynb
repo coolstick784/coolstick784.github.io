{
 "cells": [
  {
   "cell_type": "markdown",
   "id": "b4486f7b",
   "metadata": {},
   "source": [
    "## Hangman Exercise (Exercise 7)"
   ]
  },
  {
   "cell_type": "markdown",
   "id": "6f48c681",
   "metadata": {},
   "source": [
    "Remember how random.random() generates a number between 0 and 1. Similarly, if you wanted it to generate a number between 1 and 10, we could multiply that by 10. To make sure it goes up to 10 and is not less than 1, we use math.ceil() to round up, as shown:"
   ]
  },
  {
   "cell_type": "code",
   "execution_count": 1,
   "id": "d5554227",
   "metadata": {},
   "outputs": [],
   "source": [
    "import math\n",
    "import random"
   ]
  },
  {
   "cell_type": "code",
   "execution_count": 2,
   "id": "f6554722",
   "metadata": {
    "scrolled": false
   },
   "outputs": [
    {
     "data": {
      "text/plain": [
<<<<<<< HEAD
<<<<<<< HEAD
<<<<<<< HEAD
       "8"
=======
       "3"
>>>>>>> parent of 8149934 (updates)
=======
       "3"
>>>>>>> parent of 8149934 (updates)
=======
       "3"
>>>>>>> parent of 8149934 (updates)
      ]
     },
     "execution_count": 2,
     "metadata": {},
     "output_type": "execute_result"
    }
   ],
   "source": [
    "math.ceil(random.random() * 10)"
   ]
  },
  {
   "cell_type": "markdown",
   "id": "fbb4b03e",
   "metadata": {},
   "source": [
    "Here is a quick little code block that applies this to a guessing game. We generate a number, and the user tries to guess it. If the flag (guessed) is not True, we keep going until the user guesses correctly."
   ]
  },
  {
   "cell_type": "code",
   "execution_count": 3,
   "id": "7b5b5c36",
   "metadata": {
    "scrolled": true
   },
   "outputs": [
    {
     "ename": "StdinNotImplementedError",
     "evalue": "raw_input was called, but this frontend does not support input requests.",
     "output_type": "error",
     "traceback": [
      "\u001b[0;31m---------------------------------------------------------------------------\u001b[0m",
      "\u001b[0;31mStdinNotImplementedError\u001b[0m                  Traceback (most recent call last)",
      "Input \u001b[0;32mIn [3]\u001b[0m, in \u001b[0;36m<cell line: 3>\u001b[0;34m()\u001b[0m\n\u001b[1;32m      2\u001b[0m num \u001b[38;5;241m=\u001b[39m math\u001b[38;5;241m.\u001b[39mceil(random\u001b[38;5;241m.\u001b[39mrandom() \u001b[38;5;241m*\u001b[39m \u001b[38;5;241m10\u001b[39m)\n\u001b[1;32m      3\u001b[0m \u001b[38;5;28;01mwhile\u001b[39;00m guessed \u001b[38;5;241m==\u001b[39m \u001b[38;5;28;01mFalse\u001b[39;00m:\n\u001b[0;32m----> 4\u001b[0m     guess \u001b[38;5;241m=\u001b[39m \u001b[38;5;28mint\u001b[39m(\u001b[38;5;28;43minput\u001b[39;49m\u001b[43m(\u001b[49m\u001b[38;5;124;43m\"\u001b[39;49m\u001b[38;5;124;43mTake a guess: \u001b[39;49m\u001b[38;5;124;43m\"\u001b[39;49m\u001b[43m)\u001b[49m)\n\u001b[1;32m      5\u001b[0m     \u001b[38;5;28;01mif\u001b[39;00m guess \u001b[38;5;241m==\u001b[39m num:\n\u001b[1;32m      6\u001b[0m         guessed \u001b[38;5;241m=\u001b[39m \u001b[38;5;28;01mTrue\u001b[39;00m\n",
      "File \u001b[0;32m~/opt/anaconda3/lib/python3.9/site-packages/ipykernel/kernelbase.py:1072\u001b[0m, in \u001b[0;36mKernel.raw_input\u001b[0;34m(self, prompt)\u001b[0m\n\u001b[1;32m   1065\u001b[0m \u001b[38;5;124;03m\"\"\"Forward raw_input to frontends\u001b[39;00m\n\u001b[1;32m   1066\u001b[0m \n\u001b[1;32m   1067\u001b[0m \u001b[38;5;124;03mRaises\u001b[39;00m\n\u001b[1;32m   1068\u001b[0m \u001b[38;5;124;03m------\u001b[39;00m\n\u001b[1;32m   1069\u001b[0m \u001b[38;5;124;03mStdinNotImplementedError if active frontend doesn't support stdin.\u001b[39;00m\n\u001b[1;32m   1070\u001b[0m \u001b[38;5;124;03m\"\"\"\u001b[39;00m\n\u001b[1;32m   1071\u001b[0m \u001b[38;5;28;01mif\u001b[39;00m \u001b[38;5;129;01mnot\u001b[39;00m \u001b[38;5;28mself\u001b[39m\u001b[38;5;241m.\u001b[39m_allow_stdin:\n\u001b[0;32m-> 1072\u001b[0m     \u001b[38;5;28;01mraise\u001b[39;00m StdinNotImplementedError(\n\u001b[1;32m   1073\u001b[0m         \u001b[38;5;124m\"\u001b[39m\u001b[38;5;124mraw_input was called, but this frontend does not support input requests.\u001b[39m\u001b[38;5;124m\"\u001b[39m\n\u001b[1;32m   1074\u001b[0m     )\n\u001b[1;32m   1075\u001b[0m \u001b[38;5;28;01mreturn\u001b[39;00m \u001b[38;5;28mself\u001b[39m\u001b[38;5;241m.\u001b[39m_input_request(\n\u001b[1;32m   1076\u001b[0m     \u001b[38;5;28mstr\u001b[39m(prompt),\n\u001b[1;32m   1077\u001b[0m     \u001b[38;5;28mself\u001b[39m\u001b[38;5;241m.\u001b[39m_parent_ident[\u001b[38;5;124m\"\u001b[39m\u001b[38;5;124mshell\u001b[39m\u001b[38;5;124m\"\u001b[39m],\n\u001b[1;32m   1078\u001b[0m     \u001b[38;5;28mself\u001b[39m\u001b[38;5;241m.\u001b[39mget_parent(\u001b[38;5;124m\"\u001b[39m\u001b[38;5;124mshell\u001b[39m\u001b[38;5;124m\"\u001b[39m),\n\u001b[1;32m   1079\u001b[0m     password\u001b[38;5;241m=\u001b[39m\u001b[38;5;28;01mFalse\u001b[39;00m,\n\u001b[1;32m   1080\u001b[0m )\n",
      "\u001b[0;31mStdinNotImplementedError\u001b[0m: raw_input was called, but this frontend does not support input requests."
     ]
    }
   ],
   "source": [
    "guessed = False\n",
    "num = math.ceil(random.random() * 10)\n",
    "while guessed == False:\n",
    "    guess = int(input(\"Take a guess: \"))\n",
    "    if guess == num:\n",
    "        guessed = True\n",
    "        print(\"Nice guess!\")\n",
    "    else:\n",
    "        print(\"Guess again!\")\n",
    "    "
   ]
  },
  {
   "cell_type": "markdown",
   "id": "d4ecc139",
   "metadata": {},
   "source": [
    "To generate a list of values in a range, we can use the following code:"
   ]
  },
  {
   "cell_type": "code",
   "execution_count": 146,
   "id": "09442bbf",
   "metadata": {},
   "outputs": [],
   "source": [
    "nums = [i for i in range(1, 11)]"
   ]
  },
  {
   "cell_type": "code",
   "execution_count": 147,
   "id": "b26d1aa3",
   "metadata": {},
   "outputs": [
    {
     "data": {
      "text/plain": [
       "[1, 2, 3, 4, 5, 6, 7, 8, 9, 10]"
      ]
     },
     "execution_count": 147,
     "metadata": {},
     "output_type": "execute_result"
    }
   ],
   "source": [
    "nums"
   ]
  },
  {
   "cell_type": "markdown",
   "id": "ac62b32e",
   "metadata": {},
   "source": [
    "What this does is it gets each value from the range of 1,11 and adds that to the list, which is nums in this case"
   ]
  },
  {
   "cell_type": "markdown",
   "id": "cdaf1962",
   "metadata": {},
   "source": [
    "Create a hangman game with these words, but a little simpler. Generate underscores for each letter in the word,\n",
    "and print the amount of letters in the word.\n",
    " If a player guesses a letter, each occurence of that letter will be revealed. The player will have 8 lives,\n",
    " and after each guess, the number of lives will be printed out.\n",
    " The game should not be case sensitive\n",
    " \n",
    " Hints:\n",
    "1. Make your word that you print out a list of underscores, and when a player guesses a letter, replace the \n",
    " corresponding index in the actual word with the underscore in the printed out word. \n",
    "To print out the word with various underscores, write '\"\".join(word)'\n",
    "2. To get the list of letters in the word, try list(set(selected_word))\n",
    "\n"
   ]
  },
  {
   "cell_type": "code",
   "execution_count": 148,
   "id": "4ea967f0",
   "metadata": {},
   "outputs": [],
   "source": [
    "words = [\"Apple\", \"Pear\", \"Watermelon\", \"Strawberry\", \"Banana\", \"Corn\", \"Broccoli\"]"
   ]
  },
  {
   "cell_type": "markdown",
   "id": "33fb9585",
   "metadata": {},
   "source": [
    "```{admonition} Click to show solution\n",
    ":class: dropdown\n",
    "\n",
    "\n",
    "\n",
    "    selected = random.choice(words)\n",
    "    selected = selected.lower()\n",
    "    lives = 8\n",
    "    revealed = False\n",
    "    word = [\"_\" for i in range(len(selected))]\n",
    "    letters = list(set(selected))\n",
    "    while lives > 0 and revealed == False:\n",
    "        print(f\"Here is the word: There are {len(selected)} letters. \\n\" )\n",
    "        print(\"\".join(word))\n",
    "\n",
    "\n",
    "        guess = input(\"Guess a letter: \").lower()\n",
    "        if guess in letters:\n",
    "            letters.remove(guess)\n",
    "            for idx, letter in enumerate(selected):\n",
    "                if guess == letter:\n",
    "                    word[idx] = guess\n",
    "        else:\n",
    "            print(\"Wrong guess\")\n",
    "            lives -= 1\n",
    "\n",
    "        if \"_\" not in word:\n",
    "            print(\"Congratulations! You have won\")\n",
    "            print(\"Here is the word: \", selected)\n",
    "            revealed = True\n",
    "        else:\n",
    "            print(f\"You have {lives} lives left\")\n",
    "        if lives == 0:\n",
    "            print(\"You lost\")\n",
    "        \n",
    "```"
   ]
  }
 ],
 "metadata": {
  "kernelspec": {
   "display_name": "Python 3 (ipykernel)",
   "language": "python",
   "name": "python3"
  },
  "language_info": {
   "codemirror_mode": {
    "name": "ipython",
    "version": 3
   },
   "file_extension": ".py",
   "mimetype": "text/x-python",
   "name": "python",
   "nbconvert_exporter": "python",
   "pygments_lexer": "ipython3",
   "version": "3.9.12"
  }
 },
 "nbformat": 4,
 "nbformat_minor": 5
}