{
 "cells": [
  {
   "cell_type": "markdown",
   "id": "3fb56976",
   "metadata": {},
   "source": [
    "## Files and Directories "
   ]
  },
  {
   "cell_type": "markdown",
   "id": "fba3c3a0",
   "metadata": {},
   "source": [
    "To access and edit directories, we'll want to import the pre-installed os module"
   ]
  },
  {
   "cell_type": "code",
   "execution_count": 1,
   "id": "d8def112",
   "metadata": {},
   "outputs": [],
   "source": [
    "import os"
   ]
  },
  {
   "cell_type": "markdown",
   "id": "498dbdc0",
   "metadata": {},
   "source": [
    "To get a list of files in your current directory, we can type the listdir() command"
   ]
  },
  {
   "cell_type": "code",
   "execution_count": 2,
   "id": "c33a5bfb",
   "metadata": {},
   "outputs": [
    {
     "data": {
      "text/plain": [
       "['python_tutorial2.html',\n",
       " 'python_tutorial13.html',\n",
       " 'python_tutorial21.ipynb',\n",
       " 'markdown.md',\n",
       " 'python_tutorial23.ipynb',\n",
       " 'python_tutorial25.html',\n",
       " 'python_tutorial9.ipynb',\n",
       " 'index.html',\n",
       " '.DS_Store',\n",
       " 'python_tutorial24.html',\n",
       " 'python_tutorial18.ipynb',\n",
       " 'requirements.txt',\n",
       " 'python_tutorial12.html',\n",
       " 'ok.ipynb',\n",
       " 'python_tutorial3.html',\n",
       " 'python_tutorial25.ipynb',\n",
       " 'references.bib',\n",
       " 'python_tutorial22.ipynb',\n",
       " 'python_tutorial23.html',\n",
       " 'markdown-notebooks.md',\n",
       " 'searchindex.js',\n",
       " 'python_tutorial8.html',\n",
       " 'python_tutorial19.html',\n",
       " 'sample.html',\n",
       " 'python_tutorial20.ipynb',\n",
       " 'intro.md',\n",
       " 'python_tutorial4.html',\n",
       " '_sources',\n",
       " 'python_tutorial15.html',\n",
       " 'python_tutorial24.ipynb',\n",
       " 'python_tutorial14.html',\n",
       " 'python_tutorial5.html',\n",
       " 'python_tutorial19.ipynb',\n",
       " '_static',\n",
       " 'notebooks.ipynb',\n",
       " 'notebooks.html',\n",
       " 'python_tutorial18.html',\n",
       " 'python_tutorial9.html',\n",
       " 'python_tutorial8.ipynb',\n",
       " 'python_tutorial22.html',\n",
       " 'python_tutorial26.ipynb',\n",
       " 'intro.html',\n",
       " 'sample.ipynb',\n",
       " '.buildinfo',\n",
       " 'python_tutorial17.ipynb',\n",
       " 'python_tutorial21.html',\n",
       " 'python_tutorial4.ipynb',\n",
       " '_images',\n",
       " 'FSU.png',\n",
       " '_toc.yml',\n",
       " 'python_tutorial17.html',\n",
       " 'python_tutorial6.ipynb',\n",
       " 'python_tutorial6.html',\n",
       " 'python_tutorial15.ipynb',\n",
       " 'logo.png',\n",
       " 'python_tutorial11.ipynb',\n",
       " 'markdown-notebooks.html',\n",
       " 'python_tutorial7.html',\n",
       " '_build',\n",
       " '_config.yml',\n",
       " 'python_tutorial16.html',\n",
       " 'markdown.html',\n",
       " 'python_tutorial2.ipynb',\n",
       " 'genindex.html',\n",
       " 'python_tutorial20.html',\n",
       " 'python_tutorial13.ipynb',\n",
       " 'gender_classification_v7.csv',\n",
       " 'python_tutorial7.ipynb',\n",
       " '.ipynb_checkpoints',\n",
       " 'python_tutorial11.html',\n",
       " 'search.html',\n",
       " 'python_tutorial14.ipynb',\n",
       " 'python_tutorial16.ipynb',\n",
       " '_sphinx_design_static',\n",
       " 'python_tutorial.ipynb',\n",
       " 'python_tutorial5.ipynb',\n",
       " 'python_tutorial1.ipynb',\n",
       " 'python_tutorial.html',\n",
       " 'python_tutorial26.html',\n",
       " 'ok.html',\n",
       " 'python_tutorial12.ipynb',\n",
       " 'objects.inv',\n",
       " 'python_tutorial10.ipynb',\n",
       " 'python_tutorial3.ipynb',\n",
       " 'reports',\n",
       " 'python_tutorial1.html',\n",
       " 'python_tutorial10.html']"
      ]
     },
     "execution_count": 2,
     "metadata": {},
     "output_type": "execute_result"
    }
   ],
   "source": [
    "os.listdir()"
   ]
  },
  {
   "cell_type": "markdown",
   "id": "e62ee67f",
   "metadata": {},
   "source": [
    "To obtain the file path of our current working directory, we can call the getcwd() command"
   ]
  },
  {
   "cell_type": "code",
   "execution_count": 3,
   "id": "9acd6c7d",
   "metadata": {},
   "outputs": [
    {
     "data": {
      "text/plain": [
       "'/Users/schugani/Documents/GitHub/coolstick784.github.io/python_tutorial'"
      ]
     },
     "execution_count": 3,
     "metadata": {},
     "output_type": "execute_result"
    }
   ],
   "source": [
    "os.getcwd()"
   ]
  },
  {
   "cell_type": "markdown",
   "id": "7c81ce85",
   "metadata": {},
   "source": [
    "To change our directory, we can enter the path of the new directory. It can either be relative to the directory at hand or to the computer as a whole"
   ]
  },
  {
   "cell_type": "code",
   "execution_count": 4,
   "id": "279c57c0",
   "metadata": {},
   "outputs": [],
   "source": [
    "os.chdir(\"/Users/schugani\")"
   ]
  },
  {
   "cell_type": "code",
   "execution_count": 5,
   "id": "4ff60784",
   "metadata": {},
   "outputs": [],
   "source": [
    "\n",
    "os.chdir('Documents')\n",
    "os.chdir('/Users/schugani')"
   ]
  },
  {
   "cell_type": "markdown",
   "id": "a6d577cb",
   "metadata": {},
   "source": [
    "To create a folder, we can call the mkdir() function. This path should be relative to the computer."
   ]
  },
  {
   "cell_type": "markdown",
   "id": "9cacd9f6",
   "metadata": {},
   "source": [
    "First, we can obtain our current directory path"
   ]
  },
  {
   "cell_type": "code",
   "execution_count": 6,
   "id": "2ecdde34",
   "metadata": {},
   "outputs": [],
   "source": [
    "cur_path = os.getcwd()"
   ]
  },
  {
   "cell_type": "markdown",
   "id": "4439a70d",
   "metadata": {},
   "source": [
    "Next, we can name our new folder"
   ]
  },
  {
   "cell_type": "code",
   "execution_count": 7,
   "id": "d9eff7a1",
   "metadata": {},
   "outputs": [],
   "source": [
    "folder_name = \"datasets\""
   ]
  },
  {
   "cell_type": "markdown",
   "id": "f7418f40",
   "metadata": {},
   "source": [
    "Finally, we can join the two with os.path.join and make a directory based on that"
   ]
  },
  {
   "cell_type": "markdown",
   "id": "f386682c",
   "metadata": {},
   "source": [
    "Here, we can write a try except block that states that if the directory already exists, it will print so and the directory will not be created"
   ]
  },
  {
   "cell_type": "code",
   "execution_count": 8,
   "id": "ab81a50b",
   "metadata": {},
   "outputs": [
    {
     "name": "stdout",
     "output_type": "stream",
     "text": [
      "file already exists\n"
     ]
    }
   ],
   "source": [
    "new_dir = os.path.join(cur_path, folder_name)\n",
    "try:\n",
    "    os.mkdir(new_dir)\n",
    "except FileExistsError:\n",
    "    print(\"file already exists\")"
   ]
  },
  {
   "cell_type": "markdown",
   "id": "76f4f291",
   "metadata": {},
   "source": [
    "Let's say we have a file called data.csv and want to move it to our new directory. First, we want to move it to our current directory without Python. Next, we can use os.rename to change the path"
   ]
  },
  {
   "cell_type": "code",
   "execution_count": 9,
   "id": "e3e575d5",
   "metadata": {
    "scrolled": true,
    "tags": [
     "remove-output"
    ]
   },
   "outputs": [
    {
     "ename": "FileNotFoundError",
     "evalue": "[Errno 2] No such file or directory: '/Users/schugani/data.csv' -> '/Users/schugani/datasets/data.csv'",
     "output_type": "error",
     "traceback": [
      "\u001b[0;31m---------------------------------------------------------------------------\u001b[0m",
      "\u001b[0;31mFileNotFoundError\u001b[0m                         Traceback (most recent call last)",
      "Input \u001b[0;32mIn [9]\u001b[0m, in \u001b[0;36m<cell line: 3>\u001b[0;34m()\u001b[0m\n\u001b[1;32m      1\u001b[0m old_path \u001b[38;5;241m=\u001b[39m os\u001b[38;5;241m.\u001b[39mpath\u001b[38;5;241m.\u001b[39mjoin(cur_path, \u001b[38;5;124m\"\u001b[39m\u001b[38;5;124mdata.csv\u001b[39m\u001b[38;5;124m\"\u001b[39m)\n\u001b[1;32m      2\u001b[0m new_path \u001b[38;5;241m=\u001b[39m os\u001b[38;5;241m.\u001b[39mpath\u001b[38;5;241m.\u001b[39mjoin(new_dir, \u001b[38;5;124m\"\u001b[39m\u001b[38;5;124mdata.csv\u001b[39m\u001b[38;5;124m\"\u001b[39m)\n\u001b[0;32m----> 3\u001b[0m \u001b[43mos\u001b[49m\u001b[38;5;241;43m.\u001b[39;49m\u001b[43mrename\u001b[49m\u001b[43m(\u001b[49m\u001b[43mold_path\u001b[49m\u001b[43m,\u001b[49m\u001b[43m \u001b[49m\u001b[43mnew_path\u001b[49m\u001b[43m)\u001b[49m\n",
      "\u001b[0;31mFileNotFoundError\u001b[0m: [Errno 2] No such file or directory: '/Users/schugani/data.csv' -> '/Users/schugani/datasets/data.csv'"
     ]
    }
   ],
   "source": [
    "old_path = os.path.join(cur_path, \"data.csv\")\n",
    "new_path = os.path.join(new_dir, \"data.csv\")\n",
    "os.rename(old_path, new_path)"
   ]
  },
  {
   "cell_type": "code",
   "execution_count": 166,
   "id": "fd0dec62",
   "metadata": {},
   "outputs": [],
   "source": [
    "os.chdir(new_dir)"
   ]
  },
  {
   "cell_type": "code",
   "execution_count": 167,
   "id": "2018848a",
   "metadata": {
    "scrolled": true
   },
   "outputs": [
    {
     "data": {
      "text/plain": [
       "['data.csv']"
      ]
     },
     "execution_count": 167,
     "metadata": {},
     "output_type": "execute_result"
    }
   ],
   "source": [
    "os.listdir()"
   ]
  },
  {
   "cell_type": "markdown",
   "id": "2254f654",
   "metadata": {},
   "source": [
    "Nice! Now our data is in our new directory"
   ]
  },
  {
   "cell_type": "markdown",
   "id": "81685401",
   "metadata": {},
   "source": [
    "To change our directory back to the old one, we can call the chdir() function with the old path (that we saved as cur_path)"
   ]
  },
  {
   "cell_type": "code",
   "execution_count": 168,
   "id": "58b3371f",
   "metadata": {},
   "outputs": [],
   "source": [
    "os.chdir(cur_path)"
   ]
  }
 ],
 "metadata": {
  "kernelspec": {
   "display_name": "Python 3 (ipykernel)",
   "language": "python",
   "name": "python3"
  },
  "language_info": {
   "codemirror_mode": {
    "name": "ipython",
    "version": 3
   },
   "file_extension": ".py",
   "mimetype": "text/x-python",
   "name": "python",
   "nbconvert_exporter": "python",
   "pygments_lexer": "ipython3",
   "version": "3.9.12"
  }
 },
 "nbformat": 4,
 "nbformat_minor": 5
}