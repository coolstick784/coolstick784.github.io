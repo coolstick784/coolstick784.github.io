{
 "cells": [
  {
   "cell_type": "markdown",
   "id": "124d5d56",
   "metadata": {},
   "source": [
    "## Dictionaries"
   ]
  },
  {
   "cell_type": "markdown",
   "id": "1db538b7",
   "metadata": {},
   "source": [
    "Dictionaries in Python can be used to match certain values up. For example, if we had a list of employees with their names, emails, and phone numbers, we could use a dictionary for each employee to match up their name with a name variable, their email with an email variable, etc."
   ]
  },
  {
   "cell_type": "markdown",
   "id": "da5f14eb",
   "metadata": {},
   "source": [
    "We can define a dictionary as follows:\n",
    "\n",
    "    <dictionary name> = {<variable name 1>:<variable 1 value>,....<variable name n>:<variable n value>}"
   ]
  },
  {
   "cell_type": "code",
   "execution_count": 1,
   "id": "96a22125",
   "metadata": {},
   "outputs": [],
   "source": [
    "dict1 = {'Name':'John', 'Email':'johnsmith@gmail.com', 'Number':'918-029-0293'}"
   ]
  },
  {
   "cell_type": "code",
   "execution_count": 2,
   "id": "4d0084a6",
   "metadata": {},
   "outputs": [
    {
     "data": {
      "text/plain": [
       "{'Name': 'John', 'Email': 'johnsmith@gmail.com', 'Number': '918-029-0293'}"
      ]
     },
     "execution_count": 2,
     "metadata": {},
     "output_type": "execute_result"
    }
   ],
   "source": [
    "dict1"
   ]
  },
  {
   "cell_type": "markdown",
   "id": "59672e16",
   "metadata": {},
   "source": [
    "To reassign a value in the dictionary or to add a new value, simply type\n",
    "    \n",
    "    <dictionary name>[<name of key>] = <new value>"
   ]
  },
  {
   "cell_type": "code",
   "execution_count": 3,
   "id": "506765d8",
   "metadata": {},
   "outputs": [],
   "source": [
    "dict1['Name'] = 'Mitch'"
   ]
  },
  {
   "cell_type": "code",
   "execution_count": 4,
   "id": "641c0097",
   "metadata": {},
   "outputs": [],
   "source": [
    "dict1['Birthday'] = 'Jan 1 9182'"
   ]
  },
  {
   "cell_type": "code",
   "execution_count": 5,
   "id": "2cf8c4d5",
   "metadata": {},
   "outputs": [
    {
     "data": {
      "text/plain": [
       "{'Name': 'Mitch',\n",
       " 'Email': 'johnsmith@gmail.com',\n",
       " 'Number': '918-029-0293',\n",
       " 'Birthday': 'Jan 1 9182'}"
      ]
     },
     "execution_count": 5,
     "metadata": {},
     "output_type": "execute_result"
    }
   ],
   "source": [
    "dict1"
   ]
  },
  {
   "cell_type": "markdown",
   "id": "5ae8b680",
   "metadata": {},
   "source": [
    "To view emojis in Python, we can install and load the emoji python"
   ]
  },
  {
   "cell_type": "code",
   "execution_count": 6,
   "id": "c086ec83",
   "metadata": {
    "scrolled": true
   },
   "outputs": [
    {
     "name": "stdout",
     "output_type": "stream",
     "text": [
      "Requirement already satisfied: emoji in /Users/schugani/opt/anaconda3/lib/python3.9/site-packages (2.2.0)\r\n"
     ]
    }
   ],
   "source": [
    "!pip install emoji"
   ]
  },
  {
   "cell_type": "code",
   "execution_count": 7,
   "id": "da1d6217",
   "metadata": {},
   "outputs": [],
   "source": [
    "import emoji"
   ]
  },
  {
   "cell_type": "markdown",
   "id": "e1958d9e",
   "metadata": {},
   "source": [
    "To print an emoji, we can type \"emoji.emojize(\\<text with emojis>, language = \"alias\")"
   ]
  },
  {
   "cell_type": "code",
   "execution_count": 8,
   "id": "5bdae28c",
   "metadata": {},
   "outputs": [
    {
     "name": "stdout",
     "output_type": "stream",
     "text": [
      "😄\n",
      "Python is 👍\n"
     ]
    }
   ],
   "source": [
    "print(emoji.emojize(':smile:', language=\"alias\"))\n",
    "print(emoji.emojize(\"Python is :thumbsup:\", language=\"alias\"))"
   ]
  },
  {
   "cell_type": "markdown",
   "id": "af37fe57",
   "metadata": {},
   "source": [
    "To get the keys (the items corresponding to the definitions, but not the definitions themselves), we can use the keys() function"
   ]
  },
  {
   "cell_type": "code",
   "execution_count": 9,
   "id": "6202a321",
   "metadata": {},
   "outputs": [
    {
     "data": {
      "text/plain": [
       "dict_keys(['Name', 'Email', 'Number', 'Birthday'])"
      ]
     },
     "execution_count": 9,
     "metadata": {},
     "output_type": "execute_result"
    }
   ],
   "source": [
    "dict1.keys()"
   ]
  }
 ],
 "metadata": {
  "kernelspec": {
   "display_name": "Python 3 (ipykernel)",
   "language": "python",
   "name": "python3"
  },
  "language_info": {
   "codemirror_mode": {
    "name": "ipython",
    "version": 3
   },
   "file_extension": ".py",
   "mimetype": "text/x-python",
   "name": "python",
   "nbconvert_exporter": "python",
   "pygments_lexer": "ipython3",
   "version": "3.9.12"
  }
 },
 "nbformat": 4,
 "nbformat_minor": 5
}