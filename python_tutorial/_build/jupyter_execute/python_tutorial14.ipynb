{
 "cells": [
  {
   "cell_type": "markdown",
   "id": "4e421e31",
   "metadata": {},
   "source": [
    "## Exercise 4\n",
    "\n",
    "Try to make a function called permutation that takes two numbers, n and r, and returns\n",
    "\n",
    "n!/(n-r)! (! is the factorial symbol)"
   ]
  },
  {
   "cell_type": "markdown",
   "id": "ec1c43fa",
   "metadata": {},
   "source": [
    "```{admonition} Click to show solution\n",
    ":class: dropdown\n",
    "        def permutation(n, r):\n",
    "            n_factorial = factorial(n)\n",
    "            n_r_factorial = factorial(n-r)\n",
    "            return (n_factorial/(n_r_factorial))\n",
    "```"
   ]
  },
  {
   "cell_type": "markdown",
   "id": "1e404a36",
   "metadata": {},
   "source": [
    "Here is a function with no inputs, but still does something. This is useful if, for example, you want to print a lot of text every time something happens."
   ]
  },
  {
   "cell_type": "code",
   "execution_count": 1,
   "id": "65551ae5",
   "metadata": {},
   "outputs": [],
   "source": [
    "def HelloWorld():\n",
    "    print(\"Hello World!\")"
   ]
  },
  {
   "cell_type": "code",
   "execution_count": 2,
   "id": "7f0952e5",
   "metadata": {},
   "outputs": [
    {
     "name": "stdout",
     "output_type": "stream",
     "text": [
      "Hello World!\n"
     ]
    }
   ],
   "source": [
    "HelloWorld()"
   ]
  },
  {
   "cell_type": "markdown",
   "id": "62791a80",
   "metadata": {},
   "source": [
    "Let's say we want the factorials returned when we call the combination function. Although Python only allows one value to be returned from a function, we can bypass that by combining all the elements into a list"
   ]
  },
  {
   "cell_type": "code",
   "execution_count": 3,
   "id": "992a7848",
   "metadata": {},
   "outputs": [],
   "source": [
    "def combination(n, r):\n",
    "    n_factorial = factorial(n)\n",
    "    r_factorial = factorial(r)\n",
    "    n_r_factorial = factorial(n-r)\n",
    "    return [n_factorial,r_factorial,(n_factorial/(r_factorial * n_r_factorial))]"
   ]
  },
  {
   "cell_type": "code",
   "execution_count": 4,
   "id": "dac8d57f",
   "metadata": {},
   "outputs": [
    {
     "ename": "NameError",
     "evalue": "name 'factorial' is not defined",
     "output_type": "error",
     "traceback": [
      "\u001b[0;31m---------------------------------------------------------------------------\u001b[0m",
      "\u001b[0;31mNameError\u001b[0m                                 Traceback (most recent call last)",
      "Input \u001b[0;32mIn [4]\u001b[0m, in \u001b[0;36m<cell line: 1>\u001b[0;34m()\u001b[0m\n\u001b[0;32m----> 1\u001b[0m \u001b[43mcombination\u001b[49m\u001b[43m(\u001b[49m\u001b[38;5;241;43m14\u001b[39;49m\u001b[43m,\u001b[49m\u001b[43m \u001b[49m\u001b[38;5;241;43m3\u001b[39;49m\u001b[43m)\u001b[49m\n",
      "Input \u001b[0;32mIn [3]\u001b[0m, in \u001b[0;36mcombination\u001b[0;34m(n, r)\u001b[0m\n\u001b[1;32m      1\u001b[0m \u001b[38;5;28;01mdef\u001b[39;00m \u001b[38;5;21mcombination\u001b[39m(n, r):\n\u001b[0;32m----> 2\u001b[0m     n_factorial \u001b[38;5;241m=\u001b[39m \u001b[43mfactorial\u001b[49m(n)\n\u001b[1;32m      3\u001b[0m     r_factorial \u001b[38;5;241m=\u001b[39m factorial(r)\n\u001b[1;32m      4\u001b[0m     n_r_factorial \u001b[38;5;241m=\u001b[39m factorial(n\u001b[38;5;241m-\u001b[39mr)\n",
      "\u001b[0;31mNameError\u001b[0m: name 'factorial' is not defined"
     ]
    }
   ],
   "source": [
    "combination(14, 3)"
   ]
  }
 ],
 "metadata": {
  "kernelspec": {
   "display_name": "Python 3 (ipykernel)",
   "language": "python",
   "name": "python3"
  },
  "language_info": {
   "codemirror_mode": {
    "name": "ipython",
    "version": 3
   },
   "file_extension": ".py",
   "mimetype": "text/x-python",
   "name": "python",
   "nbconvert_exporter": "python",
   "pygments_lexer": "ipython3",
   "version": "3.9.12"
  }
 },
 "nbformat": 4,
 "nbformat_minor": 5
}