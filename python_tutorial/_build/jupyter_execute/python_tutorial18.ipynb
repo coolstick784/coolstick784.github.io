{
 "cells": [
  {
   "cell_type": "markdown",
   "id": "2f7c9caf",
   "metadata": {},
   "source": [
    "## Dates"
   ]
  },
  {
   "cell_type": "markdown",
   "id": "a1bebb80",
   "metadata": {},
   "source": [
    "To use dates, we can import the date module from the datetime package. \n",
    "\n",
    "First, we can define a function called printDate(). It will begin by printing the date today, which is shown by date.today().\n",
    "\n",
    "To format the date, we can use the .strftime() function, as shown, to format it however you would like"
   ]
  },
  {
   "cell_type": "code",
   "execution_count": 1,
   "id": "de202b80",
   "metadata": {},
   "outputs": [],
   "source": [
    "from datetime import date\n",
    "# from https://www.programiz.com/python-programming/datetime/current-datetime\n",
    "def printDate():\n",
    "    today = date.today()\n",
    "    print(\"Hello! The date is: \\n\", today)\n",
    "    \n",
    "    # dd/mm/YY\n",
    "    d1 = today.strftime(\"%d/%m/%Y\")\n",
    "    print(\"dd/mm/yyyy =\", d1)\n",
    "\n",
    "    # Textual month, day and year\t\n",
    "    d2 = today.strftime(\"%B %d, %Y\")\n",
    "    print(\"Month Day, Year =\", d2)\n",
    "\n",
    "    # mm/dd/y\n",
    "    d3 = today.strftime(\"%m/%d/%y\")\n",
    "    print(\"mm/dd/yy =\", d3)\n",
    "\n",
    "    # Month abbreviation, day and year\t\n",
    "    d4 = today.strftime(\"%b-%d-%Y\")\n",
    "    print(\"Month-dd-yyyy =\", d4)\n",
    "    return today"
   ]
  },
  {
   "cell_type": "code",
   "execution_count": 2,
   "id": "5ba6b40c",
   "metadata": {},
   "outputs": [
    {
     "name": "stdout",
     "output_type": "stream",
     "text": [
      "Hello! The date is: \n",
<<<<<<< HEAD
<<<<<<< HEAD
      " 2023-04-12\n",
      "dd/mm/yyyy = 12/04/2023\n",
      "Month Day, Year = April 12, 2023\n",
      "mm/dd/yy = 04/12/23\n",
      "Month-dd-yyyy = Apr-12-2023\n"
=======
=======
>>>>>>> parent of 8149934 (updates)
      " 2023-03-27\n",
      "dd/mm/yyyy = 27/03/2023\n",
      "Month Day, Year = March 27, 2023\n",
      "mm/dd/yy = 03/27/23\n",
      "Month-dd-yyyy = Mar-27-2023\n"
<<<<<<< HEAD
>>>>>>> parent of 8149934 (updates)
=======
>>>>>>> parent of 8149934 (updates)
     ]
    }
   ],
   "source": [
    "date = printDate()"
   ]
  },
  {
   "cell_type": "code",
   "execution_count": 3,
   "id": "14318a54",
   "metadata": {},
   "outputs": [
    {
     "name": "stdout",
     "output_type": "stream",
     "text": [
<<<<<<< HEAD
<<<<<<< HEAD
      "2023-04-12\n"
=======
      "2023-03-27\n"
>>>>>>> parent of 8149934 (updates)
=======
      "2023-03-27\n"
>>>>>>> parent of 8149934 (updates)
     ]
    }
   ],
   "source": [
    "print(date)"
   ]
  },
  {
   "cell_type": "markdown",
   "id": "3166a1bd",
   "metadata": {},
   "source": [
    "Note that when we call printDate(), not only are the printed items in the function printed, but the returned value is shown after the \"Out\" text."
   ]
  },
  {
   "cell_type": "code",
   "execution_count": 4,
   "id": "2c405f1a",
   "metadata": {},
   "outputs": [
    {
     "name": "stdout",
     "output_type": "stream",
     "text": [
      "Hello! The date is: \n",
<<<<<<< HEAD
<<<<<<< HEAD
      " 2023-04-12\n",
      "dd/mm/yyyy = 12/04/2023\n",
      "Month Day, Year = April 12, 2023\n",
      "mm/dd/yy = 04/12/23\n",
      "Month-dd-yyyy = Apr-12-2023\n"
=======
=======
>>>>>>> parent of 8149934 (updates)
      " 2023-03-27\n",
      "dd/mm/yyyy = 27/03/2023\n",
      "Month Day, Year = March 27, 2023\n",
      "mm/dd/yy = 03/27/23\n",
      "Month-dd-yyyy = Mar-27-2023\n"
<<<<<<< HEAD
>>>>>>> parent of 8149934 (updates)
=======
>>>>>>> parent of 8149934 (updates)
     ]
    },
    {
     "data": {
      "text/plain": [
<<<<<<< HEAD
<<<<<<< HEAD
       "datetime.date(2023, 4, 12)"
=======
       "datetime.date(2023, 3, 27)"
>>>>>>> parent of 8149934 (updates)
=======
       "datetime.date(2023, 3, 27)"
>>>>>>> parent of 8149934 (updates)
      ]
     },
     "execution_count": 4,
     "metadata": {},
     "output_type": "execute_result"
    }
   ],
   "source": [
    "printDate()"
   ]
  }
 ],
 "metadata": {
  "kernelspec": {
   "display_name": "Python 3 (ipykernel)",
   "language": "python",
   "name": "python3"
  },
  "language_info": {
   "codemirror_mode": {
    "name": "ipython",
    "version": 3
   },
   "file_extension": ".py",
   "mimetype": "text/x-python",
   "name": "python",
   "nbconvert_exporter": "python",
   "pygments_lexer": "ipython3",
   "version": "3.9.12"
  }
 },
 "nbformat": 4,
 "nbformat_minor": 5
}