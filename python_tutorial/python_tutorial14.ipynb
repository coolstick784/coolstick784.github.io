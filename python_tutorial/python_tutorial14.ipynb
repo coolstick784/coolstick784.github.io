{
 "cells": [
  {
   "cell_type": "markdown",
   "id": "4e421e31",
   "metadata": {},
   "source": [
    "## Exercise 4\n",
    "\n",
    "Try to make a function called permutation that takes two numbers, n and r, and returns\n",
    "\n",
    "n!/(n-r)! (! is the factorial symbol)"
   ]
  },
  {
   "cell_type": "markdown",
   "id": "ec1c43fa",
   "metadata": {},
   "source": [
    "```{admonition} Click to show solution\n",
    ":class: dropdown\n",
    "        def permutation(n, r):\n",
    "            n_factorial = factorial(n)\n",
    "            n_r_factorial = factorial(n-r)\n",
    "            return (n_factorial/(n_r_factorial))\n",
    "```"
   ]
  }
 ],
 "metadata": {
  "kernelspec": {
   "display_name": "Python 3 (ipykernel)",
   "language": "python",
   "name": "python3"
  },
  "language_info": {
   "codemirror_mode": {
    "name": "ipython",
    "version": 3
   },
   "file_extension": ".py",
   "mimetype": "text/x-python",
   "name": "python",
   "nbconvert_exporter": "python",
   "pygments_lexer": "ipython3",
   "version": "3.9.12"
  }
 },
 "nbformat": 4,
 "nbformat_minor": 5
}
