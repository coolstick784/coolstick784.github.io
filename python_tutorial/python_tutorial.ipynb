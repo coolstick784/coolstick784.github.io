{
 "cells": [
  {
   "cell_type": "markdown",
   "id": "6a5ca903",
   "metadata": {},
   "source": [
    "# Tutorial"
   ]
  },
  {
   "cell_type": "markdown",
   "id": "0ed282b2",
   "metadata": {},
   "source": [
    "Before we start, please make sure you have Python installed from https://www.python.org/"
   ]
  },
  {
   "cell_type": "markdown",
   "id": "ac0a8cf8",
   "metadata": {},
   "source": [
    "## Basics: Printing and Basic Arithmetic"
   ]
  },
  {
   "cell_type": "markdown",
   "id": "9ecf0957",
   "metadata": {},
   "source": [
    "Let's start with the basics. To print something on the screen, we can type \"print(\\<text>)\". If you want to print plain text, you'll want to put that in quotes, as shown below. "
   ]
  },
  {
   "cell_type": "code",
   "execution_count": 5,
   "id": "9ee1e3a1",
   "metadata": {
    "scrolled": false
   },
   "outputs": [
    {
     "name": "stdout",
     "output_type": "stream",
     "text": [
      "Hello World!\n"
     ]
    }
   ],
   "source": [
    "print(\"Hello World!\")"
   ]
  },
  {
   "cell_type": "markdown",
   "id": "467cc010",
   "metadata": {},
   "source": [
    "In Python, there are different compilers, which are different applications to run the code. Right now, we're in a type of compiler called a notebook. In a notebook, there are items called cells, which is represented by each block of code. If a value is put at the last part of a cell, that value will be printed out in a notebook, as shown."
   ]
  },
  {
   "cell_type": "code",
   "execution_count": 6,
   "id": "71140597",
   "metadata": {},
   "outputs": [
    {
     "data": {
      "text/plain": [
       "'Hello World'"
      ]
     },
     "execution_count": 6,
     "metadata": {},
     "output_type": "execute_result"
    }
   ],
   "source": [
    "\"Hello World\""
   ]
  },
  {
   "cell_type": "markdown",
   "id": "71e2dc6f",
   "metadata": {},
   "source": [
    "Next, we have mathematical operators. There are 7 arithmetic ones in python:\n",
    "1. Addition. This is accomplished with the format \\<x+y>\n",
    "2. Subtraction, with \\<x-y>\n",
    "3. Multiplication, with \\<x*y>\n",
    "4. Division, with \\<x/y>\n",
    "5. Exponents, with \\<x\\**y> representing x^y\n",
    "6. Modulus, which represents a remainder. For example, if we divide 5/2, we will end up with a remainder of 1. This is accomplished with the format \\<x%y>\n",
    "7. Floor division, which represents the rounded down number of division, represented by //. For example, 11//2 wil equal 5.\n"
   ]
  },
  {
   "cell_type": "code",
   "execution_count": 7,
   "id": "7c68d2d6",
   "metadata": {},
   "outputs": [
    {
     "name": "stdout",
     "output_type": "stream",
     "text": [
      "2\n",
      "3\n",
      "12\n",
      "4.5\n",
      "32\n",
      "1\n",
      "2\n"
     ]
    }
   ],
   "source": [
    "print(1+1)\n",
    "print(5-2)\n",
    "print(3*4)\n",
    "print(9/2)\n",
    "print(2**5)\n",
    "print(9%2)\n",
    "print(15//7)"
   ]
  },
  {
   "cell_type": "markdown",
   "id": "420b1bea",
   "metadata": {},
   "source": [
    "After that, we have variables. To assign variables, we can type \n",
    "\n",
    "\\<variable we want to assign> = \\<what we want in the variable>.\n",
    "\n",
    "For example, if we type \"x = 2\\*3\", we are assigning the value of 2\\*3 to the variable x"
   ]
  },
  {
   "cell_type": "code",
   "execution_count": 8,
   "id": "c60837cc",
   "metadata": {},
   "outputs": [],
   "source": [
    "x = 2 * 3\n",
    "y = 5 - 2\n",
    "g = 9/2\n",
    "p = 9 % 2\n"
   ]
  },
  {
   "cell_type": "markdown",
   "id": "0bdf680f",
   "metadata": {},
   "source": [
    "We can also apply multiplication to strings. For example, we can print \"Hello World\" 10 times like this:"
   ]
  },
  {
   "cell_type": "code",
   "execution_count": 9,
   "id": "dc05e0f6",
   "metadata": {},
   "outputs": [
    {
     "name": "stdout",
     "output_type": "stream",
     "text": [
      "Hello WorldHello WorldHello WorldHello WorldHello WorldHello WorldHello WorldHello WorldHello WorldHello World\n"
     ]
    }
   ],
   "source": [
    "print(\"Hello World\" * 10)"
   ]
  },
  {
   "cell_type": "markdown",
   "id": "e83a6285",
   "metadata": {},
   "source": [
    "To print multiple values at a time, one way we can do this is we can separate them by commas"
   ]
  },
  {
   "cell_type": "code",
   "execution_count": 10,
   "id": "0a69b5d8",
   "metadata": {
    "scrolled": true
   },
   "outputs": [
    {
     "name": "stdout",
     "output_type": "stream",
     "text": [
      "6 3 4.5 1\n"
     ]
    }
   ],
   "source": [
    "print(x, y, g, p)"
   ]
  },
  {
   "cell_type": "markdown",
   "id": "15002ac1",
   "metadata": {},
   "source": [
    "To change a value by an operator, we can use the \\<operator>= operators. For example, the variable x is equal to 6 right now. If we want to subtract that by 2, we can type x-=2"
   ]
  },
  {
   "cell_type": "code",
   "execution_count": 11,
   "id": "f78628c9",
   "metadata": {},
   "outputs": [],
   "source": [
    "x-=2"
   ]
  },
  {
   "cell_type": "markdown",
   "id": "9c555f45",
   "metadata": {},
   "source": [
    "Now, x should print out 4"
   ]
  },
  {
   "cell_type": "code",
   "execution_count": 12,
   "id": "141f25c9",
   "metadata": {},
   "outputs": [
    {
     "data": {
      "text/plain": [
       "4"
      ]
     },
     "execution_count": 12,
     "metadata": {},
     "output_type": "execute_result"
    }
   ],
   "source": [
    "x"
   ]
  },
  {
   "cell_type": "markdown",
   "id": "b16fece4",
   "metadata": {},
   "source": [
    "Similarly, we can make x equal to x^2 with x**=2"
   ]
  },
  {
   "cell_type": "code",
   "execution_count": 13,
   "id": "b3b5a46d",
   "metadata": {},
   "outputs": [
    {
     "data": {
      "text/plain": [
       "16"
      ]
     },
     "execution_count": 13,
     "metadata": {},
     "output_type": "execute_result"
    }
   ],
   "source": [
    "x**= 2\n",
    "x"
   ]
  },
  {
   "cell_type": "markdown",
   "id": "0977c93d",
   "metadata": {},
   "source": [
    "Next, we have the equality operator. This outputs \"True\" if the two items are equal and \"False\" if they are not\n"
   ]
  },
  {
   "cell_type": "code",
   "execution_count": 14,
   "id": "9337db44",
   "metadata": {},
   "outputs": [
    {
     "name": "stdout",
     "output_type": "stream",
     "text": [
      "Is 7==7? True\n",
      "Is x==0? False\n"
     ]
    }
   ],
   "source": [
    "print(\"Is 7==7?\", 7==7)\n",
    "print(\"Is x==0?\", x==0)"
   ]
  },
  {
   "cell_type": "markdown",
   "id": "4ee75849",
   "metadata": {},
   "source": [
    "## Quick Introduction to Pandas"
   ]
  },
  {
   "cell_type": "markdown",
   "id": "e3d54f5c",
   "metadata": {},
   "source": [
    "In Python, there are items called functions. These enable us to format and change the values we're working with. For example, when we print something, we are calling the print() function. By installing code that is compiled into \"packages\", we can utilize functions that others have created for our own use in a few lines of code."
   ]
  },
  {
   "cell_type": "markdown",
   "id": "68afb1d8",
   "metadata": {},
   "source": [
    "One such package is called \"pandas\". This package lets us work with spreadsheets and create our own in Python. To install a package, simply type \"!pip install \\<package>\" in a cell"
   ]
  },
  {
   "cell_type": "code",
   "execution_count": 15,
   "id": "ad209d98",
   "metadata": {},
   "outputs": [
    {
     "name": "stdout",
     "output_type": "stream",
     "text": [
      "Requirement already satisfied: pandas in /Users/schugani/opt/anaconda3/lib/python3.9/site-packages (1.4.2)\r\n",
      "Requirement already satisfied: python-dateutil>=2.8.1 in /Users/schugani/opt/anaconda3/lib/python3.9/site-packages (from pandas) (2.8.2)\r\n",
      "Requirement already satisfied: pytz>=2020.1 in /Users/schugani/opt/anaconda3/lib/python3.9/site-packages (from pandas) (2021.3)\r\n",
      "Requirement already satisfied: numpy>=1.18.5 in /Users/schugani/opt/anaconda3/lib/python3.9/site-packages (from pandas) (1.21.5)\r\n",
      "Requirement already satisfied: six>=1.5 in /Users/schugani/opt/anaconda3/lib/python3.9/site-packages (from python-dateutil>=2.8.1->pandas) (1.16.0)\r\n"
     ]
    }
   ],
   "source": [
    "!pip install pandas"
   ]
  },
  {
   "cell_type": "markdown",
   "id": "f5573921",
   "metadata": {},
   "source": [
    "Now that we have the functions from the _pandas_ package installed, we can tell Python that we want to import the functions by saying \"import pandas\". To use a pandas function, we can type \"pandas.\\<function>\". To shorten pandas to pd, we can say \"import pandas as pd\""
   ]
  },
  {
   "cell_type": "code",
   "execution_count": 16,
   "id": "718ca480",
   "metadata": {},
   "outputs": [],
   "source": [
    "import pandas as pd"
   ]
  },
  {
   "cell_type": "markdown",
   "id": "e37b1cbb",
   "metadata": {},
   "source": [
    "One data type in Python is called a list, which is made up of a collection of data types. We'll come back to this later, but for now, we can initialize a list of names and values as shown below."
   ]
  },
  {
   "cell_type": "code",
   "execution_count": 17,
   "id": "7b7bec8a",
   "metadata": {},
   "outputs": [],
   "source": [
    "names = ['Daucus', 'Pastinaca', 'Curucma', 'Nelumbo', 'Artemisia', 'Zingiber']\n",
    "vals = [34, 18, 16, 20, 29, 19]"
   ]
  },
  {
   "cell_type": "code",
   "execution_count": 18,
   "id": "825378e9",
   "metadata": {},
   "outputs": [
    {
     "name": "stdout",
     "output_type": "stream",
     "text": [
      "['Daucus', 'Pastinaca', 'Curucma', 'Nelumbo', 'Artemisia', 'Zingiber']\n",
      "[34, 18, 16, 20, 29, 19]\n"
     ]
    }
   ],
   "source": [
    "print(names)\n",
    "print(vals)"
   ]
  },
  {
   "cell_type": "markdown",
   "id": "d6357465",
   "metadata": {},
   "source": [
    "Next, we have a DataFrame. This is similar to an Excel sheet, where we have multiple columns and cells within each column. We can create a data frame out of multiple lists, using the format\n",
    "\\<dataframe name> = pd.DataFrame(list(zip(\\<names of lists separated by commas>))"
   ]
  },
  {
   "cell_type": "code",
   "execution_count": 19,
   "id": "fb90234c",
   "metadata": {},
   "outputs": [],
   "source": [
    "df = pd.DataFrame(list(zip(names, vals)))\n"
   ]
  },
  {
   "cell_type": "code",
   "execution_count": 20,
   "id": "52e185e8",
   "metadata": {},
   "outputs": [
    {
     "data": {
      "text/html": [
       "<div>\n",
       "<style scoped>\n",
       "    .dataframe tbody tr th:only-of-type {\n",
       "        vertical-align: middle;\n",
       "    }\n",
       "\n",
       "    .dataframe tbody tr th {\n",
       "        vertical-align: top;\n",
       "    }\n",
       "\n",
       "    .dataframe thead th {\n",
       "        text-align: right;\n",
       "    }\n",
       "</style>\n",
       "<table border=\"1\" class=\"dataframe\">\n",
       "  <thead>\n",
       "    <tr style=\"text-align: right;\">\n",
       "      <th></th>\n",
       "      <th>0</th>\n",
       "      <th>1</th>\n",
       "    </tr>\n",
       "  </thead>\n",
       "  <tbody>\n",
       "    <tr>\n",
       "      <th>0</th>\n",
       "      <td>Daucus</td>\n",
       "      <td>34</td>\n",
       "    </tr>\n",
       "    <tr>\n",
       "      <th>1</th>\n",
       "      <td>Pastinaca</td>\n",
       "      <td>18</td>\n",
       "    </tr>\n",
       "    <tr>\n",
       "      <th>2</th>\n",
       "      <td>Curucma</td>\n",
       "      <td>16</td>\n",
       "    </tr>\n",
       "    <tr>\n",
       "      <th>3</th>\n",
       "      <td>Nelumbo</td>\n",
       "      <td>20</td>\n",
       "    </tr>\n",
       "    <tr>\n",
       "      <th>4</th>\n",
       "      <td>Artemisia</td>\n",
       "      <td>29</td>\n",
       "    </tr>\n",
       "    <tr>\n",
       "      <th>5</th>\n",
       "      <td>Zingiber</td>\n",
       "      <td>19</td>\n",
       "    </tr>\n",
       "  </tbody>\n",
       "</table>\n",
       "</div>"
      ],
      "text/plain": [
       "           0   1\n",
       "0     Daucus  34\n",
       "1  Pastinaca  18\n",
       "2    Curucma  16\n",
       "3    Nelumbo  20\n",
       "4  Artemisia  29\n",
       "5   Zingiber  19"
      ]
     },
     "execution_count": 20,
     "metadata": {},
     "output_type": "execute_result"
    }
   ],
   "source": [
    "df"
   ]
  },
  {
   "cell_type": "markdown",
   "id": "b0cd4128",
   "metadata": {},
   "source": [
    "Awesome! Now, we want to name the columns. To do this, we can type \n",
    "\n",
    "\\<dataframe name>.columns = \\[\\<list of columns separated by commas]"
   ]
  },
  {
   "cell_type": "code",
   "execution_count": 21,
   "id": "4372232f",
   "metadata": {},
   "outputs": [],
   "source": [
    "df.columns = ['names', 'vals']"
   ]
  },
  {
   "cell_type": "code",
   "execution_count": 22,
   "id": "279528ad",
   "metadata": {},
   "outputs": [
    {
     "data": {
      "text/html": [
       "<div>\n",
       "<style scoped>\n",
       "    .dataframe tbody tr th:only-of-type {\n",
       "        vertical-align: middle;\n",
       "    }\n",
       "\n",
       "    .dataframe tbody tr th {\n",
       "        vertical-align: top;\n",
       "    }\n",
       "\n",
       "    .dataframe thead th {\n",
       "        text-align: right;\n",
       "    }\n",
       "</style>\n",
       "<table border=\"1\" class=\"dataframe\">\n",
       "  <thead>\n",
       "    <tr style=\"text-align: right;\">\n",
       "      <th></th>\n",
       "      <th>names</th>\n",
       "      <th>vals</th>\n",
       "    </tr>\n",
       "  </thead>\n",
       "  <tbody>\n",
       "    <tr>\n",
       "      <th>0</th>\n",
       "      <td>Daucus</td>\n",
       "      <td>34</td>\n",
       "    </tr>\n",
       "    <tr>\n",
       "      <th>1</th>\n",
       "      <td>Pastinaca</td>\n",
       "      <td>18</td>\n",
       "    </tr>\n",
       "    <tr>\n",
       "      <th>2</th>\n",
       "      <td>Curucma</td>\n",
       "      <td>16</td>\n",
       "    </tr>\n",
       "    <tr>\n",
       "      <th>3</th>\n",
       "      <td>Nelumbo</td>\n",
       "      <td>20</td>\n",
       "    </tr>\n",
       "    <tr>\n",
       "      <th>4</th>\n",
       "      <td>Artemisia</td>\n",
       "      <td>29</td>\n",
       "    </tr>\n",
       "    <tr>\n",
       "      <th>5</th>\n",
       "      <td>Zingiber</td>\n",
       "      <td>19</td>\n",
       "    </tr>\n",
       "  </tbody>\n",
       "</table>\n",
       "</div>"
      ],
      "text/plain": [
       "       names  vals\n",
       "0     Daucus    34\n",
       "1  Pastinaca    18\n",
       "2    Curucma    16\n",
       "3    Nelumbo    20\n",
       "4  Artemisia    29\n",
       "5   Zingiber    19"
      ]
     },
     "execution_count": 22,
     "metadata": {},
     "output_type": "execute_result"
    }
   ],
   "source": [
    "df"
   ]
  },
  {
   "cell_type": "markdown",
   "id": "a830d0fb",
   "metadata": {},
   "source": [
    "## Data Types"
   ]
  },
  {
   "cell_type": "markdown",
   "id": "bdd3c139",
   "metadata": {},
   "source": [
    "The four major basic data types in Python are integers, decimals/floats, booleans, and strings. Integers are whole numbers, floats are decimals, booleans are true/false values, and strings are a sequence of characters "
   ]
  },
  {
   "cell_type": "markdown",
   "id": "a0ded877",
   "metadata": {},
   "source": [
    "To start, let's set the value of \"val\" to 1 in quotation marks, which indicates that it's a string"
   ]
  },
  {
   "cell_type": "code",
   "execution_count": 23,
   "id": "269c1621",
   "metadata": {},
   "outputs": [
    {
     "data": {
      "text/plain": [
       "str"
      ]
     },
     "execution_count": 23,
     "metadata": {},
     "output_type": "execute_result"
    }
   ],
   "source": [
    "val = \"1\"\n",
    "type(val)"
   ]
  },
  {
   "cell_type": "markdown",
   "id": "87df0a10",
   "metadata": {},
   "source": [
    "To convert a value to a different data type, we can type \\<data type>(\\<variable name>)\n",
    "\n",
    "We can see how the value \"1\" is converted to other data types. All values that are not equal to 0/a blank string will equal true in boolean"
   ]
  },
  {
   "cell_type": "code",
   "execution_count": 24,
   "id": "d24343ff",
   "metadata": {},
   "outputs": [
    {
     "name": "stdout",
     "output_type": "stream",
     "text": [
      "integer 1\n",
      "float/decimal 1.0\n",
      "boolean True\n",
      "string 1\n"
     ]
    }
   ],
   "source": [
    "print(\"integer\", int(val))\n",
    "print(\"float/decimal\", float(val))\n",
    "print(\"boolean\", bool(val))\n",
    "print(\"string\", val)\n"
   ]
  },
  {
   "cell_type": "code",
   "execution_count": 25,
   "id": "7273f8a6",
   "metadata": {},
   "outputs": [
    {
     "name": "stdout",
     "output_type": "stream",
     "text": [
      "Boolean of -0.00001: True\n",
      "Boolean of 0: False\n",
      "Boolean of an empty string: False\n"
     ]
    }
   ],
   "source": [
    "print(\"Boolean of -0.00001:\", bool(-0.00001))\n",
    "print(\"Boolean of 0:\", bool(0))\n",
    "print(\"Boolean of an empty string:\", bool(\"\"))"
   ]
  },
  {
   "cell_type": "markdown",
   "id": "57a9c908",
   "metadata": {},
   "source": [
    "## Inputting Data"
   ]
  },
  {
   "cell_type": "markdown",
   "id": "15579006",
   "metadata": {},
   "source": [
    "To input data with a prompt into a variable, we can type\n",
    "\n",
    "\\<output variable> = input(\\<prompt>)"
   ]
  },
  {
   "cell_type": "code",
   "execution_count": 26,
   "id": "fb959af5",
   "metadata": {
    "tags": [
     "remove-output"
    ]
   },
   "outputs": [
    {
     "name": "stdout",
     "output_type": "stream",
     "text": [
      "What is your major? Statistics\n"
     ]
    }
   ],
   "source": [
    "major = input(\"What is your major? \")"
   ]
  },
  {
   "cell_type": "code",
   "execution_count": 27,
   "id": "8e0417ed",
   "metadata": {},
   "outputs": [
    {
     "name": "stdout",
     "output_type": "stream",
     "text": [
      "Your major is Statistics\n"
     ]
    }
   ],
   "source": [
    "print(\"Your major is\", major)"
   ]
  },
  {
   "cell_type": "code",
   "execution_count": 28,
   "id": "fe2aa3ac",
   "metadata": {},
   "outputs": [
    {
     "name": "stdout",
     "output_type": "stream",
     "text": [
      "What is your name? Sahil\n"
     ]
    }
   ],
   "source": [
    "name = input(\"What is your name? \")"
   ]
  },
  {
   "cell_type": "markdown",
   "id": "b8f046e2",
   "metadata": {},
   "source": [
    "Another way to connect strings is to write the + symbol. However, unlike the commas, we'll want to make sure that each specific item is of the _string_ data type"
   ]
  },
  {
   "cell_type": "code",
   "execution_count": 29,
   "id": "8178fb3e",
   "metadata": {},
   "outputs": [
    {
     "name": "stdout",
     "output_type": "stream",
     "text": [
      "Sahil is majoring in Statistics\n"
     ]
    }
   ],
   "source": [
    "print(name + \" is majoring in \" + major)"
   ]
  },
  {
   "cell_type": "code",
   "execution_count": 30,
   "id": "239fbf82",
   "metadata": {
    "scrolled": true
   },
   "outputs": [
    {
     "ename": "TypeError",
     "evalue": "unsupported operand type(s) for +: 'int' and 'str'",
     "output_type": "error",
     "traceback": [
      "\u001b[0;31m---------------------------------------------------------------------------\u001b[0m",
      "\u001b[0;31mTypeError\u001b[0m                                 Traceback (most recent call last)",
      "Input \u001b[0;32mIn [30]\u001b[0m, in \u001b[0;36m<cell line: 1>\u001b[0;34m()\u001b[0m\n\u001b[0;32m----> 1\u001b[0m \u001b[38;5;28mprint\u001b[39m(\u001b[38;5;241;43m5\u001b[39;49m\u001b[43m \u001b[49m\u001b[38;5;241;43m+\u001b[39;49m\u001b[43m \u001b[49m\u001b[38;5;124;43m\"\u001b[39;49m\u001b[38;5;124;43m is a number\u001b[39;49m\u001b[38;5;124;43m\"\u001b[39;49m)\n",
      "\u001b[0;31mTypeError\u001b[0m: unsupported operand type(s) for +: 'int' and 'str'"
     ]
    }
   ],
   "source": [
    "print(5 + \" is a number\")"
   ]
  },
  {
   "cell_type": "code",
   "execution_count": 31,
   "id": "441402c7",
   "metadata": {},
   "outputs": [
    {
     "name": "stdout",
     "output_type": "stream",
     "text": [
      "5 is a number\n"
     ]
    }
   ],
   "source": [
    "print(str(5) + \" is a number\")"
   ]
  },
  {
   "cell_type": "markdown",
   "id": "1fe0ea0b",
   "metadata": {},
   "source": [
    "## Exercise 1\n",
    "\n",
    "For an exercise, ask the user for the temperature in Fahrenheit and convert it to Celsius.\n",
    "\n",
    "Celsius = (Fahrenheit - 32)\\*5/9\n",
    "\n",
    "Hint: Convert the input to a float before converting!"
   ]
  },
  {
   "cell_type": "markdown",
   "id": "860da036",
   "metadata": {},
   "source": [
    "```{admonition} Click to show solution\n",
    ":class: dropdown\n",
    "        temp_f = input(\"What is the temperature in Fahrenheit?\")\n",
    "        temp_c = (float(temp_f)-32)* 5/9\n",
    "        print(\"The temperature in Celsius is \", temp_c)```\n"
   ]
  },
  {
   "cell_type": "markdown",
   "id": "776c4ac8",
   "metadata": {},
   "source": [
    "## Lists and Sets"
   ]
  },
  {
   "cell_type": "markdown",
   "id": "cfe4f73c",
   "metadata": {},
   "source": [
    "Going back to our lists of names and values, we'll reinitialize them as shown:"
   ]
  },
  {
   "cell_type": "code",
   "execution_count": 32,
   "id": "62f2297d",
   "metadata": {},
   "outputs": [],
   "source": [
    "names = ['Daucus', 'Pastinaca', 'Curucma', 'Nelumbo', 'Artemisia', 'Zingiber']\n",
    "vals = [34, 18, 16, 20, 29, 19]"
   ]
  },
  {
   "cell_type": "markdown",
   "id": "55fb1eec",
   "metadata": {},
   "source": [
    "If we make vals a set, this would essentially make it an ordered list that cannot be altered with only unique values"
   ]
  },
  {
   "cell_type": "code",
   "execution_count": 33,
   "id": "4721b5c6",
   "metadata": {},
   "outputs": [
    {
     "data": {
      "text/plain": [
       "{16, 18, 19, 20, 29, 34}"
      ]
     },
     "execution_count": 33,
     "metadata": {},
     "output_type": "execute_result"
    }
   ],
   "source": [
    "set(vals)"
   ]
  },
  {
   "cell_type": "code",
   "execution_count": 34,
   "id": "c8770683",
   "metadata": {},
   "outputs": [
    {
     "data": {
      "text/plain": [
       "{16, 17, 18, 19, 20}"
      ]
     },
     "execution_count": 34,
     "metadata": {},
     "output_type": "execute_result"
    }
   ],
   "source": [
    "set([16, 17, 17, 18, 20, 19, 19, 19, 19, 19])"
   ]
  },
  {
   "cell_type": "markdown",
   "id": "0a65151a",
   "metadata": {},
   "source": [
    "To sort a list, we can use the .sort() function"
   ]
  },
  {
   "cell_type": "code",
   "execution_count": 35,
   "id": "f4b7d6f0",
   "metadata": {},
   "outputs": [],
   "source": [
    "vals.sort()"
   ]
  },
  {
   "cell_type": "code",
   "execution_count": 36,
   "id": "a12afcdc",
   "metadata": {},
   "outputs": [
    {
     "data": {
      "text/plain": [
       "[16, 18, 19, 20, 29, 34]"
      ]
     },
     "execution_count": 36,
     "metadata": {},
     "output_type": "execute_result"
    }
   ],
   "source": [
    "vals"
   ]
  },
  {
   "cell_type": "markdown",
   "id": "0858cf7f",
   "metadata": {},
   "source": [
    "To get the maximum, minimum, and sum of a list of numbers, we can use the following commands:"
   ]
  },
  {
   "cell_type": "code",
   "execution_count": 37,
   "id": "ca6801e9",
   "metadata": {},
   "outputs": [
    {
     "name": "stdout",
     "output_type": "stream",
     "text": [
      "max: 34\n",
      "min 16\n",
      "sum: 136\n"
     ]
    }
   ],
   "source": [
    "print(\"max:\", max(vals))\n",
    "print(\"min\", min(vals))\n",
    "print(\"sum:\", sum(vals))"
   ]
  },
  {
   "cell_type": "markdown",
   "id": "7eb52106",
   "metadata": {},
   "source": [
    "To get a description of a list of numbers all at once, we can convert the list to a Series object and then apply the describe command, as shown:"
   ]
  },
  {
   "cell_type": "code",
   "execution_count": 38,
   "id": "a0b3e805",
   "metadata": {
    "scrolled": true
   },
   "outputs": [
    {
     "data": {
      "text/plain": [
       "count     6.000000\n",
       "mean     22.666667\n",
       "std       7.146095\n",
       "min      16.000000\n",
       "25%      18.250000\n",
       "50%      19.500000\n",
       "75%      26.750000\n",
       "max      34.000000\n",
       "dtype: float64"
      ]
     },
     "execution_count": 38,
     "metadata": {},
     "output_type": "execute_result"
    }
   ],
   "source": [
    "pd.Series(vals).describe()"
   ]
  },
  {
   "cell_type": "markdown",
   "id": "0f5ea446",
   "metadata": {},
   "source": [
    "In python, lists are 0-indexed. This means that the index of the 1st element will be 0, so to access the 1st element of a list, we will want to type \\<name of list>\\[0]. Similarly, for the second item, it will have an index of 1"
   ]
  },
  {
   "cell_type": "code",
   "execution_count": 39,
   "id": "63727119",
   "metadata": {
    "scrolled": false
   },
   "outputs": [
    {
     "data": {
      "text/plain": [
       "18"
      ]
     },
     "execution_count": 39,
     "metadata": {},
     "output_type": "execute_result"
    }
   ],
   "source": [
    "vals[1]"
   ]
  },
  {
   "cell_type": "code",
   "execution_count": 40,
   "id": "4de8f743",
   "metadata": {},
   "outputs": [
    {
     "data": {
      "text/plain": [
       "'Daucus'"
      ]
     },
     "execution_count": 40,
     "metadata": {},
     "output_type": "execute_result"
    }
   ],
   "source": [
    "names[0]"
   ]
  },
  {
   "cell_type": "markdown",
   "id": "bf7aacc5",
   "metadata": {},
   "source": [
    "The last element of the list also has an index of -1, the second last element has an index of -2, etc."
   ]
  },
  {
   "cell_type": "code",
   "execution_count": 41,
   "id": "72ca1164",
   "metadata": {
    "scrolled": true
   },
   "outputs": [
    {
     "data": {
      "text/plain": [
       "'Zingiber'"
      ]
     },
     "execution_count": 41,
     "metadata": {},
     "output_type": "execute_result"
    }
   ],
   "source": [
    "names[-1]"
   ]
  },
  {
   "cell_type": "code",
   "execution_count": 42,
   "id": "113c091e",
   "metadata": {},
   "outputs": [],
   "source": [
    "numbers = [20, 5, 4, 6, 2]"
   ]
  },
  {
   "cell_type": "markdown",
   "id": "f26f8261",
   "metadata": {},
   "source": [
    "To add an item to a list, we can use the .append() commamd"
   ]
  },
  {
   "cell_type": "code",
   "execution_count": 43,
   "id": "2c4e68a7",
   "metadata": {},
   "outputs": [
    {
     "data": {
      "text/plain": [
       "[20, 5, 4, 6, 2, 44]"
      ]
     },
     "execution_count": 43,
     "metadata": {},
     "output_type": "execute_result"
    }
   ],
   "source": [
    "numbers.append(44)\n",
    "numbers"
   ]
  },
  {
   "cell_type": "markdown",
   "id": "683db690",
   "metadata": {},
   "source": [
    "To insert a value into a specific index, we can use the .insert() command, which takes two arguments. The first one is the index to put the value and the second is the value itself"
   ]
  },
  {
   "cell_type": "code",
   "execution_count": 44,
   "id": "3a73bbc7",
   "metadata": {},
   "outputs": [],
   "source": [
    "numbers.insert(2, 100)"
   ]
  },
  {
   "cell_type": "code",
   "execution_count": 45,
   "id": "e11fc9f2",
   "metadata": {},
   "outputs": [
    {
     "data": {
      "text/plain": [
       "[20, 5, 100, 4, 6, 2, 44]"
      ]
     },
     "execution_count": 45,
     "metadata": {},
     "output_type": "execute_result"
    }
   ],
   "source": [
    "numbers"
   ]
  },
  {
   "cell_type": "markdown",
   "id": "83a519a7",
   "metadata": {},
   "source": [
    "To find the index of a value, we can use the .index() function"
   ]
  },
  {
   "cell_type": "code",
   "execution_count": 46,
   "id": "006ff6a6",
   "metadata": {},
   "outputs": [
    {
     "data": {
      "text/plain": [
       "0"
      ]
     },
     "execution_count": 46,
     "metadata": {},
     "output_type": "execute_result"
    }
   ],
   "source": [
    "numbers.index(20)"
   ]
  },
  {
   "cell_type": "markdown",
   "id": "7020be7f",
   "metadata": {},
   "source": [
    "To remove a value based on the value and not the index of the value, we can use the .remove() command. Note that this only removes the first instance of the value and not all of them"
   ]
  },
  {
   "cell_type": "code",
   "execution_count": 47,
   "id": "7d6acdc6",
   "metadata": {},
   "outputs": [
    {
     "data": {
      "text/plain": [
       "[20, 5, 100, 4, 6, 2, 44, 4, 4]"
      ]
     },
     "execution_count": 47,
     "metadata": {},
     "output_type": "execute_result"
    }
   ],
   "source": [
    "numbers.append(4)\n",
    "numbers.append(4)\n",
    "numbers"
   ]
  },
  {
   "cell_type": "code",
   "execution_count": 48,
   "id": "32409547",
   "metadata": {},
   "outputs": [
    {
     "data": {
      "text/plain": [
       "[20, 5, 100, 6, 2, 44, 4, 4]"
      ]
     },
     "execution_count": 48,
     "metadata": {},
     "output_type": "execute_result"
    }
   ],
   "source": [
    "numbers.remove(4)\n",
    "numbers"
   ]
  },
  {
   "cell_type": "code",
   "execution_count": 49,
   "id": "4eb050ee",
   "metadata": {},
   "outputs": [
    {
     "data": {
      "text/plain": [
       "[20, 5, 100, 6, 2, 44, 4, 4]"
      ]
     },
     "execution_count": 49,
     "metadata": {},
     "output_type": "execute_result"
    }
   ],
   "source": [
    "numbers"
   ]
  },
  {
   "cell_type": "markdown",
   "id": "0b64ba31",
   "metadata": {},
   "source": [
    "To remove a value based on the index, we can use the \"del\" function"
   ]
  },
  {
   "cell_type": "code",
   "execution_count": 50,
   "id": "73915b49",
   "metadata": {},
   "outputs": [],
   "source": [
    "del numbers[2]"
   ]
  },
  {
   "cell_type": "code",
   "execution_count": 51,
   "id": "98fa7208",
   "metadata": {
    "scrolled": true
   },
   "outputs": [
    {
     "data": {
      "text/plain": [
       "[20, 5, 6, 2, 44, 4, 4]"
      ]
     },
     "execution_count": 51,
     "metadata": {},
     "output_type": "execute_result"
    }
   ],
   "source": [
    "numbers"
   ]
  },
  {
   "cell_type": "markdown",
   "id": "953b4315",
   "metadata": {},
   "source": [
    "To remove the value based on the index and print the removed number, we can use the pop command"
   ]
  },
  {
   "cell_type": "code",
   "execution_count": 52,
   "id": "92da6e06",
   "metadata": {},
   "outputs": [
    {
     "data": {
      "text/plain": [
       "2"
      ]
     },
     "execution_count": 52,
     "metadata": {},
     "output_type": "execute_result"
    }
   ],
   "source": [
    "numbers.pop(3)"
   ]
  },
  {
   "cell_type": "code",
   "execution_count": 53,
   "id": "bd68293f",
   "metadata": {
    "scrolled": true
   },
   "outputs": [
    {
     "data": {
      "text/plain": [
       "[20, 5, 6, 44, 4, 4]"
      ]
     },
     "execution_count": 53,
     "metadata": {},
     "output_type": "execute_result"
    }
   ],
   "source": [
    "numbers"
   ]
  },
  {
   "cell_type": "markdown",
   "id": "74b04cae",
   "metadata": {},
   "source": [
    "To obtsin a subset of values based on their indexes, we can use the following command:\n",
    "    \n",
    "\\<list of values>\\[\\<start of subset>:\\<end of subset>]"
   ]
  },
  {
   "cell_type": "code",
   "execution_count": 54,
   "id": "78608c71",
   "metadata": {},
   "outputs": [
    {
     "data": {
      "text/plain": [
       "[20, 5, 6]"
      ]
     },
     "execution_count": 54,
     "metadata": {},
     "output_type": "execute_result"
    }
   ],
   "source": [
    "numbers[0:3]"
   ]
  },
  {
   "cell_type": "markdown",
   "id": "463c0109",
   "metadata": {},
   "source": [
    "If we want to copy a list, make sure to use the .copy() command. Here, we can see what happens if we copy numbers to numbers3"
   ]
  },
  {
   "cell_type": "code",
   "execution_count": 55,
   "id": "cf3bb55a",
   "metadata": {},
   "outputs": [],
   "source": [
    "numbers3 = numbers"
   ]
  },
  {
   "cell_type": "code",
   "execution_count": 56,
   "id": "dd3e5efb",
   "metadata": {},
   "outputs": [
    {
     "data": {
      "text/plain": [
       "[20, 5, 6, 44, 4, 4]"
      ]
     },
     "execution_count": 56,
     "metadata": {},
     "output_type": "execute_result"
    }
   ],
   "source": [
    "numbers3"
   ]
  },
  {
   "cell_type": "markdown",
   "id": "11fd801a",
   "metadata": {},
   "source": [
    "Notice that if we add 5 to the end of numbers3, it also gets added to numbers!"
   ]
  },
  {
   "cell_type": "code",
   "execution_count": 57,
   "id": "59c1274c",
   "metadata": {},
   "outputs": [],
   "source": [
    "numbers3.append(5)"
   ]
  },
  {
   "cell_type": "code",
   "execution_count": 58,
   "id": "02e0a98d",
   "metadata": {
    "scrolled": true
   },
   "outputs": [
    {
     "name": "stdout",
     "output_type": "stream",
     "text": [
      "[20, 5, 6, 44, 4, 4, 5]\n",
      "[20, 5, 6, 44, 4, 4, 5]\n"
     ]
    }
   ],
   "source": [
    "print(numbers3)\n",
    "print(numbers)"
   ]
  },
  {
   "cell_type": "markdown",
   "id": "30525d48",
   "metadata": {},
   "source": [
    "As you can see, although we only changed numbers3, numbers got changed as well"
   ]
  },
  {
   "cell_type": "code",
   "execution_count": 59,
   "id": "6ba3f7d6",
   "metadata": {},
   "outputs": [
    {
     "name": "stdout",
     "output_type": "stream",
     "text": [
      "[20, 5, 6, 44, 4, 4, 5, 6]\n",
      "[20, 5, 6, 44, 4, 4, 5]\n"
     ]
    }
   ],
   "source": [
    "numbers4=numbers.copy()\n",
    "numbers4.append(6)\n",
    "print(numbers4)\n",
    "print(numbers)"
   ]
  },
  {
   "cell_type": "markdown",
   "id": "bb695623",
   "metadata": {},
   "source": [
    "To get the unique values of a list in a new, ordered, list, we can take a list of the set of the list"
   ]
  },
  {
   "cell_type": "code",
   "execution_count": 60,
   "id": "becef622",
   "metadata": {},
   "outputs": [],
   "source": [
    "numbers = [1, 2, 3, 4, 5, 6, 1, 2, 3, 4, 5, 6, 5, 5, 4, 3, 6, 5, 2, 0 , 1, 44]"
   ]
  },
  {
   "cell_type": "code",
   "execution_count": 61,
   "id": "89c86eff",
   "metadata": {},
   "outputs": [
    {
     "data": {
      "text/plain": [
       "[0, 1, 2, 3, 4, 5, 6, 44]"
      ]
     },
     "execution_count": 61,
     "metadata": {},
     "output_type": "execute_result"
    }
   ],
   "source": [
    "list(set(numbers))"
   ]
  },
  {
   "cell_type": "markdown",
   "id": "fb0a9156",
   "metadata": {},
   "source": [
    "To get the length of a list, we can use the len() function"
   ]
  },
  {
   "cell_type": "code",
   "execution_count": 62,
   "id": "afc014f8",
   "metadata": {},
   "outputs": [
    {
     "data": {
      "text/plain": [
       "[1, 2, 3, 4, 5, 6, 1, 2, 3, 4, 5, 6, 5, 5, 4, 3, 6, 5, 2, 0, 1, 44]"
      ]
     },
     "execution_count": 62,
     "metadata": {},
     "output_type": "execute_result"
    }
   ],
   "source": [
    "numbers"
   ]
  },
  {
   "cell_type": "code",
   "execution_count": 63,
   "id": "361cda20",
   "metadata": {},
   "outputs": [
    {
     "data": {
      "text/plain": [
       "22"
      ]
     },
     "execution_count": 63,
     "metadata": {},
     "output_type": "execute_result"
    }
   ],
   "source": [
    "len(numbers)"
   ]
  },
  {
   "cell_type": "markdown",
   "id": "0f8b4e01",
   "metadata": {},
   "source": [
    "To join elements in a list, we can use the join() function"
   ]
  },
  {
   "cell_type": "code",
   "execution_count": 64,
   "id": "5815cf44",
   "metadata": {},
   "outputs": [
    {
     "name": "stdout",
     "output_type": "stream",
     "text": [
      "With no spaces: Apple\n",
      "With a space in between: A p p l e\n"
     ]
    }
   ],
   "source": [
    "apple = ['A', 'p', 'p', 'l', 'e']\n",
    "print(\"With no spaces:\", \"\".join(apple))\n",
    "print(\"With a space in between:\", \" \".join(apple))"
   ]
  },
  {
   "cell_type": "markdown",
   "id": "cf4b317f",
   "metadata": {},
   "source": [
    "## Strings"
   ]
  },
  {
   "cell_type": "code",
   "execution_count": 65,
   "id": "27640ae0",
   "metadata": {},
   "outputs": [
    {
     "data": {
      "text/plain": [
       "['Daucus', 'Pastinaca', 'Curucma', 'Nelumbo', 'Artemisia', 'Zingiber']"
      ]
     },
     "execution_count": 65,
     "metadata": {},
     "output_type": "execute_result"
    }
   ],
   "source": [
    "names"
   ]
  },
  {
   "cell_type": "markdown",
   "id": "0d562087",
   "metadata": {},
   "source": [
    "Strings can also be subset. For example, if we want to find the first character of the first item in the names array, we can type this:"
   ]
  },
  {
   "cell_type": "code",
   "execution_count": 66,
   "id": "1659ace1",
   "metadata": {},
   "outputs": [
    {
     "data": {
      "text/plain": [
       "'D'"
      ]
     },
     "execution_count": 66,
     "metadata": {},
     "output_type": "execute_result"
    }
   ],
   "source": [
    "names[0][0]"
   ]
  },
  {
   "cell_type": "code",
   "execution_count": 70,
   "id": "b84d3add",
   "metadata": {},
   "outputs": [
    {
     "data": {
      "text/plain": [
       "'st'"
      ]
     },
     "execution_count": 70,
     "metadata": {},
     "output_type": "execute_result"
    }
   ],
   "source": [
    "names[1][2:-5]"
   ]
  },
  {
   "cell_type": "markdown",
   "id": "8614ada5",
   "metadata": {},
   "source": [
    "Let's break down this code.\n",
    "\n",
    "First, names\\[1] specifies that we want the second element (the 1 typed + 1 because Python is 0-indexed) oft eh names array\n",
    "\n",
    "Second, we are taking a subset, as shown by the ':' character\n",
    "\n",
    "Next, we are starting at the third character, as shown by the 2\n",
    "\n",
    "Finally, we are taking all numbers up to (but not including!) the 5th to last character, evidenced by the -5"
   ]
  },
  {
   "cell_type": "markdown",
   "id": "a5289f4e",
   "metadata": {},
   "source": [
    "Another way to put variables in a string is to use f strings. We can do this by typing 'f' before the quotes, and putting all variables in brackets, as shown:"
   ]
  },
  {
   "cell_type": "code",
   "execution_count": 71,
   "id": "1acd5cc4",
   "metadata": {
    "scrolled": true
   },
   "outputs": [
    {
     "name": "stdout",
     "output_type": "stream",
     "text": [
      "Daucus is our first name\n"
     ]
    }
   ],
   "source": [
    "print(f'{names[0]} is our first name')"
   ]
  },
  {
   "cell_type": "markdown",
   "id": "af41573c",
   "metadata": {},
   "source": [
    "We can also get the length of strings"
   ]
  },
  {
   "cell_type": "code",
   "execution_count": 72,
   "id": "f11628b3",
   "metadata": {},
   "outputs": [
    {
     "data": {
      "text/plain": [
       "6"
      ]
     },
     "execution_count": 72,
     "metadata": {},
     "output_type": "execute_result"
    }
   ],
   "source": [
    "len(names[0])"
   ]
  },
  {
   "cell_type": "markdown",
   "id": "778666d1",
   "metadata": {},
   "source": [
    "If we want to make a string all uppercase or all lowercase, we can use the .upper() and .lower() functions"
   ]
  },
  {
   "cell_type": "code",
   "execution_count": 73,
   "id": "ab690878",
   "metadata": {
    "scrolled": true
   },
   "outputs": [
    {
     "name": "stdout",
     "output_type": "stream",
     "text": [
      "DAUCUS\n",
      "daucus\n"
     ]
    }
   ],
   "source": [
    "print(names[0].upper())\n",
    "print(names[0].lower())"
   ]
  },
  {
   "cell_type": "markdown",
   "id": "5f82d1e5",
   "metadata": {},
   "source": [
    "If we want to find the first location of a characeter in a string, we can use the find function."
   ]
  },
  {
   "cell_type": "code",
   "execution_count": 74,
   "id": "247a229d",
   "metadata": {},
   "outputs": [
    {
     "name": "stdout",
     "output_type": "stream",
     "text": [
      "1\n"
     ]
    }
   ],
   "source": [
    "print(names[0].find('a'))"
   ]
  },
  {
   "cell_type": "markdown",
   "id": "3f32b1b6",
   "metadata": {},
   "source": [
    "If we want to replace characters in a string, we can use the replace command. The format of this is\n",
    "\\<string>.replace(\\<characters to replace>, \\<new characters>)"
   ]
  },
  {
   "cell_type": "code",
   "execution_count": 75,
   "id": "f4677a0a",
   "metadata": {},
   "outputs": [
    {
     "data": {
      "text/plain": [
       "'Daucdub'"
      ]
     },
     "execution_count": 75,
     "metadata": {},
     "output_type": "execute_result"
    }
   ],
   "source": [
    "'Daucus'.replace('us', 'dub')"
   ]
  },
  {
   "cell_type": "markdown",
   "id": "e500834d",
   "metadata": {},
   "source": [
    "We can also use the '+=' operator with strings."
   ]
  },
  {
   "cell_type": "code",
   "execution_count": 76,
   "id": "117a3d39",
   "metadata": {},
   "outputs": [
    {
     "name": "stdout",
     "output_type": "stream",
     "text": [
      "pizza pie\n"
     ]
    }
   ],
   "source": [
    "x = 'pizza'\n",
    "x += \" pie\"\n",
    "print(x)"
   ]
  },
  {
   "cell_type": "markdown",
   "id": "55c6c4a0",
   "metadata": {},
   "source": [
    "One other neat function with strings in Python is the .title() function, which capitalizes words as if they were in a title"
   ]
  },
  {
   "cell_type": "code",
   "execution_count": 77,
   "id": "992ce22d",
   "metadata": {
    "scrolled": false
   },
   "outputs": [
    {
     "data": {
      "text/plain": [
       "'Tutorial In Python'"
      ]
     },
     "execution_count": 77,
     "metadata": {},
     "output_type": "execute_result"
    }
   ],
   "source": [
    "'tutorial in python'.title()"
   ]
  },
  {
   "cell_type": "markdown",
   "id": "38afa768",
   "metadata": {},
   "source": [
    "To separate a string by a specific character, we can use the .split() function. Here, we split by spaces, so we end up with a list of words"
   ]
  },
  {
   "cell_type": "code",
   "execution_count": 78,
   "id": "d6c880ed",
   "metadata": {},
   "outputs": [
    {
     "data": {
      "text/plain": [
       "['I', 'like', 'pizza']"
      ]
     },
     "execution_count": 78,
     "metadata": {},
     "output_type": "execute_result"
    }
   ],
   "source": [
    " \"I like pizza\".split(\" \")"
   ]
  },
  {
   "cell_type": "markdown",
   "id": "2c803f02",
   "metadata": {},
   "source": [
    "## Numbers"
   ]
  },
  {
   "cell_type": "markdown",
   "id": "2dd9720b",
   "metadata": {},
   "source": [
    "If we want to round a number, we can use the round() function. Note that this rounds up for .5 and to the nearest number for everything else"
   ]
  },
  {
   "cell_type": "code",
   "execution_count": 79,
   "id": "3f615c99",
   "metadata": {},
   "outputs": [
    {
     "name": "stdout",
     "output_type": "stream",
     "text": [
      "2\n",
      "3\n"
     ]
    }
   ],
   "source": [
    "print(round(2.5))\n",
    "print(round(2.51))"
   ]
  },
  {
   "cell_type": "markdown",
   "id": "76916de8",
   "metadata": {},
   "source": [
    "The abs() command can be used for absolute values"
   ]
  },
  {
   "cell_type": "code",
   "execution_count": 80,
   "id": "9c3f23f6",
   "metadata": {},
   "outputs": [
    {
     "name": "stdout",
     "output_type": "stream",
     "text": [
      "1\n"
     ]
    }
   ],
   "source": [
    "print(abs(-1))"
   ]
  },
  {
   "cell_type": "markdown",
   "id": "bd903267",
   "metadata": {},
   "source": [
    "Next, we can import the math package. This comes with Python, so you don't need to download anything"
   ]
  },
  {
   "cell_type": "code",
   "execution_count": 81,
   "id": "d86da132",
   "metadata": {},
   "outputs": [],
   "source": [
    "import math"
   ]
  },
  {
   "cell_type": "markdown",
   "id": "8aaedf76",
   "metadata": {},
   "source": [
    "This allows us to use functions such as math.floor() and math.ceil(), which enable us to round down/up respectively"
   ]
  },
  {
   "cell_type": "code",
   "execution_count": 82,
   "id": "cdf360c5",
   "metadata": {
    "scrolled": true
   },
   "outputs": [
    {
     "name": "stdout",
     "output_type": "stream",
     "text": [
      "2\n"
     ]
    }
   ],
   "source": [
    "print(math.floor(2.9999999999))"
   ]
  },
  {
   "cell_type": "code",
   "execution_count": 83,
   "id": "c75cac9e",
   "metadata": {},
   "outputs": [
    {
     "name": "stdout",
     "output_type": "stream",
     "text": [
      "3\n"
     ]
    }
   ],
   "source": [
    "print(math.ceil(2.000000001))"
   ]
  },
  {
   "cell_type": "markdown",
   "id": "30aaa198",
   "metadata": {},
   "source": [
    "## If Statements"
   ]
  },
  {
   "cell_type": "markdown",
   "id": "737caa6e",
   "metadata": {},
   "source": [
    "First, let's ask the user if they use derivatives/integrals in their homework. Then, if they do, we can link them to some helpful resources. If not, we don't need to."
   ]
  },
  {
   "cell_type": "code",
   "execution_count": 84,
   "id": "f65442a3",
   "metadata": {
    "scrolled": false
   },
   "outputs": [
    {
     "name": "stdout",
     "output_type": "stream",
     "text": [
      "Do you use derivatives/integrals in your homework? Enter Y/N Y\n"
     ]
    }
   ],
   "source": [
    "calc_yn = input(\"Do you use derivatives/integrals in your homework? Enter Y/N \")"
   ]
  },
  {
   "cell_type": "markdown",
   "id": "756aea00",
   "metadata": {},
   "source": [
    "An 'if' statement essentially means that if a condition is true, we want to do something, and if it doesn't, we want to do something slse. The format goes like:\n",
    "\n",
    "  \n",
    "    \n",
    "    if <condition>:\n",
    "        do something\n",
    "    else:\n",
    "        do something else\n",
    "  \n",
    "    \n",
    "Indentation is really important here, and you'll get an error if you don't include it. The conditions will evaluate to true or false.\n",
    "\n",
    "In the code block below, we check if calc_yn is equal to Y (calc_yn == 'Y'). This will give us a True or False answer, which the if statement can then interpret"
   ]
  },
  {
   "cell_type": "code",
   "execution_count": 85,
   "id": "0926446f",
   "metadata": {},
   "outputs": [
    {
     "name": "stdout",
     "output_type": "stream",
     "text": [
      "Check out derivative-calculator.com and integral-calculator.com for some help!\n"
     ]
    }
   ],
   "source": [
    "if calc_yn == 'Y':\n",
    "    print(\"Check out derivative-calculator.com and integral-calculator.com for some help!\")\n",
    "else:\n",
    "    print(\"Nice! You're one of the lucky ones\")\n"
   ]
  },
  {
   "cell_type": "markdown",
   "id": "9181c3d9",
   "metadata": {},
   "source": [
    "Furthermore, if there's more than one scenario, we can use an elif command as well. For example, let's say that if the user enters an invalid response that isn't Y or N, we want to print that there is an error. To do this, we can enter the following code:"
   ]
  },
  {
   "cell_type": "code",
   "execution_count": 86,
   "id": "60b622f7",
   "metadata": {},
   "outputs": [
    {
     "name": "stdout",
     "output_type": "stream",
     "text": [
      "Check out derivative-calculator.com and integral-calculator.com for some help!\n"
     ]
    }
   ],
   "source": [
    "if calc_yn == 'Y':\n",
    "    print(\"Check out derivative-calculator.com and integral-calculator.com for some help!\")\n",
    "elif calc_yn == 'N':\n",
    "    print(\"Nice! You're one of the lucky ones\")\n",
    "else:\n",
    "    print(\"Invalid response\")"
   ]
  },
  {
   "cell_type": "markdown",
   "id": "43007e97",
   "metadata": {},
   "source": [
    "An elif statement is placed after an if statement. There do not need to be any elif/else statements, so you can have as many or as little elif statements as you want. However, there can only be one else statement. The format of an if statement goes like this:\n",
    "\n",
    "    if <condition>:\n",
    "        do something\n",
    "    elif <condition 2>: (optional)\n",
    "        do something else\n",
    "    elif <condition 3>: (optional)\n",
    "        do something else\n",
    "    ....\n",
    "    else: (optional)\n",
    "        do something else"
   ]
  },
  {
   "cell_type": "markdown",
   "id": "012a8e60",
   "metadata": {},
   "source": [
    "## Exercise 2"
   ]
  },
  {
   "cell_type": "markdown",
   "id": "d49a3553",
   "metadata": {},
   "source": [
    "Ask the user if they are an undergraduate or graduate student. If they are a grad student, link them to https://gradschool.fsu.edu/ . Otherwise, link them to fsu.edu . If neither are entered, print that there is an invalid response. Responses should NOT be case sensitive\n",
    "\n",
    "Hint: Convert the input to lowercase after reading it in, and make everything else you're comparing it to is lowercase as well"
   ]
  },
  {
   "cell_type": "markdown",
   "id": "82a8e963",
   "metadata": {},
   "source": [
    "```{admonition} Click to show solution\n",
    ":class: dropdown\n",
    "        grad_undergrad = input(\"Are you a grad (G) or undergrad (U) student\").lower()\n",
    "        if grad_undergrad == \"g\":\n",
    "            print(\"Here is your homepage: gradschool.fsu.edu\")\n",
    "        elif grad_undergrad == \"u\":\n",
    "            print(\"Here is your homepage: fsu.edu\")\n",
    "        else:\n",
    "            print(\"Invalid Response\")\n",
    "```"
   ]
  },
  {
   "cell_type": "markdown",
   "id": "bba938ce",
   "metadata": {},
   "source": [
    "## Loops"
   ]
  },
  {
   "cell_type": "code",
   "execution_count": 87,
   "id": "e074b044",
   "metadata": {},
   "outputs": [],
   "source": [
    "names = ['Daucus', 'Pastinaca', 'Curucma', 'Nelumbo', 'Artemisia', 'Zingiber']\n"
   ]
  },
  {
   "cell_type": "markdown",
   "id": "6670600c",
   "metadata": {},
   "source": [
    "Let's say we want to make a list containing True/False values for if P is in each name."
   ]
  },
  {
   "cell_type": "markdown",
   "id": "56648787",
   "metadata": {},
   "source": [
    "To iterate through a list, we can use the following code:\n",
    "    \n",
    "    for <item name of your choice> in <list>:"
   ]
  },
  {
   "cell_type": "code",
   "execution_count": 88,
   "id": "169154a3",
   "metadata": {},
   "outputs": [
    {
     "name": "stdout",
     "output_type": "stream",
     "text": [
      "Daucus\n",
      "Pastinaca\n",
      "Curucma\n",
      "Nelumbo\n",
      "Artemisia\n",
      "Zingiber\n"
     ]
    }
   ],
   "source": [
    "for name in names:\n",
    "    print(name)"
   ]
  },
  {
   "cell_type": "markdown",
   "id": "80810f2b",
   "metadata": {},
   "source": [
    "Next, we can initialize a list to save our values in"
   ]
  },
  {
   "cell_type": "code",
   "execution_count": 89,
   "id": "eae37857",
   "metadata": {},
   "outputs": [],
   "source": [
    "p_list = []"
   ]
  },
  {
   "cell_type": "markdown",
   "id": "e63ccdc9",
   "metadata": {},
   "source": [
    "What we're doing here is saying that for each name, we're appending an item to p_list. That item is equal to the value \"'P' in name\", which is True if P is in the name and False if not"
   ]
  },
  {
   "cell_type": "code",
   "execution_count": 90,
   "id": "6ea42577",
   "metadata": {},
   "outputs": [],
   "source": [
    "for name in names:\n",
    "    p_list.append('P' in name)"
   ]
  },
  {
   "cell_type": "code",
   "execution_count": 91,
   "id": "ff98b36a",
   "metadata": {},
   "outputs": [
    {
     "data": {
      "text/plain": [
       "[False, True, False, False, False, False]"
      ]
     },
     "execution_count": 91,
     "metadata": {},
     "output_type": "execute_result"
    }
   ],
   "source": [
    "p_list"
   ]
  },
  {
   "cell_type": "markdown",
   "id": "dca227b9",
   "metadata": {},
   "source": [
    "Another way to do this is through list comprehension.\n",
    "\n",
    "Breaking down the code below, we're asking Python if 'P' is in the name. If it is, we'll get True, and if not, we'll get False. Then, we do this for each name in names, which should gives us the same values as p_list"
   ]
  },
  {
   "cell_type": "code",
   "execution_count": 92,
   "id": "c830d68c",
   "metadata": {},
   "outputs": [
    {
     "name": "stdout",
     "output_type": "stream",
     "text": [
      "[False, True, False, False, False, False]\n"
     ]
    }
   ],
   "source": [
    "print(['P' in name for name in names])"
   ]
  },
  {
   "cell_type": "markdown",
   "id": "685f8fed",
   "metadata": {},
   "source": [
    "Similarly, we can save the value as 'name' (meaning the name itself) for each name in names. At the end, there's a caveat; this only applies if the length of the name is greater than 7. Thus, this returns each name with a length of 8 or more."
   ]
  },
  {
   "cell_type": "code",
   "execution_count": 93,
   "id": "5a7735e9",
   "metadata": {},
   "outputs": [
    {
     "data": {
      "text/plain": [
       "['Pastinaca', 'Artemisia', 'Zingiber']"
      ]
     },
     "execution_count": 93,
     "metadata": {},
     "output_type": "execute_result"
    }
   ],
   "source": [
    "[name for name in names if len(name) > 7]"
   ]
  },
  {
   "cell_type": "markdown",
   "id": "1c66a68f",
   "metadata": {},
   "source": [
    "Next, we have while loops. This is of the format\n",
    "\n",
    "    \n",
    "    while <condition>:\n",
    "        do something\n",
    "\n",
    "Let's say that we want to print \"i like pizza\" 10 times. To do this, we can start by initializing a variable, i, at 0. We can add 1 to i for each iteration, and after 10 iterations, i will then be equal to 10. Then, we can set the condition to \"i<10\" because then after 10 iterations, the condiiton will then be false and the loop will stop."
   ]
  },
  {
   "cell_type": "code",
   "execution_count": 94,
   "id": "268a0da0",
   "metadata": {},
   "outputs": [
    {
     "name": "stdout",
     "output_type": "stream",
     "text": [
      "i like pizza\n",
      "i like pizza\n",
      "i like pizza\n",
      "i like pizza\n",
      "i like pizza\n",
      "i like pizza\n",
      "i like pizza\n",
      "i like pizza\n",
      "i like pizza\n",
      "i like pizza\n"
     ]
    }
   ],
   "source": [
    "i= 0\n",
    "while i < 10:\n",
    "    print(\"i like pizza\")\n",
    "    i += 1"
   ]
  },
  {
   "cell_type": "markdown",
   "id": "15f2cfc2",
   "metadata": {},
   "source": [
    "To do something in a for loop n times, we can say\n",
    "    \n",
    "    for <variable name of your choice> in range(n):\n",
    "        do something"
   ]
  },
  {
   "cell_type": "code",
   "execution_count": 95,
   "id": "623d8607",
   "metadata": {},
   "outputs": [
    {
     "name": "stdout",
     "output_type": "stream",
     "text": [
      "i like pizza\n",
      "i like pizza\n",
      "i like pizza\n",
      "i like pizza\n",
      "i like pizza\n",
      "i like pizza\n",
      "i like pizza\n",
      "i like pizza\n",
      "i like pizza\n",
      "i like pizza\n"
     ]
    }
   ],
   "source": [
    "for i in range(10):\n",
    "    print(\"i like pizza\")"
   ]
  },
  {
   "cell_type": "markdown",
   "id": "f6ce4f50",
   "metadata": {},
   "source": [
    "One use for while loops is a flag. For example, if you're making a game, you might want a variable called GameRunning to tell the computer if the game is still running or not. If it's not running, you'll stop the code. Another use of this is to not stop when given an invalid response, and to keep prompting the user until they've entered something of your liking.\n",
    "\n"
   ]
  },
  {
   "cell_type": "code",
   "execution_count": 96,
   "id": "3902a3ba",
   "metadata": {},
   "outputs": [
    {
     "name": "stdout",
     "output_type": "stream",
     "text": [
      "Enter the name 'John'jo\n",
      "Enter the name 'John'John\n"
     ]
    }
   ],
   "source": [
    "flag = False\n",
    "while flag == False:\n",
    "    name = input(\"Enter the name 'John'\")\n",
    "    if name == 'John':\n",
    "        flag = True"
   ]
  },
  {
   "cell_type": "markdown",
   "id": "68dd3cb6",
   "metadata": {},
   "source": [
    "What we can see here is that while the flag of 'John' being entered is still false, the user will keep being prompted. Then, when the name is John, the flag will be set to True and the loop will stop."
   ]
  },
  {
   "cell_type": "markdown",
   "id": "477cf925",
   "metadata": {},
   "source": [
    "Another built-in Python package is random. We can use functions such as random.random(), which generate a random number between 0 and 1, and random.choice(\\<list name>), which generates a random item from the list"
   ]
  },
  {
   "cell_type": "code",
   "execution_count": 97,
   "id": "02a0e40b",
   "metadata": {},
   "outputs": [],
   "source": [
    "import random"
   ]
  },
  {
   "cell_type": "code",
   "execution_count": 98,
   "id": "8a21902c",
   "metadata": {},
   "outputs": [
    {
     "data": {
      "text/plain": [
       "0.7328369492113785"
      ]
     },
     "execution_count": 98,
     "metadata": {},
     "output_type": "execute_result"
    }
   ],
   "source": [
    "random.random()"
   ]
  },
  {
   "cell_type": "code",
   "execution_count": 99,
   "id": "9082ca80",
   "metadata": {},
   "outputs": [
    {
     "data": {
      "text/plain": [
       "['Daucus', 'Pastinaca', 'Curucma', 'Nelumbo', 'Artemisia', 'Zingiber']"
      ]
     },
     "execution_count": 99,
     "metadata": {},
     "output_type": "execute_result"
    }
   ],
   "source": [
    "names"
   ]
  },
  {
   "cell_type": "code",
   "execution_count": 100,
   "id": "1c22b4e9",
   "metadata": {
    "scrolled": true
   },
   "outputs": [
    {
     "data": {
      "text/plain": [
       "'Artemisia'"
      ]
     },
     "execution_count": 100,
     "metadata": {},
     "output_type": "execute_result"
    }
   ],
   "source": [
    "random.choice(names)"
   ]
  },
  {
   "cell_type": "markdown",
   "id": "0594f2b9",
   "metadata": {},
   "source": [
    "## Exercise 3"
   ]
  },
  {
   "cell_type": "markdown",
   "id": "6b072dfd",
   "metadata": {},
   "source": [
    "Let's make a game! Let's say FSU is playing a football game, and is starting the ball at their opponent's \n",
    "49 yard line. The user will enter an input to pass or run. For each pass, they gain 10 yards, and for \n",
    "each run, they gain 5 yards. However, there is a 10% chance of a turnover each play. The game either ends \n",
    "with a turnover or when FSU reaches the endzone (the opponent 0).\n",
    "If the user enters an invalid response, prompt them to enter another.\n",
    "After each iteration, print the current yardline/if the ball has been turned over.\n",
    "\n",
    "Hint: If random.random() is less than 0.1, there should be a turnover. If not, there should not be"
   ]
  },
  {
   "cell_type": "markdown",
   "id": "b00adac9",
   "metadata": {},
   "source": [
    "```{admonition} Click to show solution\n",
    ":class: dropdown\n",
    "\n",
    "        cur_ydline = 49\n",
    "        turned_over = False\n",
    "        while cur_ydline > 0 and turned_over == False:\n",
    "            invalid = True\n",
    "            while invalid == True:\n",
    "                choice = input(\"Pass or run? P for pass and R for run: \").upper()\n",
    "                if choice == 'P' or choice == 'R':\n",
    "                    invalid = False\n",
    "            if random.random() < 0.1:\n",
    "                print(\"The ball has been turned over. Game over\")\n",
    "                turned_over = True\n",
    "            elif choice == 'P':\n",
    "                cur_ydline -= 10\n",
    "                print(\"The pass went for 10 yards! The ball is now at the \", cur_ydline)\n",
    "            elif choice == 'R':\n",
    "                cur_ydline -= 5\n",
    "                print(\"The run went for 5 yards! The ball is now at the \", cur_ydline)\n",
    "            if cur_ydline <= 0:\n",
    "                print(\"Congrats! You won\")\n",
    "```"
   ]
  },
  {
   "cell_type": "markdown",
   "id": "f5d13d14",
   "metadata": {},
   "source": [
    "## Arrays, Functions, and Nested Loops"
   ]
  },
  {
   "cell_type": "markdown",
   "id": "6ec82bd9",
   "metadata": {},
   "source": [
    "Another built-in package in Python is the array package."
   ]
  },
  {
   "cell_type": "code",
   "execution_count": 101,
   "id": "4a09db74",
   "metadata": {},
   "outputs": [],
   "source": [
    "from array import *"
   ]
  },
  {
   "cell_type": "code",
   "execution_count": 102,
   "id": "96a00897",
   "metadata": {},
   "outputs": [],
   "source": [
    "arr = [[1,2,3], [4, 5, 6], [7, 8, 9], [10, 11]]"
   ]
  },
  {
   "cell_type": "markdown",
   "id": "d3ee9a2d",
   "metadata": {},
   "source": [
    "To access the nth list in the array, we can use arr\\[\\<index>], and we can access elements in said list just like how we would with regular lists"
   ]
  },
  {
   "cell_type": "code",
   "execution_count": 103,
   "id": "5a4feab8",
   "metadata": {},
   "outputs": [
    {
     "data": {
      "text/plain": [
       "[1, 2, 3]"
      ]
     },
     "execution_count": 103,
     "metadata": {},
     "output_type": "execute_result"
    }
   ],
   "source": [
    "arr[0] # the first list"
   ]
  },
  {
   "cell_type": "code",
   "execution_count": 104,
   "id": "e3f6acd0",
   "metadata": {},
   "outputs": [
    {
     "data": {
      "text/plain": [
       "3"
      ]
     },
     "execution_count": 104,
     "metadata": {},
     "output_type": "execute_result"
    }
   ],
   "source": [
    "arr[0][2] # the third element in the first list"
   ]
  },
  {
   "cell_type": "code",
   "execution_count": 105,
   "id": "2d0cbebd",
   "metadata": {},
   "outputs": [
    {
     "name": "stdout",
     "output_type": "stream",
     "text": [
      "1 2 3 4 5 6 7 8 9 10 11 "
     ]
    }
   ],
   "source": [
    "\n",
    "for a in arr:\n",
    "    for b in a:\n",
    "        print(b, end = \" \")\n",
    "    "
   ]
  },
  {
   "cell_type": "markdown",
   "id": "d7de0f62",
   "metadata": {},
   "source": [
    "Let's say we have the array above. This is a 2D list, or a list of lists, which is called an array. What we're doing here is saying for a in arr (for each list in the list), we want to select each item in the list (for b in a). Then, for each item in each list, we want to print it, ending with a space to separate each element by a space. Afer that, "
   ]
  },
  {
   "cell_type": "code",
   "execution_count": 106,
   "id": "1409f910",
   "metadata": {},
   "outputs": [
    {
     "name": "stdout",
     "output_type": "stream",
     "text": [
      "1 2 3 \n",
      "\n",
      "4 5 6 \n",
      "\n",
      "7 8 9 \n",
      "\n",
      "10 11 \n",
      "\n"
     ]
    }
   ],
   "source": [
    "arr = [[1,2,3], [4, 5, 6], [7, 8, 9], [10, 11]]\n",
    "for a in arr:\n",
    "    for b in a:\n",
    "        print(b, end = \" \")\n",
    "    \n",
    "    print(\"\\n\")"
   ]
  },
  {
   "cell_type": "markdown",
   "id": "053c0e86",
   "metadata": {},
   "source": [
    "After that, we can separate the items in each list with a \"\\n\" (new line character) between each list. This can be done after we're iterating through each list, which is inside the first loop but not the second. Play around with it if you're a bit confused -- that might help you understand it a little more!"
   ]
  },
  {
   "cell_type": "markdown",
   "id": "6d5ee42d",
   "metadata": {},
   "source": [
    "Now, we csn start to write our own functions. Functions take 0 to infinite inputs, and can return up to 1 item in Python. They are in the format\n",
    "\n",
    "    def <function name>(<inputs>):\n",
    "        content of function\n",
    "        return <outputs>\n",
    "        \n",
    "Functions can also reference other functions"
   ]
  },
  {
   "cell_type": "markdown",
   "id": "a56f8676",
   "metadata": {},
   "source": [
    "Let's try to make a function returning a combination given two numbers, n and r. First, combinations are built on factorials, so let's make a factorial function. "
   ]
  },
  {
   "cell_type": "code",
   "execution_count": 107,
   "id": "b7fa3bb5",
   "metadata": {},
   "outputs": [],
   "source": [
    "def factorial(n):\n",
    "    output = 1\n",
    "    for i in range(1, n+1):\n",
    "        output *= i\n",
    "    return output"
   ]
  },
  {
   "cell_type": "markdown",
   "id": "c5c7ee65",
   "metadata": {},
   "source": [
    "Taking in an input n, we start by setting the output to 1. Then, for each number from 1 to n (including n), we multiply the output by that. Finally, we return the ending output."
   ]
  },
  {
   "cell_type": "code",
   "execution_count": 108,
   "id": "12471237",
   "metadata": {},
   "outputs": [],
   "source": [
    "def combination(n, r):\n",
    "    n_factorial = factorial(n)\n",
    "    r_factorial = factorial(r)\n",
    "    n_r_factorial = factorial(n-r)\n",
    "    return (n_factorial/(r_factorial * n_r_factorial))"
   ]
  },
  {
   "cell_type": "markdown",
   "id": "0db84cb6",
   "metadata": {},
   "source": [
    "To get the combination of n and r, we get the factorials of n and r, then the factorial of n-r, and finally calculate the combinations, returning the end result"
   ]
  },
  {
   "cell_type": "markdown",
   "id": "2e4dccfa",
   "metadata": {},
   "source": [
    "To call a function, we type \\<function name>(\\<function inputs>)"
   ]
  },
  {
   "cell_type": "code",
   "execution_count": 109,
   "id": "466c32ca",
   "metadata": {},
   "outputs": [
    {
     "data": {
      "text/plain": [
       "364.0"
      ]
     },
     "execution_count": 109,
     "metadata": {},
     "output_type": "execute_result"
    }
   ],
   "source": [
    "combination(14, 3)"
   ]
  },
  {
   "cell_type": "markdown",
   "id": "4e421e31",
   "metadata": {},
   "source": [
    "## Exercise 4\n",
    "\n",
    "Try to make a function called permutation that takes two numbers, n and r, and returns\n",
    "\n",
    "n!/(n-r)! (! is the factorial symbol)"
   ]
  },
  {
   "cell_type": "markdown",
   "id": "ec1c43fa",
   "metadata": {},
   "source": [
    "```{admonition} Click to show solution\n",
    ":class: dropdown\n",
    "        def permutation(n, r):\n",
    "            n_factorial = factorial(n)\n",
    "            n_r_factorial = factorial(n-r)\n",
    "            return (n_factorial/(n_r_factorial))\n",
    "```"
   ]
  },
  {
   "cell_type": "markdown",
   "id": "1e404a36",
   "metadata": {},
   "source": [
    "Here is a function with no inputs, but still does something. This is useful if, for example, you want to print a lot of text every time something happens."
   ]
  },
  {
   "cell_type": "code",
   "execution_count": 110,
   "id": "65551ae5",
   "metadata": {},
   "outputs": [],
   "source": [
    "def HelloWorld():\n",
    "    print(\"Hello World!\")"
   ]
  },
  {
   "cell_type": "code",
   "execution_count": 111,
   "id": "7f0952e5",
   "metadata": {},
   "outputs": [
    {
     "name": "stdout",
     "output_type": "stream",
     "text": [
      "Hello World!\n"
     ]
    }
   ],
   "source": [
    "HelloWorld()"
   ]
  },
  {
   "cell_type": "markdown",
   "id": "62791a80",
   "metadata": {},
   "source": [
    "Let's say we want the factorials returned when we call the combination function. Although Python only allows one value to be returned from a function, we can bypass that by combining all the elements into a list"
   ]
  },
  {
   "cell_type": "code",
   "execution_count": 112,
   "id": "992a7848",
   "metadata": {},
   "outputs": [],
   "source": [
    "def combination(n, r):\n",
    "    n_factorial = factorial(n)\n",
    "    r_factorial = factorial(r)\n",
    "    n_r_factorial = factorial(n-r)\n",
    "    return [n_factorial,r_factorial,(n_factorial/(r_factorial * n_r_factorial))]"
   ]
  },
  {
   "cell_type": "code",
   "execution_count": 113,
   "id": "dac8d57f",
   "metadata": {},
   "outputs": [
    {
     "data": {
      "text/plain": [
       "[87178291200, 6, 364.0]"
      ]
     },
     "execution_count": 113,
     "metadata": {},
     "output_type": "execute_result"
    }
   ],
   "source": [
    "combination(14, 3)"
   ]
  },
  {
   "cell_type": "markdown",
   "id": "7c7d6f55",
   "metadata": {},
   "source": [
    "## Exercise 5"
   ]
  },
  {
   "cell_type": "markdown",
   "id": "c7c99a66",
   "metadata": {},
   "source": [
    "Try to print the multiplication table from 1 to 100, with 10 rows and 10 columns!"
   ]
  },
  {
   "cell_type": "markdown",
   "id": "2bce412b",
   "metadata": {},
   "source": [
    "```{admonition} Click to show solution\n",
    ":class: dropdown\n",
    "\n",
    "        for i in range(1, 11):\n",
    "            for j in range(1, 11):\n",
    "                print(i*j, end = \" \")\n",
    "            print(\"\\n\")\n",
    "```"
   ]
  },
  {
   "cell_type": "markdown",
   "id": "124d5d56",
   "metadata": {},
   "source": [
    "## Dictionaries"
   ]
  },
  {
   "cell_type": "markdown",
   "id": "1db538b7",
   "metadata": {},
   "source": [
    "Dictionaries in Python can be used to match certain values up. For example, if we had a list of employees with their names, emails, and phone numbers, we could use a dictionary for each employee to match up their name with a name variable, their email with an email variable, etc."
   ]
  },
  {
   "cell_type": "markdown",
   "id": "da5f14eb",
   "metadata": {},
   "source": [
    "We can define a dictionary as follows:\n",
    "\n",
    "    <dictionary name> = {<variable name 1>:<variable 1 value>,....<variable name n>:<variable n value>}"
   ]
  },
  {
   "cell_type": "code",
   "execution_count": 114,
   "id": "96a22125",
   "metadata": {},
   "outputs": [],
   "source": [
    "dict1 = {'Name':'John', 'Email':'johnsmith@gmail.com', 'Number':'918-029-0293'}"
   ]
  },
  {
   "cell_type": "code",
   "execution_count": 115,
   "id": "4d0084a6",
   "metadata": {},
   "outputs": [
    {
     "data": {
      "text/plain": [
       "{'Name': 'John', 'Email': 'johnsmith@gmail.com', 'Number': '918-029-0293'}"
      ]
     },
     "execution_count": 115,
     "metadata": {},
     "output_type": "execute_result"
    }
   ],
   "source": [
    "dict1"
   ]
  },
  {
   "cell_type": "markdown",
   "id": "59672e16",
   "metadata": {},
   "source": [
    "To reassign a value in the dictionary or to add a new value, simply type\n",
    "    \n",
    "    <dictionary name>[<name of key>] = <new value>"
   ]
  },
  {
   "cell_type": "code",
   "execution_count": 116,
   "id": "506765d8",
   "metadata": {},
   "outputs": [],
   "source": [
    "dict1['Name'] = 'Mitch'"
   ]
  },
  {
   "cell_type": "code",
   "execution_count": 117,
   "id": "641c0097",
   "metadata": {},
   "outputs": [],
   "source": [
    "dict1['Birthday'] = 'Jan 1 9182'"
   ]
  },
  {
   "cell_type": "code",
   "execution_count": 118,
   "id": "2cf8c4d5",
   "metadata": {},
   "outputs": [
    {
     "data": {
      "text/plain": [
       "{'Name': 'Mitch',\n",
       " 'Email': 'johnsmith@gmail.com',\n",
       " 'Number': '918-029-0293',\n",
       " 'Birthday': 'Jan 1 9182'}"
      ]
     },
     "execution_count": 118,
     "metadata": {},
     "output_type": "execute_result"
    }
   ],
   "source": [
    "dict1"
   ]
  },
  {
   "cell_type": "markdown",
   "id": "5ae8b680",
   "metadata": {},
   "source": [
    "To view emojis in Python, we can install and load the emoji python"
   ]
  },
  {
   "cell_type": "code",
   "execution_count": 119,
   "id": "c086ec83",
   "metadata": {
    "scrolled": true
   },
   "outputs": [
    {
     "name": "stdout",
     "output_type": "stream",
     "text": [
      "Requirement already satisfied: emoji in /Users/schugani/opt/anaconda3/lib/python3.9/site-packages (2.2.0)\r\n"
     ]
    }
   ],
   "source": [
    "!pip install emoji"
   ]
  },
  {
   "cell_type": "code",
   "execution_count": 120,
   "id": "da1d6217",
   "metadata": {},
   "outputs": [],
   "source": [
    "import emoji"
   ]
  },
  {
   "cell_type": "markdown",
   "id": "e1958d9e",
   "metadata": {},
   "source": [
    "To print an emoji, we can type \"emoji.emojize(\\<text with emojis>, language = \"alias\")"
   ]
  },
  {
   "cell_type": "code",
   "execution_count": 121,
   "id": "5bdae28c",
   "metadata": {},
   "outputs": [
    {
     "name": "stdout",
     "output_type": "stream",
     "text": [
      "😄\n",
      "Python is 👍\n"
     ]
    }
   ],
   "source": [
    "print(emoji.emojize(':smile:', language=\"alias\"))\n",
    "print(emoji.emojize(\"Python is :thumbsup:\", language=\"alias\"))"
   ]
  },
  {
   "cell_type": "markdown",
   "id": "af37fe57",
   "metadata": {},
   "source": [
    "To get the keys (the items corresponding to the definitions, but not the definitions themselves), we can use the keys() function"
   ]
  },
  {
   "cell_type": "code",
   "execution_count": 122,
   "id": "6202a321",
   "metadata": {},
   "outputs": [
    {
     "data": {
      "text/plain": [
       "dict_keys(['Name', 'Email', 'Number', 'Birthday'])"
      ]
     },
     "execution_count": 122,
     "metadata": {},
     "output_type": "execute_result"
    }
   ],
   "source": [
    "dict1.keys()"
   ]
  },
  {
   "cell_type": "markdown",
   "id": "ccf1ebc4",
   "metadata": {},
   "source": [
    "## Exercise 6\n",
    "Ask the user for an input. If any of the words in this list are detected, replace them with emojis.\n",
    "\n",
    "\n",
    "\n",
    "\n",
    "Hint: Split the input for each word and check if the word is in the list from there"
   ]
  },
  {
   "cell_type": "code",
   "execution_count": 123,
   "id": "8bf641d0",
   "metadata": {},
   "outputs": [],
   "source": [
    "emoji_dict = {':)':':slightly_smiling_face:', ':D':':smile:', ':/':':confused:', ';)':':wink:', ':O':':open_mouth:'}"
   ]
  },
  {
   "cell_type": "markdown",
   "id": "494884c3",
   "metadata": {},
   "source": [
    "```{admonition} Click to show solution\n",
    ":class: dropdown\n",
    "\n",
    "        \n",
    "        words = input(\"say something\")\n",
    "        new_words = words\n",
    "        for word in words.split(\" \"):\n",
    "\n",
    "            if word in list(emoji_dict.keys()):\n",
    "\n",
    "                new_words=new_words.replace(word, emoji_dict[word])\n",
    "        print(emoji.emojize(new_words, language=\"alias\"))\n",
    "```"
   ]
  },
  {
   "cell_type": "markdown",
   "id": "2f7c9caf",
   "metadata": {},
   "source": [
    "## Dates"
   ]
  },
  {
   "cell_type": "markdown",
   "id": "a1bebb80",
   "metadata": {},
   "source": [
    "To use dates, we can import the date module from the datetime package. \n",
    "\n",
    "First, we can define a function called printDate(). It will begin by printing the date today, which is shown by date.today().\n",
    "\n",
    "To format the date, we can use the .strftime() function, as shown, to format it however you would like"
   ]
  },
  {
   "cell_type": "code",
   "execution_count": 124,
   "id": "de202b80",
   "metadata": {},
   "outputs": [],
   "source": [
    "from datetime import date\n",
    "# from https://www.programiz.com/python-programming/datetime/current-datetime\n",
    "def printDate():\n",
    "    today = date.today()\n",
    "    print(\"Hello! The date is: \\n\", today)\n",
    "    \n",
    "    # dd/mm/YY\n",
    "    d1 = today.strftime(\"%d/%m/%Y\")\n",
    "    print(\"dd/mm/yyyy =\", d1)\n",
    "\n",
    "    # Textual month, day and year\t\n",
    "    d2 = today.strftime(\"%B %d, %Y\")\n",
    "    print(\"Month Day, Year =\", d2)\n",
    "\n",
    "    # mm/dd/y\n",
    "    d3 = today.strftime(\"%m/%d/%y\")\n",
    "    print(\"mm/dd/yy =\", d3)\n",
    "\n",
    "    # Month abbreviation, day and year\t\n",
    "    d4 = today.strftime(\"%b-%d-%Y\")\n",
    "    print(\"Month-dd-yyyy =\", d4)\n",
    "    return today"
   ]
  },
  {
   "cell_type": "code",
   "execution_count": 125,
   "id": "5ba6b40c",
   "metadata": {},
   "outputs": [
    {
     "name": "stdout",
     "output_type": "stream",
     "text": [
      "Hello! The date is: \n",
      " 2023-03-27\n",
      "dd/mm/yyyy = 27/03/2023\n",
      "Month Day, Year = March 27, 2023\n",
      "mm/dd/yy = 03/27/23\n",
      "Month-dd-yyyy = Mar-27-2023\n"
     ]
    }
   ],
   "source": [
    "date = printDate()"
   ]
  },
  {
   "cell_type": "code",
   "execution_count": 126,
   "id": "14318a54",
   "metadata": {},
   "outputs": [
    {
     "name": "stdout",
     "output_type": "stream",
     "text": [
      "2023-03-27\n"
     ]
    }
   ],
   "source": [
    "print(date)"
   ]
  },
  {
   "cell_type": "markdown",
   "id": "3166a1bd",
   "metadata": {},
   "source": [
    "Note that when we call printDate(), not only are the printed items in the function printed, but the returned value is shown after the \"Out\" text."
   ]
  },
  {
   "cell_type": "code",
   "execution_count": 127,
   "id": "2c405f1a",
   "metadata": {},
   "outputs": [
    {
     "name": "stdout",
     "output_type": "stream",
     "text": [
      "Hello! The date is: \n",
      " 2023-03-27\n",
      "dd/mm/yyyy = 27/03/2023\n",
      "Month Day, Year = March 27, 2023\n",
      "mm/dd/yy = 03/27/23\n",
      "Month-dd-yyyy = Mar-27-2023\n"
     ]
    },
    {
     "data": {
      "text/plain": [
       "datetime.date(2023, 3, 27)"
      ]
     },
     "execution_count": 127,
     "metadata": {},
     "output_type": "execute_result"
    }
   ],
   "source": [
    "printDate()"
   ]
  },
  {
   "cell_type": "markdown",
   "id": "4e46412f",
   "metadata": {},
   "source": [
    "## Try and Except Statements"
   ]
  },
  {
   "cell_type": "markdown",
   "id": "8776a2a7",
   "metadata": {},
   "source": [
    "Try and except statements can be used when you encounter an error, but want to do something with it instead of having Python deal with it."
   ]
  },
  {
   "cell_type": "markdown",
   "id": "a25e1949",
   "metadata": {},
   "source": [
    "First, lets define a function called simpleMath which does some simple math"
   ]
  },
  {
   "cell_type": "code",
   "execution_count": 128,
   "id": "7f8cd571",
   "metadata": {},
   "outputs": [],
   "source": [
    "def simpleMath(x, y):\n",
    "    \n",
    "    print(\"Multiplication: \", x*y)\n",
    "    print(\"Addition: \", x + y)\n",
    "    print(\"Subtraction: \", x-y)\n",
    "    print(\"Division: \", x/y)"
   ]
  },
  {
   "cell_type": "code",
   "execution_count": 129,
   "id": "ac317317",
   "metadata": {},
   "outputs": [
    {
     "name": "stdout",
     "output_type": "stream",
     "text": [
      "Multiplication:  8\n",
      "Addition:  6\n",
      "Subtraction:  2\n",
      "Division:  2.0\n"
     ]
    }
   ],
   "source": [
    "simpleMath(4, 2)"
   ]
  },
  {
   "cell_type": "markdown",
   "id": "76c706c8",
   "metadata": {},
   "source": [
    "Note that if we put a string in place instead of a number, an error is given, as we cannot apply mathematical operations to strings"
   ]
  },
  {
   "cell_type": "code",
   "execution_count": 130,
   "id": "a728c986",
   "metadata": {},
   "outputs": [
    {
     "name": "stdout",
     "output_type": "stream",
     "text": [
      "Multiplication:  pizzapizza\n"
     ]
    },
    {
     "ename": "TypeError",
     "evalue": "can only concatenate str (not \"int\") to str",
     "output_type": "error",
     "traceback": [
      "\u001b[0;31m---------------------------------------------------------------------------\u001b[0m",
      "\u001b[0;31mTypeError\u001b[0m                                 Traceback (most recent call last)",
      "Input \u001b[0;32mIn [130]\u001b[0m, in \u001b[0;36m<cell line: 1>\u001b[0;34m()\u001b[0m\n\u001b[0;32m----> 1\u001b[0m \u001b[43msimpleMath\u001b[49m\u001b[43m(\u001b[49m\u001b[38;5;124;43m\"\u001b[39;49m\u001b[38;5;124;43mpizza\u001b[39;49m\u001b[38;5;124;43m\"\u001b[39;49m\u001b[43m,\u001b[49m\u001b[43m \u001b[49m\u001b[38;5;241;43m2\u001b[39;49m\u001b[43m)\u001b[49m\n",
      "Input \u001b[0;32mIn [128]\u001b[0m, in \u001b[0;36msimpleMath\u001b[0;34m(x, y)\u001b[0m\n\u001b[1;32m      1\u001b[0m \u001b[38;5;28;01mdef\u001b[39;00m \u001b[38;5;21msimpleMath\u001b[39m(x, y):\n\u001b[1;32m      3\u001b[0m     \u001b[38;5;28mprint\u001b[39m(\u001b[38;5;124m\"\u001b[39m\u001b[38;5;124mMultiplication: \u001b[39m\u001b[38;5;124m\"\u001b[39m, x\u001b[38;5;241m*\u001b[39my)\n\u001b[0;32m----> 4\u001b[0m     \u001b[38;5;28mprint\u001b[39m(\u001b[38;5;124m\"\u001b[39m\u001b[38;5;124mAddition: \u001b[39m\u001b[38;5;124m\"\u001b[39m, \u001b[43mx\u001b[49m\u001b[43m \u001b[49m\u001b[38;5;241;43m+\u001b[39;49m\u001b[43m \u001b[49m\u001b[43my\u001b[49m)\n\u001b[1;32m      5\u001b[0m     \u001b[38;5;28mprint\u001b[39m(\u001b[38;5;124m\"\u001b[39m\u001b[38;5;124mSubtraction: \u001b[39m\u001b[38;5;124m\"\u001b[39m, x\u001b[38;5;241m-\u001b[39my)\n\u001b[1;32m      6\u001b[0m     \u001b[38;5;28mprint\u001b[39m(\u001b[38;5;124m\"\u001b[39m\u001b[38;5;124mDivision: \u001b[39m\u001b[38;5;124m\"\u001b[39m, x\u001b[38;5;241m/\u001b[39my)\n",
      "\u001b[0;31mTypeError\u001b[0m: can only concatenate str (not \"int\") to str"
     ]
    }
   ],
   "source": [
    "simpleMath(\"pizza\", 2)"
   ]
  },
  {
   "cell_type": "markdown",
   "id": "be86ba8f",
   "metadata": {},
   "source": [
    "Let's say that instead of stopping the code with an error, we want to keep running until correct prompts are given. To do this, we can create a while loop with a flag called 'invalid'. Then, we can set up a try except block.\n",
    "\n",
    "Try except blocks follow the format:\n",
    "\n",
    "    try:\n",
    "        <something>\n",
    "    except:\n",
    "        <something else>\n",
    "        \n",
    "If an error is given while running something in the try block, the code will immediately go to the except statement. \n",
    "\n",
    "If no error is given and we reach the end of the try block, we can set invalid to false, stopping the loop. Otherwise, a custom error message is given"
   ]
  },
  {
   "cell_type": "code",
   "execution_count": 131,
   "id": "9f23d645",
   "metadata": {},
   "outputs": [
    {
     "name": "stdout",
     "output_type": "stream",
     "text": [
      "Enter a number: a\n",
      "Invalid inputs. Try again\n",
      "Enter a number: 2\n",
      "Enter a second number: 3\n",
      "Multiplication:  6.0\n",
      "Addition:  5.0\n",
      "Subtraction:  -1.0\n",
      "Division:  0.6666666666666666\n"
     ]
    }
   ],
   "source": [
    "invalid = True\n",
    "while invalid == True:\n",
    "\n",
    "    try:\n",
    "        x = float(input(\"Enter a number: \"))\n",
    "        y = float(input(\"Enter a second number: \"))\n",
    "        simpleMath(x, y)\n",
    "        invalid = False\n",
    "    except:\n",
    "        print(\"Invalid inputs. Try again\")"
   ]
  },
  {
   "cell_type": "markdown",
   "id": "53a86b6f",
   "metadata": {},
   "source": [
    "Now, let's say we want to specify by error type. For example, if \"pizza\" is entered, there is an error because it is a string. If 0 is entered for the second number, there is an error when we divide by 0, as shown:"
   ]
  },
  {
   "cell_type": "code",
   "execution_count": 133,
   "id": "29a5154e",
   "metadata": {},
   "outputs": [
    {
     "name": "stdout",
     "output_type": "stream",
     "text": [
      "Enter a number: 2\n",
      "Enter a second number: 0\n",
      "Multiplication:  0.0\n",
      "Addition:  2.0\n",
      "Subtraction:  2.0\n"
     ]
    },
    {
     "ename": "ZeroDivisionError",
     "evalue": "float division by zero",
     "output_type": "error",
     "traceback": [
      "\u001b[0;31m---------------------------------------------------------------------------\u001b[0m",
      "\u001b[0;31mZeroDivisionError\u001b[0m                         Traceback (most recent call last)",
      "Input \u001b[0;32mIn [133]\u001b[0m, in \u001b[0;36m<cell line: 3>\u001b[0;34m()\u001b[0m\n\u001b[1;32m      1\u001b[0m x \u001b[38;5;241m=\u001b[39m \u001b[38;5;28mfloat\u001b[39m(\u001b[38;5;28minput\u001b[39m(\u001b[38;5;124m\"\u001b[39m\u001b[38;5;124mEnter a number: \u001b[39m\u001b[38;5;124m\"\u001b[39m))\n\u001b[1;32m      2\u001b[0m y \u001b[38;5;241m=\u001b[39m \u001b[38;5;28mfloat\u001b[39m(\u001b[38;5;28minput\u001b[39m(\u001b[38;5;124m\"\u001b[39m\u001b[38;5;124mEnter a second number: \u001b[39m\u001b[38;5;124m\"\u001b[39m))\n\u001b[0;32m----> 3\u001b[0m \u001b[43msimpleMath\u001b[49m\u001b[43m(\u001b[49m\u001b[43mx\u001b[49m\u001b[43m,\u001b[49m\u001b[43m \u001b[49m\u001b[43my\u001b[49m\u001b[43m)\u001b[49m\n",
      "Input \u001b[0;32mIn [128]\u001b[0m, in \u001b[0;36msimpleMath\u001b[0;34m(x, y)\u001b[0m\n\u001b[1;32m      4\u001b[0m \u001b[38;5;28mprint\u001b[39m(\u001b[38;5;124m\"\u001b[39m\u001b[38;5;124mAddition: \u001b[39m\u001b[38;5;124m\"\u001b[39m, x \u001b[38;5;241m+\u001b[39m y)\n\u001b[1;32m      5\u001b[0m \u001b[38;5;28mprint\u001b[39m(\u001b[38;5;124m\"\u001b[39m\u001b[38;5;124mSubtraction: \u001b[39m\u001b[38;5;124m\"\u001b[39m, x\u001b[38;5;241m-\u001b[39my)\n\u001b[0;32m----> 6\u001b[0m \u001b[38;5;28mprint\u001b[39m(\u001b[38;5;124m\"\u001b[39m\u001b[38;5;124mDivision: \u001b[39m\u001b[38;5;124m\"\u001b[39m, \u001b[43mx\u001b[49m\u001b[38;5;241;43m/\u001b[39;49m\u001b[43my\u001b[49m)\n",
      "\u001b[0;31mZeroDivisionError\u001b[0m: float division by zero"
     ]
    }
   ],
   "source": [
    "x = float(input(\"Enter a number: \"))\n",
    "y = float(input(\"Enter a second number: \"))\n",
    "simpleMath(x, y)"
   ]
  },
  {
   "cell_type": "markdown",
   "id": "c6a473b2",
   "metadata": {},
   "source": [
    "To separate these, we can put an except statement for each error we want to handle, of the format:\n",
    "\n",
    "    except <error type>:\n",
    "    \n",
    "For strings, a ValueError will pop up, and for 0, a ZeroDivisionError will pop up\n",
    "\n",
    "We can also put an extra except at the bottom if we wish to handle any other unforseen error."
   ]
  },
  {
   "cell_type": "code",
   "execution_count": 134,
   "id": "ab3d1cec",
   "metadata": {},
   "outputs": [
    {
     "name": "stdout",
     "output_type": "stream",
     "text": [
      "Enter a number: 2\n",
      "Enter a second number: 0\n",
      "Multiplication:  0.0\n",
      "Addition:  2.0\n",
      "Subtraction:  2.0\n",
      "Zero is in the denominator! Try again\n",
      "Enter a number: 3\n",
      "Enter a second number: e\n",
      "Invalid inputs. Try again\n",
      "Enter a number: 3\n",
      "Enter a second number: 4\n",
      "Multiplication:  12.0\n",
      "Addition:  7.0\n",
      "Subtraction:  -1.0\n",
      "Division:  0.75\n"
     ]
    }
   ],
   "source": [
    "invalid = True\n",
    "while invalid == True:\n",
    "\n",
    "    try:\n",
    "        x = float(input(\"Enter a number: \"))\n",
    "        y = float(input(\"Enter a second number: \"))\n",
    "        simpleMath(x, y)\n",
    "        invalid = False\n",
    "    except ValueError:\n",
    "        print(\"Invalid inputs. Try again\")\n",
    "    except ZeroDivisionError:\n",
    "        print(\"Zero is in the denominator! Try again\")\n",
    "    except:\n",
    "        print(\"There is another error.\")"
   ]
  },
  {
   "cell_type": "markdown",
   "id": "751d5f1b",
   "metadata": {},
   "source": [
    "## Classes"
   ]
  },
  {
   "cell_type": "markdown",
   "id": "21fc5526",
   "metadata": {},
   "source": [
    "Classes in Python can be used to create our own data types with their own functions"
   ]
  },
  {
   "cell_type": "markdown",
   "id": "19d75989",
   "metadata": {},
   "source": [
    "Let's start by creating a class called Dog. With it, we can call the PrintDog function, which prints their name, age, and bark, as well as the isPuppy function, which prints whether or not the dog is a puppy. To initialize the class, we'll want to eneter in the dog's name, age, and bark. By setting bark = \"Woof\", if bark is not entered, the bark will, by default, be set to \"Woof\""
   ]
  },
  {
   "cell_type": "markdown",
   "id": "0ae6a04f",
   "metadata": {},
   "source": [
    "In a class, we'll start with the \\_\\_init__ function, which initializes the variables in the class. We start with the self argument, which can be accessed by the rest of the class. The self argument is used to access the rest of the variables in the class. For example, self.name will represent the name. Next, we pass in the rest of the parameters -- name, age, and bark. We set the self values so that they can be accessed in other functions.\n",
    "\n",
    "Next, we write the other functions, PrintDog and isPuppy"
   ]
  },
  {
   "cell_type": "code",
   "execution_count": 135,
   "id": "4c1cf415",
   "metadata": {},
   "outputs": [],
   "source": [
    "class Dog:\n",
    "    def __init__(self, name, age, bark = \"Woof\"):\n",
    "        self.name = name\n",
    "        self.age = age\n",
    "        self.bark = bark\n",
    "    def printDog(self):\n",
    "        print(f\"The dog's name is {self.name}, they are {self.age} years old, and they go {self.bark}\")\n",
    "    def isPuppy(self):\n",
    "        if self.age < 3:\n",
    "            print(f\"{self.name} is a puppy\")\n",
    "        else:\n",
    "            print(f\"{self.name} is not a puppy\")"
   ]
  },
  {
   "cell_type": "markdown",
   "id": "85446de0",
   "metadata": {},
   "source": [
    "Let's initialize Fido with a name and age"
   ]
  },
  {
   "cell_type": "code",
   "execution_count": 136,
   "id": "77a26bc1",
   "metadata": {},
   "outputs": [],
   "source": [
    "fido = Dog(\"Fido\", 5)"
   ]
  },
  {
   "cell_type": "markdown",
   "id": "a4fd4a38",
   "metadata": {},
   "source": [
    "Notice how the default bark is Woof"
   ]
  },
  {
   "cell_type": "code",
   "execution_count": 137,
   "id": "5bd2835d",
   "metadata": {},
   "outputs": [
    {
     "name": "stdout",
     "output_type": "stream",
     "text": [
      "The dog's name is Fido, they are 5 years old, and they go Woof\n"
     ]
    }
   ],
   "source": [
    "fido.printDog()"
   ]
  },
  {
   "cell_type": "markdown",
   "id": "72ff3db3",
   "metadata": {},
   "source": [
    "We can also set a custom bark with Jack"
   ]
  },
  {
   "cell_type": "code",
   "execution_count": 138,
   "id": "f4041c39",
   "metadata": {},
   "outputs": [],
   "source": [
    "jack = Dog(\"Jack\", 2, \"arf\")"
   ]
  },
  {
   "cell_type": "code",
   "execution_count": 139,
   "id": "f80bfddf",
   "metadata": {},
   "outputs": [
    {
     "name": "stdout",
     "output_type": "stream",
     "text": [
      "The dog's name is Jack, they are 2 years old, and they go arf\n"
     ]
    }
   ],
   "source": [
    "jack.printDog()"
   ]
  },
  {
   "cell_type": "markdown",
   "id": "25fa9c92",
   "metadata": {},
   "source": [
    "### Inheritance"
   ]
  },
  {
   "cell_type": "markdown",
   "id": "2d5643d3",
   "metadata": {},
   "source": [
    "We can also create new classes based off the \"parent\" class, which can access the parent class's functions as well as new ones that are defined.\n",
    "\n",
    "In this example, we are creating Labradoodle to be a child of the Dog class, which is shown by the Dog being in parenthesis. To initialzie the variables that are in both Labradoodle and Dog, we can use the super().\\_\\_init__ function, and initialize everything else like the Dog class.\n",
    "\n",
    "Variables of the data type Labradoodle can access functions in both the Labradoodle and Dog class, while variables of the data type Dog can only access functions in the Dog class."
   ]
  },
  {
   "cell_type": "code",
   "execution_count": 140,
   "id": "879fd8c8",
   "metadata": {},
   "outputs": [],
   "source": [
    "class Labradoodle(Dog):\n",
    "    def __init__(self, name, age, fur, bark = \"Woof\"):\n",
    "        super().__init__(name, age, bark)\n",
    "        self.fur = fur\n",
    "    def printFur(self):\n",
    "        print(self.name + \"'s fur is\", self.fur)"
   ]
  },
  {
   "cell_type": "code",
   "execution_count": 141,
   "id": "9a68ce8b",
   "metadata": {},
   "outputs": [],
   "source": [
    "will = Labradoodle(\"Will\", 2, \"yellow\", \"awooo\")"
   ]
  },
  {
   "cell_type": "code",
   "execution_count": 142,
   "id": "97e65834",
   "metadata": {
    "scrolled": true
   },
   "outputs": [
    {
     "name": "stdout",
     "output_type": "stream",
     "text": [
      "The dog's name is Will, they are 2 years old, and they go awooo\n"
     ]
    }
   ],
   "source": [
    "will.printDog()"
   ]
  },
  {
   "cell_type": "code",
   "execution_count": 143,
   "id": "adfa9505",
   "metadata": {},
   "outputs": [
    {
     "name": "stdout",
     "output_type": "stream",
     "text": [
      "Will's fur is yellow\n"
     ]
    }
   ],
   "source": [
    "will.printFur()"
   ]
  },
  {
   "cell_type": "markdown",
   "id": "b4486f7b",
   "metadata": {},
   "source": [
    "## Hangman Exercise (Exercise 7)"
   ]
  },
  {
   "cell_type": "markdown",
   "id": "6f48c681",
   "metadata": {},
   "source": [
    "Remember how random.random() generates a number between 0 and 1. Similarly, if you wanted it to generate a number between 1 and 10, we could multiply that by 10. To make sure it goes up to 10 and is not less than 1, we use math.ceil() to round up, as shown:"
   ]
  },
  {
   "cell_type": "code",
   "execution_count": 144,
   "id": "f6554722",
   "metadata": {
    "scrolled": false
   },
   "outputs": [
    {
     "data": {
      "text/plain": [
       "5"
      ]
     },
     "execution_count": 144,
     "metadata": {},
     "output_type": "execute_result"
    }
   ],
   "source": [
    "math.ceil(random.random() * 10)"
   ]
  },
  {
   "cell_type": "markdown",
   "id": "fbb4b03e",
   "metadata": {},
   "source": [
    "Here is a quick little code block that applies this to a guessing game. We generate a number, and the user tries to guess it. If the flag (guessed) is not True, we keep going until the user guesses correctly."
   ]
  },
  {
   "cell_type": "code",
   "execution_count": 145,
   "id": "7b5b5c36",
   "metadata": {
    "scrolled": true
   },
   "outputs": [
    {
     "name": "stdout",
     "output_type": "stream",
     "text": [
      "Take a guess: 1\n",
      "Guess again!\n",
      "Take a guess: 2\n",
      "Guess again!\n",
      "Take a guess: 3\n",
      "Guess again!\n",
      "Take a guess: 4\n",
      "Guess again!\n",
      "Take a guess: 5\n",
      "Guess again!\n",
      "Take a guess: 6\n",
      "Nice guess!\n"
     ]
    }
   ],
   "source": [
    "guessed = False\n",
    "num = math.ceil(random.random() * 10)\n",
    "while guessed == False:\n",
    "    guess = int(input(\"Take a guess: \"))\n",
    "    if guess == num:\n",
    "        guessed = True\n",
    "        print(\"Nice guess!\")\n",
    "    else:\n",
    "        print(\"Guess again!\")\n",
    "    "
   ]
  },
  {
   "cell_type": "markdown",
   "id": "d4ecc139",
   "metadata": {},
   "source": [
    "To generate a list of values in a range, we can use the following code:"
   ]
  },
  {
   "cell_type": "code",
   "execution_count": 146,
   "id": "09442bbf",
   "metadata": {},
   "outputs": [],
   "source": [
    "nums = [i for i in range(1, 11)]"
   ]
  },
  {
   "cell_type": "code",
   "execution_count": 147,
   "id": "b26d1aa3",
   "metadata": {},
   "outputs": [
    {
     "data": {
      "text/plain": [
       "[1, 2, 3, 4, 5, 6, 7, 8, 9, 10]"
      ]
     },
     "execution_count": 147,
     "metadata": {},
     "output_type": "execute_result"
    }
   ],
   "source": [
    "nums"
   ]
  },
  {
   "cell_type": "markdown",
   "id": "ac62b32e",
   "metadata": {},
   "source": [
    "What this does is it gets each value from the range of 1,11 and adds that to the list, which is nums in this case"
   ]
  },
  {
   "cell_type": "markdown",
   "id": "cdaf1962",
   "metadata": {},
   "source": [
    "Create a hangman game with these words, but a little simpler. Generate underscores for each letter in the word,\n",
    "and print the amount of letters in the word.\n",
    " If a player guesses a letter, each occurence of that letter will be revealed. The player will have 8 lives,\n",
    " and after each guess, the number of lives will be printed out.\n",
    " The game should not be case sensitive\n",
    " \n",
    " Hints:\n",
    "1. Make your word that you print out a list of underscores, and when a player guesses a letter, replace the \n",
    " corresponding index in the actual word with the underscore in the printed out word. \n",
    "To print out the word with various underscores, write '\"\".join(word)'\n",
    "2. To get the list of letters in the word, try list(set(selected_word))\n",
    "\n"
   ]
  },
  {
   "cell_type": "code",
   "execution_count": 148,
   "id": "4ea967f0",
   "metadata": {},
   "outputs": [],
   "source": [
    "words = [\"Apple\", \"Pear\", \"Watermelon\", \"Strawberry\", \"Banana\", \"Corn\", \"Broccoli\"]"
   ]
  },
  {
   "cell_type": "markdown",
   "id": "33fb9585",
   "metadata": {},
   "source": [
    "```{admonition} Click to show solution\n",
    ":class: dropdown\n",
    "\n",
    "\n",
    "\n",
    "    selected = random.choice(words)\n",
    "    selected = selected.lower()\n",
    "    lives = 8\n",
    "    revealed = False\n",
    "    word = [\"_\" for i in range(len(selected))]\n",
    "    letters = list(set(selected))\n",
    "    while lives > 0 and revealed == False:\n",
    "        print(f\"Here is the word: There are {len(selected)} letters. \\n\" )\n",
    "        print(\"\".join(word))\n",
    "\n",
    "\n",
    "        guess = input(\"Guess a letter: \").lower()\n",
    "        if guess in letters:\n",
    "            letters.remove(guess)\n",
    "            for idx, letter in enumerate(selected):\n",
    "                if guess == letter:\n",
    "                    word[idx] = guess\n",
    "        else:\n",
    "            print(\"Wrong guess\")\n",
    "            lives -= 1\n",
    "\n",
    "        if \"_\" not in word:\n",
    "            print(\"Congratulations! You have won\")\n",
    "            print(\"Here is the word: \", selected)\n",
    "            revealed = True\n",
    "        else:\n",
    "            print(f\"You have {lives} lives left\")\n",
    "        if lives == 0:\n",
    "            print(\"You lost\")\n",
    "        \n",
    "```"
   ]
  },
  {
   "cell_type": "markdown",
   "id": "3fb56976",
   "metadata": {},
   "source": [
    "## Files and Directories "
   ]
  },
  {
   "cell_type": "markdown",
   "id": "fba3c3a0",
   "metadata": {},
   "source": [
    "To access and edit directories, we'll want to import the pre-installed os module"
   ]
  },
  {
   "cell_type": "code",
   "execution_count": 149,
   "id": "d8def112",
   "metadata": {},
   "outputs": [],
   "source": [
    "import os"
   ]
  },
  {
   "cell_type": "markdown",
   "id": "498dbdc0",
   "metadata": {},
   "source": [
    "To get a list of files in your current directory, we can type the listdir() command"
   ]
  },
  {
   "cell_type": "code",
   "execution_count": 150,
   "id": "c33a5bfb",
   "metadata": {},
   "outputs": [
    {
     "data": {
      "text/plain": [
       "['markdown.md',\n",
       " 'requirements.txt',\n",
       " 'references.bib',\n",
       " 'markdown-notebooks.md',\n",
       " 'intro.md',\n",
       " 'notebooks.ipynb',\n",
       " 'FSU.png',\n",
       " '_toc.yml',\n",
       " 'logo.png',\n",
       " '_build',\n",
       " '_config.yml',\n",
       " '.ipynb_checkpoints',\n",
       " 'python_tutorial.ipynb']"
      ]
     },
     "execution_count": 150,
     "metadata": {},
     "output_type": "execute_result"
    }
   ],
   "source": [
    "os.listdir()"
   ]
  },
  {
   "cell_type": "markdown",
   "id": "e62ee67f",
   "metadata": {},
   "source": [
    "To obtain the file path of our current working directory, we can call the getcwd() command"
   ]
  },
  {
   "cell_type": "code",
   "execution_count": 151,
   "id": "9acd6c7d",
   "metadata": {},
   "outputs": [
    {
     "data": {
      "text/plain": [
       "'/Users/schugani/python_tutorial/python_tutorial'"
      ]
     },
     "execution_count": 151,
     "metadata": {},
     "output_type": "execute_result"
    }
   ],
   "source": [
    "os.getcwd()"
   ]
  },
  {
   "cell_type": "markdown",
   "id": "7c81ce85",
   "metadata": {},
   "source": [
    "To change our directory, we can enter the path of the new directory. It can either be relative to the directory at hand or to the computer as a whole"
   ]
  },
  {
   "cell_type": "code",
   "execution_count": 157,
   "id": "279c57c0",
   "metadata": {},
   "outputs": [],
   "source": [
    "os.chdir(\"/Users/schugani\")"
   ]
  },
  {
   "cell_type": "code",
   "execution_count": 158,
   "id": "4ff60784",
   "metadata": {},
   "outputs": [],
   "source": [
    "\n",
    "os.chdir('Documents')\n",
    "os.chdir('/Users/schugani')"
   ]
  },
  {
   "cell_type": "markdown",
   "id": "a6d577cb",
   "metadata": {},
   "source": [
    "To create a folder, we can call the mkdir() function. This path should be relative to the computer."
   ]
  },
  {
   "cell_type": "markdown",
   "id": "9cacd9f6",
   "metadata": {},
   "source": [
    "First, we can obtain our current directory path"
   ]
  },
  {
   "cell_type": "code",
   "execution_count": 159,
   "id": "2ecdde34",
   "metadata": {},
   "outputs": [],
   "source": [
    "cur_path = os.getcwd()"
   ]
  },
  {
   "cell_type": "markdown",
   "id": "4439a70d",
   "metadata": {},
   "source": [
    "Next, we can name our new folder"
   ]
  },
  {
   "cell_type": "code",
   "execution_count": 160,
   "id": "d9eff7a1",
   "metadata": {},
   "outputs": [],
   "source": [
    "folder_name = \"datasets\""
   ]
  },
  {
   "cell_type": "markdown",
   "id": "f7418f40",
   "metadata": {},
   "source": [
    "Finally, we can join the two with os.path.join and make a directory based on that"
   ]
  },
  {
   "cell_type": "markdown",
   "id": "f386682c",
   "metadata": {},
   "source": [
    "Here, we can write a try except block that states that if the directory already exists, it will print so and the directory will not be created"
   ]
  },
  {
   "cell_type": "code",
   "execution_count": 161,
   "id": "ab81a50b",
   "metadata": {},
   "outputs": [
    {
     "name": "stdout",
     "output_type": "stream",
     "text": [
      "file already exists\n"
     ]
    }
   ],
   "source": [
    "new_dir = os.path.join(cur_path, folder_name)\n",
    "try:\n",
    "    os.mkdir(new_dir)\n",
    "except FileExistsError:\n",
    "    print(\"file already exists\")"
   ]
  },
  {
   "cell_type": "markdown",
   "id": "76f4f291",
   "metadata": {},
   "source": [
    "Let's say we have a file called data.csv and want to move it to our new directory. First, we want to move it to our current directory without Python. Next, we can use os.rename to change the path"
   ]
  },
  {
   "cell_type": "code",
   "execution_count": 165,
   "id": "e3e575d5",
   "metadata": {
    "scrolled": true
   },
   "outputs": [],
   "source": [
    "old_path = os.path.join(cur_path, \"data.csv\")\n",
    "new_path = os.path.join(new_dir, \"data.csv\")\n",
    "os.rename(old_path, new_path)"
   ]
  },
  {
   "cell_type": "code",
   "execution_count": 166,
   "id": "fd0dec62",
   "metadata": {},
   "outputs": [],
   "source": [
    "os.chdir(new_dir)"
   ]
  },
  {
   "cell_type": "code",
   "execution_count": 167,
   "id": "2018848a",
   "metadata": {
    "scrolled": true
   },
   "outputs": [
    {
     "data": {
      "text/plain": [
       "['data.csv']"
      ]
     },
     "execution_count": 167,
     "metadata": {},
     "output_type": "execute_result"
    }
   ],
   "source": [
    "os.listdir()"
   ]
  },
  {
   "cell_type": "markdown",
   "id": "2254f654",
   "metadata": {},
   "source": [
    "Nice! Now our data is in our new directory"
   ]
  },
  {
   "cell_type": "markdown",
   "id": "81685401",
   "metadata": {},
   "source": [
    "To change our directory back to the old one, we can call the chdir() function with the old path (that we saved as cur_path)"
   ]
  },
  {
   "cell_type": "code",
   "execution_count": 168,
   "id": "58b3371f",
   "metadata": {},
   "outputs": [],
   "source": [
    "os.chdir(cur_path)"
   ]
  },
  {
   "cell_type": "markdown",
   "id": "9ed4e3c8",
   "metadata": {},
   "source": [
    "## More Pandas "
   ]
  },
  {
   "cell_type": "markdown",
   "id": "d9796cd8",
   "metadata": {},
   "source": [
    "Let's create a data set with some names, ages, and heights"
   ]
  },
  {
   "cell_type": "code",
   "execution_count": 169,
   "id": "bfd89ebf",
   "metadata": {},
   "outputs": [],
   "source": [
    "names = ['John', 'Jeff', 'George']\n",
    "ages = [12, 20, 34]\n",
    "heights_ft = [\"6'4\", \"5'7\", \"5'2\"]\n",
    "\n",
    "df = pd.DataFrame(list(zip(names, ages, heights_ft)))"
   ]
  },
  {
   "cell_type": "code",
   "execution_count": 170,
   "id": "2fc9ff50",
   "metadata": {},
   "outputs": [],
   "source": [
    "df.columns = ['Name', 'Age', 'Height (ft)']"
   ]
  },
  {
   "cell_type": "code",
   "execution_count": 171,
   "id": "7e692e59",
   "metadata": {},
   "outputs": [
    {
     "data": {
      "text/html": [
       "<div>\n",
       "<style scoped>\n",
       "    .dataframe tbody tr th:only-of-type {\n",
       "        vertical-align: middle;\n",
       "    }\n",
       "\n",
       "    .dataframe tbody tr th {\n",
       "        vertical-align: top;\n",
       "    }\n",
       "\n",
       "    .dataframe thead th {\n",
       "        text-align: right;\n",
       "    }\n",
       "</style>\n",
       "<table border=\"1\" class=\"dataframe\">\n",
       "  <thead>\n",
       "    <tr style=\"text-align: right;\">\n",
       "      <th></th>\n",
       "      <th>Name</th>\n",
       "      <th>Age</th>\n",
       "      <th>Height (ft)</th>\n",
       "    </tr>\n",
       "  </thead>\n",
       "  <tbody>\n",
       "    <tr>\n",
       "      <th>0</th>\n",
       "      <td>John</td>\n",
       "      <td>12</td>\n",
       "      <td>6'4</td>\n",
       "    </tr>\n",
       "    <tr>\n",
       "      <th>1</th>\n",
       "      <td>Jeff</td>\n",
       "      <td>20</td>\n",
       "      <td>5'7</td>\n",
       "    </tr>\n",
       "    <tr>\n",
       "      <th>2</th>\n",
       "      <td>George</td>\n",
       "      <td>34</td>\n",
       "      <td>5'2</td>\n",
       "    </tr>\n",
       "  </tbody>\n",
       "</table>\n",
       "</div>"
      ],
      "text/plain": [
       "     Name  Age Height (ft)\n",
       "0    John   12         6'4\n",
       "1    Jeff   20         5'7\n",
       "2  George   34         5'2"
      ]
     },
     "execution_count": 171,
     "metadata": {},
     "output_type": "execute_result"
    }
   ],
   "source": [
    "df"
   ]
  },
  {
   "cell_type": "markdown",
   "id": "ede406e6",
   "metadata": {},
   "source": [
    "First, we can convert the height column to two new columns -- feet and inches. This allows us to have the height as a combination of numbers instead of a string, enabling us to perform mathemetical operations on it"
   ]
  },
  {
   "cell_type": "code",
   "execution_count": 172,
   "id": "780b6ea0",
   "metadata": {},
   "outputs": [],
   "source": [
    "df['Feet'] = [float(i[0]) for i in df['Height (ft)']]\n",
    "df['In'] = [float(i[2:]) for i in df['Height (ft)']]"
   ]
  },
  {
   "cell_type": "markdown",
   "id": "08b0d46c",
   "metadata": {},
   "source": [
    "Breaking down the code here, we have \n",
    "     ```df['Feet'] = [float(i[0]) for i in df['Height (ft)']]```\n",
    "This says that we want to take float(i\\[0]). This is the first element in i. Next, we have \"for i in df\\\\['Height (ft)'\\]\", which means that each i represents a value in the Height (ft) column. Therefore, for each height, we are taking the first element. Since the height column is a string, this is the first character.\n",
    "\n",
    "For inches, we do the same thing, except we take the third character and beyond (i\\[2:]). We do this because the first character is the feet, the second character is a ', and everything beyond that is inches.\n",
    "    "
   ]
  },
  {
   "cell_type": "markdown",
   "id": "f2ac2ca2",
   "metadata": {},
   "source": [
    "To create a new column for the height in centimeters, we can multiply the feet by 12 (because there are 12 inches in a foot) and then by 2.54 (because there are 2.54 cm per inch) and add that to the inches multiplied by 2.54. Something that's really cool about Pandas is that we can add columns like this without any loops or extra code."
   ]
  },
  {
   "cell_type": "code",
   "execution_count": 173,
   "id": "d8541fba",
   "metadata": {},
   "outputs": [],
   "source": [
    "df['Height (cm)'] = df['Feet'] * 12 * 2.54 + df['In'] * 2.54"
   ]
  },
  {
   "cell_type": "code",
   "execution_count": 174,
   "id": "0dc0b57f",
   "metadata": {},
   "outputs": [
    {
     "data": {
      "text/html": [
       "<div>\n",
       "<style scoped>\n",
       "    .dataframe tbody tr th:only-of-type {\n",
       "        vertical-align: middle;\n",
       "    }\n",
       "\n",
       "    .dataframe tbody tr th {\n",
       "        vertical-align: top;\n",
       "    }\n",
       "\n",
       "    .dataframe thead th {\n",
       "        text-align: right;\n",
       "    }\n",
       "</style>\n",
       "<table border=\"1\" class=\"dataframe\">\n",
       "  <thead>\n",
       "    <tr style=\"text-align: right;\">\n",
       "      <th></th>\n",
       "      <th>Name</th>\n",
       "      <th>Age</th>\n",
       "      <th>Height (ft)</th>\n",
       "      <th>Feet</th>\n",
       "      <th>In</th>\n",
       "      <th>Height (cm)</th>\n",
       "    </tr>\n",
       "  </thead>\n",
       "  <tbody>\n",
       "    <tr>\n",
       "      <th>0</th>\n",
       "      <td>John</td>\n",
       "      <td>12</td>\n",
       "      <td>6'4</td>\n",
       "      <td>6.0</td>\n",
       "      <td>4.0</td>\n",
       "      <td>193.04</td>\n",
       "    </tr>\n",
       "    <tr>\n",
       "      <th>1</th>\n",
       "      <td>Jeff</td>\n",
       "      <td>20</td>\n",
       "      <td>5'7</td>\n",
       "      <td>5.0</td>\n",
       "      <td>7.0</td>\n",
       "      <td>170.18</td>\n",
       "    </tr>\n",
       "    <tr>\n",
       "      <th>2</th>\n",
       "      <td>George</td>\n",
       "      <td>34</td>\n",
       "      <td>5'2</td>\n",
       "      <td>5.0</td>\n",
       "      <td>2.0</td>\n",
       "      <td>157.48</td>\n",
       "    </tr>\n",
       "  </tbody>\n",
       "</table>\n",
       "</div>"
      ],
      "text/plain": [
       "     Name  Age Height (ft)  Feet   In  Height (cm)\n",
       "0    John   12         6'4   6.0  4.0       193.04\n",
       "1    Jeff   20         5'7   5.0  7.0       170.18\n",
       "2  George   34         5'2   5.0  2.0       157.48"
      ]
     },
     "execution_count": 174,
     "metadata": {},
     "output_type": "execute_result"
    }
   ],
   "source": [
    "df"
   ]
  },
  {
   "cell_type": "markdown",
   "id": "326f821b",
   "metadata": {},
   "source": [
    "To subset data, we first need a list of True/False values that is equal to the length of the data set."
   ]
  },
  {
   "cell_type": "code",
   "execution_count": 175,
   "id": "cffc3fe0",
   "metadata": {},
   "outputs": [
    {
     "data": {
      "text/plain": [
       "0     True\n",
       "1     True\n",
       "2    False\n",
       "Name: Height (cm), dtype: bool"
      ]
     },
     "execution_count": 175,
     "metadata": {},
     "output_type": "execute_result"
    }
   ],
   "source": [
    "df['Height (cm)'] > 170"
   ]
  },
  {
   "cell_type": "markdown",
   "id": "ed7cef84",
   "metadata": {},
   "source": [
    "Then, we can just put that list inside the data frame!"
   ]
  },
  {
   "cell_type": "code",
   "execution_count": 176,
   "id": "7fffd63a",
   "metadata": {
    "scrolled": true
   },
   "outputs": [
    {
     "data": {
      "text/html": [
       "<div>\n",
       "<style scoped>\n",
       "    .dataframe tbody tr th:only-of-type {\n",
       "        vertical-align: middle;\n",
       "    }\n",
       "\n",
       "    .dataframe tbody tr th {\n",
       "        vertical-align: top;\n",
       "    }\n",
       "\n",
       "    .dataframe thead th {\n",
       "        text-align: right;\n",
       "    }\n",
       "</style>\n",
       "<table border=\"1\" class=\"dataframe\">\n",
       "  <thead>\n",
       "    <tr style=\"text-align: right;\">\n",
       "      <th></th>\n",
       "      <th>Name</th>\n",
       "      <th>Age</th>\n",
       "      <th>Height (ft)</th>\n",
       "      <th>Feet</th>\n",
       "      <th>In</th>\n",
       "      <th>Height (cm)</th>\n",
       "    </tr>\n",
       "  </thead>\n",
       "  <tbody>\n",
       "    <tr>\n",
       "      <th>0</th>\n",
       "      <td>John</td>\n",
       "      <td>12</td>\n",
       "      <td>6'4</td>\n",
       "      <td>6.0</td>\n",
       "      <td>4.0</td>\n",
       "      <td>193.04</td>\n",
       "    </tr>\n",
       "    <tr>\n",
       "      <th>1</th>\n",
       "      <td>Jeff</td>\n",
       "      <td>20</td>\n",
       "      <td>5'7</td>\n",
       "      <td>5.0</td>\n",
       "      <td>7.0</td>\n",
       "      <td>170.18</td>\n",
       "    </tr>\n",
       "  </tbody>\n",
       "</table>\n",
       "</div>"
      ],
      "text/plain": [
       "   Name  Age Height (ft)  Feet   In  Height (cm)\n",
       "0  John   12         6'4   6.0  4.0       193.04\n",
       "1  Jeff   20         5'7   5.0  7.0       170.18"
      ]
     },
     "execution_count": 176,
     "metadata": {},
     "output_type": "execute_result"
    }
   ],
   "source": [
    "df[df['Height (cm)'] > 170]"
   ]
  },
  {
   "cell_type": "markdown",
   "id": "f3dbe033",
   "metadata": {},
   "source": [
    "## Exercise 8\n",
    "Find a subset of df for all people who have more than 3 inches in the 'In' part of their height! Save this to a dataframe called \"edited_in\""
   ]
  },
  {
   "cell_type": "markdown",
   "id": "8629ea99",
   "metadata": {},
   "source": [
    "```{admonition} Click to show solution\n",
    ":class: dropdown\n",
    "\n",
    "        edited_in= df[df['In'] > 3]\n",
    "```"
   ]
  },
  {
   "cell_type": "markdown",
   "id": "c111c871",
   "metadata": {},
   "source": [
    "Similarly, we can do something for people who have less than 5 inches, like this:"
   ]
  },
  {
   "cell_type": "code",
   "execution_count": 177,
   "id": "e3be6187",
   "metadata": {},
   "outputs": [],
   "source": [
    "edited_in= df[df['In'] < 5]"
   ]
  },
  {
   "cell_type": "code",
   "execution_count": 178,
   "id": "8cdfbc2f",
   "metadata": {},
   "outputs": [
    {
     "data": {
      "text/html": [
       "<div>\n",
       "<style scoped>\n",
       "    .dataframe tbody tr th:only-of-type {\n",
       "        vertical-align: middle;\n",
       "    }\n",
       "\n",
       "    .dataframe tbody tr th {\n",
       "        vertical-align: top;\n",
       "    }\n",
       "\n",
       "    .dataframe thead th {\n",
       "        text-align: right;\n",
       "    }\n",
       "</style>\n",
       "<table border=\"1\" class=\"dataframe\">\n",
       "  <thead>\n",
       "    <tr style=\"text-align: right;\">\n",
       "      <th></th>\n",
       "      <th>Name</th>\n",
       "      <th>Age</th>\n",
       "      <th>Height (ft)</th>\n",
       "      <th>Feet</th>\n",
       "      <th>In</th>\n",
       "      <th>Height (cm)</th>\n",
       "    </tr>\n",
       "  </thead>\n",
       "  <tbody>\n",
       "    <tr>\n",
       "      <th>0</th>\n",
       "      <td>John</td>\n",
       "      <td>12</td>\n",
       "      <td>6'4</td>\n",
       "      <td>6.0</td>\n",
       "      <td>4.0</td>\n",
       "      <td>193.04</td>\n",
       "    </tr>\n",
       "    <tr>\n",
       "      <th>2</th>\n",
       "      <td>George</td>\n",
       "      <td>34</td>\n",
       "      <td>5'2</td>\n",
       "      <td>5.0</td>\n",
       "      <td>2.0</td>\n",
       "      <td>157.48</td>\n",
       "    </tr>\n",
       "  </tbody>\n",
       "</table>\n",
       "</div>"
      ],
      "text/plain": [
       "     Name  Age Height (ft)  Feet   In  Height (cm)\n",
       "0    John   12         6'4   6.0  4.0       193.04\n",
       "2  George   34         5'2   5.0  2.0       157.48"
      ]
     },
     "execution_count": 178,
     "metadata": {},
     "output_type": "execute_result"
    }
   ],
   "source": [
    "edited_in"
   ]
  },
  {
   "cell_type": "markdown",
   "id": "1caebe48",
   "metadata": {},
   "source": [
    "Note how for our edited_in data frame, the row indices go from 0 to 2. To reset this, we can call the reset_index() function"
   ]
  },
  {
   "cell_type": "code",
   "execution_count": 179,
   "id": "33fbca31",
   "metadata": {},
   "outputs": [
    {
     "data": {
      "text/html": [
       "<div>\n",
       "<style scoped>\n",
       "    .dataframe tbody tr th:only-of-type {\n",
       "        vertical-align: middle;\n",
       "    }\n",
       "\n",
       "    .dataframe tbody tr th {\n",
       "        vertical-align: top;\n",
       "    }\n",
       "\n",
       "    .dataframe thead th {\n",
       "        text-align: right;\n",
       "    }\n",
       "</style>\n",
       "<table border=\"1\" class=\"dataframe\">\n",
       "  <thead>\n",
       "    <tr style=\"text-align: right;\">\n",
       "      <th></th>\n",
       "      <th>index</th>\n",
       "      <th>Name</th>\n",
       "      <th>Age</th>\n",
       "      <th>Height (ft)</th>\n",
       "      <th>Feet</th>\n",
       "      <th>In</th>\n",
       "      <th>Height (cm)</th>\n",
       "    </tr>\n",
       "  </thead>\n",
       "  <tbody>\n",
       "    <tr>\n",
       "      <th>0</th>\n",
       "      <td>0</td>\n",
       "      <td>John</td>\n",
       "      <td>12</td>\n",
       "      <td>6'4</td>\n",
       "      <td>6.0</td>\n",
       "      <td>4.0</td>\n",
       "      <td>193.04</td>\n",
       "    </tr>\n",
       "    <tr>\n",
       "      <th>1</th>\n",
       "      <td>2</td>\n",
       "      <td>George</td>\n",
       "      <td>34</td>\n",
       "      <td>5'2</td>\n",
       "      <td>5.0</td>\n",
       "      <td>2.0</td>\n",
       "      <td>157.48</td>\n",
       "    </tr>\n",
       "  </tbody>\n",
       "</table>\n",
       "</div>"
      ],
      "text/plain": [
       "   index    Name  Age Height (ft)  Feet   In  Height (cm)\n",
       "0      0    John   12         6'4   6.0  4.0       193.04\n",
       "1      2  George   34         5'2   5.0  2.0       157.48"
      ]
     },
     "execution_count": 179,
     "metadata": {},
     "output_type": "execute_result"
    }
   ],
   "source": [
    "edited_in.reset_index()"
   ]
  },
  {
   "cell_type": "markdown",
   "id": "02a29dce",
   "metadata": {},
   "source": [
    "Awesome! If we don't want our indices saved as a column, we can call the drop=True command from the reset_index function, like so:"
   ]
  },
  {
   "cell_type": "code",
   "execution_count": 180,
   "id": "b4b859e6",
   "metadata": {},
   "outputs": [
    {
     "data": {
      "text/html": [
       "<div>\n",
       "<style scoped>\n",
       "    .dataframe tbody tr th:only-of-type {\n",
       "        vertical-align: middle;\n",
       "    }\n",
       "\n",
       "    .dataframe tbody tr th {\n",
       "        vertical-align: top;\n",
       "    }\n",
       "\n",
       "    .dataframe thead th {\n",
       "        text-align: right;\n",
       "    }\n",
       "</style>\n",
       "<table border=\"1\" class=\"dataframe\">\n",
       "  <thead>\n",
       "    <tr style=\"text-align: right;\">\n",
       "      <th></th>\n",
       "      <th>Name</th>\n",
       "      <th>Age</th>\n",
       "      <th>Height (ft)</th>\n",
       "      <th>Feet</th>\n",
       "      <th>In</th>\n",
       "      <th>Height (cm)</th>\n",
       "    </tr>\n",
       "  </thead>\n",
       "  <tbody>\n",
       "    <tr>\n",
       "      <th>0</th>\n",
       "      <td>John</td>\n",
       "      <td>12</td>\n",
       "      <td>6'4</td>\n",
       "      <td>6.0</td>\n",
       "      <td>4.0</td>\n",
       "      <td>193.04</td>\n",
       "    </tr>\n",
       "    <tr>\n",
       "      <th>1</th>\n",
       "      <td>George</td>\n",
       "      <td>34</td>\n",
       "      <td>5'2</td>\n",
       "      <td>5.0</td>\n",
       "      <td>2.0</td>\n",
       "      <td>157.48</td>\n",
       "    </tr>\n",
       "  </tbody>\n",
       "</table>\n",
       "</div>"
      ],
      "text/plain": [
       "     Name  Age Height (ft)  Feet   In  Height (cm)\n",
       "0    John   12         6'4   6.0  4.0       193.04\n",
       "1  George   34         5'2   5.0  2.0       157.48"
      ]
     },
     "execution_count": 180,
     "metadata": {},
     "output_type": "execute_result"
    }
   ],
   "source": [
    "edited_in.reset_index(drop=True)"
   ]
  },
  {
   "cell_type": "markdown",
   "id": "d9e9e391",
   "metadata": {},
   "source": [
    "However, note that this doesn't save the data frame"
   ]
  },
  {
   "cell_type": "code",
   "execution_count": 181,
   "id": "7a96d204",
   "metadata": {},
   "outputs": [
    {
     "data": {
      "text/html": [
       "<div>\n",
       "<style scoped>\n",
       "    .dataframe tbody tr th:only-of-type {\n",
       "        vertical-align: middle;\n",
       "    }\n",
       "\n",
       "    .dataframe tbody tr th {\n",
       "        vertical-align: top;\n",
       "    }\n",
       "\n",
       "    .dataframe thead th {\n",
       "        text-align: right;\n",
       "    }\n",
       "</style>\n",
       "<table border=\"1\" class=\"dataframe\">\n",
       "  <thead>\n",
       "    <tr style=\"text-align: right;\">\n",
       "      <th></th>\n",
       "      <th>Name</th>\n",
       "      <th>Age</th>\n",
       "      <th>Height (ft)</th>\n",
       "      <th>Feet</th>\n",
       "      <th>In</th>\n",
       "      <th>Height (cm)</th>\n",
       "    </tr>\n",
       "  </thead>\n",
       "  <tbody>\n",
       "    <tr>\n",
       "      <th>0</th>\n",
       "      <td>John</td>\n",
       "      <td>12</td>\n",
       "      <td>6'4</td>\n",
       "      <td>6.0</td>\n",
       "      <td>4.0</td>\n",
       "      <td>193.04</td>\n",
       "    </tr>\n",
       "    <tr>\n",
       "      <th>2</th>\n",
       "      <td>George</td>\n",
       "      <td>34</td>\n",
       "      <td>5'2</td>\n",
       "      <td>5.0</td>\n",
       "      <td>2.0</td>\n",
       "      <td>157.48</td>\n",
       "    </tr>\n",
       "  </tbody>\n",
       "</table>\n",
       "</div>"
      ],
      "text/plain": [
       "     Name  Age Height (ft)  Feet   In  Height (cm)\n",
       "0    John   12         6'4   6.0  4.0       193.04\n",
       "2  George   34         5'2   5.0  2.0       157.48"
      ]
     },
     "execution_count": 181,
     "metadata": {},
     "output_type": "execute_result"
    }
   ],
   "source": [
    "edited_in"
   ]
  },
  {
   "cell_type": "markdown",
   "id": "c963aba2",
   "metadata": {},
   "source": [
    "To save the data frame with the resetted indices, we can call the inplace=True command"
   ]
  },
  {
   "cell_type": "code",
   "execution_count": 182,
   "id": "ce7d3ecc",
   "metadata": {},
   "outputs": [],
   "source": [
    "edited_in.reset_index(drop=True, inplace=True)"
   ]
  },
  {
   "cell_type": "markdown",
   "id": "3ba7ef8e",
   "metadata": {},
   "source": [
    "Alternatively, we could just set it equal to the data frame with the resetted indices"
   ]
  },
  {
   "cell_type": "code",
   "execution_count": 183,
   "id": "dbca674d",
   "metadata": {},
   "outputs": [],
   "source": [
    "edited_in = edited_in.reset_index(drop=True)"
   ]
  },
  {
   "cell_type": "code",
   "execution_count": 184,
   "id": "05d60d28",
   "metadata": {},
   "outputs": [
    {
     "data": {
      "text/html": [
       "<div>\n",
       "<style scoped>\n",
       "    .dataframe tbody tr th:only-of-type {\n",
       "        vertical-align: middle;\n",
       "    }\n",
       "\n",
       "    .dataframe tbody tr th {\n",
       "        vertical-align: top;\n",
       "    }\n",
       "\n",
       "    .dataframe thead th {\n",
       "        text-align: right;\n",
       "    }\n",
       "</style>\n",
       "<table border=\"1\" class=\"dataframe\">\n",
       "  <thead>\n",
       "    <tr style=\"text-align: right;\">\n",
       "      <th></th>\n",
       "      <th>Name</th>\n",
       "      <th>Age</th>\n",
       "      <th>Height (ft)</th>\n",
       "      <th>Feet</th>\n",
       "      <th>In</th>\n",
       "      <th>Height (cm)</th>\n",
       "    </tr>\n",
       "  </thead>\n",
       "  <tbody>\n",
       "    <tr>\n",
       "      <th>0</th>\n",
       "      <td>John</td>\n",
       "      <td>12</td>\n",
       "      <td>6'4</td>\n",
       "      <td>6.0</td>\n",
       "      <td>4.0</td>\n",
       "      <td>193.04</td>\n",
       "    </tr>\n",
       "    <tr>\n",
       "      <th>1</th>\n",
       "      <td>George</td>\n",
       "      <td>34</td>\n",
       "      <td>5'2</td>\n",
       "      <td>5.0</td>\n",
       "      <td>2.0</td>\n",
       "      <td>157.48</td>\n",
       "    </tr>\n",
       "  </tbody>\n",
       "</table>\n",
       "</div>"
      ],
      "text/plain": [
       "     Name  Age Height (ft)  Feet   In  Height (cm)\n",
       "0    John   12         6'4   6.0  4.0       193.04\n",
       "1  George   34         5'2   5.0  2.0       157.48"
      ]
     },
     "execution_count": 184,
     "metadata": {},
     "output_type": "execute_result"
    }
   ],
   "source": [
    "edited_in "
   ]
  },
  {
   "cell_type": "markdown",
   "id": "09553680",
   "metadata": {},
   "source": [
    "If we wanted to subset by more than one condition, we could incorporate the \"&\" (and) or \"|\" (or) symbols, putting each condition in parenthesis. To find all people with an age less than 20 and height more than 170 cm, we could write the following code:"
   ]
  },
  {
   "cell_type": "code",
   "execution_count": 185,
   "id": "d120c198",
   "metadata": {
    "scrolled": true
   },
   "outputs": [
    {
     "data": {
      "text/html": [
       "<div>\n",
       "<style scoped>\n",
       "    .dataframe tbody tr th:only-of-type {\n",
       "        vertical-align: middle;\n",
       "    }\n",
       "\n",
       "    .dataframe tbody tr th {\n",
       "        vertical-align: top;\n",
       "    }\n",
       "\n",
       "    .dataframe thead th {\n",
       "        text-align: right;\n",
       "    }\n",
       "</style>\n",
       "<table border=\"1\" class=\"dataframe\">\n",
       "  <thead>\n",
       "    <tr style=\"text-align: right;\">\n",
       "      <th></th>\n",
       "      <th>Name</th>\n",
       "      <th>Age</th>\n",
       "      <th>Height (ft)</th>\n",
       "      <th>Feet</th>\n",
       "      <th>In</th>\n",
       "      <th>Height (cm)</th>\n",
       "    </tr>\n",
       "  </thead>\n",
       "  <tbody>\n",
       "    <tr>\n",
       "      <th>0</th>\n",
       "      <td>John</td>\n",
       "      <td>12</td>\n",
       "      <td>6'4</td>\n",
       "      <td>6.0</td>\n",
       "      <td>4.0</td>\n",
       "      <td>193.04</td>\n",
       "    </tr>\n",
       "  </tbody>\n",
       "</table>\n",
       "</div>"
      ],
      "text/plain": [
       "   Name  Age Height (ft)  Feet   In  Height (cm)\n",
       "0  John   12         6'4   6.0  4.0       193.04"
      ]
     },
     "execution_count": 185,
     "metadata": {},
     "output_type": "execute_result"
    }
   ],
   "source": [
    "df[(df['Age'] < 20) & (df['Height (cm)'] > 170)]"
   ]
  },
  {
   "cell_type": "markdown",
   "id": "7139fae8",
   "metadata": {},
   "source": [
    "## Machine Learning Project"
   ]
  },
  {
   "cell_type": "markdown",
   "id": "8ad59c95",
   "metadata": {},
   "source": [
    "For this project, we'll be taking an online data set and trying to predict whether or not a person is biologically male or female given certain facial features. This data set is available at https://www.kaggle.com/datasets/elakiricoder/gender-classification-dataset "
   ]
  },
  {
   "cell_type": "markdown",
   "id": "239f34cf",
   "metadata": {},
   "source": [
    "First, you'll want to download this data set and save it to your working directory as 'gender_classification_v7.csv'. Then, we can read it in as a pandas data frame called gender_df through the following command:"
   ]
  },
  {
   "cell_type": "code",
   "execution_count": 186,
   "id": "b0ebd21c",
   "metadata": {},
   "outputs": [],
   "source": [
    "gender_df = pd.read_csv('gender_classification_v7.csv')"
   ]
  },
  {
   "cell_type": "code",
   "execution_count": 187,
   "id": "ecdc9dce",
   "metadata": {},
   "outputs": [
    {
     "data": {
      "text/html": [
       "<div>\n",
       "<style scoped>\n",
       "    .dataframe tbody tr th:only-of-type {\n",
       "        vertical-align: middle;\n",
       "    }\n",
       "\n",
       "    .dataframe tbody tr th {\n",
       "        vertical-align: top;\n",
       "    }\n",
       "\n",
       "    .dataframe thead th {\n",
       "        text-align: right;\n",
       "    }\n",
       "</style>\n",
       "<table border=\"1\" class=\"dataframe\">\n",
       "  <thead>\n",
       "    <tr style=\"text-align: right;\">\n",
       "      <th></th>\n",
       "      <th>long_hair</th>\n",
       "      <th>forehead_width_cm</th>\n",
       "      <th>forehead_height_cm</th>\n",
       "      <th>nose_wide</th>\n",
       "      <th>nose_long</th>\n",
       "      <th>lips_thin</th>\n",
       "      <th>distance_nose_to_lip_long</th>\n",
       "      <th>gender</th>\n",
       "    </tr>\n",
       "  </thead>\n",
       "  <tbody>\n",
       "    <tr>\n",
       "      <th>0</th>\n",
       "      <td>1</td>\n",
       "      <td>11.8</td>\n",
       "      <td>6.1</td>\n",
       "      <td>1</td>\n",
       "      <td>0</td>\n",
       "      <td>1</td>\n",
       "      <td>1</td>\n",
       "      <td>Male</td>\n",
       "    </tr>\n",
       "    <tr>\n",
       "      <th>1</th>\n",
       "      <td>0</td>\n",
       "      <td>14.0</td>\n",
       "      <td>5.4</td>\n",
       "      <td>0</td>\n",
       "      <td>0</td>\n",
       "      <td>1</td>\n",
       "      <td>0</td>\n",
       "      <td>Female</td>\n",
       "    </tr>\n",
       "    <tr>\n",
       "      <th>2</th>\n",
       "      <td>0</td>\n",
       "      <td>11.8</td>\n",
       "      <td>6.3</td>\n",
       "      <td>1</td>\n",
       "      <td>1</td>\n",
       "      <td>1</td>\n",
       "      <td>1</td>\n",
       "      <td>Male</td>\n",
       "    </tr>\n",
       "    <tr>\n",
       "      <th>3</th>\n",
       "      <td>0</td>\n",
       "      <td>14.4</td>\n",
       "      <td>6.1</td>\n",
       "      <td>0</td>\n",
       "      <td>1</td>\n",
       "      <td>1</td>\n",
       "      <td>1</td>\n",
       "      <td>Male</td>\n",
       "    </tr>\n",
       "    <tr>\n",
       "      <th>4</th>\n",
       "      <td>1</td>\n",
       "      <td>13.5</td>\n",
       "      <td>5.9</td>\n",
       "      <td>0</td>\n",
       "      <td>0</td>\n",
       "      <td>0</td>\n",
       "      <td>0</td>\n",
       "      <td>Female</td>\n",
       "    </tr>\n",
       "    <tr>\n",
       "      <th>...</th>\n",
       "      <td>...</td>\n",
       "      <td>...</td>\n",
       "      <td>...</td>\n",
       "      <td>...</td>\n",
       "      <td>...</td>\n",
       "      <td>...</td>\n",
       "      <td>...</td>\n",
       "      <td>...</td>\n",
       "    </tr>\n",
       "    <tr>\n",
       "      <th>4996</th>\n",
       "      <td>1</td>\n",
       "      <td>13.6</td>\n",
       "      <td>5.1</td>\n",
       "      <td>0</td>\n",
       "      <td>0</td>\n",
       "      <td>0</td>\n",
       "      <td>0</td>\n",
       "      <td>Female</td>\n",
       "    </tr>\n",
       "    <tr>\n",
       "      <th>4997</th>\n",
       "      <td>1</td>\n",
       "      <td>11.9</td>\n",
       "      <td>5.4</td>\n",
       "      <td>0</td>\n",
       "      <td>0</td>\n",
       "      <td>0</td>\n",
       "      <td>0</td>\n",
       "      <td>Female</td>\n",
       "    </tr>\n",
       "    <tr>\n",
       "      <th>4998</th>\n",
       "      <td>1</td>\n",
       "      <td>12.9</td>\n",
       "      <td>5.7</td>\n",
       "      <td>0</td>\n",
       "      <td>0</td>\n",
       "      <td>0</td>\n",
       "      <td>0</td>\n",
       "      <td>Female</td>\n",
       "    </tr>\n",
       "    <tr>\n",
       "      <th>4999</th>\n",
       "      <td>1</td>\n",
       "      <td>13.2</td>\n",
       "      <td>6.2</td>\n",
       "      <td>0</td>\n",
       "      <td>0</td>\n",
       "      <td>0</td>\n",
       "      <td>0</td>\n",
       "      <td>Female</td>\n",
       "    </tr>\n",
       "    <tr>\n",
       "      <th>5000</th>\n",
       "      <td>1</td>\n",
       "      <td>15.4</td>\n",
       "      <td>5.4</td>\n",
       "      <td>1</td>\n",
       "      <td>1</td>\n",
       "      <td>1</td>\n",
       "      <td>1</td>\n",
       "      <td>Male</td>\n",
       "    </tr>\n",
       "  </tbody>\n",
       "</table>\n",
       "<p>5001 rows × 8 columns</p>\n",
       "</div>"
      ],
      "text/plain": [
       "      long_hair  forehead_width_cm  forehead_height_cm  nose_wide  nose_long  \\\n",
       "0             1               11.8                 6.1          1          0   \n",
       "1             0               14.0                 5.4          0          0   \n",
       "2             0               11.8                 6.3          1          1   \n",
       "3             0               14.4                 6.1          0          1   \n",
       "4             1               13.5                 5.9          0          0   \n",
       "...         ...                ...                 ...        ...        ...   \n",
       "4996          1               13.6                 5.1          0          0   \n",
       "4997          1               11.9                 5.4          0          0   \n",
       "4998          1               12.9                 5.7          0          0   \n",
       "4999          1               13.2                 6.2          0          0   \n",
       "5000          1               15.4                 5.4          1          1   \n",
       "\n",
       "      lips_thin  distance_nose_to_lip_long  gender  \n",
       "0             1                          1    Male  \n",
       "1             1                          0  Female  \n",
       "2             1                          1    Male  \n",
       "3             1                          1    Male  \n",
       "4             0                          0  Female  \n",
       "...         ...                        ...     ...  \n",
       "4996          0                          0  Female  \n",
       "4997          0                          0  Female  \n",
       "4998          0                          0  Female  \n",
       "4999          0                          0  Female  \n",
       "5000          1                          1    Male  \n",
       "\n",
       "[5001 rows x 8 columns]"
      ]
     },
     "execution_count": 187,
     "metadata": {},
     "output_type": "execute_result"
    }
   ],
   "source": [
    "gender_df"
   ]
  },
  {
   "cell_type": "markdown",
   "id": "2519bc98",
   "metadata": {},
   "source": [
    "Great! Now, in order for Python to be able to read this a little easier, we can convert gender to a number. To do this, we can enter the following command:"
   ]
  },
  {
   "cell_type": "code",
   "execution_count": 188,
   "id": "fc85a04d",
   "metadata": {},
   "outputs": [],
   "source": [
    "gender_df['gender_num'] = [0 if gender == \"Female\" else 1 for gender in gender_df['gender']]"
   ]
  },
  {
   "cell_type": "markdown",
   "id": "244047b5",
   "metadata": {},
   "source": [
    "What this does is first assigns the output to a column in gender_df called gender_num.\n",
    "\n",
    "Next, it states that for each gender in gender_df\\['gender'], if it is female, we assign the corresponding value in gender_num to be 0. Otherwise, we assign it to be 1 (the \"else 1\" does this)"
   ]
  },
  {
   "cell_type": "code",
   "execution_count": 189,
   "id": "d6c9f9d6",
   "metadata": {
    "scrolled": true
   },
   "outputs": [
    {
     "data": {
      "text/html": [
       "<div>\n",
       "<style scoped>\n",
       "    .dataframe tbody tr th:only-of-type {\n",
       "        vertical-align: middle;\n",
       "    }\n",
       "\n",
       "    .dataframe tbody tr th {\n",
       "        vertical-align: top;\n",
       "    }\n",
       "\n",
       "    .dataframe thead th {\n",
       "        text-align: right;\n",
       "    }\n",
       "</style>\n",
       "<table border=\"1\" class=\"dataframe\">\n",
       "  <thead>\n",
       "    <tr style=\"text-align: right;\">\n",
       "      <th></th>\n",
       "      <th>long_hair</th>\n",
       "      <th>forehead_width_cm</th>\n",
       "      <th>forehead_height_cm</th>\n",
       "      <th>nose_wide</th>\n",
       "      <th>nose_long</th>\n",
       "      <th>lips_thin</th>\n",
       "      <th>distance_nose_to_lip_long</th>\n",
       "      <th>gender</th>\n",
       "      <th>gender_num</th>\n",
       "    </tr>\n",
       "  </thead>\n",
       "  <tbody>\n",
       "    <tr>\n",
       "      <th>0</th>\n",
       "      <td>1</td>\n",
       "      <td>11.8</td>\n",
       "      <td>6.1</td>\n",
       "      <td>1</td>\n",
       "      <td>0</td>\n",
       "      <td>1</td>\n",
       "      <td>1</td>\n",
       "      <td>Male</td>\n",
       "      <td>1</td>\n",
       "    </tr>\n",
       "    <tr>\n",
       "      <th>1</th>\n",
       "      <td>0</td>\n",
       "      <td>14.0</td>\n",
       "      <td>5.4</td>\n",
       "      <td>0</td>\n",
       "      <td>0</td>\n",
       "      <td>1</td>\n",
       "      <td>0</td>\n",
       "      <td>Female</td>\n",
       "      <td>0</td>\n",
       "    </tr>\n",
       "    <tr>\n",
       "      <th>2</th>\n",
       "      <td>0</td>\n",
       "      <td>11.8</td>\n",
       "      <td>6.3</td>\n",
       "      <td>1</td>\n",
       "      <td>1</td>\n",
       "      <td>1</td>\n",
       "      <td>1</td>\n",
       "      <td>Male</td>\n",
       "      <td>1</td>\n",
       "    </tr>\n",
       "    <tr>\n",
       "      <th>3</th>\n",
       "      <td>0</td>\n",
       "      <td>14.4</td>\n",
       "      <td>6.1</td>\n",
       "      <td>0</td>\n",
       "      <td>1</td>\n",
       "      <td>1</td>\n",
       "      <td>1</td>\n",
       "      <td>Male</td>\n",
       "      <td>1</td>\n",
       "    </tr>\n",
       "    <tr>\n",
       "      <th>4</th>\n",
       "      <td>1</td>\n",
       "      <td>13.5</td>\n",
       "      <td>5.9</td>\n",
       "      <td>0</td>\n",
       "      <td>0</td>\n",
       "      <td>0</td>\n",
       "      <td>0</td>\n",
       "      <td>Female</td>\n",
       "      <td>0</td>\n",
       "    </tr>\n",
       "    <tr>\n",
       "      <th>...</th>\n",
       "      <td>...</td>\n",
       "      <td>...</td>\n",
       "      <td>...</td>\n",
       "      <td>...</td>\n",
       "      <td>...</td>\n",
       "      <td>...</td>\n",
       "      <td>...</td>\n",
       "      <td>...</td>\n",
       "      <td>...</td>\n",
       "    </tr>\n",
       "    <tr>\n",
       "      <th>4996</th>\n",
       "      <td>1</td>\n",
       "      <td>13.6</td>\n",
       "      <td>5.1</td>\n",
       "      <td>0</td>\n",
       "      <td>0</td>\n",
       "      <td>0</td>\n",
       "      <td>0</td>\n",
       "      <td>Female</td>\n",
       "      <td>0</td>\n",
       "    </tr>\n",
       "    <tr>\n",
       "      <th>4997</th>\n",
       "      <td>1</td>\n",
       "      <td>11.9</td>\n",
       "      <td>5.4</td>\n",
       "      <td>0</td>\n",
       "      <td>0</td>\n",
       "      <td>0</td>\n",
       "      <td>0</td>\n",
       "      <td>Female</td>\n",
       "      <td>0</td>\n",
       "    </tr>\n",
       "    <tr>\n",
       "      <th>4998</th>\n",
       "      <td>1</td>\n",
       "      <td>12.9</td>\n",
       "      <td>5.7</td>\n",
       "      <td>0</td>\n",
       "      <td>0</td>\n",
       "      <td>0</td>\n",
       "      <td>0</td>\n",
       "      <td>Female</td>\n",
       "      <td>0</td>\n",
       "    </tr>\n",
       "    <tr>\n",
       "      <th>4999</th>\n",
       "      <td>1</td>\n",
       "      <td>13.2</td>\n",
       "      <td>6.2</td>\n",
       "      <td>0</td>\n",
       "      <td>0</td>\n",
       "      <td>0</td>\n",
       "      <td>0</td>\n",
       "      <td>Female</td>\n",
       "      <td>0</td>\n",
       "    </tr>\n",
       "    <tr>\n",
       "      <th>5000</th>\n",
       "      <td>1</td>\n",
       "      <td>15.4</td>\n",
       "      <td>5.4</td>\n",
       "      <td>1</td>\n",
       "      <td>1</td>\n",
       "      <td>1</td>\n",
       "      <td>1</td>\n",
       "      <td>Male</td>\n",
       "      <td>1</td>\n",
       "    </tr>\n",
       "  </tbody>\n",
       "</table>\n",
       "<p>5001 rows × 9 columns</p>\n",
       "</div>"
      ],
      "text/plain": [
       "      long_hair  forehead_width_cm  forehead_height_cm  nose_wide  nose_long  \\\n",
       "0             1               11.8                 6.1          1          0   \n",
       "1             0               14.0                 5.4          0          0   \n",
       "2             0               11.8                 6.3          1          1   \n",
       "3             0               14.4                 6.1          0          1   \n",
       "4             1               13.5                 5.9          0          0   \n",
       "...         ...                ...                 ...        ...        ...   \n",
       "4996          1               13.6                 5.1          0          0   \n",
       "4997          1               11.9                 5.4          0          0   \n",
       "4998          1               12.9                 5.7          0          0   \n",
       "4999          1               13.2                 6.2          0          0   \n",
       "5000          1               15.4                 5.4          1          1   \n",
       "\n",
       "      lips_thin  distance_nose_to_lip_long  gender  gender_num  \n",
       "0             1                          1    Male           1  \n",
       "1             1                          0  Female           0  \n",
       "2             1                          1    Male           1  \n",
       "3             1                          1    Male           1  \n",
       "4             0                          0  Female           0  \n",
       "...         ...                        ...     ...         ...  \n",
       "4996          0                          0  Female           0  \n",
       "4997          0                          0  Female           0  \n",
       "4998          0                          0  Female           0  \n",
       "4999          0                          0  Female           0  \n",
       "5000          1                          1    Male           1  \n",
       "\n",
       "[5001 rows x 9 columns]"
      ]
     },
     "execution_count": 189,
     "metadata": {},
     "output_type": "execute_result"
    }
   ],
   "source": [
    "gender_df"
   ]
  },
  {
   "cell_type": "markdown",
   "id": "19140c28",
   "metadata": {},
   "source": [
    "Next, to train the model, we'll want to install and import the following two packages and modules."
   ]
  },
  {
   "cell_type": "code",
   "execution_count": 190,
   "id": "afc3de4a",
   "metadata": {},
   "outputs": [
    {
     "name": "stdout",
     "output_type": "stream",
     "text": [
      "Requirement already satisfied: numpy in ./opt/anaconda3/lib/python3.9/site-packages (1.21.5)\n",
      "Requirement already satisfied: scikit-learn in ./opt/anaconda3/lib/python3.9/site-packages (1.0.2)\n",
      "Requirement already satisfied: threadpoolctl>=2.0.0 in ./opt/anaconda3/lib/python3.9/site-packages (from scikit-learn) (2.2.0)\n",
      "Requirement already satisfied: scipy>=1.1.0 in ./opt/anaconda3/lib/python3.9/site-packages (from scikit-learn) (1.7.3)\n",
      "Requirement already satisfied: numpy>=1.14.6 in ./opt/anaconda3/lib/python3.9/site-packages (from scikit-learn) (1.21.5)\n",
      "Requirement already satisfied: joblib>=0.11 in ./opt/anaconda3/lib/python3.9/site-packages (from scikit-learn) (1.1.0)\n"
     ]
    }
   ],
   "source": [
    "!pip install numpy\n",
    "!pip install scikit-learn"
   ]
  },
  {
   "cell_type": "markdown",
   "id": "e1807f57",
   "metadata": {},
   "source": [
    "We'll use numpy to convert our data set into an array, and train_test_split to split our data into training and testing sets. This is important because we are utilizing a process called supervised learning.\n",
    "\n",
    "Supervised learning is giving the computer data that tells it what's right and what's wrong, and based on that data, it asks it to predict new data. Training data is the data that tells the computer what to do, and testing data contains the computer's predictions. Based on its predictions, we can tell how accurate the model is, and deem whether or not it is good enough to predict new data not in the data set."
   ]
  },
  {
   "cell_type": "code",
   "execution_count": 191,
   "id": "5e7e1f04",
   "metadata": {},
   "outputs": [],
   "source": [
    "import numpy as np\n",
    "from sklearn.model_selection import train_test_split"
   ]
  },
  {
   "cell_type": "code",
   "execution_count": 192,
   "id": "3e738438",
   "metadata": {},
   "outputs": [
    {
     "data": {
      "text/html": [
       "<div>\n",
       "<style scoped>\n",
       "    .dataframe tbody tr th:only-of-type {\n",
       "        vertical-align: middle;\n",
       "    }\n",
       "\n",
       "    .dataframe tbody tr th {\n",
       "        vertical-align: top;\n",
       "    }\n",
       "\n",
       "    .dataframe thead th {\n",
       "        text-align: right;\n",
       "    }\n",
       "</style>\n",
       "<table border=\"1\" class=\"dataframe\">\n",
       "  <thead>\n",
       "    <tr style=\"text-align: right;\">\n",
       "      <th></th>\n",
       "      <th>long_hair</th>\n",
       "      <th>forehead_width_cm</th>\n",
       "      <th>forehead_height_cm</th>\n",
       "      <th>nose_wide</th>\n",
       "      <th>nose_long</th>\n",
       "      <th>lips_thin</th>\n",
       "      <th>distance_nose_to_lip_long</th>\n",
       "      <th>gender</th>\n",
       "      <th>gender_num</th>\n",
       "    </tr>\n",
       "  </thead>\n",
       "  <tbody>\n",
       "    <tr>\n",
       "      <th>0</th>\n",
       "      <td>1</td>\n",
       "      <td>11.8</td>\n",
       "      <td>6.1</td>\n",
       "      <td>1</td>\n",
       "      <td>0</td>\n",
       "      <td>1</td>\n",
       "      <td>1</td>\n",
       "      <td>Male</td>\n",
       "      <td>1</td>\n",
       "    </tr>\n",
       "    <tr>\n",
       "      <th>1</th>\n",
       "      <td>0</td>\n",
       "      <td>14.0</td>\n",
       "      <td>5.4</td>\n",
       "      <td>0</td>\n",
       "      <td>0</td>\n",
       "      <td>1</td>\n",
       "      <td>0</td>\n",
       "      <td>Female</td>\n",
       "      <td>0</td>\n",
       "    </tr>\n",
       "    <tr>\n",
       "      <th>2</th>\n",
       "      <td>0</td>\n",
       "      <td>11.8</td>\n",
       "      <td>6.3</td>\n",
       "      <td>1</td>\n",
       "      <td>1</td>\n",
       "      <td>1</td>\n",
       "      <td>1</td>\n",
       "      <td>Male</td>\n",
       "      <td>1</td>\n",
       "    </tr>\n",
       "    <tr>\n",
       "      <th>3</th>\n",
       "      <td>0</td>\n",
       "      <td>14.4</td>\n",
       "      <td>6.1</td>\n",
       "      <td>0</td>\n",
       "      <td>1</td>\n",
       "      <td>1</td>\n",
       "      <td>1</td>\n",
       "      <td>Male</td>\n",
       "      <td>1</td>\n",
       "    </tr>\n",
       "    <tr>\n",
       "      <th>4</th>\n",
       "      <td>1</td>\n",
       "      <td>13.5</td>\n",
       "      <td>5.9</td>\n",
       "      <td>0</td>\n",
       "      <td>0</td>\n",
       "      <td>0</td>\n",
       "      <td>0</td>\n",
       "      <td>Female</td>\n",
       "      <td>0</td>\n",
       "    </tr>\n",
       "    <tr>\n",
       "      <th>...</th>\n",
       "      <td>...</td>\n",
       "      <td>...</td>\n",
       "      <td>...</td>\n",
       "      <td>...</td>\n",
       "      <td>...</td>\n",
       "      <td>...</td>\n",
       "      <td>...</td>\n",
       "      <td>...</td>\n",
       "      <td>...</td>\n",
       "    </tr>\n",
       "    <tr>\n",
       "      <th>4996</th>\n",
       "      <td>1</td>\n",
       "      <td>13.6</td>\n",
       "      <td>5.1</td>\n",
       "      <td>0</td>\n",
       "      <td>0</td>\n",
       "      <td>0</td>\n",
       "      <td>0</td>\n",
       "      <td>Female</td>\n",
       "      <td>0</td>\n",
       "    </tr>\n",
       "    <tr>\n",
       "      <th>4997</th>\n",
       "      <td>1</td>\n",
       "      <td>11.9</td>\n",
       "      <td>5.4</td>\n",
       "      <td>0</td>\n",
       "      <td>0</td>\n",
       "      <td>0</td>\n",
       "      <td>0</td>\n",
       "      <td>Female</td>\n",
       "      <td>0</td>\n",
       "    </tr>\n",
       "    <tr>\n",
       "      <th>4998</th>\n",
       "      <td>1</td>\n",
       "      <td>12.9</td>\n",
       "      <td>5.7</td>\n",
       "      <td>0</td>\n",
       "      <td>0</td>\n",
       "      <td>0</td>\n",
       "      <td>0</td>\n",
       "      <td>Female</td>\n",
       "      <td>0</td>\n",
       "    </tr>\n",
       "    <tr>\n",
       "      <th>4999</th>\n",
       "      <td>1</td>\n",
       "      <td>13.2</td>\n",
       "      <td>6.2</td>\n",
       "      <td>0</td>\n",
       "      <td>0</td>\n",
       "      <td>0</td>\n",
       "      <td>0</td>\n",
       "      <td>Female</td>\n",
       "      <td>0</td>\n",
       "    </tr>\n",
       "    <tr>\n",
       "      <th>5000</th>\n",
       "      <td>1</td>\n",
       "      <td>15.4</td>\n",
       "      <td>5.4</td>\n",
       "      <td>1</td>\n",
       "      <td>1</td>\n",
       "      <td>1</td>\n",
       "      <td>1</td>\n",
       "      <td>Male</td>\n",
       "      <td>1</td>\n",
       "    </tr>\n",
       "  </tbody>\n",
       "</table>\n",
       "<p>5001 rows × 9 columns</p>\n",
       "</div>"
      ],
      "text/plain": [
       "      long_hair  forehead_width_cm  forehead_height_cm  nose_wide  nose_long  \\\n",
       "0             1               11.8                 6.1          1          0   \n",
       "1             0               14.0                 5.4          0          0   \n",
       "2             0               11.8                 6.3          1          1   \n",
       "3             0               14.4                 6.1          0          1   \n",
       "4             1               13.5                 5.9          0          0   \n",
       "...         ...                ...                 ...        ...        ...   \n",
       "4996          1               13.6                 5.1          0          0   \n",
       "4997          1               11.9                 5.4          0          0   \n",
       "4998          1               12.9                 5.7          0          0   \n",
       "4999          1               13.2                 6.2          0          0   \n",
       "5000          1               15.4                 5.4          1          1   \n",
       "\n",
       "      lips_thin  distance_nose_to_lip_long  gender  gender_num  \n",
       "0             1                          1    Male           1  \n",
       "1             1                          0  Female           0  \n",
       "2             1                          1    Male           1  \n",
       "3             1                          1    Male           1  \n",
       "4             0                          0  Female           0  \n",
       "...         ...                        ...     ...         ...  \n",
       "4996          0                          0  Female           0  \n",
       "4997          0                          0  Female           0  \n",
       "4998          0                          0  Female           0  \n",
       "4999          0                          0  Female           0  \n",
       "5000          1                          1    Male           1  \n",
       "\n",
       "[5001 rows x 9 columns]"
      ]
     },
     "execution_count": 192,
     "metadata": {},
     "output_type": "execute_result"
    }
   ],
   "source": [
    "gender_df"
   ]
  },
  {
   "cell_type": "markdown",
   "id": "c38af752",
   "metadata": {},
   "source": [
    "First, we'll want to split our data set into predictors and response. Our response is gender_num and our predictors are everything except gender and gender_num\n",
    "\n",
    "We can convert our predictors and responses to arrays with the np.array command. Note that when we are selecting multiple columns from a data frame, we'll want to include double brackets."
   ]
  },
  {
   "cell_type": "code",
   "execution_count": 193,
   "id": "c3f41ae8",
   "metadata": {},
   "outputs": [],
   "source": [
    "x = np.array(gender_df[['long_hair', 'forehead_width_cm', 'forehead_height_cm', 'nose_wide', 'nose_long',\n",
    "                 'lips_thin', 'distance_nose_to_lip_long']])"
   ]
  },
  {
   "cell_type": "code",
   "execution_count": 194,
   "id": "a605f17e",
   "metadata": {},
   "outputs": [],
   "source": [
    "y = np.array(gender_df['gender_num'])"
   ]
  },
  {
   "cell_type": "markdown",
   "id": "5195d44a",
   "metadata": {},
   "source": [
    "Next, we can use the train_test_split function to split our data set up. Based on the x and y arrays, this splits it up into 4 variables. X_train and y_train contain the training set, and X_test and y_test contain the testing test. The test_size is 0.2, or 20% of our data, and random_state=42 just means that we have a different seed for randomization, enabling more consistent results."
   ]
  },
  {
   "cell_type": "code",
   "execution_count": 195,
   "id": "c670f656",
   "metadata": {},
   "outputs": [],
   "source": [
    "X_train, X_test, y_train, y_test = train_test_split(x, y, test_size=0.2, random_state=42)"
   ]
  },
  {
   "cell_type": "markdown",
   "id": "5f91c726",
   "metadata": {},
   "source": [
    "After that, we'll want to import tree from sklearn to train a decision tree. \n",
    "\n",
    "A decision tree uses a tree structure to determine the response. For example, it could say \"if someone has long hair and brown eyes, they are a woman\". We will visualize this later, so don't worry if you don't fully understand it now!"
   ]
  },
  {
   "cell_type": "code",
   "execution_count": 196,
   "id": "b210b114",
   "metadata": {},
   "outputs": [],
   "source": [
    "from sklearn import tree"
   ]
  },
  {
   "cell_type": "markdown",
   "id": "bb78147d",
   "metadata": {},
   "source": [
    "We will want to set a variable with a name of our choice (in this case, clf) to a decision tree classifier to tell Python we want to use a decision tree. A decision tree is made up of a bunch of if statements -- for example, from our previous example of \"if someone has long hair and brown eyes, they are a woman\", there are 2 conditions for being a woman, with a depth of 2. Here, we can specify max_depth to be 3 to make this easier to visualize. \n",
    "\n",
    "We then fit this model on our training data"
   ]
  },
  {
   "cell_type": "code",
   "execution_count": 197,
   "id": "3440ed05",
   "metadata": {},
   "outputs": [],
   "source": [
    "clf = tree.DecisionTreeClassifier(max_depth = 3, random_state=42)\n",
    "clf = clf.fit(X_train, y_train)"
   ]
  },
  {
   "cell_type": "markdown",
   "id": "7a821583",
   "metadata": {},
   "source": [
    "Next, we can define the feature names (predictors) and class names (responses) to tell Python the names of the predictors and responses. Note that for class names, they are the names of each group of the response (male and female), not the name of the response itself (gender_num)"
   ]
  },
  {
   "cell_type": "code",
   "execution_count": 198,
   "id": "02cd4ab6",
   "metadata": {},
   "outputs": [],
   "source": [
    "feature_names = ['long_hair', 'forehead_width_cm', 'forehead_height_cm', 'nose_wide', 'nose_long',\n",
    "                 'lips_thin', 'distance_nose_to_lip_long']\n",
    "class_names = ['Female', 'Male']"
   ]
  },
  {
   "cell_type": "markdown",
   "id": "41a1e800",
   "metadata": {},
   "source": [
    "Using the export_text function imported from sklearn.tree, we can print our the tree rules. We can see, for example, that if distance_nose_to_lip_long <= 0.5 (meaning that if the distance from the subject's nose to lip is short), nose_wide <= 0.5 (the subject's nose is not wide), and forehead_width_cm <= 14.35 (the width of the subject's forehead, in cm, is <= 14.35), we predict that the subject is a woman."
   ]
  },
  {
   "cell_type": "code",
   "execution_count": 199,
   "id": "8a20a09a",
   "metadata": {},
   "outputs": [
    {
     "name": "stdout",
     "output_type": "stream",
     "text": [
      "|--- distance_nose_to_lip_long <= 0.50\n",
      "|   |--- nose_wide <= 0.50\n",
      "|   |   |--- forehead_width_cm <= 14.35\n",
      "|   |   |   |--- class: 0\n",
      "|   |   |--- forehead_width_cm >  14.35\n",
      "|   |   |   |--- class: 1\n",
      "|   |--- nose_wide >  0.50\n",
      "|   |   |--- nose_long <= 0.50\n",
      "|   |   |   |--- class: 0\n",
      "|   |   |--- nose_long >  0.50\n",
      "|   |   |   |--- class: 1\n",
      "|--- distance_nose_to_lip_long >  0.50\n",
      "|   |--- nose_wide <= 0.50\n",
      "|   |   |--- lips_thin <= 0.50\n",
      "|   |   |   |--- class: 0\n",
      "|   |   |--- lips_thin >  0.50\n",
      "|   |   |   |--- class: 1\n",
      "|   |--- nose_wide >  0.50\n",
      "|   |   |--- nose_long <= 0.50\n",
      "|   |   |   |--- class: 1\n",
      "|   |   |--- nose_long >  0.50\n",
      "|   |   |   |--- class: 1\n",
      "\n"
     ]
    }
   ],
   "source": [
    "#import relevant functions\n",
    "from sklearn.tree import export_text\n",
    "#export the decision rules\n",
    "tree_rules = export_text(clf,\n",
    "                        feature_names = list(feature_names),\n",
    "                        )\n",
    "#print the result\n",
    "print(tree_rules)"
   ]
  },
  {
   "cell_type": "markdown",
   "id": "28003d06",
   "metadata": {},
   "source": [
    "To visualize this as a graph, we can import the graphviz package"
   ]
  },
  {
   "cell_type": "code",
   "execution_count": 200,
   "id": "b46783db",
   "metadata": {},
   "outputs": [],
   "source": [
    "import graphviz "
   ]
  },
  {
   "cell_type": "markdown",
   "id": "a1b807ec",
   "metadata": {},
   "source": [
    "First, we'll want to define the data. We are using the clf model, with no file to save the graph to. The feature and class names have been defined. filled=True colors the boxed in and rounded=True makes the corners of the boxes round, "
   ]
  },
  {
   "cell_type": "code",
   "execution_count": 201,
   "id": "a97b1c4e",
   "metadata": {},
   "outputs": [
    {
     "data": {
      "image/svg+xml": [
       "<?xml version=\"1.0\" encoding=\"UTF-8\" standalone=\"no\"?>\n",
       "<!DOCTYPE svg PUBLIC \"-//W3C//DTD SVG 1.1//EN\"\n",
       " \"http://www.w3.org/Graphics/SVG/1.1/DTD/svg11.dtd\">\n",
       "<!-- Generated by graphviz version 7.1.0 (20230121.1956)\n",
       " -->\n",
       "<!-- Title: Tree Pages: 1 -->\n",
       "<svg width=\"1064pt\" height=\"433pt\"\n",
       " viewBox=\"0.00 0.00 1064.00 433.00\" xmlns=\"http://www.w3.org/2000/svg\" xmlns:xlink=\"http://www.w3.org/1999/xlink\">\n",
       "<g id=\"graph0\" class=\"graph\" transform=\"scale(1 1) rotate(0) translate(4 429)\">\n",
       "<title>Tree</title>\n",
       "<polygon fill=\"white\" stroke=\"none\" points=\"-4,4 -4,-429 1060,-429 1060,4 -4,4\"/>\n",
       "<!-- 0 -->\n",
       "<g id=\"node1\" class=\"node\">\n",
       "<title>0</title>\n",
       "<path fill=\"#ffffff\" stroke=\"black\" d=\"M614,-425C614,-425 419,-425 419,-425 413,-425 407,-419 407,-413 407,-413 407,-354 407,-354 407,-348 413,-342 419,-342 419,-342 614,-342 614,-342 620,-342 626,-348 626,-354 626,-354 626,-413 626,-413 626,-419 620,-425 614,-425\"/>\n",
       "<text text-anchor=\"middle\" x=\"516.5\" y=\"-409.8\" font-family=\"Helvetica,sans-Serif\" font-size=\"14.00\">distance_nose_to_lip_long &lt;= 0.5</text>\n",
       "<text text-anchor=\"middle\" x=\"516.5\" y=\"-394.8\" font-family=\"Helvetica,sans-Serif\" font-size=\"14.00\">gini = 0.5</text>\n",
       "<text text-anchor=\"middle\" x=\"516.5\" y=\"-379.8\" font-family=\"Helvetica,sans-Serif\" font-size=\"14.00\">samples = 4000</text>\n",
       "<text text-anchor=\"middle\" x=\"516.5\" y=\"-364.8\" font-family=\"Helvetica,sans-Serif\" font-size=\"14.00\">value = [1999, 2001]</text>\n",
       "<text text-anchor=\"middle\" x=\"516.5\" y=\"-349.8\" font-family=\"Helvetica,sans-Serif\" font-size=\"14.00\">class = Male</text>\n",
       "</g>\n",
       "<!-- 1 -->\n",
       "<g id=\"node2\" class=\"node\">\n",
       "<title>1</title>\n",
       "<path fill=\"#e89153\" stroke=\"black\" d=\"M460.5,-306C460.5,-306 352.5,-306 352.5,-306 346.5,-306 340.5,-300 340.5,-294 340.5,-294 340.5,-235 340.5,-235 340.5,-229 346.5,-223 352.5,-223 352.5,-223 460.5,-223 460.5,-223 466.5,-223 472.5,-229 472.5,-235 472.5,-235 472.5,-294 472.5,-294 472.5,-300 466.5,-306 460.5,-306\"/>\n",
       "<text text-anchor=\"middle\" x=\"406.5\" y=\"-290.8\" font-family=\"Helvetica,sans-Serif\" font-size=\"14.00\">nose_wide &lt;= 0.5</text>\n",
       "<text text-anchor=\"middle\" x=\"406.5\" y=\"-275.8\" font-family=\"Helvetica,sans-Serif\" font-size=\"14.00\">gini = 0.203</text>\n",
       "<text text-anchor=\"middle\" x=\"406.5\" y=\"-260.8\" font-family=\"Helvetica,sans-Serif\" font-size=\"14.00\">samples = 1993</text>\n",
       "<text text-anchor=\"middle\" x=\"406.5\" y=\"-245.8\" font-family=\"Helvetica,sans-Serif\" font-size=\"14.00\">value = [1764, 229]</text>\n",
       "<text text-anchor=\"middle\" x=\"406.5\" y=\"-230.8\" font-family=\"Helvetica,sans-Serif\" font-size=\"14.00\">class = Female</text>\n",
       "</g>\n",
       "<!-- 0&#45;&gt;1 -->\n",
       "<g id=\"edge1\" class=\"edge\">\n",
       "<title>0&#45;&gt;1</title>\n",
       "<path fill=\"none\" stroke=\"black\" d=\"M478.03,-341.58C469.77,-332.8 460.97,-323.44 452.47,-314.39\"/>\n",
       "<polygon fill=\"black\" stroke=\"black\" points=\"455.2,-312.19 445.8,-307.3 450.1,-316.99 455.2,-312.19\"/>\n",
       "<text text-anchor=\"middle\" x=\"443.99\" y=\"-327.49\" font-family=\"Helvetica,sans-Serif\" font-size=\"14.00\">True</text>\n",
       "</g>\n",
       "<!-- 8 -->\n",
       "<g id=\"node9\" class=\"node\">\n",
       "<title>8</title>\n",
       "<path fill=\"#53aae8\" stroke=\"black\" d=\"M709.5,-306C709.5,-306 601.5,-306 601.5,-306 595.5,-306 589.5,-300 589.5,-294 589.5,-294 589.5,-235 589.5,-235 589.5,-229 595.5,-223 601.5,-223 601.5,-223 709.5,-223 709.5,-223 715.5,-223 721.5,-229 721.5,-235 721.5,-235 721.5,-294 721.5,-294 721.5,-300 715.5,-306 709.5,-306\"/>\n",
       "<text text-anchor=\"middle\" x=\"655.5\" y=\"-290.8\" font-family=\"Helvetica,sans-Serif\" font-size=\"14.00\">nose_wide &lt;= 0.5</text>\n",
       "<text text-anchor=\"middle\" x=\"655.5\" y=\"-275.8\" font-family=\"Helvetica,sans-Serif\" font-size=\"14.00\">gini = 0.207</text>\n",
       "<text text-anchor=\"middle\" x=\"655.5\" y=\"-260.8\" font-family=\"Helvetica,sans-Serif\" font-size=\"14.00\">samples = 2007</text>\n",
       "<text text-anchor=\"middle\" x=\"655.5\" y=\"-245.8\" font-family=\"Helvetica,sans-Serif\" font-size=\"14.00\">value = [235, 1772]</text>\n",
       "<text text-anchor=\"middle\" x=\"655.5\" y=\"-230.8\" font-family=\"Helvetica,sans-Serif\" font-size=\"14.00\">class = Male</text>\n",
       "</g>\n",
       "<!-- 0&#45;&gt;8 -->\n",
       "<g id=\"edge8\" class=\"edge\">\n",
       "<title>0&#45;&gt;8</title>\n",
       "<path fill=\"none\" stroke=\"black\" d=\"M565.12,-341.58C575.86,-332.53 587.35,-322.87 598.4,-313.56\"/>\n",
       "<polygon fill=\"black\" stroke=\"black\" points=\"600.59,-316.29 605.99,-307.17 596.08,-310.94 600.59,-316.29\"/>\n",
       "<text text-anchor=\"middle\" x=\"605.01\" y=\"-327.41\" font-family=\"Helvetica,sans-Serif\" font-size=\"14.00\">False</text>\n",
       "</g>\n",
       "<!-- 2 -->\n",
       "<g id=\"node3\" class=\"node\">\n",
       "<title>2</title>\n",
       "<path fill=\"#e5833d\" stroke=\"black\" d=\"M279,-187C279,-187 110,-187 110,-187 104,-187 98,-181 98,-175 98,-175 98,-116 98,-116 98,-110 104,-104 110,-104 110,-104 279,-104 279,-104 285,-104 291,-110 291,-116 291,-116 291,-175 291,-175 291,-181 285,-187 279,-187\"/>\n",
       "<text text-anchor=\"middle\" x=\"194.5\" y=\"-171.8\" font-family=\"Helvetica,sans-Serif\" font-size=\"14.00\">forehead_width_cm &lt;= 14.35</text>\n",
       "<text text-anchor=\"middle\" x=\"194.5\" y=\"-156.8\" font-family=\"Helvetica,sans-Serif\" font-size=\"14.00\">gini = 0.036</text>\n",
       "<text text-anchor=\"middle\" x=\"194.5\" y=\"-141.8\" font-family=\"Helvetica,sans-Serif\" font-size=\"14.00\">samples = 1585</text>\n",
       "<text text-anchor=\"middle\" x=\"194.5\" y=\"-126.8\" font-family=\"Helvetica,sans-Serif\" font-size=\"14.00\">value = [1556, 29]</text>\n",
       "<text text-anchor=\"middle\" x=\"194.5\" y=\"-111.8\" font-family=\"Helvetica,sans-Serif\" font-size=\"14.00\">class = Female</text>\n",
       "</g>\n",
       "<!-- 1&#45;&gt;2 -->\n",
       "<g id=\"edge2\" class=\"edge\">\n",
       "<title>1&#45;&gt;2</title>\n",
       "<path fill=\"none\" stroke=\"black\" d=\"M340,-226.8C320.49,-216.03 298.89,-204.11 278.44,-192.82\"/>\n",
       "<polygon fill=\"black\" stroke=\"black\" points=\"280.28,-189.84 269.83,-188.07 276.89,-195.97 280.28,-189.84\"/>\n",
       "</g>\n",
       "<!-- 5 -->\n",
       "<g id=\"node6\" class=\"node\">\n",
       "<title>5</title>\n",
       "<path fill=\"#fefaf7\" stroke=\"black\" d=\"M457,-187C457,-187 356,-187 356,-187 350,-187 344,-181 344,-175 344,-175 344,-116 344,-116 344,-110 350,-104 356,-104 356,-104 457,-104 457,-104 463,-104 469,-110 469,-116 469,-116 469,-175 469,-175 469,-181 463,-187 457,-187\"/>\n",
       "<text text-anchor=\"middle\" x=\"406.5\" y=\"-171.8\" font-family=\"Helvetica,sans-Serif\" font-size=\"14.00\">nose_long &lt;= 0.5</text>\n",
       "<text text-anchor=\"middle\" x=\"406.5\" y=\"-156.8\" font-family=\"Helvetica,sans-Serif\" font-size=\"14.00\">gini = 0.5</text>\n",
       "<text text-anchor=\"middle\" x=\"406.5\" y=\"-141.8\" font-family=\"Helvetica,sans-Serif\" font-size=\"14.00\">samples = 408</text>\n",
       "<text text-anchor=\"middle\" x=\"406.5\" y=\"-126.8\" font-family=\"Helvetica,sans-Serif\" font-size=\"14.00\">value = [208, 200]</text>\n",
       "<text text-anchor=\"middle\" x=\"406.5\" y=\"-111.8\" font-family=\"Helvetica,sans-Serif\" font-size=\"14.00\">class = Female</text>\n",
       "</g>\n",
       "<!-- 1&#45;&gt;5 -->\n",
       "<g id=\"edge5\" class=\"edge\">\n",
       "<title>1&#45;&gt;5</title>\n",
       "<path fill=\"none\" stroke=\"black\" d=\"M406.5,-222.58C406.5,-214.79 406.5,-206.53 406.5,-198.45\"/>\n",
       "<polygon fill=\"black\" stroke=\"black\" points=\"410,-198.71 406.5,-188.71 403,-198.71 410,-198.71\"/>\n",
       "</g>\n",
       "<!-- 3 -->\n",
       "<g id=\"node4\" class=\"node\">\n",
       "<title>3</title>\n",
       "<path fill=\"#e5823b\" stroke=\"black\" d=\"M113,-68C113,-68 12,-68 12,-68 6,-68 0,-62 0,-56 0,-56 0,-12 0,-12 0,-6 6,0 12,0 12,0 113,0 113,0 119,0 125,-6 125,-12 125,-12 125,-56 125,-56 125,-62 119,-68 113,-68\"/>\n",
       "<text text-anchor=\"middle\" x=\"62.5\" y=\"-52.8\" font-family=\"Helvetica,sans-Serif\" font-size=\"14.00\">gini = 0.021</text>\n",
       "<text text-anchor=\"middle\" x=\"62.5\" y=\"-37.8\" font-family=\"Helvetica,sans-Serif\" font-size=\"14.00\">samples = 1573</text>\n",
       "<text text-anchor=\"middle\" x=\"62.5\" y=\"-22.8\" font-family=\"Helvetica,sans-Serif\" font-size=\"14.00\">value = [1556, 17]</text>\n",
       "<text text-anchor=\"middle\" x=\"62.5\" y=\"-7.8\" font-family=\"Helvetica,sans-Serif\" font-size=\"14.00\">class = Female</text>\n",
       "</g>\n",
       "<!-- 2&#45;&gt;3 -->\n",
       "<g id=\"edge3\" class=\"edge\">\n",
       "<title>2&#45;&gt;3</title>\n",
       "<path fill=\"none\" stroke=\"black\" d=\"M145.35,-103.73C134.24,-94.51 122.46,-84.74 111.36,-75.53\"/>\n",
       "<polygon fill=\"black\" stroke=\"black\" points=\"113.74,-72.96 103.81,-69.27 109.27,-78.34 113.74,-72.96\"/>\n",
       "</g>\n",
       "<!-- 4 -->\n",
       "<g id=\"node5\" class=\"node\">\n",
       "<title>4</title>\n",
       "<path fill=\"#399de5\" stroke=\"black\" d=\"M233.5,-68C233.5,-68 155.5,-68 155.5,-68 149.5,-68 143.5,-62 143.5,-56 143.5,-56 143.5,-12 143.5,-12 143.5,-6 149.5,0 155.5,0 155.5,0 233.5,0 233.5,0 239.5,0 245.5,-6 245.5,-12 245.5,-12 245.5,-56 245.5,-56 245.5,-62 239.5,-68 233.5,-68\"/>\n",
       "<text text-anchor=\"middle\" x=\"194.5\" y=\"-52.8\" font-family=\"Helvetica,sans-Serif\" font-size=\"14.00\">gini = 0.0</text>\n",
       "<text text-anchor=\"middle\" x=\"194.5\" y=\"-37.8\" font-family=\"Helvetica,sans-Serif\" font-size=\"14.00\">samples = 12</text>\n",
       "<text text-anchor=\"middle\" x=\"194.5\" y=\"-22.8\" font-family=\"Helvetica,sans-Serif\" font-size=\"14.00\">value = [0, 12]</text>\n",
       "<text text-anchor=\"middle\" x=\"194.5\" y=\"-7.8\" font-family=\"Helvetica,sans-Serif\" font-size=\"14.00\">class = Male</text>\n",
       "</g>\n",
       "<!-- 2&#45;&gt;4 -->\n",
       "<g id=\"edge4\" class=\"edge\">\n",
       "<title>2&#45;&gt;4</title>\n",
       "<path fill=\"none\" stroke=\"black\" d=\"M194.5,-103.73C194.5,-95.88 194.5,-87.63 194.5,-79.67\"/>\n",
       "<polygon fill=\"black\" stroke=\"black\" points=\"198,-79.81 194.5,-69.81 191,-79.81 198,-79.81\"/>\n",
       "</g>\n",
       "<!-- 6 -->\n",
       "<g id=\"node7\" class=\"node\">\n",
       "<title>6</title>\n",
       "<path fill=\"#e89153\" stroke=\"black\" d=\"M369,-68C369,-68 276,-68 276,-68 270,-68 264,-62 264,-56 264,-56 264,-12 264,-12 264,-6 270,0 276,0 276,0 369,0 369,0 375,0 381,-6 381,-12 381,-12 381,-56 381,-56 381,-62 375,-68 369,-68\"/>\n",
       "<text text-anchor=\"middle\" x=\"322.5\" y=\"-52.8\" font-family=\"Helvetica,sans-Serif\" font-size=\"14.00\">gini = 0.202</text>\n",
       "<text text-anchor=\"middle\" x=\"322.5\" y=\"-37.8\" font-family=\"Helvetica,sans-Serif\" font-size=\"14.00\">samples = 210</text>\n",
       "<text text-anchor=\"middle\" x=\"322.5\" y=\"-22.8\" font-family=\"Helvetica,sans-Serif\" font-size=\"14.00\">value = [186, 24]</text>\n",
       "<text text-anchor=\"middle\" x=\"322.5\" y=\"-7.8\" font-family=\"Helvetica,sans-Serif\" font-size=\"14.00\">class = Female</text>\n",
       "</g>\n",
       "<!-- 5&#45;&gt;6 -->\n",
       "<g id=\"edge6\" class=\"edge\">\n",
       "<title>5&#45;&gt;6</title>\n",
       "<path fill=\"none\" stroke=\"black\" d=\"M375.22,-103.73C368.57,-95.06 361.54,-85.9 354.86,-77.18\"/>\n",
       "<polygon fill=\"black\" stroke=\"black\" points=\"357.83,-75.3 348.97,-69.5 352.28,-79.57 357.83,-75.3\"/>\n",
       "</g>\n",
       "<!-- 7 -->\n",
       "<g id=\"node8\" class=\"node\">\n",
       "<title>7</title>\n",
       "<path fill=\"#52a9e8\" stroke=\"black\" d=\"M504,-68C504,-68 411,-68 411,-68 405,-68 399,-62 399,-56 399,-56 399,-12 399,-12 399,-6 405,0 411,0 411,0 504,0 504,0 510,0 516,-6 516,-12 516,-12 516,-56 516,-56 516,-62 510,-68 504,-68\"/>\n",
       "<text text-anchor=\"middle\" x=\"457.5\" y=\"-52.8\" font-family=\"Helvetica,sans-Serif\" font-size=\"14.00\">gini = 0.198</text>\n",
       "<text text-anchor=\"middle\" x=\"457.5\" y=\"-37.8\" font-family=\"Helvetica,sans-Serif\" font-size=\"14.00\">samples = 198</text>\n",
       "<text text-anchor=\"middle\" x=\"457.5\" y=\"-22.8\" font-family=\"Helvetica,sans-Serif\" font-size=\"14.00\">value = [22, 176]</text>\n",
       "<text text-anchor=\"middle\" x=\"457.5\" y=\"-7.8\" font-family=\"Helvetica,sans-Serif\" font-size=\"14.00\">class = Male</text>\n",
       "</g>\n",
       "<!-- 5&#45;&gt;7 -->\n",
       "<g id=\"edge7\" class=\"edge\">\n",
       "<title>5&#45;&gt;7</title>\n",
       "<path fill=\"none\" stroke=\"black\" d=\"M425.49,-103.73C429.31,-95.52 433.35,-86.86 437.21,-78.56\"/>\n",
       "<polygon fill=\"black\" stroke=\"black\" points=\"440.3,-80.21 441.35,-69.67 433.96,-77.26 440.3,-80.21\"/>\n",
       "</g>\n",
       "<!-- 9 -->\n",
       "<g id=\"node10\" class=\"node\">\n",
       "<title>9</title>\n",
       "<path fill=\"#f7fbfe\" stroke=\"black\" d=\"M706,-187C706,-187 605,-187 605,-187 599,-187 593,-181 593,-175 593,-175 593,-116 593,-116 593,-110 599,-104 605,-104 605,-104 706,-104 706,-104 712,-104 718,-110 718,-116 718,-116 718,-175 718,-175 718,-181 712,-187 706,-187\"/>\n",
       "<text text-anchor=\"middle\" x=\"655.5\" y=\"-171.8\" font-family=\"Helvetica,sans-Serif\" font-size=\"14.00\">lips_thin &lt;= 0.5</text>\n",
       "<text text-anchor=\"middle\" x=\"655.5\" y=\"-156.8\" font-family=\"Helvetica,sans-Serif\" font-size=\"14.00\">gini = 0.5</text>\n",
       "<text text-anchor=\"middle\" x=\"655.5\" y=\"-141.8\" font-family=\"Helvetica,sans-Serif\" font-size=\"14.00\">samples = 439</text>\n",
       "<text text-anchor=\"middle\" x=\"655.5\" y=\"-126.8\" font-family=\"Helvetica,sans-Serif\" font-size=\"14.00\">value = [215, 224]</text>\n",
       "<text text-anchor=\"middle\" x=\"655.5\" y=\"-111.8\" font-family=\"Helvetica,sans-Serif\" font-size=\"14.00\">class = Male</text>\n",
       "</g>\n",
       "<!-- 8&#45;&gt;9 -->\n",
       "<g id=\"edge9\" class=\"edge\">\n",
       "<title>8&#45;&gt;9</title>\n",
       "<path fill=\"none\" stroke=\"black\" d=\"M655.5,-222.58C655.5,-214.79 655.5,-206.53 655.5,-198.45\"/>\n",
       "<polygon fill=\"black\" stroke=\"black\" points=\"659,-198.71 655.5,-188.71 652,-198.71 659,-198.71\"/>\n",
       "</g>\n",
       "<!-- 12 -->\n",
       "<g id=\"node13\" class=\"node\">\n",
       "<title>12</title>\n",
       "<path fill=\"#3c9ee5\" stroke=\"black\" d=\"M913,-187C913,-187 812,-187 812,-187 806,-187 800,-181 800,-175 800,-175 800,-116 800,-116 800,-110 806,-104 812,-104 812,-104 913,-104 913,-104 919,-104 925,-110 925,-116 925,-116 925,-175 925,-175 925,-181 919,-187 913,-187\"/>\n",
       "<text text-anchor=\"middle\" x=\"862.5\" y=\"-171.8\" font-family=\"Helvetica,sans-Serif\" font-size=\"14.00\">nose_long &lt;= 0.5</text>\n",
       "<text text-anchor=\"middle\" x=\"862.5\" y=\"-156.8\" font-family=\"Helvetica,sans-Serif\" font-size=\"14.00\">gini = 0.025</text>\n",
       "<text text-anchor=\"middle\" x=\"862.5\" y=\"-141.8\" font-family=\"Helvetica,sans-Serif\" font-size=\"14.00\">samples = 1568</text>\n",
       "<text text-anchor=\"middle\" x=\"862.5\" y=\"-126.8\" font-family=\"Helvetica,sans-Serif\" font-size=\"14.00\">value = [20, 1548]</text>\n",
       "<text text-anchor=\"middle\" x=\"862.5\" y=\"-111.8\" font-family=\"Helvetica,sans-Serif\" font-size=\"14.00\">class = Male</text>\n",
       "</g>\n",
       "<!-- 8&#45;&gt;12 -->\n",
       "<g id=\"edge12\" class=\"edge\">\n",
       "<title>8&#45;&gt;12</title>\n",
       "<path fill=\"none\" stroke=\"black\" d=\"M721.85,-226C743.49,-213.77 767.62,-200.13 789.71,-187.64\"/>\n",
       "<polygon fill=\"black\" stroke=\"black\" points=\"791.39,-190.71 798.38,-182.74 787.95,-184.62 791.39,-190.71\"/>\n",
       "</g>\n",
       "<!-- 10 -->\n",
       "<g id=\"node11\" class=\"node\">\n",
       "<title>10</title>\n",
       "<path fill=\"#e9975b\" stroke=\"black\" d=\"M639,-68C639,-68 546,-68 546,-68 540,-68 534,-62 534,-56 534,-56 534,-12 534,-12 534,-6 540,0 546,0 546,0 639,0 639,0 645,0 651,-6 651,-12 651,-12 651,-56 651,-56 651,-62 645,-68 639,-68\"/>\n",
       "<text text-anchor=\"middle\" x=\"592.5\" y=\"-52.8\" font-family=\"Helvetica,sans-Serif\" font-size=\"14.00\">gini = 0.25</text>\n",
       "<text text-anchor=\"middle\" x=\"592.5\" y=\"-37.8\" font-family=\"Helvetica,sans-Serif\" font-size=\"14.00\">samples = 219</text>\n",
       "<text text-anchor=\"middle\" x=\"592.5\" y=\"-22.8\" font-family=\"Helvetica,sans-Serif\" font-size=\"14.00\">value = [187, 32]</text>\n",
       "<text text-anchor=\"middle\" x=\"592.5\" y=\"-7.8\" font-family=\"Helvetica,sans-Serif\" font-size=\"14.00\">class = Female</text>\n",
       "</g>\n",
       "<!-- 9&#45;&gt;10 -->\n",
       "<g id=\"edge10\" class=\"edge\">\n",
       "<title>9&#45;&gt;10</title>\n",
       "<path fill=\"none\" stroke=\"black\" d=\"M632.04,-103.73C627.21,-95.34 622.12,-86.47 617.24,-78.01\"/>\n",
       "<polygon fill=\"black\" stroke=\"black\" points=\"620.43,-76.53 612.41,-69.61 614.37,-80.02 620.43,-76.53\"/>\n",
       "</g>\n",
       "<!-- 11 -->\n",
       "<g id=\"node12\" class=\"node\">\n",
       "<title>11</title>\n",
       "<path fill=\"#56abe9\" stroke=\"black\" d=\"M774,-68C774,-68 681,-68 681,-68 675,-68 669,-62 669,-56 669,-56 669,-12 669,-12 669,-6 675,0 681,0 681,0 774,0 774,0 780,0 786,-6 786,-12 786,-12 786,-56 786,-56 786,-62 780,-68 774,-68\"/>\n",
       "<text text-anchor=\"middle\" x=\"727.5\" y=\"-52.8\" font-family=\"Helvetica,sans-Serif\" font-size=\"14.00\">gini = 0.222</text>\n",
       "<text text-anchor=\"middle\" x=\"727.5\" y=\"-37.8\" font-family=\"Helvetica,sans-Serif\" font-size=\"14.00\">samples = 220</text>\n",
       "<text text-anchor=\"middle\" x=\"727.5\" y=\"-22.8\" font-family=\"Helvetica,sans-Serif\" font-size=\"14.00\">value = [28, 192]</text>\n",
       "<text text-anchor=\"middle\" x=\"727.5\" y=\"-7.8\" font-family=\"Helvetica,sans-Serif\" font-size=\"14.00\">class = Male</text>\n",
       "</g>\n",
       "<!-- 9&#45;&gt;11 -->\n",
       "<g id=\"edge11\" class=\"edge\">\n",
       "<title>9&#45;&gt;11</title>\n",
       "<path fill=\"none\" stroke=\"black\" d=\"M682.31,-103.73C687.89,-95.24 693.78,-86.28 699.4,-77.73\"/>\n",
       "<polygon fill=\"black\" stroke=\"black\" points=\"702.2,-79.84 704.77,-69.56 696.35,-76 702.2,-79.84\"/>\n",
       "</g>\n",
       "<!-- 13 -->\n",
       "<g id=\"node14\" class=\"node\">\n",
       "<title>13</title>\n",
       "<path fill=\"#4ea7e8\" stroke=\"black\" d=\"M909,-68C909,-68 816,-68 816,-68 810,-68 804,-62 804,-56 804,-56 804,-12 804,-12 804,-6 810,0 816,0 816,0 909,0 909,0 915,0 921,-6 921,-12 921,-12 921,-56 921,-56 921,-62 915,-68 909,-68\"/>\n",
       "<text text-anchor=\"middle\" x=\"862.5\" y=\"-52.8\" font-family=\"Helvetica,sans-Serif\" font-size=\"14.00\">gini = 0.172</text>\n",
       "<text text-anchor=\"middle\" x=\"862.5\" y=\"-37.8\" font-family=\"Helvetica,sans-Serif\" font-size=\"14.00\">samples = 200</text>\n",
       "<text text-anchor=\"middle\" x=\"862.5\" y=\"-22.8\" font-family=\"Helvetica,sans-Serif\" font-size=\"14.00\">value = [19, 181]</text>\n",
       "<text text-anchor=\"middle\" x=\"862.5\" y=\"-7.8\" font-family=\"Helvetica,sans-Serif\" font-size=\"14.00\">class = Male</text>\n",
       "</g>\n",
       "<!-- 12&#45;&gt;13 -->\n",
       "<g id=\"edge13\" class=\"edge\">\n",
       "<title>12&#45;&gt;13</title>\n",
       "<path fill=\"none\" stroke=\"black\" d=\"M862.5,-103.73C862.5,-95.88 862.5,-87.63 862.5,-79.67\"/>\n",
       "<polygon fill=\"black\" stroke=\"black\" points=\"866,-79.81 862.5,-69.81 859,-79.81 866,-79.81\"/>\n",
       "</g>\n",
       "<!-- 14 -->\n",
       "<g id=\"node15\" class=\"node\">\n",
       "<title>14</title>\n",
       "<path fill=\"#399de5\" stroke=\"black\" d=\"M1044,-68C1044,-68 951,-68 951,-68 945,-68 939,-62 939,-56 939,-56 939,-12 939,-12 939,-6 945,0 951,0 951,0 1044,0 1044,0 1050,0 1056,-6 1056,-12 1056,-12 1056,-56 1056,-56 1056,-62 1050,-68 1044,-68\"/>\n",
       "<text text-anchor=\"middle\" x=\"997.5\" y=\"-52.8\" font-family=\"Helvetica,sans-Serif\" font-size=\"14.00\">gini = 0.001</text>\n",
       "<text text-anchor=\"middle\" x=\"997.5\" y=\"-37.8\" font-family=\"Helvetica,sans-Serif\" font-size=\"14.00\">samples = 1368</text>\n",
       "<text text-anchor=\"middle\" x=\"997.5\" y=\"-22.8\" font-family=\"Helvetica,sans-Serif\" font-size=\"14.00\">value = [1, 1367]</text>\n",
       "<text text-anchor=\"middle\" x=\"997.5\" y=\"-7.8\" font-family=\"Helvetica,sans-Serif\" font-size=\"14.00\">class = Male</text>\n",
       "</g>\n",
       "<!-- 12&#45;&gt;14 -->\n",
       "<g id=\"edge14\" class=\"edge\">\n",
       "<title>12&#45;&gt;14</title>\n",
       "<path fill=\"none\" stroke=\"black\" d=\"M912.77,-103.73C924.13,-94.51 936.18,-84.74 947.53,-75.53\"/>\n",
       "<polygon fill=\"black\" stroke=\"black\" points=\"949.71,-78.27 955.27,-69.25 945.3,-72.83 949.71,-78.27\"/>\n",
       "</g>\n",
       "</g>\n",
       "</svg>\n"
      ],
      "text/plain": [
       "<graphviz.sources.Source at 0x7fc83c122c70>"
      ]
     },
     "execution_count": 201,
     "metadata": {},
     "output_type": "execute_result"
    }
   ],
   "source": [
    "dot_data = tree.export_graphviz(clf, out_file=None, \n",
    "                     feature_names=feature_names,\n",
    "                     class_names = class_names,\n",
    "                     filled=True, rounded=True)  \n",
    "graph = graphviz.Source(dot_data)  \n",
    "graph "
   ]
  },
  {
   "cell_type": "markdown",
   "id": "10ac682a",
   "metadata": {},
   "source": [
    "For each box, we are given a prediction. For example, if no information is given (the top box), we predict the subject to be male. However, the actual predictions given all the data come at the bottom row. Moving from the top down and to the left, if distance_nose_lip_long <= 0.5, nose_wide <= 0.5 and forehead_width_cm <= 14.35, we predict the subject to be female (as shown by class=Female). Moving to the right, if distance_nose_lip_long is not <= 14.35 (so distance_nose_lip_long > 14.35), nose_wide > 0.5, and nose_long > 0.5, we predict the subject to be male."
   ]
  },
  {
   "cell_type": "markdown",
   "id": "5cd99b58",
   "metadata": {},
   "source": [
    "To find the accuracy of these predictions, we can use the testing data. First, we set y_pred to the predicted values based on the X_test data using the predict() function. Next, we can obtain an accuracy score based on said predictions"
   ]
  },
  {
   "cell_type": "code",
   "execution_count": 202,
   "id": "6860c6bd",
   "metadata": {},
   "outputs": [],
   "source": [
    "from sklearn.metrics import accuracy_score"
   ]
  },
  {
   "cell_type": "code",
   "execution_count": 203,
   "id": "eac788ca",
   "metadata": {},
   "outputs": [
    {
     "data": {
      "text/plain": [
       "0.962037962037962"
      ]
     },
     "execution_count": 203,
     "metadata": {},
     "output_type": "execute_result"
    }
   ],
   "source": [
    "y_pred = clf.predict(X_test)\n",
    "accuracy_score(y_test, y_pred)"
   ]
  },
  {
   "cell_type": "markdown",
   "id": "5220ff63",
   "metadata": {},
   "source": [
    "This means that we were correct on approximately 96.2% of our model's guesses, which is pretty good!"
   ]
  },
  {
   "cell_type": "markdown",
   "id": "847a4e4c",
   "metadata": {},
   "source": [
    "Another form of machine learning is linear regression. Thinking of y=mx+b, this is essentially plotting a line of best fit, but for a lot more variables in this case."
   ]
  },
  {
   "cell_type": "markdown",
   "id": "32b69e30",
   "metadata": {},
   "source": [
    "First, we'll want to import the LinearRegression module, fit the model on the training data, and predict based on the testing inputs."
   ]
  },
  {
   "cell_type": "code",
   "execution_count": 204,
   "id": "11719ae0",
   "metadata": {},
   "outputs": [],
   "source": [
    "from sklearn.linear_model import LinearRegression\n",
    "reg = LinearRegression().fit(X_train, y_train)\n",
    "y_pred_lr = reg.predict(X_test)"
   ]
  },
  {
   "cell_type": "markdown",
   "id": "8deab28b",
   "metadata": {},
   "source": [
    "Next, we'll want to clean the data. Since the responses are either 0 or 1, it wouldn't make sense to have guesses outside of that range. Therefore, if the guess (i) is < 0, it is set to 0, otherwise it is kept. Next, if it is >1, it is set to 1 -- otherwise, it stays the same"
   ]
  },
  {
   "cell_type": "code",
   "execution_count": 205,
   "id": "6741f1f4",
   "metadata": {},
   "outputs": [],
   "source": [
    "y_pred_lr = [0 if i < 0 else i for i in y_pred_lr]\n",
    "y_pred_lr = [1 if i > 1 else i for i in y_pred_lr]"
   ]
  },
  {
   "cell_type": "code",
   "execution_count": 206,
   "id": "01872256",
   "metadata": {},
   "outputs": [
    {
     "name": "stdout",
     "output_type": "stream",
     "text": [
      "[1, 0, 0.23657445504473162, 1, 1, 0.7894454269214858, 1, 0.7582110815230724, 0.7086266542171241, 0]\n"
     ]
    }
   ],
   "source": [
    "print(y_pred_lr[:10])"
   ]
  },
  {
   "cell_type": "markdown",
   "id": "e2f0f81b",
   "metadata": {},
   "source": [
    "To analyze our results, we can't use the accuracy_score function as our guesses are continuous -- they don't always fall on 0 or 1. Thus, we will want to find the mean absolute error. For example, if the value is 1 and our guess is 0.95, our mean absolute error is abs(1-0.95) = 0.05. This is the same calculation as our accuracy score. If we subtract our mean absolute error from 1, we can get our approximate value for how many predictions we got right."
   ]
  },
  {
   "cell_type": "code",
   "execution_count": 207,
   "id": "a4b367b2",
   "metadata": {},
   "outputs": [],
   "source": [
    "from sklearn.metrics import mean_absolute_error"
   ]
  },
  {
   "cell_type": "code",
   "execution_count": 208,
   "id": "29668b01",
   "metadata": {},
   "outputs": [
    {
     "data": {
      "text/plain": [
       "0.8824289995408384"
      ]
     },
     "execution_count": 208,
     "metadata": {},
     "output_type": "execute_result"
    }
   ],
   "source": [
    "1-mean_absolute_error(y_test, y_pred_lr)"
   ]
  },
  {
   "cell_type": "code",
   "execution_count": 209,
   "id": "5f11624e",
   "metadata": {},
   "outputs": [
    {
     "data": {
      "text/plain": [
       "0.962037962037962"
      ]
     },
     "execution_count": 209,
     "metadata": {},
     "output_type": "execute_result"
    }
   ],
   "source": [
    "1-mean_absolute_error(y_test, y_pred)"
   ]
  },
  {
   "cell_type": "markdown",
   "id": "9f0a0c61",
   "metadata": {},
   "source": [
    "The linear regression model only has an accuracy of about 88.2%, so our decision tree model seems to fit better."
   ]
  }
 ],
 "metadata": {
  "kernelspec": {
   "display_name": "Python 3 (ipykernel)",
   "language": "python",
   "name": "python3"
  },
  "language_info": {
   "codemirror_mode": {
    "name": "ipython",
    "version": 3
   },
   "file_extension": ".py",
   "mimetype": "text/x-python",
   "name": "python",
   "nbconvert_exporter": "python",
   "pygments_lexer": "ipython3",
   "version": "3.9.12"
  }
 },
 "nbformat": 4,
 "nbformat_minor": 5
}
