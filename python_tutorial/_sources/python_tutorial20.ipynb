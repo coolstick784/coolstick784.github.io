{
 "cells": [
  {
   "cell_type": "markdown",
   "id": "751d5f1b",
   "metadata": {},
   "source": [
    "## Classes"
   ]
  },
  {
   "cell_type": "markdown",
   "id": "21fc5526",
   "metadata": {},
   "source": [
    "Classes in Python can be used to create our own data types with their own functions"
   ]
  },
  {
   "cell_type": "markdown",
   "id": "19d75989",
   "metadata": {},
   "source": [
    "Let's start by creating a class called Dog. With it, we can call the PrintDog function, which prints their name, age, and bark, as well as the isPuppy function, which prints whether or not the dog is a puppy. To initialize the class, we'll want to eneter in the dog's name, age, and bark. By setting bark = \"Woof\", if bark is not entered, the bark will, by default, be set to \"Woof\""
   ]
  },
  {
   "cell_type": "markdown",
   "id": "0ae6a04f",
   "metadata": {},
   "source": [
    "In a class, we'll start with the \\_\\_init__ function, which initializes the variables in the class. We start with the self argument, which can be accessed by the rest of the class. The self argument is used to access the rest of the variables in the class. For example, self.name will represent the name. Next, we pass in the rest of the parameters -- name, age, and bark. We set the self values so that they can be accessed in other functions.\n",
    "\n",
    "Next, we write the other functions, PrintDog and isPuppy"
   ]
  },
  {
   "cell_type": "code",
   "execution_count": 4,
   "id": "4c1cf415",
   "metadata": {},
   "outputs": [],
   "source": [
    "class Dog:\n",
    "    def __init__(self, name, age, bark = \"Woof\"):\n",
    "        self.name = name\n",
    "        self.age = age\n",
    "        self.bark = bark\n",
    "    def printDog(self):\n",
    "        print(f\"The dog's name is {self.name}, they are {self.age} years old, and they go {self.bark}\")\n",
    "    def isPuppy(self):\n",
    "        if self.age < 3:\n",
    "            print(f\"{self.name} is a puppy\")\n",
    "        else:\n",
    "            print(f\"{self.name} is not a puppy\")"
   ]
  },
  {
   "cell_type": "markdown",
   "id": "85446de0",
   "metadata": {},
   "source": [
    "Let's initialize Fido with a name and age"
   ]
  },
  {
   "cell_type": "code",
   "execution_count": 5,
   "id": "77a26bc1",
   "metadata": {},
   "outputs": [],
   "source": [
    "fido = Dog(\"Fido\", 5)"
   ]
  },
  {
   "cell_type": "markdown",
   "id": "a4fd4a38",
   "metadata": {},
   "source": [
    "Notice how the default bark is Woof"
   ]
  },
  {
   "cell_type": "code",
   "execution_count": 6,
   "id": "5bd2835d",
   "metadata": {},
   "outputs": [
    {
     "name": "stdout",
     "output_type": "stream",
     "text": [
      "The dog's name is Fido, they are 5 years old, and they go Woof\n"
     ]
    }
   ],
   "source": [
    "fido.printDog()"
   ]
  },
  {
   "cell_type": "markdown",
   "id": "72ff3db3",
   "metadata": {},
   "source": [
    "We can also set a custom bark with Jack"
   ]
  },
  {
   "cell_type": "code",
   "execution_count": 7,
   "id": "f4041c39",
   "metadata": {},
   "outputs": [],
   "source": [
    "jack = Dog(\"Jack\", 2, \"arf\")"
   ]
  },
  {
   "cell_type": "code",
   "execution_count": 8,
   "id": "f80bfddf",
   "metadata": {
    "scrolled": true
   },
   "outputs": [
    {
     "name": "stdout",
     "output_type": "stream",
     "text": [
      "The dog's name is Jack, they are 2 years old, and they go arf\n"
     ]
    }
   ],
   "source": [
    "jack.printDog()"
   ]
  },
  {
   "cell_type": "markdown",
   "id": "d69a5ba0",
   "metadata": {},
   "source": [
    "### Inheritance\n",
    "We can also create new classes based off the \"parent\" class, which can access the parent class's functions as well as new ones that are defined.\n",
    "\n",
    "In this example, we are creating Labradoodle to be a child of the Dog class, which is shown by the Dog being in parenthesis. To initialzie the variables that are in both Labradoodle and Dog, we can use the super().__init__ function, and initialize everything else like the Dog class.\n",
    "\n",
    "Variables of the data type Labradoodle can access functions in both the Labradoodle and Dog class, while variables of the data type Dog can only access functions in the Dog class."
   ]
  },
  {
   "cell_type": "code",
   "execution_count": 9,
   "id": "33ffa34d",
   "metadata": {},
   "outputs": [],
   "source": [
    "class Labradoodle(Dog):\n",
    "    def __init__(self, name, age, fur, bark = \"Woof\"):\n",
    "        super().__init__(name, age, bark)\n",
    "        self.fur = fur\n",
    "    def printFur(self):\n",
    "        print(self.name + \"'s fur is\", self.fur)"
   ]
  },
  {
   "cell_type": "code",
   "execution_count": 10,
   "id": "cba011da",
   "metadata": {},
   "outputs": [],
   "source": [
    "will = Labradoodle(\"Will\", 2, \"yellow\", \"awooo\")"
   ]
  },
  {
   "cell_type": "code",
   "execution_count": 11,
   "id": "d82f6b75",
   "metadata": {},
   "outputs": [
    {
     "name": "stdout",
     "output_type": "stream",
     "text": [
      "The dog's name is Will, they are 2 years old, and they go awooo\n"
     ]
    }
   ],
   "source": [
    "will.printDog()"
   ]
  },
  {
   "cell_type": "code",
   "execution_count": 12,
   "id": "94fdc38f",
   "metadata": {},
   "outputs": [
    {
     "name": "stdout",
     "output_type": "stream",
     "text": [
      "Will's fur is yellow\n"
     ]
    }
   ],
   "source": [
    "will.printFur()"
   ]
  }
 ],
 "metadata": {
  "kernelspec": {
   "display_name": "Python 3 (ipykernel)",
   "language": "python",
   "name": "python3"
  },
  "language_info": {
   "codemirror_mode": {
    "name": "ipython",
    "version": 3
   },
   "file_extension": ".py",
   "mimetype": "text/x-python",
   "name": "python",
   "nbconvert_exporter": "python",
   "pygments_lexer": "ipython3",
   "version": "3.9.12"
  }
 },
 "nbformat": 4,
 "nbformat_minor": 5
}
