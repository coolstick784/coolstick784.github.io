{
 "cells": [
  {
   "cell_type": "markdown",
   "id": "30aaa198",
   "metadata": {},
   "source": [
    "## If Statements"
   ]
  },
  {
   "cell_type": "markdown",
   "id": "737caa6e",
   "metadata": {},
   "source": [
    "First, let's ask the user if they use derivatives/integrals in their homework. Then, if they do, we can link them to some helpful resources. If not, we don't need to."
   ]
  },
  {
   "cell_type": "code",
   "execution_count": 84,
   "id": "f65442a3",
   "metadata": {
    "scrolled": false,
    "tags": [
     "remove-output"
    ]
   },
   "outputs": [
    {
     "name": "stdout",
     "output_type": "stream",
     "text": [
      "Do you use derivatives/integrals in your homework? Enter Y/N Y\n"
     ]
    }
   ],
   "source": [
    "calc_yn = input(\"Do you use derivatives/integrals in your homework? Enter Y/N \")"
   ]
  },
  {
   "cell_type": "markdown",
   "id": "756aea00",
   "metadata": {},
   "source": [
    "An 'if' statement essentially means that if a condition is true, we want to do something, and if it doesn't, we want to do something slse. The format goes like:\n",
    "\n",
    "  \n",
    "    \n",
    "    if <condition>:\n",
    "        do something\n",
    "    else:\n",
    "        do something else\n",
    "  \n",
    "    \n",
    "Indentation is really important here, and you'll get an error if you don't include it. The conditions will evaluate to true or false.\n",
    "\n",
    "In the code block below, we check if calc_yn is equal to Y (calc_yn == 'Y'). This will give us a True or False answer, which the if statement can then interpret"
   ]
  },
  {
   "cell_type": "code",
   "execution_count": 85,
   "id": "0926446f",
   "metadata": {},
   "outputs": [
    {
     "name": "stdout",
     "output_type": "stream",
     "text": [
      "Check out derivative-calculator.com and integral-calculator.com for some help!\n"
     ]
    }
   ],
   "source": [
    "if calc_yn == 'Y':\n",
    "    print(\"Check out derivative-calculator.com and integral-calculator.com for some help!\")\n",
    "else:\n",
    "    print(\"Nice! You're one of the lucky ones\")\n"
   ]
  },
  {
   "cell_type": "markdown",
   "id": "9181c3d9",
   "metadata": {},
   "source": [
    "Furthermore, if there's more than one scenario, we can use an elif command as well. For example, let's say that if the user enters an invalid response that isn't Y or N, we want to print that there is an error. To do this, we can enter the following code:"
   ]
  },
  {
   "cell_type": "code",
   "execution_count": 86,
   "id": "60b622f7",
   "metadata": {},
   "outputs": [
    {
     "name": "stdout",
     "output_type": "stream",
     "text": [
      "Check out derivative-calculator.com and integral-calculator.com for some help!\n"
     ]
    }
   ],
   "source": [
    "if calc_yn == 'Y':\n",
    "    print(\"Check out derivative-calculator.com and integral-calculator.com for some help!\")\n",
    "elif calc_yn == 'N':\n",
    "    print(\"Nice! You're one of the lucky ones\")\n",
    "else:\n",
    "    print(\"Invalid response\")"
   ]
  },
  {
   "cell_type": "markdown",
   "id": "43007e97",
   "metadata": {},
   "source": [
    "An elif statement is placed after an if statement. There do not need to be any elif/else statements, so you can have as many or as little elif statements as you want. However, there can only be one else statement. The format of an if statement goes like this:\n",
    "\n",
    "    if <condition>:\n",
    "        do something\n",
    "    elif <condition 2>: (optional)\n",
    "        do something else\n",
    "    elif <condition 3>: (optional)\n",
    "        do something else\n",
    "    ....\n",
    "    else: (optional)\n",
    "        do something else"
   ]
  }
 ],
 "metadata": {
  "kernelspec": {
   "display_name": "Python 3 (ipykernel)",
   "language": "python",
   "name": "python3"
  },
  "language_info": {
   "codemirror_mode": {
    "name": "ipython",
    "version": 3
   },
   "file_extension": ".py",
   "mimetype": "text/x-python",
   "name": "python",
   "nbconvert_exporter": "python",
   "pygments_lexer": "ipython3",
   "version": "3.9.12"
  }
 },
 "nbformat": 4,
 "nbformat_minor": 5
}
