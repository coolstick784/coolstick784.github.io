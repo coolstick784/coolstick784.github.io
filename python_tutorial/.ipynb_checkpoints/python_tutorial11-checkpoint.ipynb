{
 "cells": [
  {
   "cell_type": "markdown",
   "id": "bba938ce",
   "metadata": {},
   "source": [
    "## Loops"
   ]
  },
  {
   "cell_type": "code",
   "execution_count": 87,
   "id": "e074b044",
   "metadata": {},
   "outputs": [],
   "source": [
    "names = ['Daucus', 'Pastinaca', 'Curucma', 'Nelumbo', 'Artemisia', 'Zingiber']\n"
   ]
  },
  {
   "cell_type": "markdown",
   "id": "6670600c",
   "metadata": {},
   "source": [
    "Let's say we want to make a list containing True/False values for if P is in each name."
   ]
  },
  {
   "cell_type": "markdown",
   "id": "56648787",
   "metadata": {},
   "source": [
    "To iterate through a list, we can use the following code:\n",
    "    \n",
    "    for <item name of your choice> in <list>:"
   ]
  },
  {
   "cell_type": "code",
   "execution_count": 88,
   "id": "169154a3",
   "metadata": {},
   "outputs": [
    {
     "name": "stdout",
     "output_type": "stream",
     "text": [
      "Daucus\n",
      "Pastinaca\n",
      "Curucma\n",
      "Nelumbo\n",
      "Artemisia\n",
      "Zingiber\n"
     ]
    }
   ],
   "source": [
    "for name in names:\n",
    "    print(name)"
   ]
  },
  {
   "cell_type": "markdown",
   "id": "80810f2b",
   "metadata": {},
   "source": [
    "Next, we can initialize a list to save our values in"
   ]
  },
  {
   "cell_type": "code",
   "execution_count": 89,
   "id": "eae37857",
   "metadata": {},
   "outputs": [],
   "source": [
    "p_list = []"
   ]
  },
  {
   "cell_type": "markdown",
   "id": "e63ccdc9",
   "metadata": {},
   "source": [
    "What we're doing here is saying that for each name, we're appending an item to p_list. That item is equal to the value \"'P' in name\", which is True if P is in the name and False if not"
   ]
  },
  {
   "cell_type": "code",
   "execution_count": 90,
   "id": "6ea42577",
   "metadata": {},
   "outputs": [],
   "source": [
    "for name in names:\n",
    "    p_list.append('P' in name)"
   ]
  },
  {
   "cell_type": "code",
   "execution_count": 91,
   "id": "ff98b36a",
   "metadata": {},
   "outputs": [
    {
     "data": {
      "text/plain": [
       "[False, True, False, False, False, False]"
      ]
     },
     "execution_count": 91,
     "metadata": {},
     "output_type": "execute_result"
    }
   ],
   "source": [
    "p_list"
   ]
  },
  {
   "cell_type": "markdown",
   "id": "dca227b9",
   "metadata": {},
   "source": [
    "Another way to do this is through list comprehension.\n",
    "\n",
    "Breaking down the code below, we're asking Python if 'P' is in the name. If it is, we'll get True, and if not, we'll get False. Then, we do this for each name in names, which should gives us the same values as p_list"
   ]
  },
  {
   "cell_type": "code",
   "execution_count": 92,
   "id": "c830d68c",
   "metadata": {},
   "outputs": [
    {
     "name": "stdout",
     "output_type": "stream",
     "text": [
      "[False, True, False, False, False, False]\n"
     ]
    }
   ],
   "source": [
    "print(['P' in name for name in names])"
   ]
  },
  {
   "cell_type": "markdown",
   "id": "685f8fed",
   "metadata": {},
   "source": [
    "Similarly, we can save the value as 'name' (meaning the name itself) for each name in names. At the end, there's a caveat; this only applies if the length of the name is greater than 7. Thus, this returns each name with a length of 8 or more."
   ]
  },
  {
   "cell_type": "code",
   "execution_count": 93,
   "id": "5a7735e9",
   "metadata": {},
   "outputs": [
    {
     "data": {
      "text/plain": [
       "['Pastinaca', 'Artemisia', 'Zingiber']"
      ]
     },
     "execution_count": 93,
     "metadata": {},
     "output_type": "execute_result"
    }
   ],
   "source": [
    "[name for name in names if len(name) > 7]"
   ]
  },
  {
   "cell_type": "markdown",
   "id": "1c66a68f",
   "metadata": {},
   "source": [
    "Next, we have while loops. This is of the format\n",
    "\n",
    "    \n",
    "    while <condition>:\n",
    "        do something\n",
    "\n",
    "Let's say that we want to print \"i like pizza\" 10 times. To do this, we can start by initializing a variable, i, at 0. We can add 1 to i for each iteration, and after 10 iterations, i will then be equal to 10. Then, we can set the condition to \"i<10\" because then after 10 iterations, the condiiton will then be false and the loop will stop."
   ]
  },
  {
   "cell_type": "code",
   "execution_count": 94,
   "id": "268a0da0",
   "metadata": {},
   "outputs": [
    {
     "name": "stdout",
     "output_type": "stream",
     "text": [
      "i like pizza\n",
      "i like pizza\n",
      "i like pizza\n",
      "i like pizza\n",
      "i like pizza\n",
      "i like pizza\n",
      "i like pizza\n",
      "i like pizza\n",
      "i like pizza\n",
      "i like pizza\n"
     ]
    }
   ],
   "source": [
    "i= 0\n",
    "while i < 10:\n",
    "    print(\"i like pizza\")\n",
    "    i += 1"
   ]
  },
  {
   "cell_type": "markdown",
   "id": "15f2cfc2",
   "metadata": {},
   "source": [
    "To do something in a for loop n times, we can say\n",
    "    \n",
    "    for <variable name of your choice> in range(n):\n",
    "        do something"
   ]
  },
  {
   "cell_type": "code",
   "execution_count": 95,
   "id": "623d8607",
   "metadata": {},
   "outputs": [
    {
     "name": "stdout",
     "output_type": "stream",
     "text": [
      "i like pizza\n",
      "i like pizza\n",
      "i like pizza\n",
      "i like pizza\n",
      "i like pizza\n",
      "i like pizza\n",
      "i like pizza\n",
      "i like pizza\n",
      "i like pizza\n",
      "i like pizza\n"
     ]
    }
   ],
   "source": [
    "for i in range(10):\n",
    "    print(\"i like pizza\")"
   ]
  },
  {
   "cell_type": "markdown",
   "id": "f6ce4f50",
   "metadata": {},
   "source": [
    "One use for while loops is a flag. For example, if you're making a game, you might want a variable called GameRunning to tell the computer if the game is still running or not. If it's not running, you'll stop the code. Another use of this is to not stop when given an invalid response, and to keep prompting the user until they've entered something of your liking.\n",
    "\n"
   ]
  },
  {
   "cell_type": "code",
   "execution_count": 96,
   "id": "3902a3ba",
   "metadata": {
    "tags": [
     "remove-output"
    ]
   },
   "outputs": [
    {
     "name": "stdout",
     "output_type": "stream",
     "text": [
      "Enter the name 'John'jo\n",
      "Enter the name 'John'John\n"
     ]
    }
   ],
   "source": [
    "flag = False\n",
    "while flag == False:\n",
    "    name = input(\"Enter the name 'John'\")\n",
    "    if name == 'John':\n",
    "        flag = True"
   ]
  },
  {
   "cell_type": "markdown",
   "id": "68dd3cb6",
   "metadata": {},
   "source": [
    "What we can see here is that while the flag of 'John' being entered is still false, the user will keep being prompted. Then, when the name is John, the flag will be set to True and the loop will stop."
   ]
  },
  {
   "cell_type": "markdown",
   "id": "477cf925",
   "metadata": {},
   "source": [
    "Another built-in Python package is random. We can use functions such as random.random(), which generate a random number between 0 and 1, and random.choice(\\<list name>), which generates a random item from the list"
   ]
  },
  {
   "cell_type": "code",
   "execution_count": 97,
   "id": "02a0e40b",
   "metadata": {},
   "outputs": [],
   "source": [
    "import random"
   ]
  },
  {
   "cell_type": "code",
   "execution_count": 98,
   "id": "8a21902c",
   "metadata": {},
   "outputs": [
    {
     "data": {
      "text/plain": [
       "0.7328369492113785"
      ]
     },
     "execution_count": 98,
     "metadata": {},
     "output_type": "execute_result"
    }
   ],
   "source": [
    "random.random()"
   ]
  },
  {
   "cell_type": "code",
   "execution_count": 99,
   "id": "9082ca80",
   "metadata": {},
   "outputs": [
    {
     "data": {
      "text/plain": [
       "['Daucus', 'Pastinaca', 'Curucma', 'Nelumbo', 'Artemisia', 'Zingiber']"
      ]
     },
     "execution_count": 99,
     "metadata": {},
     "output_type": "execute_result"
    }
   ],
   "source": [
    "names"
   ]
  },
  {
   "cell_type": "code",
   "execution_count": 100,
   "id": "1c22b4e9",
   "metadata": {
    "scrolled": true
   },
   "outputs": [
    {
     "data": {
      "text/plain": [
       "'Artemisia'"
      ]
     },
     "execution_count": 100,
     "metadata": {},
     "output_type": "execute_result"
    }
   ],
   "source": [
    "random.choice(names)"
   ]
  }
 ],
 "metadata": {
  "kernelspec": {
   "display_name": "Python 3 (ipykernel)",
   "language": "python",
   "name": "python3"
  },
  "language_info": {
   "codemirror_mode": {
    "name": "ipython",
    "version": 3
   },
   "file_extension": ".py",
   "mimetype": "text/x-python",
   "name": "python",
   "nbconvert_exporter": "python",
   "pygments_lexer": "ipython3",
   "version": "3.9.12"
  }
 },
 "nbformat": 4,
 "nbformat_minor": 5
}
