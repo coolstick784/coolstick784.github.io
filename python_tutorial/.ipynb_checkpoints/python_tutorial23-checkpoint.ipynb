{
 "cells": [
  {
   "cell_type": "markdown",
   "id": "3fb56976",
   "metadata": {},
   "source": [
    "## Files and Directories "
   ]
  },
  {
   "cell_type": "markdown",
   "id": "fba3c3a0",
   "metadata": {},
   "source": [
    "To access and edit directories, we'll want to import the pre-installed os module"
   ]
  },
  {
   "cell_type": "code",
   "execution_count": 149,
   "id": "d8def112",
   "metadata": {},
   "outputs": [],
   "source": [
    "import os"
   ]
  },
  {
   "cell_type": "markdown",
   "id": "498dbdc0",
   "metadata": {},
   "source": [
    "To get a list of files in your current directory, we can type the listdir() command"
   ]
  },
  {
   "cell_type": "code",
   "execution_count": 150,
   "id": "c33a5bfb",
   "metadata": {},
   "outputs": [
    {
     "data": {
      "text/plain": [
       "['markdown.md',\n",
       " 'requirements.txt',\n",
       " 'references.bib',\n",
       " 'markdown-notebooks.md',\n",
       " 'intro.md',\n",
       " 'notebooks.ipynb',\n",
       " 'FSU.png',\n",
       " '_toc.yml',\n",
       " 'logo.png',\n",
       " '_build',\n",
       " '_config.yml',\n",
       " '.ipynb_checkpoints',\n",
       " 'python_tutorial.ipynb']"
      ]
     },
     "execution_count": 150,
     "metadata": {},
     "output_type": "execute_result"
    }
   ],
   "source": [
    "os.listdir()"
   ]
  },
  {
   "cell_type": "markdown",
   "id": "e62ee67f",
   "metadata": {},
   "source": [
    "To obtain the file path of our current working directory, we can call the getcwd() command"
   ]
  },
  {
   "cell_type": "code",
   "execution_count": 151,
   "id": "9acd6c7d",
   "metadata": {},
   "outputs": [
    {
     "data": {
      "text/plain": [
       "'/Users/schugani/python_tutorial/python_tutorial'"
      ]
     },
     "execution_count": 151,
     "metadata": {},
     "output_type": "execute_result"
    }
   ],
   "source": [
    "os.getcwd()"
   ]
  },
  {
   "cell_type": "markdown",
   "id": "7c81ce85",
   "metadata": {},
   "source": [
    "To change our directory, we can enter the path of the new directory. It can either be relative to the directory at hand or to the computer as a whole"
   ]
  },
  {
   "cell_type": "code",
   "execution_count": 157,
   "id": "279c57c0",
   "metadata": {},
   "outputs": [],
   "source": [
    "os.chdir(\"/Users/schugani\")"
   ]
  },
  {
   "cell_type": "code",
   "execution_count": 158,
   "id": "4ff60784",
   "metadata": {},
   "outputs": [],
   "source": [
    "\n",
    "os.chdir('Documents')\n",
    "os.chdir('/Users/schugani')"
   ]
  },
  {
   "cell_type": "markdown",
   "id": "a6d577cb",
   "metadata": {},
   "source": [
    "To create a folder, we can call the mkdir() function. This path should be relative to the computer."
   ]
  },
  {
   "cell_type": "markdown",
   "id": "9cacd9f6",
   "metadata": {},
   "source": [
    "First, we can obtain our current directory path"
   ]
  },
  {
   "cell_type": "code",
   "execution_count": 159,
   "id": "2ecdde34",
   "metadata": {},
   "outputs": [],
   "source": [
    "cur_path = os.getcwd()"
   ]
  },
  {
   "cell_type": "markdown",
   "id": "4439a70d",
   "metadata": {},
   "source": [
    "Next, we can name our new folder"
   ]
  },
  {
   "cell_type": "code",
   "execution_count": 160,
   "id": "d9eff7a1",
   "metadata": {},
   "outputs": [],
   "source": [
    "folder_name = \"datasets\""
   ]
  },
  {
   "cell_type": "markdown",
   "id": "f7418f40",
   "metadata": {},
   "source": [
    "Finally, we can join the two with os.path.join and make a directory based on that"
   ]
  },
  {
   "cell_type": "markdown",
   "id": "f386682c",
   "metadata": {},
   "source": [
    "Here, we can write a try except block that states that if the directory already exists, it will print so and the directory will not be created"
   ]
  },
  {
   "cell_type": "code",
   "execution_count": 161,
   "id": "ab81a50b",
   "metadata": {},
   "outputs": [
    {
     "name": "stdout",
     "output_type": "stream",
     "text": [
      "file already exists\n"
     ]
    }
   ],
   "source": [
    "new_dir = os.path.join(cur_path, folder_name)\n",
    "try:\n",
    "    os.mkdir(new_dir)\n",
    "except FileExistsError:\n",
    "    print(\"file already exists\")"
   ]
  },
  {
   "cell_type": "markdown",
   "id": "76f4f291",
   "metadata": {},
   "source": [
    "Let's say we have a file called data.csv and want to move it to our new directory. First, we want to move it to our current directory without Python. Next, we can use os.rename to change the path"
   ]
  },
  {
   "cell_type": "code",
   "execution_count": 165,
   "id": "e3e575d5",
   "metadata": {
    "scrolled": true,
    "tags": [
     "remove-output"
    ]
   },
   "outputs": [],
   "source": [
    "old_path = os.path.join(cur_path, \"data.csv\")\n",
    "new_path = os.path.join(new_dir, \"data.csv\")\n",
    "os.rename(old_path, new_path)"
   ]
  },
  {
   "cell_type": "code",
   "execution_count": 166,
   "id": "fd0dec62",
   "metadata": {},
   "outputs": [],
   "source": [
    "os.chdir(new_dir)"
   ]
  },
  {
   "cell_type": "code",
   "execution_count": 167,
   "id": "2018848a",
   "metadata": {
    "scrolled": true
   },
   "outputs": [
    {
     "data": {
      "text/plain": [
       "['data.csv']"
      ]
     },
     "execution_count": 167,
     "metadata": {},
     "output_type": "execute_result"
    }
   ],
   "source": [
    "os.listdir()"
   ]
  },
  {
   "cell_type": "markdown",
   "id": "2254f654",
   "metadata": {},
   "source": [
    "Nice! Now our data is in our new directory"
   ]
  },
  {
   "cell_type": "markdown",
   "id": "81685401",
   "metadata": {},
   "source": [
    "To change our directory back to the old one, we can call the chdir() function with the old path (that we saved as cur_path)"
   ]
  },
  {
   "cell_type": "code",
   "execution_count": 168,
   "id": "58b3371f",
   "metadata": {},
   "outputs": [],
   "source": [
    "os.chdir(cur_path)"
   ]
  }
 ],
 "metadata": {
  "kernelspec": {
   "display_name": "Python 3 (ipykernel)",
   "language": "python",
   "name": "python3"
  },
  "language_info": {
   "codemirror_mode": {
    "name": "ipython",
    "version": 3
   },
   "file_extension": ".py",
   "mimetype": "text/x-python",
   "name": "python",
   "nbconvert_exporter": "python",
   "pygments_lexer": "ipython3",
   "version": "3.9.12"
  }
 },
 "nbformat": 4,
 "nbformat_minor": 5
}
