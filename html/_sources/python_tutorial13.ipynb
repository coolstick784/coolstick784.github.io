{
 "cells": [
  {
   "cell_type": "markdown",
   "id": "f5d13d14",
   "metadata": {},
   "source": [
    "## Arrays, Functions, and Nested Loops"
   ]
  },
  {
   "cell_type": "markdown",
   "id": "6ec82bd9",
   "metadata": {},
   "source": [
    "Another built-in package in Python is the array package."
   ]
  },
  {
   "cell_type": "code",
   "execution_count": 5,
   "id": "4a09db74",
   "metadata": {},
   "outputs": [],
   "source": [
    "from array import *"
   ]
  },
  {
   "cell_type": "code",
   "execution_count": 6,
   "id": "96a00897",
   "metadata": {},
   "outputs": [],
   "source": [
    "arr = [[1,2,3], [4, 5, 6], [7, 8, 9], [10, 11]]"
   ]
  },
  {
   "cell_type": "markdown",
   "id": "d3ee9a2d",
   "metadata": {},
   "source": [
    "To access the nth list in the array, we can use arr\\[\\<index>], and we can access elements in said list just like how we would with regular lists"
   ]
  },
  {
   "cell_type": "code",
   "execution_count": 7,
   "id": "5a4feab8",
   "metadata": {},
   "outputs": [
    {
     "data": {
      "text/plain": [
       "[1, 2, 3]"
      ]
     },
     "execution_count": 7,
     "metadata": {},
     "output_type": "execute_result"
    }
   ],
   "source": [
    "arr[0] # the first list"
   ]
  },
  {
   "cell_type": "code",
   "execution_count": 8,
   "id": "e3f6acd0",
   "metadata": {},
   "outputs": [
    {
     "data": {
      "text/plain": [
       "3"
      ]
     },
     "execution_count": 8,
     "metadata": {},
     "output_type": "execute_result"
    }
   ],
   "source": [
    "arr[0][2] # the third element in the first list"
   ]
  },
  {
   "cell_type": "code",
   "execution_count": 9,
   "id": "2d0cbebd",
   "metadata": {},
   "outputs": [
    {
     "name": "stdout",
     "output_type": "stream",
     "text": [
      "1 2 3 4 5 6 7 8 9 10 11 "
     ]
    }
   ],
   "source": [
    "\n",
    "for a in arr:\n",
    "    for b in a:\n",
    "        print(b, end = \" \")\n",
    "    "
   ]
  },
  {
   "cell_type": "markdown",
   "id": "d7de0f62",
   "metadata": {},
   "source": [
    "Let's say we have the array above. This is a 2D list, or a list of lists, which is called an array. What we're doing here is saying for a in arr (for each list in the list), we want to select each item in the list (for b in a). Then, for each item in each list, we want to print it, ending with a space to separate each element by a space. Afer that, "
   ]
  },
  {
   "cell_type": "code",
   "execution_count": 10,
   "id": "1409f910",
   "metadata": {},
   "outputs": [
    {
     "name": "stdout",
     "output_type": "stream",
     "text": [
      "1 2 3 \n",
      "\n",
      "4 5 6 \n",
      "\n",
      "7 8 9 \n",
      "\n",
      "10 11 \n",
      "\n"
     ]
    }
   ],
   "source": [
    "arr = [[1,2,3], [4, 5, 6], [7, 8, 9], [10, 11]]\n",
    "for a in arr:\n",
    "    for b in a:\n",
    "        print(b, end = \" \")\n",
    "    \n",
    "    print(\"\\n\")"
   ]
  },
  {
   "cell_type": "markdown",
   "id": "053c0e86",
   "metadata": {},
   "source": [
    "After that, we can separate the items in each list with a \"\\n\" (new line character) between each list. This can be done after we're iterating through each list, which is inside the first loop but not the second. Play around with it if you're a bit confused -- that might help you understand it a little more!"
   ]
  },
  {
   "cell_type": "markdown",
   "id": "6d5ee42d",
   "metadata": {},
   "source": [
    "Now, we csn start to write our own functions. Functions take 0 to infinite inputs, and can return up to 1 item in Python. They are in the format\n",
    "\n",
    "    def <function name>(<inputs>):\n",
    "        content of function\n",
    "        return <outputs>\n",
    "        \n",
    "Functions can also reference other functions"
   ]
  },
  {
   "cell_type": "markdown",
   "id": "a56f8676",
   "metadata": {},
   "source": [
    "Let's try to make a function returning a combination given two numbers, n and r. First, combinations are built on factorials, so let's make a factorial function. "
   ]
  },
  {
   "cell_type": "code",
   "execution_count": 11,
   "id": "b7fa3bb5",
   "metadata": {},
   "outputs": [],
   "source": [
    "def factorial(n):\n",
    "    output = 1\n",
    "    for i in range(1, n+1):\n",
    "        output *= i\n",
    "    return output"
   ]
  },
  {
   "cell_type": "markdown",
   "id": "c5c7ee65",
   "metadata": {},
   "source": [
    "Taking in an input n, we start by setting the output to 1. Then, for each number from 1 to n (including n), we multiply the output by that. Finally, we return the ending output."
   ]
  },
  {
   "cell_type": "code",
   "execution_count": 12,
   "id": "12471237",
   "metadata": {},
   "outputs": [],
   "source": [
    "def combination(n, r):\n",
    "    n_factorial = factorial(n)\n",
    "    r_factorial = factorial(r)\n",
    "    n_r_factorial = factorial(n-r)\n",
    "    return (n_factorial/(r_factorial * n_r_factorial))"
   ]
  },
  {
   "cell_type": "markdown",
   "id": "0db84cb6",
   "metadata": {},
   "source": [
    "To get the combination of n and r, we get the factorials of n and r, then the factorial of n-r, and finally calculate the combinations, returning the end result"
   ]
  },
  {
   "cell_type": "markdown",
   "id": "2e4dccfa",
   "metadata": {},
   "source": [
    "To call a function, we type \\<function name>(\\<function inputs>)"
   ]
  },
  {
   "cell_type": "code",
   "execution_count": 13,
   "id": "466c32ca",
   "metadata": {},
   "outputs": [
    {
     "data": {
      "text/plain": [
       "364.0"
      ]
     },
     "execution_count": 13,
     "metadata": {},
     "output_type": "execute_result"
    }
   ],
   "source": [
    "combination(14, 3)"
   ]
  },
  {
   "cell_type": "markdown",
   "id": "a8d7771b",
   "metadata": {},
   "source": [
    "### Exercise 4\n",
    "\n",
    "Try to make a function called permutation that takes two numbers, n and r, and returns\n",
    "\n",
    "n!/(n-r)! (! is the factorial symbol)"
   ]
  },
  {
   "cell_type": "markdown",
   "id": "ef1bb375",
   "metadata": {},
   "source": [
    "```{admonition} Click to show solution\n",
    ":class: dropdown\n",
    "        def permutation(n, r):\n",
    "            n_factorial = factorial(n)\n",
    "            n_r_factorial = factorial(n-r)\n",
    "            return (n_factorial/(n_r_factorial))\n",
    "```"
   ]
  },
  {
   "cell_type": "markdown",
   "id": "b8a77029",
   "metadata": {},
   "source": [
    "Here is a function with no inputs, but still does something. This is useful if, for example, you want to print a lot of text every time something happens."
   ]
  },
  {
   "cell_type": "code",
   "execution_count": 14,
   "id": "54883047",
   "metadata": {},
   "outputs": [],
   "source": [
    "def HelloWorld():\n",
    "    print(\"Hello World!\")"
   ]
  },
  {
   "cell_type": "code",
   "execution_count": 15,
   "id": "a4ddb909",
   "metadata": {},
   "outputs": [
    {
     "name": "stdout",
     "output_type": "stream",
     "text": [
      "Hello World!\n"
     ]
    }
   ],
   "source": [
    "HelloWorld()"
   ]
  },
  {
   "cell_type": "markdown",
   "id": "36115deb",
   "metadata": {},
   "source": [
    "Let's say we want the factorials returned when we call the combination function. Although Python only allows one value to be returned from a function, we can bypass that by combining all the elements into a list"
   ]
  },
  {
   "cell_type": "code",
   "execution_count": 16,
   "id": "59bd2309",
   "metadata": {},
   "outputs": [],
   "source": [
    "def combination(n, r):\n",
    "    n_factorial = factorial(n)\n",
    "    r_factorial = factorial(r)\n",
    "    n_r_factorial = factorial(n-r)\n",
    "    return [n_factorial,r_factorial,(n_factorial/(r_factorial * n_r_factorial))]"
   ]
  },
  {
   "cell_type": "code",
   "execution_count": 17,
   "id": "f2bc879f",
   "metadata": {},
   "outputs": [
    {
     "data": {
      "text/plain": [
       "[87178291200, 6, 364.0]"
      ]
     },
     "execution_count": 17,
     "metadata": {},
     "output_type": "execute_result"
    }
   ],
   "source": [
    "combination(14, 3)"
   ]
  },
  {
   "cell_type": "code",
   "execution_count": null,
   "id": "2356fa4a",
   "metadata": {},
   "outputs": [],
   "source": []
  }
 ],
 "metadata": {
  "kernelspec": {
   "display_name": "Python 3 (ipykernel)",
   "language": "python",
   "name": "python3"
  },
  "language_info": {
   "codemirror_mode": {
    "name": "ipython",
    "version": 3
   },
   "file_extension": ".py",
   "mimetype": "text/x-python",
   "name": "python",
   "nbconvert_exporter": "python",
   "pygments_lexer": "ipython3",
   "version": "3.9.12"
  }
 },
 "nbformat": 4,
 "nbformat_minor": 5
}
