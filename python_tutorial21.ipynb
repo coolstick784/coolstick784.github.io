{
 "cells": [
  {
   "cell_type": "markdown",
   "id": "25fa9c92",
   "metadata": {},
   "source": [
    "### Inheritance"
   ]
  },
  {
   "cell_type": "markdown",
   "id": "2d5643d3",
   "metadata": {},
   "source": [
    "We can also create new classes based off the \"parent\" class, which can access the parent class's functions as well as new ones that are defined.\n",
    "\n",
    "In this example, we are creating Labradoodle to be a child of the Dog class, which is shown by the Dog being in parenthesis. To initialzie the variables that are in both Labradoodle and Dog, we can use the super().\\_\\_init__ function, and initialize everything else like the Dog class.\n",
    "\n",
    "Variables of the data type Labradoodle can access functions in both the Labradoodle and Dog class, while variables of the data type Dog can only access functions in the Dog class."
   ]
  },
  {
   "cell_type": "code",
   "execution_count": 140,
   "id": "879fd8c8",
   "metadata": {},
   "outputs": [],
   "source": [
    "class Labradoodle(Dog):\n",
    "    def __init__(self, name, age, fur, bark = \"Woof\"):\n",
    "        super().__init__(name, age, bark)\n",
    "        self.fur = fur\n",
    "    def printFur(self):\n",
    "        print(self.name + \"'s fur is\", self.fur)"
   ]
  },
  {
   "cell_type": "code",
   "execution_count": 141,
   "id": "9a68ce8b",
   "metadata": {},
   "outputs": [],
   "source": [
    "will = Labradoodle(\"Will\", 2, \"yellow\", \"awooo\")"
   ]
  },
  {
   "cell_type": "code",
   "execution_count": 142,
   "id": "97e65834",
   "metadata": {
    "scrolled": true
   },
   "outputs": [
    {
     "name": "stdout",
     "output_type": "stream",
     "text": [
      "The dog's name is Will, they are 2 years old, and they go awooo\n"
     ]
    }
   ],
   "source": [
    "will.printDog()"
   ]
  },
  {
   "cell_type": "code",
   "execution_count": 143,
   "id": "adfa9505",
   "metadata": {},
   "outputs": [
    {
     "name": "stdout",
     "output_type": "stream",
     "text": [
      "Will's fur is yellow\n"
     ]
    }
   ],
   "source": [
    "will.printFur()"
   ]
  }
 ],
 "metadata": {
  "kernelspec": {
   "display_name": "Python 3 (ipykernel)",
   "language": "python",
   "name": "python3"
  },
  "language_info": {
   "codemirror_mode": {
    "name": "ipython",
    "version": 3
   },
   "file_extension": ".py",
   "mimetype": "text/x-python",
   "name": "python",
   "nbconvert_exporter": "python",
   "pygments_lexer": "ipython3",
   "version": "3.9.12"
  }
 },
 "nbformat": 4,
 "nbformat_minor": 5
}
