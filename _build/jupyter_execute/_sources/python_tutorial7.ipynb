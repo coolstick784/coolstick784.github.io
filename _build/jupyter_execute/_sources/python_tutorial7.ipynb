{
 "cells": [
  {
   "cell_type": "markdown",
   "id": "cf4b317f",
   "metadata": {},
   "source": [
    "## Strings"
   ]
  },
  {
   "cell_type": "code",
   "execution_count": 1,
   "id": "431effbf",
   "metadata": {},
   "outputs": [],
   "source": [
    "names = ['Daucus', 'Pastinaca', 'Curucma', 'Nelumbo', 'Artemisia', 'Zingiber']"
   ]
  },
  {
   "cell_type": "code",
   "execution_count": 2,
   "id": "27640ae0",
   "metadata": {},
   "outputs": [
    {
     "data": {
      "text/plain": [
       "['Daucus', 'Pastinaca', 'Curucma', 'Nelumbo', 'Artemisia', 'Zingiber']"
      ]
     },
     "execution_count": 2,
     "metadata": {},
     "output_type": "execute_result"
    }
   ],
   "source": [
    "names"
   ]
  },
  {
   "cell_type": "markdown",
   "id": "0d562087",
   "metadata": {},
   "source": [
    "Strings can also be subset. For example, if we want to find the first character of the first item in the names array, we can type this:"
   ]
  },
  {
   "cell_type": "code",
   "execution_count": 3,
   "id": "1659ace1",
   "metadata": {},
   "outputs": [
    {
     "data": {
      "text/plain": [
       "'D'"
      ]
     },
     "execution_count": 3,
     "metadata": {},
     "output_type": "execute_result"
    }
   ],
   "source": [
    "names[0][0]"
   ]
  },
  {
   "cell_type": "code",
   "execution_count": 4,
   "id": "b84d3add",
   "metadata": {},
   "outputs": [
    {
     "data": {
      "text/plain": [
       "'st'"
      ]
     },
     "execution_count": 4,
     "metadata": {},
     "output_type": "execute_result"
    }
   ],
   "source": [
    "names[1][2:-5]"
   ]
  },
  {
   "cell_type": "markdown",
   "id": "8614ada5",
   "metadata": {},
   "source": [
    "Let's break down this code.\n",
    "\n",
    "First, names\\[1] specifies that we want the second element (the 1 typed + 1 because Python is 0-indexed) oft eh names array\n",
    "\n",
    "Second, we are taking a subset, as shown by the ':' character\n",
    "\n",
    "Next, we are starting at the third character, as shown by the 2\n",
    "\n",
    "Finally, we are taking all numbers up to (but not including!) the 5th to last character, evidenced by the -5"
   ]
  },
  {
   "cell_type": "markdown",
   "id": "a5289f4e",
   "metadata": {},
   "source": [
    "Another way to put variables in a string is to use f strings. We can do this by typing 'f' before the quotes, and putting all variables in brackets, as shown:"
   ]
  },
  {
   "cell_type": "code",
   "execution_count": 5,
   "id": "1acd5cc4",
   "metadata": {
    "scrolled": true
   },
   "outputs": [
    {
     "name": "stdout",
     "output_type": "stream",
     "text": [
      "Daucus is our first name\n"
     ]
    }
   ],
   "source": [
    "print(f'{names[0]} is our first name')"
   ]
  },
  {
   "cell_type": "markdown",
   "id": "af41573c",
   "metadata": {},
   "source": [
    "We can also get the length of strings"
   ]
  },
  {
   "cell_type": "code",
   "execution_count": 6,
   "id": "f11628b3",
   "metadata": {},
   "outputs": [
    {
     "data": {
      "text/plain": [
       "6"
      ]
     },
     "execution_count": 6,
     "metadata": {},
     "output_type": "execute_result"
    }
   ],
   "source": [
    "len(names[0])"
   ]
  },
  {
   "cell_type": "markdown",
   "id": "778666d1",
   "metadata": {},
   "source": [
    "If we want to make a string all uppercase or all lowercase, we can use the .upper() and .lower() functions"
   ]
  },
  {
   "cell_type": "code",
   "execution_count": 7,
   "id": "ab690878",
   "metadata": {
    "scrolled": true
   },
   "outputs": [
    {
     "name": "stdout",
     "output_type": "stream",
     "text": [
      "DAUCUS\n",
      "daucus\n"
     ]
    }
   ],
   "source": [
    "print(names[0].upper())\n",
    "print(names[0].lower())"
   ]
  },
  {
   "cell_type": "markdown",
   "id": "5f82d1e5",
   "metadata": {},
   "source": [
    "If we want to find the first location of a characeter in a string, we can use the find function."
   ]
  },
  {
   "cell_type": "code",
   "execution_count": 8,
   "id": "247a229d",
   "metadata": {},
   "outputs": [
    {
     "name": "stdout",
     "output_type": "stream",
     "text": [
      "1\n"
     ]
    }
   ],
   "source": [
    "print(names[0].find('a'))"
   ]
  },
  {
   "cell_type": "markdown",
   "id": "3f32b1b6",
   "metadata": {},
   "source": [
    "If we want to replace characters in a string, we can use the replace command. The format of this is\n",
    "\\<string>.replace(\\<characters to replace>, \\<new characters>)"
   ]
  },
  {
   "cell_type": "code",
   "execution_count": 9,
   "id": "f4677a0a",
   "metadata": {},
   "outputs": [
    {
     "data": {
      "text/plain": [
       "'Daucdub'"
      ]
     },
     "execution_count": 9,
     "metadata": {},
     "output_type": "execute_result"
    }
   ],
   "source": [
    "'Daucus'.replace('us', 'dub')"
   ]
  },
  {
   "cell_type": "markdown",
   "id": "e500834d",
   "metadata": {},
   "source": [
    "We can also use the '+=' operator with strings."
   ]
  },
  {
   "cell_type": "code",
   "execution_count": 10,
   "id": "117a3d39",
   "metadata": {},
   "outputs": [
    {
     "name": "stdout",
     "output_type": "stream",
     "text": [
      "pizza pie\n"
     ]
    }
   ],
   "source": [
    "x = 'pizza'\n",
    "x += \" pie\"\n",
    "print(x)"
   ]
  },
  {
   "cell_type": "markdown",
   "id": "55c6c4a0",
   "metadata": {},
   "source": [
    "One other neat function with strings in Python is the .title() function, which capitalizes words as if they were in a title"
   ]
  },
  {
   "cell_type": "code",
   "execution_count": 11,
   "id": "992ce22d",
   "metadata": {
    "scrolled": false
   },
   "outputs": [
    {
     "data": {
      "text/plain": [
       "'Tutorial In Python'"
      ]
     },
     "execution_count": 11,
     "metadata": {},
     "output_type": "execute_result"
    }
   ],
   "source": [
    "'tutorial in python'.title()"
   ]
  },
  {
   "cell_type": "markdown",
   "id": "38afa768",
   "metadata": {},
   "source": [
    "To separate a string by a specific character, we can use the .split() function. Here, we split by spaces, so we end up with a list of words"
   ]
  },
  {
   "cell_type": "code",
   "execution_count": 12,
   "id": "d6c880ed",
   "metadata": {},
   "outputs": [
    {
     "data": {
      "text/plain": [
       "['I', 'like', 'pizza']"
      ]
     },
     "execution_count": 12,
     "metadata": {},
     "output_type": "execute_result"
    }
   ],
   "source": [
    " \"I like pizza\".split(\" \")"
   ]
  }
 ],
 "metadata": {
  "kernelspec": {
   "display_name": "Python 3 (ipykernel)",
   "language": "python",
   "name": "python3"
  },
  "language_info": {
   "codemirror_mode": {
    "name": "ipython",
    "version": 3
   },
   "file_extension": ".py",
   "mimetype": "text/x-python",
   "name": "python",
   "nbconvert_exporter": "python",
   "pygments_lexer": "ipython3",
   "version": "3.9.12"
  }
 },
 "nbformat": 4,
 "nbformat_minor": 5
}