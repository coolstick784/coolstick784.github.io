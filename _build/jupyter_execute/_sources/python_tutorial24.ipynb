{
 "cells": [
  {
   "cell_type": "markdown",
   "id": "9ed4e3c8",
   "metadata": {},
   "source": [
    "## More Pandas "
   ]
  },
  {
   "cell_type": "markdown",
   "id": "d9796cd8",
   "metadata": {},
   "source": [
    "Let's create a data set with some names, ages, and heights"
   ]
  },
  {
   "cell_type": "code",
   "execution_count": 1,
   "id": "bbe5c863",
   "metadata": {},
   "outputs": [],
   "source": [
    "import pandas as pd"
   ]
  },
  {
   "cell_type": "code",
   "execution_count": 2,
   "id": "bfd89ebf",
   "metadata": {},
   "outputs": [],
   "source": [
    "names = ['John', 'Jeff', 'George']\n",
    "ages = [12, 20, 34]\n",
    "heights_ft = [\"6'4\", \"5'7\", \"5'2\"]\n",
    "\n",
    "df = pd.DataFrame(list(zip(names, ages, heights_ft)))"
   ]
  },
  {
   "cell_type": "code",
   "execution_count": 3,
   "id": "2fc9ff50",
   "metadata": {},
   "outputs": [],
   "source": [
    "df.columns = ['Name', 'Age', 'Height (ft)']"
   ]
  },
  {
   "cell_type": "code",
   "execution_count": 4,
   "id": "7e692e59",
   "metadata": {},
   "outputs": [
    {
     "data": {
      "text/html": [
       "<div>\n",
       "<style scoped>\n",
       "    .dataframe tbody tr th:only-of-type {\n",
       "        vertical-align: middle;\n",
       "    }\n",
       "\n",
       "    .dataframe tbody tr th {\n",
       "        vertical-align: top;\n",
       "    }\n",
       "\n",
       "    .dataframe thead th {\n",
       "        text-align: right;\n",
       "    }\n",
       "</style>\n",
       "<table border=\"1\" class=\"dataframe\">\n",
       "  <thead>\n",
       "    <tr style=\"text-align: right;\">\n",
       "      <th></th>\n",
       "      <th>Name</th>\n",
       "      <th>Age</th>\n",
       "      <th>Height (ft)</th>\n",
       "    </tr>\n",
       "  </thead>\n",
       "  <tbody>\n",
       "    <tr>\n",
       "      <th>0</th>\n",
       "      <td>John</td>\n",
       "      <td>12</td>\n",
       "      <td>6'4</td>\n",
       "    </tr>\n",
       "    <tr>\n",
       "      <th>1</th>\n",
       "      <td>Jeff</td>\n",
       "      <td>20</td>\n",
       "      <td>5'7</td>\n",
       "    </tr>\n",
       "    <tr>\n",
       "      <th>2</th>\n",
       "      <td>George</td>\n",
       "      <td>34</td>\n",
       "      <td>5'2</td>\n",
       "    </tr>\n",
       "  </tbody>\n",
       "</table>\n",
       "</div>"
      ],
      "text/plain": [
       "     Name  Age Height (ft)\n",
       "0    John   12         6'4\n",
       "1    Jeff   20         5'7\n",
       "2  George   34         5'2"
      ]
     },
     "execution_count": 4,
     "metadata": {},
     "output_type": "execute_result"
    }
   ],
   "source": [
    "df"
   ]
  },
  {
   "cell_type": "markdown",
   "id": "ede406e6",
   "metadata": {},
   "source": [
    "First, we can convert the height column to two new columns -- feet and inches. This allows us to have the height as a combination of numbers instead of a string, enabling us to perform mathemetical operations on it"
   ]
  },
  {
   "cell_type": "code",
   "execution_count": 5,
   "id": "780b6ea0",
   "metadata": {},
   "outputs": [],
   "source": [
    "df['Feet'] = [float(i[0]) for i in df['Height (ft)']]\n",
    "df['In'] = [float(i[2:]) for i in df['Height (ft)']]"
   ]
  },
  {
   "cell_type": "markdown",
   "id": "08b0d46c",
   "metadata": {},
   "source": [
    "Breaking down the code here, we have \n",
    "     ```df['Feet'] = [float(i[0]) for i in df['Height (ft)']]```\n",
    "This says that we want to take float(i\\[0]). This is the first element in i. Next, we have \"for i in df\\\\['Height (ft)'\\]\", which means that each i represents a value in the Height (ft) column. Therefore, for each height, we are taking the first element. Since the height column is a string, this is the first character.\n",
    "\n",
    "For inches, we do the same thing, except we take the third character and beyond (i\\[2:]). We do this because the first character is the feet, the second character is a ', and everything beyond that is inches.\n",
    "    "
   ]
  },
  {
   "cell_type": "markdown",
   "id": "f2ac2ca2",
   "metadata": {},
   "source": [
    "To create a new column for the height in centimeters, we can multiply the feet by 12 (because there are 12 inches in a foot) and then by 2.54 (because there are 2.54 cm per inch) and add that to the inches multiplied by 2.54. Something that's really cool about Pandas is that we can add columns like this without any loops or extra code."
   ]
  },
  {
   "cell_type": "code",
   "execution_count": 6,
   "id": "d8541fba",
   "metadata": {},
   "outputs": [],
   "source": [
    "df['Height (cm)'] = df['Feet'] * 12 * 2.54 + df['In'] * 2.54"
   ]
  },
  {
   "cell_type": "code",
   "execution_count": 7,
   "id": "0dc0b57f",
   "metadata": {},
   "outputs": [
    {
     "data": {
      "text/html": [
       "<div>\n",
       "<style scoped>\n",
       "    .dataframe tbody tr th:only-of-type {\n",
       "        vertical-align: middle;\n",
       "    }\n",
       "\n",
       "    .dataframe tbody tr th {\n",
       "        vertical-align: top;\n",
       "    }\n",
       "\n",
       "    .dataframe thead th {\n",
       "        text-align: right;\n",
       "    }\n",
       "</style>\n",
       "<table border=\"1\" class=\"dataframe\">\n",
       "  <thead>\n",
       "    <tr style=\"text-align: right;\">\n",
       "      <th></th>\n",
       "      <th>Name</th>\n",
       "      <th>Age</th>\n",
       "      <th>Height (ft)</th>\n",
       "      <th>Feet</th>\n",
       "      <th>In</th>\n",
       "      <th>Height (cm)</th>\n",
       "    </tr>\n",
       "  </thead>\n",
       "  <tbody>\n",
       "    <tr>\n",
       "      <th>0</th>\n",
       "      <td>John</td>\n",
       "      <td>12</td>\n",
       "      <td>6'4</td>\n",
       "      <td>6.0</td>\n",
       "      <td>4.0</td>\n",
       "      <td>193.04</td>\n",
       "    </tr>\n",
       "    <tr>\n",
       "      <th>1</th>\n",
       "      <td>Jeff</td>\n",
       "      <td>20</td>\n",
       "      <td>5'7</td>\n",
       "      <td>5.0</td>\n",
       "      <td>7.0</td>\n",
       "      <td>170.18</td>\n",
       "    </tr>\n",
       "    <tr>\n",
       "      <th>2</th>\n",
       "      <td>George</td>\n",
       "      <td>34</td>\n",
       "      <td>5'2</td>\n",
       "      <td>5.0</td>\n",
       "      <td>2.0</td>\n",
       "      <td>157.48</td>\n",
       "    </tr>\n",
       "  </tbody>\n",
       "</table>\n",
       "</div>"
      ],
      "text/plain": [
       "     Name  Age Height (ft)  Feet   In  Height (cm)\n",
       "0    John   12         6'4   6.0  4.0       193.04\n",
       "1    Jeff   20         5'7   5.0  7.0       170.18\n",
       "2  George   34         5'2   5.0  2.0       157.48"
      ]
     },
     "execution_count": 7,
     "metadata": {},
     "output_type": "execute_result"
    }
   ],
   "source": [
    "df"
   ]
  },
  {
   "cell_type": "markdown",
   "id": "326f821b",
   "metadata": {},
   "source": [
    "To subset data, we first need a list of True/False values that is equal to the length of the data set."
   ]
  },
  {
   "cell_type": "code",
   "execution_count": 8,
   "id": "cffc3fe0",
   "metadata": {},
   "outputs": [
    {
     "data": {
      "text/plain": [
       "0     True\n",
       "1     True\n",
       "2    False\n",
       "Name: Height (cm), dtype: bool"
      ]
     },
     "execution_count": 8,
     "metadata": {},
     "output_type": "execute_result"
    }
   ],
   "source": [
    "df['Height (cm)'] > 170"
   ]
  },
  {
   "cell_type": "markdown",
   "id": "ed7cef84",
   "metadata": {},
   "source": [
    "Then, we can just put that list inside the data frame!"
   ]
  },
  {
   "cell_type": "code",
   "execution_count": 9,
   "id": "7fffd63a",
   "metadata": {
    "scrolled": false
   },
   "outputs": [
    {
     "data": {
      "text/html": [
       "<div>\n",
       "<style scoped>\n",
       "    .dataframe tbody tr th:only-of-type {\n",
       "        vertical-align: middle;\n",
       "    }\n",
       "\n",
       "    .dataframe tbody tr th {\n",
       "        vertical-align: top;\n",
       "    }\n",
       "\n",
       "    .dataframe thead th {\n",
       "        text-align: right;\n",
       "    }\n",
       "</style>\n",
       "<table border=\"1\" class=\"dataframe\">\n",
       "  <thead>\n",
       "    <tr style=\"text-align: right;\">\n",
       "      <th></th>\n",
       "      <th>Name</th>\n",
       "      <th>Age</th>\n",
       "      <th>Height (ft)</th>\n",
       "      <th>Feet</th>\n",
       "      <th>In</th>\n",
       "      <th>Height (cm)</th>\n",
       "    </tr>\n",
       "  </thead>\n",
       "  <tbody>\n",
       "    <tr>\n",
       "      <th>0</th>\n",
       "      <td>John</td>\n",
       "      <td>12</td>\n",
       "      <td>6'4</td>\n",
       "      <td>6.0</td>\n",
       "      <td>4.0</td>\n",
       "      <td>193.04</td>\n",
       "    </tr>\n",
       "    <tr>\n",
       "      <th>1</th>\n",
       "      <td>Jeff</td>\n",
       "      <td>20</td>\n",
       "      <td>5'7</td>\n",
       "      <td>5.0</td>\n",
       "      <td>7.0</td>\n",
       "      <td>170.18</td>\n",
       "    </tr>\n",
       "  </tbody>\n",
       "</table>\n",
       "</div>"
      ],
      "text/plain": [
       "   Name  Age Height (ft)  Feet   In  Height (cm)\n",
       "0  John   12         6'4   6.0  4.0       193.04\n",
       "1  Jeff   20         5'7   5.0  7.0       170.18"
      ]
     },
     "execution_count": 9,
     "metadata": {},
     "output_type": "execute_result"
    }
   ],
   "source": [
    "df[df['Height (cm)'] > 170]"
   ]
  },
  {
   "cell_type": "markdown",
   "id": "6dedc253",
   "metadata": {},
   "source": [
    "### Exercise 8\n",
    "Find a subset of df for all people who have more than 3 inches in the 'In' part of their height! Save this to a dataframe called \"edited_in\""
   ]
  },
  {
   "cell_type": "markdown",
   "id": "89a5845e",
   "metadata": {},
   "source": [
    "```{admonition} Click to show solution\n",
    ":class: dropdown\n",
    "\n",
    "        edited_in= df[df['In'] > 3]\n",
    "```"
   ]
  },
  {
   "cell_type": "markdown",
   "id": "452f8a8a",
   "metadata": {},
   "source": [
    "Similarly, we can do something for people who have less than 5 inches, like this:"
   ]
  },
  {
   "cell_type": "code",
   "execution_count": 10,
   "id": "1e2f0578",
   "metadata": {},
   "outputs": [],
   "source": [
    "edited_in= df[df['In'] < 5]"
   ]
  },
  {
   "cell_type": "code",
   "execution_count": 11,
   "id": "591d141c",
   "metadata": {},
   "outputs": [
    {
     "data": {
      "text/html": [
       "<div>\n",
       "<style scoped>\n",
       "    .dataframe tbody tr th:only-of-type {\n",
       "        vertical-align: middle;\n",
       "    }\n",
       "\n",
       "    .dataframe tbody tr th {\n",
       "        vertical-align: top;\n",
       "    }\n",
       "\n",
       "    .dataframe thead th {\n",
       "        text-align: right;\n",
       "    }\n",
       "</style>\n",
       "<table border=\"1\" class=\"dataframe\">\n",
       "  <thead>\n",
       "    <tr style=\"text-align: right;\">\n",
       "      <th></th>\n",
       "      <th>Name</th>\n",
       "      <th>Age</th>\n",
       "      <th>Height (ft)</th>\n",
       "      <th>Feet</th>\n",
       "      <th>In</th>\n",
       "      <th>Height (cm)</th>\n",
       "    </tr>\n",
       "  </thead>\n",
       "  <tbody>\n",
       "    <tr>\n",
       "      <th>0</th>\n",
       "      <td>John</td>\n",
       "      <td>12</td>\n",
       "      <td>6'4</td>\n",
       "      <td>6.0</td>\n",
       "      <td>4.0</td>\n",
       "      <td>193.04</td>\n",
       "    </tr>\n",
       "    <tr>\n",
       "      <th>2</th>\n",
       "      <td>George</td>\n",
       "      <td>34</td>\n",
       "      <td>5'2</td>\n",
       "      <td>5.0</td>\n",
       "      <td>2.0</td>\n",
       "      <td>157.48</td>\n",
       "    </tr>\n",
       "  </tbody>\n",
       "</table>\n",
       "</div>"
      ],
      "text/plain": [
       "     Name  Age Height (ft)  Feet   In  Height (cm)\n",
       "0    John   12         6'4   6.0  4.0       193.04\n",
       "2  George   34         5'2   5.0  2.0       157.48"
      ]
     },
     "execution_count": 11,
     "metadata": {},
     "output_type": "execute_result"
    }
   ],
   "source": [
    "edited_in"
   ]
  },
  {
   "cell_type": "markdown",
   "id": "368fb5b0",
   "metadata": {},
   "source": [
    "Note how for our edited_in data frame, the row indices go from 0 to 2. To reset this, we can call the reset_index() function"
   ]
  },
  {
   "cell_type": "code",
   "execution_count": 12,
   "id": "e80b808c",
   "metadata": {},
   "outputs": [
    {
     "data": {
      "text/html": [
       "<div>\n",
       "<style scoped>\n",
       "    .dataframe tbody tr th:only-of-type {\n",
       "        vertical-align: middle;\n",
       "    }\n",
       "\n",
       "    .dataframe tbody tr th {\n",
       "        vertical-align: top;\n",
       "    }\n",
       "\n",
       "    .dataframe thead th {\n",
       "        text-align: right;\n",
       "    }\n",
       "</style>\n",
       "<table border=\"1\" class=\"dataframe\">\n",
       "  <thead>\n",
       "    <tr style=\"text-align: right;\">\n",
       "      <th></th>\n",
       "      <th>index</th>\n",
       "      <th>Name</th>\n",
       "      <th>Age</th>\n",
       "      <th>Height (ft)</th>\n",
       "      <th>Feet</th>\n",
       "      <th>In</th>\n",
       "      <th>Height (cm)</th>\n",
       "    </tr>\n",
       "  </thead>\n",
       "  <tbody>\n",
       "    <tr>\n",
       "      <th>0</th>\n",
       "      <td>0</td>\n",
       "      <td>John</td>\n",
       "      <td>12</td>\n",
       "      <td>6'4</td>\n",
       "      <td>6.0</td>\n",
       "      <td>4.0</td>\n",
       "      <td>193.04</td>\n",
       "    </tr>\n",
       "    <tr>\n",
       "      <th>1</th>\n",
       "      <td>2</td>\n",
       "      <td>George</td>\n",
       "      <td>34</td>\n",
       "      <td>5'2</td>\n",
       "      <td>5.0</td>\n",
       "      <td>2.0</td>\n",
       "      <td>157.48</td>\n",
       "    </tr>\n",
       "  </tbody>\n",
       "</table>\n",
       "</div>"
      ],
      "text/plain": [
       "   index    Name  Age Height (ft)  Feet   In  Height (cm)\n",
       "0      0    John   12         6'4   6.0  4.0       193.04\n",
       "1      2  George   34         5'2   5.0  2.0       157.48"
      ]
     },
     "execution_count": 12,
     "metadata": {},
     "output_type": "execute_result"
    }
   ],
   "source": [
    "edited_in.reset_index()"
   ]
  },
  {
   "cell_type": "markdown",
   "id": "1db8076b",
   "metadata": {},
   "source": [
    "Awesome! If we don't want our indices saved as a column, we can call the drop=True command from the reset_index function, like so:"
   ]
  },
  {
   "cell_type": "code",
   "execution_count": 13,
   "id": "0060c10d",
   "metadata": {},
   "outputs": [
    {
     "data": {
      "text/html": [
       "<div>\n",
       "<style scoped>\n",
       "    .dataframe tbody tr th:only-of-type {\n",
       "        vertical-align: middle;\n",
       "    }\n",
       "\n",
       "    .dataframe tbody tr th {\n",
       "        vertical-align: top;\n",
       "    }\n",
       "\n",
       "    .dataframe thead th {\n",
       "        text-align: right;\n",
       "    }\n",
       "</style>\n",
       "<table border=\"1\" class=\"dataframe\">\n",
       "  <thead>\n",
       "    <tr style=\"text-align: right;\">\n",
       "      <th></th>\n",
       "      <th>Name</th>\n",
       "      <th>Age</th>\n",
       "      <th>Height (ft)</th>\n",
       "      <th>Feet</th>\n",
       "      <th>In</th>\n",
       "      <th>Height (cm)</th>\n",
       "    </tr>\n",
       "  </thead>\n",
       "  <tbody>\n",
       "    <tr>\n",
       "      <th>0</th>\n",
       "      <td>John</td>\n",
       "      <td>12</td>\n",
       "      <td>6'4</td>\n",
       "      <td>6.0</td>\n",
       "      <td>4.0</td>\n",
       "      <td>193.04</td>\n",
       "    </tr>\n",
       "    <tr>\n",
       "      <th>1</th>\n",
       "      <td>George</td>\n",
       "      <td>34</td>\n",
       "      <td>5'2</td>\n",
       "      <td>5.0</td>\n",
       "      <td>2.0</td>\n",
       "      <td>157.48</td>\n",
       "    </tr>\n",
       "  </tbody>\n",
       "</table>\n",
       "</div>"
      ],
      "text/plain": [
       "     Name  Age Height (ft)  Feet   In  Height (cm)\n",
       "0    John   12         6'4   6.0  4.0       193.04\n",
       "1  George   34         5'2   5.0  2.0       157.48"
      ]
     },
     "execution_count": 13,
     "metadata": {},
     "output_type": "execute_result"
    }
   ],
   "source": [
    "edited_in.reset_index(drop=True)"
   ]
  },
  {
   "cell_type": "markdown",
   "id": "3f32979b",
   "metadata": {},
   "source": [
    "However, note that this doesn't save the data frame"
   ]
  },
  {
   "cell_type": "code",
   "execution_count": 14,
   "id": "9b5a835b",
   "metadata": {},
   "outputs": [
    {
     "data": {
      "text/html": [
       "<div>\n",
       "<style scoped>\n",
       "    .dataframe tbody tr th:only-of-type {\n",
       "        vertical-align: middle;\n",
       "    }\n",
       "\n",
       "    .dataframe tbody tr th {\n",
       "        vertical-align: top;\n",
       "    }\n",
       "\n",
       "    .dataframe thead th {\n",
       "        text-align: right;\n",
       "    }\n",
       "</style>\n",
       "<table border=\"1\" class=\"dataframe\">\n",
       "  <thead>\n",
       "    <tr style=\"text-align: right;\">\n",
       "      <th></th>\n",
       "      <th>Name</th>\n",
       "      <th>Age</th>\n",
       "      <th>Height (ft)</th>\n",
       "      <th>Feet</th>\n",
       "      <th>In</th>\n",
       "      <th>Height (cm)</th>\n",
       "    </tr>\n",
       "  </thead>\n",
       "  <tbody>\n",
       "    <tr>\n",
       "      <th>0</th>\n",
       "      <td>John</td>\n",
       "      <td>12</td>\n",
       "      <td>6'4</td>\n",
       "      <td>6.0</td>\n",
       "      <td>4.0</td>\n",
       "      <td>193.04</td>\n",
       "    </tr>\n",
       "    <tr>\n",
       "      <th>2</th>\n",
       "      <td>George</td>\n",
       "      <td>34</td>\n",
       "      <td>5'2</td>\n",
       "      <td>5.0</td>\n",
       "      <td>2.0</td>\n",
       "      <td>157.48</td>\n",
       "    </tr>\n",
       "  </tbody>\n",
       "</table>\n",
       "</div>"
      ],
      "text/plain": [
       "     Name  Age Height (ft)  Feet   In  Height (cm)\n",
       "0    John   12         6'4   6.0  4.0       193.04\n",
       "2  George   34         5'2   5.0  2.0       157.48"
      ]
     },
     "execution_count": 14,
     "metadata": {},
     "output_type": "execute_result"
    }
   ],
   "source": [
    "edited_in"
   ]
  },
  {
   "cell_type": "markdown",
   "id": "403f71bc",
   "metadata": {},
   "source": [
    "To save the data frame with the resetted indices, we can call the inplace=True command"
   ]
  },
  {
   "cell_type": "code",
   "execution_count": 15,
   "id": "724d2f66",
   "metadata": {},
   "outputs": [],
   "source": [
    "edited_in.reset_index(drop=True, inplace=True)"
   ]
  },
  {
   "cell_type": "markdown",
   "id": "34ef5605",
   "metadata": {},
   "source": [
    "Alternatively, we could just set it equal to the data frame with the resetted indices"
   ]
  },
  {
   "cell_type": "code",
   "execution_count": 16,
   "id": "279b038c",
   "metadata": {},
   "outputs": [],
   "source": [
    "edited_in = edited_in.reset_index(drop=True)"
   ]
  },
  {
   "cell_type": "code",
   "execution_count": 17,
   "id": "dbe03752",
   "metadata": {},
   "outputs": [
    {
     "data": {
      "text/html": [
       "<div>\n",
       "<style scoped>\n",
       "    .dataframe tbody tr th:only-of-type {\n",
       "        vertical-align: middle;\n",
       "    }\n",
       "\n",
       "    .dataframe tbody tr th {\n",
       "        vertical-align: top;\n",
       "    }\n",
       "\n",
       "    .dataframe thead th {\n",
       "        text-align: right;\n",
       "    }\n",
       "</style>\n",
       "<table border=\"1\" class=\"dataframe\">\n",
       "  <thead>\n",
       "    <tr style=\"text-align: right;\">\n",
       "      <th></th>\n",
       "      <th>Name</th>\n",
       "      <th>Age</th>\n",
       "      <th>Height (ft)</th>\n",
       "      <th>Feet</th>\n",
       "      <th>In</th>\n",
       "      <th>Height (cm)</th>\n",
       "    </tr>\n",
       "  </thead>\n",
       "  <tbody>\n",
       "    <tr>\n",
       "      <th>0</th>\n",
       "      <td>John</td>\n",
       "      <td>12</td>\n",
       "      <td>6'4</td>\n",
       "      <td>6.0</td>\n",
       "      <td>4.0</td>\n",
       "      <td>193.04</td>\n",
       "    </tr>\n",
       "    <tr>\n",
       "      <th>1</th>\n",
       "      <td>George</td>\n",
       "      <td>34</td>\n",
       "      <td>5'2</td>\n",
       "      <td>5.0</td>\n",
       "      <td>2.0</td>\n",
       "      <td>157.48</td>\n",
       "    </tr>\n",
       "  </tbody>\n",
       "</table>\n",
       "</div>"
      ],
      "text/plain": [
       "     Name  Age Height (ft)  Feet   In  Height (cm)\n",
       "0    John   12         6'4   6.0  4.0       193.04\n",
       "1  George   34         5'2   5.0  2.0       157.48"
      ]
     },
     "execution_count": 17,
     "metadata": {},
     "output_type": "execute_result"
    }
   ],
   "source": [
    "edited_in "
   ]
  },
  {
   "cell_type": "markdown",
   "id": "add96272",
   "metadata": {},
   "source": [
    "If we wanted to subset by more than one condition, we could incorporate the \"&\" (and) or \"|\" (or) symbols, putting each condition in parenthesis. To find all people with an age less than 20 and height more than 170 cm, we could write the following code:"
   ]
  },
  {
   "cell_type": "code",
   "execution_count": 18,
   "id": "f5ae947d",
   "metadata": {},
   "outputs": [
    {
     "data": {
      "text/html": [
       "<div>\n",
       "<style scoped>\n",
       "    .dataframe tbody tr th:only-of-type {\n",
       "        vertical-align: middle;\n",
       "    }\n",
       "\n",
       "    .dataframe tbody tr th {\n",
       "        vertical-align: top;\n",
       "    }\n",
       "\n",
       "    .dataframe thead th {\n",
       "        text-align: right;\n",
       "    }\n",
       "</style>\n",
       "<table border=\"1\" class=\"dataframe\">\n",
       "  <thead>\n",
       "    <tr style=\"text-align: right;\">\n",
       "      <th></th>\n",
       "      <th>Name</th>\n",
       "      <th>Age</th>\n",
       "      <th>Height (ft)</th>\n",
       "      <th>Feet</th>\n",
       "      <th>In</th>\n",
       "      <th>Height (cm)</th>\n",
       "    </tr>\n",
       "  </thead>\n",
       "  <tbody>\n",
       "    <tr>\n",
       "      <th>0</th>\n",
       "      <td>John</td>\n",
       "      <td>12</td>\n",
       "      <td>6'4</td>\n",
       "      <td>6.0</td>\n",
       "      <td>4.0</td>\n",
       "      <td>193.04</td>\n",
       "    </tr>\n",
       "  </tbody>\n",
       "</table>\n",
       "</div>"
      ],
      "text/plain": [
       "   Name  Age Height (ft)  Feet   In  Height (cm)\n",
       "0  John   12         6'4   6.0  4.0       193.04"
      ]
     },
     "execution_count": 18,
     "metadata": {},
     "output_type": "execute_result"
    }
   ],
   "source": [
    "df[(df['Age'] < 20) & (df['Height (cm)'] > 170)]"
   ]
  }
 ],
 "metadata": {
  "kernelspec": {
   "display_name": "Python 3 (ipykernel)",
   "language": "python",
   "name": "python3"
  },
  "language_info": {
   "codemirror_mode": {
    "name": "ipython",
    "version": 3
   },
   "file_extension": ".py",
   "mimetype": "text/x-python",
   "name": "python",
   "nbconvert_exporter": "python",
   "pygments_lexer": "ipython3",
   "version": "3.9.12"
  }
 },
 "nbformat": 4,
 "nbformat_minor": 5
}