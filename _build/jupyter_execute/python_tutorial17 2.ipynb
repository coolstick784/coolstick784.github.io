{
 "cells": [
  {
   "cell_type": "markdown",
   "id": "ccf1ebc4",
   "metadata": {},
   "source": [
    "## Exercise 6\n",
    "Ask the user for an input. If any of the words in this list are detected, replace them with emojis.\n",
    "\n",
    "\n",
    "\n",
    "\n",
    "Hint: Split the input for each word and check if the word is in the list from there"
   ]
  },
  {
   "cell_type": "code",
   "execution_count": 1,
   "id": "8bf641d0",
   "metadata": {},
   "outputs": [],
   "source": [
    "emoji_dict = {':)':':slightly_smiling_face:', ':D':':smile:', ':/':':confused:', ';)':':wink:', ':O':':open_mouth:'}"
   ]
  },
  {
   "cell_type": "markdown",
   "id": "494884c3",
   "metadata": {},
   "source": [
    "```{admonition} Click to show solution\n",
    ":class: dropdown\n",
    "\n",
    "        \n",
    "        words = input(\"say something\")\n",
    "        new_words = words\n",
    "        for word in words.split(\" \"):\n",
    "\n",
    "            if word in list(emoji_dict.keys()):\n",
    "\n",
    "                new_words=new_words.replace(word, emoji_dict[word])\n",
    "        print(emoji.emojize(new_words, language=\"alias\"))\n",
    "```"
   ]
  }
 ],
 "metadata": {
  "kernelspec": {
   "display_name": "Python 3 (ipykernel)",
   "language": "python",
   "name": "python3"
  },
  "language_info": {
   "codemirror_mode": {
    "name": "ipython",
    "version": 3
   },
   "file_extension": ".py",
   "mimetype": "text/x-python",
   "name": "python",
   "nbconvert_exporter": "python",
   "pygments_lexer": "ipython3",
   "version": "3.9.12"
  }
 },
 "nbformat": 4,
 "nbformat_minor": 5
}